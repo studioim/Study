{
 "cells": [
  {
   "cell_type": "code",
   "execution_count": null,
   "metadata": {},
   "outputs": [],
   "source": [
    "### class: 클래스\n",
    "- 함수는 코드 묶어놓은 것\n",
    "- 클래스는 변수와 함수를 묶어 놓은 개념\n",
    "- 사용 방법\n",
    "    - 변수와 함수가 들어있는 클래스를 선언\n",
    "    - 클래스를 객체로 만들어서 클래스 안에 선언된 변수와 함수를 사용"
   ]
  },
  {
   "cell_type": "code",
   "execution_count": null,
   "metadata": {},
   "outputs": [],
   "source": [
    "# 1. 기본 클래스의 사용"
   ]
  },
  {
   "cell_type": "code",
   "execution_count": null,
   "metadata": {},
   "outputs": [],
   "source": [
    "def plus():\n",
    "    pass #pass # 빈 함수 선언하면 에러나지만 패스 넣어놓으면 에러 안남. 큰 윤곽 대기업이 잡아주고 중기에서 pass 부분 작성."
   ]
  },
  {
   "cell_type": "code",
   "execution_count": 17,
   "metadata": {},
   "outputs": [],
   "source": [
    "# 클래스의 선언\n",
    "# 계산기\n",
    "class Calculator: # 클래스 카멜 케이스 이용해서 클래스 명을 정의 해준다.\n",
    "    num1 = 1\n",
    "    num2 = 2\n",
    "    def plus(self):\n",
    "        return self.num1 + self.num2 # 클래스 선언되는 모든 함수는 가장 첫 파라미터로 self를 사용한다\n",
    "    def minus(self):\n",
    "        return self.num1 - self.num2\n",
    "    "
   ]
  },
  {
   "cell_type": "code",
   "execution_count": 18,
   "metadata": {},
   "outputs": [
    {
     "data": {
      "text/plain": [
       "<__main__.Calculator at 0x2a36ecfc908>"
      ]
     },
     "execution_count": 18,
     "metadata": {},
     "output_type": "execute_result"
    }
   ],
   "source": [
    "# 클래스의 사용\n",
    "calc = Calculator() #함수와 똑같이 사용, 앞의 대문자로 클래스, 함수 구분, 클래스면 결과로 객체가, 함수면 결과로 보통 변수나 리스트 나온다고 추정 가능\n",
    "calc"
   ]
  },
  {
   "cell_type": "code",
   "execution_count": 19,
   "metadata": {},
   "outputs": [
    {
     "data": {
      "text/plain": [
       "(1, 2, 3, -1)"
      ]
     },
     "execution_count": 19,
     "metadata": {},
     "output_type": "execute_result"
    }
   ],
   "source": [
    "calc.num1, calc.num2, calc.plus(), calc.minus() # plus는 method라고 나온다. 클래스 안에 있는 펑션을 메소드라고 한다. 함수이기에 () 해야 값 나옴"
   ]
  },
  {
   "cell_type": "code",
   "execution_count": 20,
   "metadata": {},
   "outputs": [],
   "source": [
    "# self의 의미: 객체 자신\n",
    "calc2 = Calculator()"
   ]
  },
  {
   "cell_type": "code",
   "execution_count": 21,
   "metadata": {},
   "outputs": [],
   "source": [
    "calc2.num1 = 10"
   ]
  },
  {
   "cell_type": "code",
   "execution_count": 22,
   "metadata": {},
   "outputs": [
    {
     "data": {
      "text/plain": [
       "12"
      ]
     },
     "execution_count": 22,
     "metadata": {},
     "output_type": "execute_result"
    }
   ],
   "source": [
    "calc2.plus()"
   ]
  },
  {
   "cell_type": "code",
   "execution_count": 25,
   "metadata": {},
   "outputs": [
    {
     "ename": "SyntaxError",
     "evalue": "invalid syntax (<ipython-input-25-13100979f0b5>, line 2)",
     "output_type": "error",
     "traceback": [
      "\u001b[1;36m  File \u001b[1;32m\"<ipython-input-25-13100979f0b5>\"\u001b[1;36m, line \u001b[1;32m2\u001b[0m\n\u001b[1;33m    - 실제 세계를 코드에 반영해서 개발하는 방법\u001b[0m\n\u001b[1;37m           ^\u001b[0m\n\u001b[1;31mSyntaxError\u001b[0m\u001b[1;31m:\u001b[0m invalid syntax\n"
     ]
    }
   ],
   "source": [
    "# 2. 객체지향\n",
    "- 실제 세계를 코드에 반영해서 개발하는 방법\n",
    "- 여러명의 개발자가 코드를 효율적으로 작성해서 프로젝트를 완성시키기 위한 방법(가장 객체지향적인 언어는 자바)\n",
    "- 설계도(class)를 작성 -> 실제 물건(object)을 만들어 냄\n",
    "- 자동차로 비유했을 때, 첫번째 객체에는 아반떼를 만들기 위한 재료가 들어가 있다. 아반떼 속력 160, 160까지 밟을 수 있는 재료를 가지고 있기 때문\n",
    "    - 제네시스를 만들었다, 똑같은 액셀 기능 있지만 엔진이 더 좋은 엔진 가지고 있기 때문에 200키로 까지 달리는 기능을 실행할 수 있는 것.\n",
    "-사용자 정의 데이터 타입(calc 직접 만들은 것, 어떤 재료 들어가고, 어떤 기능 실행할지를 직접 만들었다)"
   ]
  },
  {
   "cell_type": "code",
   "execution_count": 23,
   "metadata": {},
   "outputs": [
    {
     "data": {
      "text/plain": [
       "12"
      ]
     },
     "execution_count": 23,
     "metadata": {},
     "output_type": "execute_result"
    }
   ],
   "source": [
    "calc2.plus()"
   ]
  },
  {
   "cell_type": "code",
   "execution_count": 24,
   "metadata": {},
   "outputs": [
    {
     "data": {
      "text/plain": [
       "'PYTHON'"
      ]
     },
     "execution_count": 24,
     "metadata": {},
     "output_type": "execute_result"
    }
   ],
   "source": [
    "obj = \"python\"\n",
    "obj.upper() # obj는 문자열 데이터 타입(\"pyhton\")을 가지고 있는 객체, 이 객체에는 upper()라는 함수가 있는 것, 이 함수는 대문자로 바꿔 결과 출력해주는 기능을 한 것.\n"
   ]
  },
  {
   "cell_type": "code",
   "execution_count": 27,
   "metadata": {},
   "outputs": [
    {
     "data": {
      "text/plain": [
       "[1, 2, 3]"
      ]
     },
     "execution_count": 27,
     "metadata": {},
     "output_type": "execute_result"
    }
   ],
   "source": [
    "ls = [1, 2, 3]\n",
    "ls.sort() #upper와 달리 return 값 없는 함수\n",
    "ls"
   ]
  },
  {
   "cell_type": "code",
   "execution_count": 29,
   "metadata": {},
   "outputs": [
    {
     "data": {
      "text/plain": [
       "['minus', 'num1', 'num2', 'plus']"
      ]
     },
     "execution_count": 29,
     "metadata": {},
     "output_type": "execute_result"
    }
   ],
   "source": [
    "[data for data in dir(calc) if data[:2] != \"__\"]"
   ]
  },
  {
   "cell_type": "code",
   "execution_count": null,
   "metadata": {},
   "outputs": [],
   "source": [
    "### 3. 생성자\n",
    "- 클래스가 객체로 생성될 때 실행되는 함수\n",
    "- 변수(재료)를 추가할 때 사용됩니다."
   ]
  },
  {
   "cell_type": "code",
   "execution_count": 45,
   "metadata": {},
   "outputs": [],
   "source": [
    "# class Calculator:\n",
    "#     num1 = 1\n",
    "#     num2 = 2\n",
    "#     def plus(self):\n",
    "#         return self.num1 + self.num2 # 클래스 선언되는 모든 함수는 가장 첫 파라미터로 self를 사용한다\n",
    "#     def minus(self):\n",
    "#         return self.num1 - self.num2\n",
    "# 이런 클래스는 객체로 만들면 무조건 num1, num2는 1, 2가 들어간다. 객체 만들고 난 후 수정해줘야 해.\n",
    "# 객체를 생성할 때 num1, num2 넣어주려면?\n",
    "\n",
    "class Calculator:\n",
    "    # 생성자 함수 : __init__ ### 무조건 이렇게 써줘야 한다\n",
    "    def __init__(self, num1, num2=10): # num1과 num2를 반드시 넣어줘야만 에러가 나지 않고 객체가 생성된다.\n",
    "        self.num1 = num1\n",
    "        self.num2 = num2\n",
    "    def plus(self):\n",
    "        return self.num1 + self.num2 # 클래스 선언되는 모든 함수는 가장 첫 파라미터로 self를 사용한다\n",
    "    def minus(self):\n",
    "        return self.num1 - self.num2"
   ]
  },
  {
   "cell_type": "code",
   "execution_count": 50,
   "metadata": {},
   "outputs": [],
   "source": [
    "calc1 = Calculator(3, 4)"
   ]
  },
  {
   "cell_type": "code",
   "execution_count": 51,
   "metadata": {},
   "outputs": [
    {
     "data": {
      "text/plain": [
       "7"
      ]
     },
     "execution_count": 51,
     "metadata": {},
     "output_type": "execute_result"
    }
   ],
   "source": [
    "calc1.plus()"
   ]
  },
  {
   "cell_type": "code",
   "execution_count": 52,
   "metadata": {},
   "outputs": [],
   "source": [
    "calc2 = Calculator(3)"
   ]
  },
  {
   "cell_type": "code",
   "execution_count": 53,
   "metadata": {},
   "outputs": [
    {
     "data": {
      "text/plain": [
       "13"
      ]
     },
     "execution_count": 53,
     "metadata": {},
     "output_type": "execute_result"
    }
   ],
   "source": [
    "calc2.plus()\n",
    " # 함수이기 때문에 당연히 디폴트 파라미터 쓸 수 있다."
   ]
  },
  {
   "cell_type": "code",
   "execution_count": 59,
   "metadata": {},
   "outputs": [],
   "source": [
    "calc3 = Calculator(3, 5)"
   ]
  },
  {
   "cell_type": "code",
   "execution_count": 61,
   "metadata": {},
   "outputs": [
    {
     "data": {
      "text/plain": [
       "8"
      ]
     },
     "execution_count": 61,
     "metadata": {},
     "output_type": "execute_result"
    }
   ],
   "source": [
    "calc3.plus()"
   ]
  },
  {
   "cell_type": "code",
   "execution_count": 62,
   "metadata": {},
   "outputs": [],
   "source": [
    "# join\n",
    "ls = [\"python\", \"is\", \"good\"]\n",
    "sep = \" \" # sep라는 객체를 만들어 준 것\n",
    "\" \".join(ls) # 조인이라는 함수를 쓴 것"
   ]
  },
  {
   "cell_type": "code",
   "execution_count": 63,
   "metadata": {},
   "outputs": [],
   "source": [
    "# pandas dataframe\n",
    "import pandas as pd"
   ]
  },
  {
   "cell_type": "code",
   "execution_count": 66,
   "metadata": {},
   "outputs": [
    {
     "data": {
      "text/html": [
       "<div>\n",
       "<style scoped>\n",
       "    .dataframe tbody tr th:only-of-type {\n",
       "        vertical-align: middle;\n",
       "    }\n",
       "\n",
       "    .dataframe tbody tr th {\n",
       "        vertical-align: top;\n",
       "    }\n",
       "\n",
       "    .dataframe thead th {\n",
       "        text-align: right;\n",
       "    }\n",
       "</style>\n",
       "<table border=\"1\" class=\"dataframe\">\n",
       "  <thead>\n",
       "    <tr style=\"text-align: right;\">\n",
       "      <th></th>\n",
       "      <th>name</th>\n",
       "      <th>age</th>\n",
       "    </tr>\n",
       "  </thead>\n",
       "  <tbody>\n",
       "    <tr>\n",
       "      <th>0</th>\n",
       "      <td>jin</td>\n",
       "      <td>20</td>\n",
       "    </tr>\n",
       "    <tr>\n",
       "      <th>1</th>\n",
       "      <td>andy</td>\n",
       "      <td>21</td>\n",
       "    </tr>\n",
       "  </tbody>\n",
       "</table>\n",
       "</div>"
      ],
      "text/plain": [
       "   name  age\n",
       "0   jin   20\n",
       "1  andy   21"
      ]
     },
     "execution_count": 66,
     "metadata": {},
     "output_type": "execute_result"
    }
   ],
   "source": [
    "df = pd.DataFrame([ #클래스, pd 패키지? 내에 Dataframe()이라는 클래스를 써준 것, 이를 df로 객체(오브젝트)로 만들어서 활용!\n",
    "    {\"name\":\"jin\", \"age\":20},\n",
    "    {\"name\":\"andy\", \"age\":21}, # 리스트 딕셔너리 형태를 넣어줌, 얘는 DataFrame 클래스에서 생성자 함수로 들어간다. 그 결과로 밑에 출력\n",
    "])\n",
    "df # 데이터프레임이라는 클래스로 만들어진 오브젝트, 데이터 프레임 안에 있는 함수들이 오브젝트 df 안에 들어 있고 생성자 함수 재료도 마찬가지\n",
    "# df 안의 함수들은 데이터프레임이라는 클래스에 정의가 돼 있는 것"
   ]
  },
  {
   "cell_type": "code",
   "execution_count": null,
   "metadata": {},
   "outputs": [],
   "source": []
  },
  {
   "cell_type": "code",
   "execution_count": null,
   "metadata": {},
   "outputs": [],
   "source": []
  },
  {
   "cell_type": "code",
   "execution_count": null,
   "metadata": {},
   "outputs": [],
   "source": []
  },
  {
   "cell_type": "code",
   "execution_count": null,
   "metadata": {},
   "outputs": [],
   "source": []
  }
 ],
 "metadata": {
  "kernelspec": {
   "display_name": "Python 3",
   "language": "python",
   "name": "python3"
  },
  "language_info": {
   "codemirror_mode": {
    "name": "ipython",
    "version": 3
   },
   "file_extension": ".py",
   "mimetype": "text/x-python",
   "name": "python",
   "nbconvert_exporter": "python",
   "pygments_lexer": "ipython3",
   "version": "3.7.6"
  }
 },
 "nbformat": 4,
 "nbformat_minor": 4
}
