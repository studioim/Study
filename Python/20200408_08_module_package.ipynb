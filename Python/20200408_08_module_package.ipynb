{
 "cells": [
  {
   "cell_type": "markdown",
   "metadata": {},
   "source": [
    "### summary\n",
    "- 상속 : 다른 클래스를 받아서 기능을 추가해서 새로운 클래스를 만드는 방법\n",
    "- super : 부모 클래스에서 특정 함수의 코드를 가져오는 방법\n",
    "- getter, setter : 클래스로 만들어진 객체에 변수값을 수정하거나 출력할 때 특정함수를 통해서 수정하고 출력하는 방법\n",
    "    - 데코레이터로 설정하는 방법도 있고 프로퍼티라는 함수를 이용하는 두 가지 방법이 있다.\n",
    "- non public(private): mangling(__) `_(클래스명)`이 붙은 변수로 객체를 생성할 때 변경이 돼서 생성, 완벽한 방법은 아니지만 변수 자체로 접근 못 함\n",
    "- is a / has a : 클래스를 설계하는 방법에 대한 개념. is a는 상속 받아서 클래스 만드는 방법. has a는 클래스 안에 객체를 넣어서. 클래스 생성자에 객체를 받아서 그 객체 가지고 함수 작성하는 방법\n",
    "    - 실제로는 두 가지 방법을 혼용해서 쓴다. 가독성이 좋게 코드 설계!\n",
    "- magic(special) method: 연산자를 정의하고 싶을 때 매직 메서드 사용!\n",
    "    - 비교 : 비교 연산자 기호에 대해서 어떻게 처리할지 정의해주는 함수.\n",
    "        - `__eq__`(==), `__ne__`(!=)\n",
    "        - `__lt__`(<), `__gt__`(>), `__le__`(<=), `__ge__`(>=) \n",
    "    - 연산 : \n",
    "        - `__add__`(+), `__sub__`(-), `__mul__`(`*`), `__truediv__`(/)\n",
    "        - `__floordiv__`(//), `__mod__`(%), `__pow__`(`**`)\n",
    "    - 그 외 : `__repr__`, `__str__`"
   ]
  },
  {
   "cell_type": "code",
   "execution_count": 45,
   "metadata": {},
   "outputs": [],
   "source": [
    "# Integer 객체\n",
    "class Integer:\n",
    "    \n",
    "    def __init__(self, number):\n",
    "        self.number = number\n",
    "        \n",
    "    def __add__(self, obj): # + 비교 연산자에 대한 매직 메서드\n",
    "        return self.number + obj.number # +가 아닌 -가 되면 밑의 값은 마이너스로 처리돼서 출력\n",
    "    def __str__(self):\n",
    "        return str(self.number)\n",
    "    def __repr__(self):\n",
    "        return str(self.number) # str, repr은 스트링 데이터로 리턴해줘야 정상적으로 동작된다. 아니면 에러!"
   ]
  },
  {
   "cell_type": "code",
   "execution_count": 46,
   "metadata": {},
   "outputs": [
    {
     "data": {
      "text/plain": [
       "3"
      ]
     },
     "execution_count": 46,
     "metadata": {},
     "output_type": "execute_result"
    }
   ],
   "source": [
    "num1 = Integer(1)\n",
    "num2 = Integer(2)\n",
    "num1 + num2 # num1.__add__(num2), num2라는 객체를 아규먼트로 사용하는 __add__함수\n",
    "# 원래 플러스는 클래스 내에 플러스 함수 만들고, num1 = Integer(1, 2), num1.plus() 이런 식으로 변수 받아서 구현\n",
    "# 여기서 나오는 애드 함수는 변수가 아닌 객체 간의 더하기를 구현해주는 걸로 함수를 재정의? 해준 것\n",
    "# 만약 num1과 num2의 데이터 타입이 다른 경우에 + 연산자는 앞에 있는 __add__라는 매직 메서드의 함수를 따라간다. num2는 obj로 들어가고. "
   ]
  },
  {
   "cell_type": "code",
   "execution_count": 47,
   "metadata": {},
   "outputs": [
    {
     "data": {
      "text/plain": [
       "1"
      ]
     },
     "execution_count": 47,
     "metadata": {},
     "output_type": "execute_result"
    }
   ],
   "source": [
    "num1"
   ]
  },
  {
   "cell_type": "code",
   "execution_count": 32,
   "metadata": {},
   "outputs": [
    {
     "name": "stdout",
     "output_type": "stream",
     "text": [
      "1\n"
     ]
    }
   ],
   "source": [
    "print(num1)"
   ]
  },
  {
   "cell_type": "code",
   "execution_count": 49,
   "metadata": {},
   "outputs": [],
   "source": [
    "# 계좌 클래스 만들기\n",
    "# 변수 : 자산(asset), 이자율(interest)\n",
    "# 함수 : 인출(draw), 입금(insert), 이자 추가(add_interest) 세 가지 기능\n",
    "# 인출 시 자산 이상의 돈을 인출할 수 없습니다. 얼마가 부족합니다를 프린트 하도록."
   ]
  },
  {
   "cell_type": "code",
   "execution_count": 108,
   "metadata": {},
   "outputs": [],
   "source": [
    "class Account:\n",
    "    def __init__(self, asset=0, interest=5):\n",
    "        self.asset = asset\n",
    "        self.interest = interest\n",
    "    def draw(self, draw_money):\n",
    "        self.draw_money = draw_money # draw_money는 굳이 self 안 붙여주고 사용해도 괜찮음. draw 메서드 내부에서만 사용돼서?\n",
    "        if self.asset >= self.draw_money:\n",
    "            self.asset -= self.draw_money\n",
    "            print(\"{}원을 인출했습니다. 현재 잔액은 {}원입니다.\".format(self.draw_money, self.asset))\n",
    "        else:\n",
    "            print(\"현재 잔액은{}원입니다. {}원이 부족합니다\".format(self.asset, self.draw_money - self.asset))\n",
    "    def insert(self, insert_money):\n",
    "        self.insert_money = insert_money# insert_money도 굳이 self 안 붙여주고 사용해도 괜찮음. draw 메서드 내부에서만 사용돼서?\n",
    "        self.asset += self.insert_money\n",
    "        print(\"{}원이 입금됐습니다. 현재 잔액은 {}원입니다.\".format(self.insert_money, self.asset))\n",
    "    def add_interest(self):\n",
    "        self.asset += self.asset*(self.interest / 100)\n",
    "        print(\"{}%의 이자가 붙었습니다. 현재 잔액은 {}원입니다\".format(self.interest, self.asset))\n",
    "# 그런데 변수 내용을 보기 위해 account1.asset, account1.interest로 보기 귀찮다. 그냥 account1로 보고 싶다 할 때 repr,str 사용 해서 메서드 정의\n",
    "    def __repr__(self):\n",
    "        return \"Account(asset:{}, interest:{}%)\".format(self.asset, self.interest)"
   ]
  },
  {
   "cell_type": "code",
   "execution_count": 109,
   "metadata": {},
   "outputs": [
    {
     "name": "stdout",
     "output_type": "stream",
     "text": [
      "4000원을 인출했습니다. 현재 잔액은 6000원입니다.\n"
     ]
    }
   ],
   "source": [
    "account1 = Account(10000, 3)\n",
    "account1.draw(4000)"
   ]
  },
  {
   "cell_type": "code",
   "execution_count": 110,
   "metadata": {},
   "outputs": [
    {
     "name": "stdout",
     "output_type": "stream",
     "text": [
      "5000원이 입금됐습니다. 현재 잔액은 11000원입니다.\n"
     ]
    }
   ],
   "source": [
    "account1.insert(5000)"
   ]
  },
  {
   "cell_type": "code",
   "execution_count": 111,
   "metadata": {},
   "outputs": [
    {
     "name": "stdout",
     "output_type": "stream",
     "text": [
      "3%의 이자가 붙었습니다. 현재 잔액은 11330.0원입니다\n"
     ]
    }
   ],
   "source": [
    "account1.add_interest()"
   ]
  },
  {
   "cell_type": "code",
   "execution_count": 112,
   "metadata": {},
   "outputs": [
    {
     "data": {
      "text/plain": [
       "Account(asset:11330.0, interest:3%)"
      ]
     },
     "execution_count": 112,
     "metadata": {},
     "output_type": "execute_result"
    }
   ],
   "source": [
    "#account1.asset, account2.interest\n",
    "account1"
   ]
  },
  {
   "cell_type": "code",
   "execution_count": null,
   "metadata": {},
   "outputs": [],
   "source": [
    "# 복잡한 코드는 한번에 할 수 없다.\n",
    "# 이 정도의 간단한 코드는 바로 클래스로 작성. 하지만 보통은 객체지향대로 작성하지 않고 절차지향대로 먼저 작성.\n",
    "# 비슷한 함수나 기능들을 함수로 묶고, 함수로 실행 쭉 해본다. 다음에 클래스로 만들어서 패키지나 모듈화시킨다.\n",
    "# 그래서 이런 코드 쭉 작성하고 조금 더 가독성 좋고 효율성 좋은 코드로 바꾸는 과정들을 '리팩토링'이라고 한다. 코드를 향싱시키는 것.\n",
    "\n",
    "# 어카운트끼리 플러스 연산이나 마이너스 연산을 하도록 만들어주고 싶으면 매직 메서드 추가해주면 된다.\n",
    "# 이자율은 평균값이 되고, 계좌 전부는 더해진 새로운 객체를 만들어서 리턴한다 이런 것을 다 할 수 있다."
   ]
  },
  {
   "cell_type": "code",
   "execution_count": null,
   "metadata": {},
   "outputs": [],
   "source": [
    "### Module Package\n",
    "- 이게 모듈, 패키지, 라이브러리 기타 등등의 언어로 사용된다. 언어마다 조금씩 규모나 정의되는 내용이 조금씩 다르다.\n",
    "- 대체로 파이선에서 사용되는 모듈 패키지는 ...\n",
    "- 모듈: 변수, 함수, 클래스(변수와 함수)를 모아놓은 (.py)라는 이름의 확장자를 가진 파일. 클래스보다 조금 더 큰 규모.\n",
    "- 우리가 `import.random` 썼다. random이 ramdom.py라는 이름의 모듈인 것. 임포트 랜덤 하면 random.py라는 파일 안에 있는 변수나 함수나 클래스들을 가져다가 쓸 수 있는 상태가 되는 것.\n",
    "- 패키지: 모듈의 기능을 디렉토리별로 정리해 놓은 개념. 모듈보다 한 단계 큰 개념. 모듈들이 모여서 모듈을 기능별로 디렉토리를 생성, 전체 디렉토리를 패키지라고 하는 것.\n",
    "- 남들이 짜놓은 패키지를 임포트해서 사용하는 것. 잘 만들어 놓은 코드 가져다 쓰는 연습을 많이 할 것. 프로젝트도 마찬가지"
   ]
  },
  {
   "cell_type": "code",
   "execution_count": 133,
   "metadata": {},
   "outputs": [
    {
     "ename": "SyntaxError",
     "evalue": "invalid syntax (<ipython-input-133-42a9c251afd5>, line 2)",
     "output_type": "error",
     "traceback": [
      "\u001b[1;36m  File \u001b[1;32m\"<ipython-input-133-42a9c251afd5>\"\u001b[1;36m, line \u001b[1;32m2\u001b[0m\n\u001b[1;33m    - 모듈 파일 생성\u001b[0m\n\u001b[1;37m          ^\u001b[0m\n\u001b[1;31mSyntaxError\u001b[0m\u001b[1;31m:\u001b[0m invalid syntax\n"
     ]
    }
   ],
   "source": [
    "# 1. 모듈\n",
    "- 모듈 파일 생성\n",
    "- 모듈 호출해서 사용하는 것까지"
   ]
  },
  {
   "cell_type": "code",
   "execution_count": 134,
   "metadata": {},
   "outputs": [],
   "source": [
    "# 1) 모듈 생성"
   ]
  },
  {
   "cell_type": "code",
   "execution_count": 121,
   "metadata": {},
   "outputs": [
    {
     "name": "stdout",
     "output_type": "stream",
     "text": [
      "01jupyter notebook.ipynb\n",
      "02_basic_syntax.ipynb\n",
      "03_datatype.ipynb\n",
      "04_datatype2.ipynb\n",
      "04_function.ipynb\n",
      "05_change_datatype.ipynb\n",
      "05_function_2.ipynb\n",
      "06_class_1.ipynb\n",
      "07_class_2.ipynb\n",
      "07_operatiors.ipynb\n",
      "08_module_package.ipynb\n",
      "09_loop.ipynb\n",
      "20200401_practice.ipynb\n",
      "20200403_practice1.ipynb\n",
      "basic_syntax2.ipynb\n",
      "study\n",
      "Untitled.ipynb\n",
      "Untitled1.ipynb\n"
     ]
    }
   ],
   "source": [
    "!ls"
   ]
  },
  {
   "cell_type": "code",
   "execution_count": 124,
   "metadata": {},
   "outputs": [
    {
     "name": "stdout",
     "output_type": "stream",
     "text": [
      "Writing dss.py\n"
     ]
    }
   ],
   "source": [
    "%%writefile dss.py\n",
    "\n",
    "num = 1234\n",
    "\n",
    "def disp1(msg):\n",
    "    print(\"disp1\", msg)\n",
    "def disp2(msg):\n",
    "    print(\"disp2\", msg)\n",
    "\n",
    "class Calc:\n",
    "    def plus(self, *args):\n",
    "        return sum(args)"
   ]
  },
  {
   "cell_type": "code",
   "execution_count": 127,
   "metadata": {},
   "outputs": [],
   "source": [
    "# %%: 셀 단위의 매직 커맨드를 동작. 현 셀에 있는 내용을 전부다 라이트 파일을 적용하겠다는 뜻.\n",
    "# dss.py라는 파일 만들어서 그 파일 안에 이 아래 작성되는 코드들을 파일 형태로 저장하겠다는 뜻.\n",
    "# 위의 목록에 dss.py라는 모듈이 생성되는 것\n",
    "# Writing dss.py 이라고 뜨면 모듈 생성 된 것\n",
    "# 한 번 더 실행하면 Overwriting dss.py라고 뜬다"
   ]
  },
  {
   "cell_type": "code",
   "execution_count": 128,
   "metadata": {},
   "outputs": [
    {
     "name": "stdout",
     "output_type": "stream",
     "text": [
      "01jupyter notebook.ipynb\n",
      "02_basic_syntax.ipynb\n",
      "03_datatype.ipynb\n",
      "04_datatype2.ipynb\n",
      "04_function.ipynb\n",
      "05_change_datatype.ipynb\n",
      "05_function_2.ipynb\n",
      "06_class_1.ipynb\n",
      "07_class_2.ipynb\n",
      "07_operatiors.ipynb\n",
      "08_module_package.ipynb\n",
      "09_loop.ipynb\n",
      "20200401_practice.ipynb\n",
      "20200403_practice1.ipynb\n",
      "basic_syntax2.ipynb\n",
      "dss.py\n",
      "study\n",
      "Untitled.ipynb\n",
      "Untitled1.ipynb\n"
     ]
    }
   ],
   "source": [
    "!ls"
   ]
  },
  {
   "cell_type": "code",
   "execution_count": 130,
   "metadata": {},
   "outputs": [
    {
     "name": "stdout",
     "output_type": "stream",
     "text": [
      "Once deleted, variables cannot be recovered. Proceed (y/[n])? y\n"
     ]
    }
   ],
   "source": [
    "%reset"
   ]
  },
  {
   "cell_type": "code",
   "execution_count": null,
   "metadata": {},
   "outputs": [],
   "source": [
    "# reset 매직 커멘드는 선언한 변수를 다 없애주겠다는 명령어, 호출을 확인하기 위해서 변수를 다 리셋해준 것"
   ]
  },
  {
   "cell_type": "code",
   "execution_count": 131,
   "metadata": {},
   "outputs": [
    {
     "name": "stdout",
     "output_type": "stream",
     "text": [
      "Interactive namespace is empty.\n"
     ]
    }
   ],
   "source": [
    "%whos"
   ]
  },
  {
   "cell_type": "code",
   "execution_count": 132,
   "metadata": {},
   "outputs": [],
   "source": [
    "# whos로 변수 확인하면 선언된 변수가 없다고 나온다"
   ]
  },
  {
   "cell_type": "code",
   "execution_count": 135,
   "metadata": {},
   "outputs": [],
   "source": [
    "# 2)모듈 호출 : import라는 예약어를 사용, import 파일명(.py는 빼고)\n",
    "import dss"
   ]
  },
  {
   "cell_type": "code",
   "execution_count": 136,
   "metadata": {},
   "outputs": [
    {
     "name": "stdout",
     "output_type": "stream",
     "text": [
      "Variable   Type      Data/Info\n",
      "------------------------------\n",
      "dss        module    <module 'dss' from 'C:\\\\code\\\\dss.py'>\n"
     ]
    }
   ],
   "source": [
    "%whos"
   ]
  },
  {
   "cell_type": "code",
   "execution_count": 137,
   "metadata": {},
   "outputs": [],
   "source": [
    "# 모듈 명과 데이터 타입 모듈과 경로가 나온다. 코드에 있는 변수 함수 클래스를 dss라는 이름의 모듈로 사용이 가능한 것"
   ]
  },
  {
   "cell_type": "code",
   "execution_count": 139,
   "metadata": {},
   "outputs": [
    {
     "data": {
      "text/plain": [
       "1234"
      ]
     },
     "execution_count": 139,
     "metadata": {},
     "output_type": "execute_result"
    }
   ],
   "source": [
    "dss.num # dss 모듈 내에 있는 num 변수의 값이 출력"
   ]
  },
  {
   "cell_type": "code",
   "execution_count": 140,
   "metadata": {},
   "outputs": [
    {
     "name": "stdout",
     "output_type": "stream",
     "text": [
      "disp1 python\n"
     ]
    }
   ],
   "source": [
    "dss.disp1(\"python\")"
   ]
  },
  {
   "cell_type": "code",
   "execution_count": 142,
   "metadata": {},
   "outputs": [
    {
     "data": {
      "text/plain": [
       "10"
      ]
     },
     "execution_count": 142,
     "metadata": {},
     "output_type": "execute_result"
    }
   ],
   "source": [
    "calc = dss.Calc()\n",
    "calc.plus(1,2,3,4) #*args로 받았으므로"
   ]
  },
  {
   "cell_type": "code",
   "execution_count": 143,
   "metadata": {},
   "outputs": [],
   "source": [
    "# 이렇게 만들면 좋은데 주로 넘파이 판다스 같은 거 쓸 때 이런식으로 임포트해서 다른 사람 짜놓은 코드 많이 가져다 쓰게 될 것.\n",
    "# 지금은 보통 다른 사람이 만들어 놓은 코드가 빠를 것."
   ]
  },
  {
   "cell_type": "code",
   "execution_count": 147,
   "metadata": {},
   "outputs": [
    {
     "data": {
      "text/plain": [
       "1"
      ]
     },
     "execution_count": 147,
     "metadata": {},
     "output_type": "execute_result"
    }
   ],
   "source": [
    "import random\n",
    "random.randint(1, 5) # random 모듈의 randint 함수 활용해 랜덤 정수 리턴"
   ]
  },
  {
   "cell_type": "code",
   "execution_count": 148,
   "metadata": {},
   "outputs": [],
   "source": [
    "# 모듈 안에 특정 함수, 변수, 클래스 호출"
   ]
  },
  {
   "cell_type": "code",
   "execution_count": 149,
   "metadata": {},
   "outputs": [],
   "source": [
    "from dss import num, disp2 # 특정 모듈에서 특정 변수와 함수를 가져올 수 있다\n",
    "# 어떤 장점이 있냐면, 원래 dss.num dss.disp() 이런식으로 사용했는데 그냥 num, disp2 이렇게 사용할 수 있다\n",
    "# 그리고 가져오려는 모듈이 너무 크면 모듈 자체를 임포트로 다 가져오는 것보다 쓰려는 함수 변수 클래스만 선택해 가져와서 쓸 수 있다\n",
    "# from ~ import를 쓰면 특정 모듈에서 변수 함수 클래스를 가져오겠다는 뜻. from 다음에 모듈이 아니라 디렉토리, import 다음에 모듈이 올 수도 있음."
   ]
  },
  {
   "cell_type": "code",
   "execution_count": 150,
   "metadata": {},
   "outputs": [
    {
     "name": "stdout",
     "output_type": "stream",
     "text": [
      "Variable   Type        Data/Info\n",
      "--------------------------------\n",
      "calc       Calc        <dss.Calc object at 0x0000015BBC452A88>\n",
      "disp2      function    <function disp2 at 0x0000015BBB66CAF8>\n",
      "dss        module      <module 'dss' from 'C:\\\\code\\\\dss.py'>\n",
      "num        int         1234\n",
      "random     module      <module 'random' from 'C:<...>aconda3\\\\lib\\\\random.py'>\n"
     ]
    }
   ],
   "source": [
    "%whos"
   ]
  },
  {
   "cell_type": "code",
   "execution_count": 162,
   "metadata": {},
   "outputs": [
    {
     "name": "stdout",
     "output_type": "stream",
     "text": [
      "Once deleted, variables cannot be recovered. Proceed (y/[n])? y\n"
     ]
    }
   ],
   "source": [
    "%reset"
   ]
  },
  {
   "cell_type": "code",
   "execution_count": 163,
   "metadata": {},
   "outputs": [
    {
     "name": "stdout",
     "output_type": "stream",
     "text": [
      "Interactive namespace is empty.\n"
     ]
    }
   ],
   "source": [
    "%whos"
   ]
  },
  {
   "cell_type": "code",
   "execution_count": 164,
   "metadata": {},
   "outputs": [],
   "source": [
    "import dss # dss 모듈을 호출하면 그냥 밑에처럼 모듈만 호출돼서 나온다."
   ]
  },
  {
   "cell_type": "code",
   "execution_count": 165,
   "metadata": {},
   "outputs": [
    {
     "name": "stdout",
     "output_type": "stream",
     "text": [
      "Variable   Type      Data/Info\n",
      "------------------------------\n",
      "dss        module    <module 'dss' from 'C:\\\\code\\\\dss.py'>\n"
     ]
    }
   ],
   "source": [
    "%whos"
   ]
  },
  {
   "cell_type": "code",
   "execution_count": 169,
   "metadata": {},
   "outputs": [
    {
     "name": "stdout",
     "output_type": "stream",
     "text": [
      "Once deleted, variables cannot be recovered. Proceed (y/[n])? y\n"
     ]
    }
   ],
   "source": [
    "%reset"
   ]
  },
  {
   "cell_type": "code",
   "execution_count": 170,
   "metadata": {},
   "outputs": [],
   "source": [
    "# 모듈의 모든 변수를 가져옴\n",
    "from dss import *\n",
    "# dss에 4개의 변수가 있다. Calc라는 클래스, disp1, disp2, num 이거를 각각 쓰지 않고 모두 가져와 쓰고 싶다하면 앞에 별을 찍어주면 된다\n",
    "# 모듈 임포트한 경우와는 다르게 모듈 내에 있는 변수, 함수, 클래스가 모두 선언된 상태로 나온다. 앞에 클래스 안 붙여줘도 쓸 수 있다는 것.\n",
    "# 단 모듈은 선언 안 돼 있는 상태"
   ]
  },
  {
   "cell_type": "code",
   "execution_count": 171,
   "metadata": {},
   "outputs": [
    {
     "name": "stdout",
     "output_type": "stream",
     "text": [
      "Variable   Type        Data/Info\n",
      "--------------------------------\n",
      "Calc       type        <class 'dss.Calc'>\n",
      "disp1      function    <function disp1 at 0x0000015BBB66CA68>\n",
      "disp2      function    <function disp2 at 0x0000015BBB66CAF8>\n",
      "num        int         1234\n"
     ]
    }
   ],
   "source": [
    "%whos"
   ]
  },
  {
   "cell_type": "code",
   "execution_count": null,
   "metadata": {},
   "outputs": [],
   "source": [
    "### 2. Package\n",
    "- 패키지 생성\n",
    "- 패키지 호출\n",
    "- setup.py 패키지 설치 파일 만들기\n",
    "    - 여기에서 디렉토리 개념이 들어간다. 패키지 만들어서 설치해서 임포트 해서 써보는 방법까지 공부해 볼 것."
   ]
  },
  {
   "cell_type": "code",
   "execution_count": 1,
   "metadata": {},
   "outputs": [],
   "source": [
    "# 디렉토리 생성"
   ]
  },
  {
   "cell_type": "code",
   "execution_count": 3,
   "metadata": {},
   "outputs": [
    {
     "name": "stderr",
     "output_type": "stream",
     "text": [
      "명령 구문이 올바르지 않습니다.\n"
     ]
    }
   ],
   "source": [
    "!mkdir -p school/dss\n",
    "!midir -p school/web\n",
    "# 스쿨이라는 디렉토리 만들고 그 안에 dss라는 디렉토리까지 같이 만드는 것\n",
    "# mkdir은 깃배쉬라든가 배쉬 셀 환경에서 주피터 노트북을 실행해야 이 명령어가 실행된다\n",
    "# 명령 구문이 올바르지 않습니다. 에러\n",
    "# 겟 배쉬 다시 실행해서 터미널에서 작업"
   ]
  },
  {
   "cell_type": "code",
   "execution_count": null,
   "metadata": {},
   "outputs": [],
   "source": [
    "-tree 설치 (mac)\n",
    "    - homebrew: osx 패키지 설치 관리 툴. 패키지 설치할 때 맥에서는 홈브루 이용해 설치 많이 함.\n",
    "    - homebrew : https://brew.sh/\n",
    "    - /bin/bash -c \"$(curl -fsSL https://raw.githubusercontent.com/Homebrew/install/master/install.sh)\"\n",
    "    - 위 명령을 터미널에 입력하면 됨. 홈브루 설치됨.\n",
    "    - brew install tree 입력하면 트리 설치, 이후부터 트리 쓸 수 있다.\n",
    "    - 윈도우에서도 설치가 가능하는데 인코딩이 깨져서 이상하게 나온다"
   ]
  },
  {
   "cell_type": "code",
   "execution_count": 4,
   "metadata": {},
   "outputs": [
    {
     "name": "stdout",
     "output_type": "stream",
     "text": [
      "폴더 PATH의 목록입니다.\n",
      "볼륨 일련 번호는 7E87-46A4입니다.\n",
      "C:\\CODE\\SCHOOL\n",
      "└─dss\n"
     ]
    }
   ],
   "source": [
    "!tree school"
   ]
  },
  {
   "cell_type": "code",
   "execution_count": 1,
   "metadata": {},
   "outputs": [],
   "source": [
    "# 패키지 사용 시 디렉토리에 __init__.py 파일을 추가\n",
    "# 파이선 3.3 버전 이상에서는 필요 없음. 그런데 하위 버전에서는 이닛 파일이 있어야지만 패키지로 인식한다"
   ]
  },
  {
   "cell_type": "code",
   "execution_count": 2,
   "metadata": {},
   "outputs": [],
   "source": [
    "!touch school/dss/__init__.py\n",
    "!touch school/web/__init__.py\n",
    "# 이닛 파일 생성"
   ]
  },
  {
   "cell_type": "code",
   "execution_count": 10,
   "metadata": {},
   "outputs": [
    {
     "name": "stdout",
     "output_type": "stream",
     "text": [
      "폴더 PATH의 목록입니다.\n",
      "볼륨 일련 번호는 7E87-46A4입니다.\n",
      "C:\\CODE\\SCHOOL\\\n",
      "잘못된 경로 - \\CODE\\SCHOOL\\\n",
      "\n",
      "에 하위 폴더가 없습니다.\n"
     ]
    }
   ],
   "source": [
    "!tree school/"
   ]
  },
  {
   "cell_type": "code",
   "execution_count": 3,
   "metadata": {},
   "outputs": [
    {
     "name": "stdout",
     "output_type": "stream",
     "text": [
      "Overwriting school/dss/data1.py\n"
     ]
    }
   ],
   "source": [
    "%%writefile school/dss/data1.py\n",
    "\n",
    "def plus(*args):\n",
    "    print(\"data1\")\n",
    "    return sum(args)"
   ]
  },
  {
   "cell_type": "code",
   "execution_count": 4,
   "metadata": {},
   "outputs": [
    {
     "name": "stdout",
     "output_type": "stream",
     "text": [
      "Overwriting school/dss/data2.py\n"
     ]
    }
   ],
   "source": [
    "%%writefile school/dss/data2.py\n",
    "\n",
    "def plus2(*args):\n",
    "    print(\"data2\")\n",
    "    return sum(args)"
   ]
  },
  {
   "cell_type": "code",
   "execution_count": 5,
   "metadata": {},
   "outputs": [
    {
     "name": "stdout",
     "output_type": "stream",
     "text": [
      "Overwriting school/web/url.py\n"
     ]
    }
   ],
   "source": [
    "%%writefile school/web/url.py\n",
    "\n",
    "def make(url):\n",
    "    return url if url[:7] == \"http://\" else \"http://\" + url"
   ]
  },
  {
   "cell_type": "code",
   "execution_count": 32,
   "metadata": {},
   "outputs": [
    {
     "name": "stdout",
     "output_type": "stream",
     "text": [
      "폴더 PATH의 목록입니다.\n",
      "볼륨 일련 번호는 7E87-46A4입니다.\n",
      "C:\\CODE\\SCHOOL\\\n",
      "잘못된 경로 - \\CODE\\SCHOOL\\\n",
      "\n",
      "에 하위 폴더가 없습니다.\n"
     ]
    }
   ],
   "source": [
    "!tree school/"
   ]
  },
  {
   "cell_type": "code",
   "execution_count": 26,
   "metadata": {},
   "outputs": [
    {
     "name": "stdout",
     "output_type": "stream",
     "text": [
      "Once deleted, variables cannot be recovered. Proceed (y/[n])? \n",
      "Nothing done.\n"
     ]
    }
   ],
   "source": [
    "%reset"
   ]
  },
  {
   "cell_type": "code",
   "execution_count": 6,
   "metadata": {},
   "outputs": [],
   "source": [
    "import school.dss.data1"
   ]
  },
  {
   "cell_type": "code",
   "execution_count": 34,
   "metadata": {},
   "outputs": [
    {
     "name": "stdout",
     "output_type": "stream",
     "text": [
      "Variable   Type      Data/Info\n",
      "------------------------------\n",
      "school     module    <module 'school' (namespace)>\n"
     ]
    }
   ],
   "source": [
    "%whos"
   ]
  },
  {
   "cell_type": "code",
   "execution_count": 7,
   "metadata": {},
   "outputs": [
    {
     "name": "stdout",
     "output_type": "stream",
     "text": [
      "data1\n"
     ]
    },
    {
     "data": {
      "text/plain": [
       "6"
      ]
     },
     "execution_count": 7,
     "metadata": {},
     "output_type": "execute_result"
    }
   ],
   "source": [
    "school.dss.data1.plus(1,2,3)"
   ]
  },
  {
   "cell_type": "code",
   "execution_count": 8,
   "metadata": {},
   "outputs": [],
   "source": [
    "import school.dss.data1 as dss\n",
    "# 패키지나 모듈의 이름을 줄여서 쓰거나 변경해서 쓰고 싶을 때 as 사용한다\n",
    "# 긴 명령어를 짧게 쓸 수 있게 해주는 방법\n",
    "# 판다스 쓸 때도 import numpy as np로 줄여 쓸 것임.\n",
    "# 지금까지 from 하고 import, as 키워드를 배웠다."
   ]
  },
  {
   "cell_type": "code",
   "execution_count": 9,
   "metadata": {},
   "outputs": [
    {
     "name": "stdout",
     "output_type": "stream",
     "text": [
      "data1\n"
     ]
    },
    {
     "data": {
      "text/plain": [
       "6"
      ]
     },
     "execution_count": 9,
     "metadata": {},
     "output_type": "execute_result"
    }
   ],
   "source": [
    "dss.plus(1,2,3)"
   ]
  },
  {
   "cell_type": "code",
   "execution_count": 10,
   "metadata": {},
   "outputs": [],
   "source": [
    "# schoo.web : 디렉토리, 모듈\n",
    "# url : 모듈, 변수 이름이 꼭 와야 한다.\n",
    "from school.web import url\n",
    "# from은 어디에서 뭘 가져온다는 명령어인데 디렉토리, 모듈을 쓸 수가 있다.\n",
    "# 그런데 임포트 뒤에 오는 것은 클래스나 함수 같은 변수라든가 모듈이 와야 한다. 디렉토리는 올 수 없다."
   ]
  },
  {
   "cell_type": "code",
   "execution_count": 11,
   "metadata": {},
   "outputs": [
    {
     "data": {
      "text/plain": [
       "'http://google.com'"
      ]
     },
     "execution_count": 11,
     "metadata": {},
     "output_type": "execute_result"
    }
   ],
   "source": [
    "url.make(\"google.com\")"
   ]
  },
  {
   "cell_type": "code",
   "execution_count": 12,
   "metadata": {},
   "outputs": [
    {
     "data": {
      "text/plain": [
       "'http://naver.com'"
      ]
     },
     "execution_count": 12,
     "metadata": {},
     "output_type": "execute_result"
    }
   ],
   "source": [
    "url.make(\"http://naver.com\")"
   ]
  },
  {
   "cell_type": "code",
   "execution_count": 13,
   "metadata": {},
   "outputs": [],
   "source": [
    "# 패키지의 위치 : 특정 디렉토리에 있는 패키지는 어디에서나 import 가능(random 등.)"
   ]
  },
  {
   "cell_type": "code",
   "execution_count": 14,
   "metadata": {},
   "outputs": [],
   "source": [
    "import dss\n",
    "# 현재 주피터 노트북 상에서 같은 위치에 있기 때문에 임포트 dss가 되는 것.\n",
    "# import random도 하면 되는데 같은 디렉토리에 없다.\n",
    "# 랜덤은 특정 디렉토리 안에 random.py가 있기 때문에 임포트가 되는 것."
   ]
  },
  {
   "cell_type": "code",
   "execution_count": 19,
   "metadata": {},
   "outputs": [
    {
     "name": "stdout",
     "output_type": "stream",
     "text": [
      "C:\\code\n",
      "C:\\Users\\USER\\anaconda3\\python37.zip\n",
      "C:\\Users\\USER\\anaconda3\\DLLs\n",
      "C:\\Users\\USER\\anaconda3\\lib\n",
      "C:\\Users\\USER\\anaconda3\n",
      "\n",
      "C:\\Users\\USER\\anaconda3\\lib\\site-packages\n",
      "C:\\Users\\USER\\anaconda3\\lib\\site-packages\\win32\n",
      "C:\\Users\\USER\\anaconda3\\lib\\site-packages\\win32\\lib\n",
      "C:\\Users\\USER\\anaconda3\\lib\\site-packages\\Pythonwin\n",
      "C:\\Users\\USER\\anaconda3\\lib\\site-packages\\IPython\\extensions\n",
      "C:\\Users\\USER\\.ipython\n"
     ]
    }
   ],
   "source": [
    "import sys\n",
    "\n",
    "for path in sys.path:\n",
    "    print(path)\n",
    "# 아나콘다3 라이브러리 디렉토리 안에 랜덤 같은 그냥 사용할 수 있는 모듈들이 들어 있다. 특정 위치에 있기 때문에 임포트 되는 것"
   ]
  },
  {
   "cell_type": "code",
   "execution_count": 24,
   "metadata": {},
   "outputs": [
    {
     "name": "stdout",
     "output_type": "stream",
     "text": [
      "__future__.py\n",
      "__phello__.foo.py\n",
      "__pycache__\n",
      "_bootlocale.py\n",
      "_collections_abc.py\n",
      "_compat_pickle.py\n",
      "_compression.py\n",
      "_dummy_thread.py\n",
      "_markupbase.py\n",
      "_nsis.py\n",
      "_osx_support.py\n",
      "_py_abc.py\n",
      "_pydecimal.py\n",
      "_pyio.py\n",
      "_sitebuiltins.py\n",
      "_strptime.py\n",
      "_system_path.py\n",
      "_threading_local.py\n",
      "_weakrefset.py\n",
      "abc.py\n",
      "aifc.py\n",
      "antigravity.py\n",
      "argparse.py\n",
      "ast.py\n",
      "asynchat.py\n",
      "asyncio\n",
      "asyncore.py\n",
      "base64.py\n",
      "bdb.py\n",
      "binhex.py\n",
      "bisect.py\n",
      "bz2.py\n",
      "calendar.py\n",
      "cgi.py\n",
      "cgitb.py\n",
      "chunk.py\n",
      "cmd.py\n",
      "code.py\n",
      "codecs.py\n",
      "codeop.py\n",
      "collections\n",
      "colorsys.py\n",
      "compileall.py\n",
      "concurrent\n",
      "configparser.py\n",
      "contextlib.py\n",
      "contextvars.py\n",
      "copy.py\n",
      "copyreg.py\n",
      "cProfile.py\n",
      "crypt.py\n",
      "csv.py\n",
      "ctypes\n",
      "curses\n",
      "dataclasses.py\n",
      "datetime.py\n",
      "dbm\n",
      "decimal.py\n",
      "difflib.py\n",
      "dis.py\n",
      "distutils\n",
      "doctest.py\n",
      "dummy_threading.py\n",
      "email\n",
      "encodings\n",
      "ensurepip\n",
      "enum.py\n",
      "filecmp.py\n",
      "fileinput.py\n",
      "fnmatch.py\n",
      "formatter.py\n",
      "fractions.py\n",
      "ftplib.py\n",
      "functools.py\n",
      "genericpath.py\n",
      "getopt.py\n",
      "getpass.py\n",
      "gettext.py\n",
      "glob.py\n",
      "gzip.py\n",
      "hashlib.py\n",
      "heapq.py\n",
      "hmac.py\n",
      "html\n",
      "http\n",
      "idlelib\n",
      "imaplib.py\n",
      "imghdr.py\n",
      "imp.py\n",
      "importlib\n",
      "inspect.py\n",
      "io.py\n",
      "ipaddress.py\n",
      "json\n",
      "keyword.py\n",
      "lib2to3\n",
      "LIEF.lib\n",
      "LIEF-static.lib\n",
      "linecache.py\n",
      "locale.py\n",
      "logging\n",
      "lzma.py\n",
      "macpath.py\n",
      "mailbox.py\n",
      "mailcap.py\n",
      "mimetypes.py\n",
      "modulefinder.py\n",
      "msilib\n",
      "multiprocessing\n",
      "netrc.py\n",
      "nntplib.py\n",
      "ntpath.py\n",
      "nturl2path.py\n",
      "numbers.py\n",
      "opcode.py\n",
      "operator.py\n",
      "optparse.py\n",
      "os.py\n",
      "pathlib.py\n",
      "pdb.py\n",
      "pickle.py\n",
      "pickletools.py\n",
      "pipes.py\n",
      "pkgutil.py\n",
      "platform.py\n",
      "plistlib.py\n",
      "poplib.py\n",
      "posixpath.py\n",
      "pprint.py\n",
      "profile.py\n",
      "pstats.py\n",
      "pty.py\n",
      "py_compile.py\n",
      "pyclbr.py\n",
      "pydoc.py\n",
      "pydoc_data\n",
      "queue.py\n",
      "quopri.py\n",
      "random.py\n",
      "re.py\n",
      "reprlib.py\n",
      "rlcompleter.py\n",
      "runpy.py\n",
      "sched.py\n",
      "secrets.py\n",
      "selectors.py\n",
      "shelve.py\n",
      "shlex.py\n",
      "shutil.py\n",
      "signal.py\n",
      "site.py\n",
      "site-packages\n",
      "smtpd.py\n",
      "smtplib.py\n",
      "sndhdr.py\n",
      "socket.py\n",
      "socketserver.py\n",
      "sqlite3\n",
      "sre_compile.py\n",
      "sre_constants.py\n",
      "sre_parse.py\n",
      "ssl.py\n",
      "stat.py\n",
      "statistics.py\n",
      "string.py\n",
      "stringprep.py\n",
      "struct.py\n",
      "subprocess.py\n",
      "sunau.py\n",
      "symbol.py\n",
      "symtable.py\n",
      "sysconfig.py\n",
      "tabnanny.py\n",
      "tarfile.py\n",
      "telnetlib.py\n",
      "tempfile.py\n",
      "test\n",
      "textwrap.py\n",
      "this.py\n",
      "threading.py\n",
      "timeit.py\n",
      "tkinter\n",
      "token.py\n",
      "tokenize.py\n",
      "trace.py\n",
      "traceback.py\n",
      "tracemalloc.py\n",
      "tty.py\n",
      "turtle.py\n",
      "turtledemo\n",
      "types.py\n",
      "typing.py\n",
      "unittest\n",
      "urllib\n",
      "uu.py\n",
      "uuid.py\n",
      "venv\n",
      "warnings.py\n",
      "wave.py\n",
      "weakref.py\n",
      "webbrowser.py\n",
      "wsgiref\n",
      "xdrlib.py\n",
      "xml\n",
      "xmlrpc\n",
      "zipapp.py\n",
      "zipfile.py\n"
     ]
    }
   ],
   "source": [
    "!ls \\Users\\USER\\anaconda3\\lib"
   ]
  },
  {
   "cell_type": "code",
   "execution_count": 25,
   "metadata": {},
   "outputs": [
    {
     "data": {
      "text/plain": [
       "207"
      ]
     },
     "execution_count": 25,
     "metadata": {},
     "output_type": "execute_result"
    }
   ],
   "source": [
    "# 이 결과 데이터를 변수로도 받을 수 있다.\n",
    "packages = !ls \\Users\\USER\\anaconda3\\lib\n",
    "len(packages)"
   ]
  },
  {
   "cell_type": "code",
   "execution_count": 31,
   "metadata": {},
   "outputs": [
    {
     "data": {
      "text/plain": [
       "['xdrlib.py', 'xml', 'xmlrpc', 'zipapp.py', 'zipfile.py']"
      ]
     },
     "execution_count": 31,
     "metadata": {},
     "output_type": "execute_result"
    }
   ],
   "source": [
    "packages[-5:]\n",
    "# 오프셋 인덱스에서 [-5:]과 [:-5]는 결과가 완전히 다르다.\n",
    "# [-5:]는 뒤에서 다섯번째부터 끝까지, [:-5]는 0부터 뒤에서 여섯번째까지"
   ]
  },
  {
   "cell_type": "code",
   "execution_count": 32,
   "metadata": {},
   "outputs": [],
   "source": [
    "# setup.py를 작성해서 패키지를 설치해서 사용\n",
    "# setuptools를 이용해서 설치해서 사용하는 방법"
   ]
  },
  {
   "cell_type": "code",
   "execution_count": 33,
   "metadata": {},
   "outputs": [
    {
     "name": "stdout",
     "output_type": "stream",
     "text": [
      "폴더 PATH의 목록입니다.\n",
      "볼륨 일련 번호는 7E87-46A4입니다.\n",
      "C:\\CODE\\SCHOOL\\\n",
      "잘못된 경로 - \\CODE\\SCHOOL\\\n",
      "\n",
      "에 하위 폴더가 없습니다.\n"
     ]
    }
   ],
   "source": [
    "!tree school/"
   ]
  },
  {
   "cell_type": "code",
   "execution_count": 7,
   "metadata": {},
   "outputs": [
    {
     "name": "stdout",
     "output_type": "stream",
     "text": [
      "Overwriting school/dss/__init__.py\n"
     ]
    }
   ],
   "source": [
    "%%writefile school/dss/__init__.py\n",
    "\n",
    "__all__ = [\"data1\", \"data2\"]\n",
    "# dss 폴더 안에 데이터1 데이터2 모듈이 있는데 이것들이 임포트가 된다."
   ]
  },
  {
   "cell_type": "code",
   "execution_count": 44,
   "metadata": {},
   "outputs": [
    {
     "name": "stdout",
     "output_type": "stream",
     "text": [
      "Overwriting school/setup.py\n"
     ]
    }
   ],
   "source": [
    "%%writefile school/setup.py\n",
    "# 셋업 파일은 최상위 디렉토리(스쿨)에 작성해야 한다\n",
    "\n",
    "from setuptools import setup, find_packages\n",
    "# setuptools 디렉토리에서 셋업과 파인드패키지 모듈을 가져온다?\n",
    "\n",
    "setup(\n",
    "    name = \"dss\",\n",
    "    # 실제로 디렉토리 이름은 스쿨이지만 설치는 이 네임이 이름으로 설치가 된다.\n",
    "    packages = find_packages(),\n",
    "    # 스쿨 밑에 있는 web, dss 디렉토리 가져와서 패키지로 설치되게끔 하는 것\n",
    "    include_package_data = True,\n",
    "    # 패키지 데이터를 다 포함시킨다는 말\n",
    "    version = \"0.0.1\",\n",
    "    author = \"Lim\",\n",
    "    author_email = \"studioim@hanmail.net\",\n",
    "    zip_safe = False, # 압축 관련 옵션\n",
    ")# 셋업이라는 함수에 키워드 아규먼트를 추가한 것"
   ]
  },
  {
   "cell_type": "code",
   "execution_count": null,
   "metadata": {},
   "outputs": [],
   "source": [
    "# 스쿨이라는 디렉토리 밑에 셋업파일이 생성."
   ]
  },
  {
   "cell_type": "code",
   "execution_count": 37,
   "metadata": {},
   "outputs": [
    {
     "name": "stderr",
     "output_type": "stream",
     "text": [
      "rm: cannot remove 'dss.py': No such file or directory\n"
     ]
    }
   ],
   "source": [
    "!rm dss.py\n",
    "# 위의 dss 모듈과 중복될 수 있어서 삭제하는 명령어"
   ]
  },
  {
   "cell_type": "code",
   "execution_count": 38,
   "metadata": {},
   "outputs": [],
   "source": [
    "# 패키지 설치 확인"
   ]
  },
  {
   "cell_type": "code",
   "execution_count": 40,
   "metadata": {},
   "outputs": [
    {
     "name": "stdout",
     "output_type": "stream",
     "text": [
      "Package                            Version            \n",
      "---------------------------------- -------------------\n",
      "alabaster                          0.7.12             \n",
      "anaconda-client                    1.7.2              \n",
      "anaconda-navigator                 1.9.12             \n",
      "anaconda-project                   0.8.3              \n",
      "argh                               0.26.2             \n",
      "asn1crypto                         1.3.0              \n",
      "astroid                            2.3.3              \n",
      "astropy                            4.0                \n",
      "atomicwrites                       1.3.0              \n",
      "attrs                              19.3.0             \n",
      "autopep8                           1.4.4              \n",
      "Babel                              2.8.0              \n",
      "backcall                           0.1.0              \n",
      "backports.functools-lru-cache      1.6.1              \n",
      "backports.shutil-get-terminal-size 1.0.0              \n",
      "backports.tempfile                 1.0                \n",
      "backports.weakref                  1.0.post1          \n",
      "bcrypt                             3.1.7              \n",
      "beautifulsoup4                     4.8.2              \n",
      "bitarray                           1.2.1              \n",
      "bkcharts                           0.2                \n",
      "bleach                             3.1.0              \n",
      "bokeh                              1.4.0              \n",
      "boto                               2.49.0             \n",
      "Bottleneck                         1.3.2              \n",
      "certifi                            2019.11.28         \n",
      "cffi                               1.14.0             \n",
      "chardet                            3.0.4              \n",
      "Click                              7.0                \n",
      "cloudpickle                        1.3.0              \n",
      "clyent                             1.2.2              \n",
      "colorama                           0.4.3              \n",
      "comtypes                           1.1.7              \n",
      "conda                              4.8.2              \n",
      "conda-build                        3.18.11            \n",
      "conda-package-handling             1.6.0              \n",
      "conda-verify                       3.4.2              \n",
      "contextlib2                        0.6.0.post1        \n",
      "cryptography                       2.8                \n",
      "cycler                             0.10.0             \n",
      "Cython                             0.29.15            \n",
      "cytoolz                            0.10.1             \n",
      "dask                               2.11.0             \n",
      "decorator                          4.4.1              \n",
      "defusedxml                         0.6.0              \n",
      "diff-match-patch                   20181111           \n",
      "distributed                        2.11.0             \n",
      "docutils                           0.16               \n",
      "entrypoints                        0.3                \n",
      "et-xmlfile                         1.0.1              \n",
      "fastcache                          1.1.0              \n",
      "filelock                           3.0.12             \n",
      "flake8                             3.7.9              \n",
      "Flask                              1.1.1              \n",
      "fsspec                             0.6.2              \n",
      "future                             0.18.2             \n",
      "gevent                             1.4.0              \n",
      "glob2                              0.7                \n",
      "greenlet                           0.4.15             \n",
      "h5py                               2.10.0             \n",
      "HeapDict                           1.0.1              \n",
      "html5lib                           1.0.1              \n",
      "hypothesis                         5.5.4              \n",
      "idna                               2.8                \n",
      "imageio                            2.6.1              \n",
      "imagesize                          1.2.0              \n",
      "importlib-metadata                 1.5.0              \n",
      "intervaltree                       3.0.2              \n",
      "ipykernel                          5.1.4              \n",
      "ipython                            7.12.0             \n",
      "ipython-genutils                   0.2.0              \n",
      "ipywidgets                         7.5.1              \n",
      "isort                              4.3.21             \n",
      "itsdangerous                       1.1.0              \n",
      "jdcal                              1.4.1              \n",
      "jedi                               0.14.1             \n",
      "Jinja2                             2.11.1             \n",
      "joblib                             0.14.1             \n",
      "json5                              0.9.1              \n",
      "jsonschema                         3.2.0              \n",
      "jupyter                            1.0.0              \n",
      "jupyter-client                     5.3.4              \n",
      "jupyter-console                    6.1.0              \n",
      "jupyter-core                       4.6.1              \n",
      "jupyterlab                         1.2.6              \n",
      "jupyterlab-server                  1.0.6              \n",
      "keyring                            21.1.0             \n",
      "kiwisolver                         1.1.0              \n",
      "lazy-object-proxy                  1.4.3              \n",
      "libarchive-c                       2.8                \n",
      "llvmlite                           0.31.0             \n",
      "locket                             0.2.0              \n",
      "lxml                               4.5.0              \n",
      "MarkupSafe                         1.1.1              \n",
      "matplotlib                         3.1.3              \n",
      "mccabe                             0.6.1              \n",
      "menuinst                           1.4.16             \n",
      "mistune                            0.8.4              \n",
      "mkl-fft                            1.0.15             \n",
      "mkl-random                         1.1.0              \n",
      "mkl-service                        2.3.0              \n",
      "mock                               4.0.1              \n",
      "more-itertools                     8.2.0              \n",
      "mpmath                             1.1.0              \n",
      "msgpack                            0.6.1              \n",
      "multipledispatch                   0.6.0              \n",
      "navigator-updater                  0.2.1              \n",
      "nbconvert                          5.6.1              \n",
      "nbformat                           5.0.4              \n",
      "networkx                           2.4                \n",
      "nltk                               3.4.5              \n",
      "nose                               1.3.7              \n",
      "notebook                           6.0.3              \n",
      "numba                              0.48.0             \n",
      "numexpr                            2.7.1              \n",
      "numpy                              1.18.1             \n",
      "numpydoc                           0.9.2              \n",
      "olefile                            0.46               \n",
      "openpyxl                           3.0.3              \n",
      "packaging                          20.1               \n",
      "pandas                             1.0.1              \n",
      "pandocfilters                      1.4.2              \n",
      "paramiko                           2.7.1              \n",
      "parso                              0.5.2              \n",
      "partd                              1.1.0              \n",
      "path                               13.1.0             \n",
      "pathlib2                           2.3.5              \n",
      "pathtools                          0.1.2              \n",
      "patsy                              0.5.1              \n",
      "pep8                               1.7.1              \n",
      "pexpect                            4.8.0              \n",
      "pickleshare                        0.7.5              \n",
      "Pillow                             7.0.0              \n",
      "pip                                20.0.2             \n",
      "pkginfo                            1.5.0.1            \n",
      "pluggy                             0.13.1             \n",
      "ply                                3.11               \n",
      "prometheus-client                  0.7.1              \n",
      "prompt-toolkit                     3.0.3              \n",
      "psutil                             5.6.7              \n",
      "py                                 1.8.1              \n",
      "pycodestyle                        2.5.0              \n",
      "pycosat                            0.6.3              \n",
      "pycparser                          2.19               \n",
      "pycrypto                           2.6.1              \n",
      "pycurl                             7.43.0.5           \n",
      "pydocstyle                         4.0.1              \n",
      "pyflakes                           2.1.1              \n",
      "Pygments                           2.5.2              \n",
      "pylint                             2.4.4              \n",
      "PyNaCl                             1.3.0              \n",
      "pyodbc                             4.0.0-unsupported  \n",
      "pyOpenSSL                          19.1.0             \n",
      "pyparsing                          2.4.6              \n",
      "pyreadline                         2.1                \n",
      "pyrsistent                         0.15.7             \n",
      "PySocks                            1.7.1              \n",
      "pytest                             5.3.5              \n",
      "pytest-arraydiff                   0.3                \n",
      "pytest-astropy                     0.8.0              \n",
      "pytest-astropy-header              0.1.2              \n",
      "pytest-doctestplus                 0.5.0              \n",
      "pytest-openfiles                   0.4.0              \n",
      "pytest-remotedata                  0.3.2              \n",
      "python-dateutil                    2.8.1              \n",
      "python-jsonrpc-server              0.3.4              \n",
      "python-language-server             0.31.7             \n",
      "pytz                               2019.3             \n",
      "PyWavelets                         1.1.1              \n",
      "pywin32                            227                \n",
      "pywin32-ctypes                     0.2.0              \n",
      "pywinpty                           0.5.7              \n",
      "PyYAML                             5.3                \n",
      "pyzmq                              18.1.1             \n",
      "QDarkStyle                         2.8                \n",
      "QtAwesome                          0.6.1              \n",
      "qtconsole                          4.6.0              \n",
      "QtPy                               1.9.0              \n",
      "requests                           2.22.0             \n",
      "rope                               0.16.0             \n",
      "Rtree                              0.9.3              \n",
      "ruamel-yaml                        0.15.87            \n",
      "scikit-image                       0.16.2             \n",
      "scikit-learn                       0.22.1             \n",
      "scipy                              1.4.1              \n",
      "seaborn                            0.10.0             \n",
      "Send2Trash                         1.5.0              \n",
      "setuptools                         45.2.0.post20200210\n",
      "simplegeneric                      0.8.1              \n",
      "singledispatch                     3.4.0.3            \n",
      "six                                1.14.0             \n",
      "snowballstemmer                    2.0.0              \n",
      "sortedcollections                  1.1.2              \n",
      "sortedcontainers                   2.1.0              \n",
      "soupsieve                          1.9.5              \n",
      "Sphinx                             2.4.0              \n",
      "sphinxcontrib-applehelp            1.0.1              \n",
      "sphinxcontrib-devhelp              1.0.1              \n",
      "sphinxcontrib-htmlhelp             1.0.2              \n",
      "sphinxcontrib-jsmath               1.0.1              \n",
      "sphinxcontrib-qthelp               1.0.2              \n",
      "sphinxcontrib-serializinghtml      1.1.3              \n",
      "sphinxcontrib-websupport           1.2.0              \n",
      "spyder                             4.0.1              \n",
      "spyder-kernels                     1.8.1              \n",
      "SQLAlchemy                         1.3.13             \n",
      "statsmodels                        0.11.0             \n",
      "sympy                              1.5.1              \n",
      "tables                             3.6.1              \n",
      "tblib                              1.6.0              \n",
      "terminado                          0.8.3              \n",
      "testpath                           0.4.4              \n",
      "toolz                              0.10.0             \n",
      "tornado                            6.0.3              \n",
      "tqdm                               4.42.1             \n",
      "traitlets                          4.3.3              \n",
      "ujson                              1.35               \n",
      "unicodecsv                         0.14.1             \n",
      "urllib3                            1.25.8             \n",
      "watchdog                           0.10.2             \n",
      "wcwidth                            0.1.8              \n",
      "webencodings                       0.5.1              \n",
      "Werkzeug                           1.0.0              \n",
      "wheel                              0.34.2             \n",
      "widgetsnbextension                 3.5.1              \n",
      "win-inet-pton                      1.1.0              \n",
      "win-unicode-console                0.5                \n",
      "wincertstore                       0.2                \n",
      "wrapt                              1.11.2             \n",
      "xlrd                               1.2.0              \n",
      "XlsxWriter                         1.2.7              \n",
      "xlwings                            0.17.1             \n",
      "xlwt                               1.3.0              \n",
      "xmltodict                          0.12.0             \n",
      "yapf                               0.28.0             \n",
      "zict                               1.0.0              \n",
      "zipp                               2.2.0              \n"
     ]
    }
   ],
   "source": [
    "!pip list\n",
    "# pip는 파이선 패키지를 관리해주는 툴. pip list 하면 현재 설치된 파이선 패키지의 리스트를 확인할 수 있다."
   ]
  },
  {
   "cell_type": "code",
   "execution_count": 43,
   "metadata": {},
   "outputs": [],
   "source": [
    "!pip list | grep dss\n",
    "# dss라는 문자가 들어간 패키지 검색해서 찾는 명령어, grab은 잡다라는 뜻인데 grep은??\n",
    "# dss는 현재 설치 안 돼 있어서 없다. ana라고 하면 나온다"
   ]
  },
  {
   "cell_type": "code",
   "execution_count": null,
   "metadata": {},
   "outputs": [],
   "source": [
    "# 패키지 설치\n",
    "# 터미널 들어가서 school $ python setup.py develop / cd school 한 다음 python setup.py develop 명령어 치라는 말\n",
    "# 설치가 끝나면 커널을 리스타트 해줄 것. 설치된 패키지가 주피터 노트북상 적용이 된다.\n",
    "# develop : 개발자 모드, 코드를 수정하면 설치된 패키지도 같이 수정\n",
    "# build : 일반 모드, 코드를 수정하면 다시 설치해야 수정된 코드가 적용된다."
   ]
  },
  {
   "cell_type": "code",
   "execution_count": 1,
   "metadata": {},
   "outputs": [
    {
     "name": "stdout",
     "output_type": "stream",
     "text": [
      "dss                                0.0.1               c:\\code\\school\n"
     ]
    }
   ],
   "source": [
    "!pip list | grep dss\n",
    "# 설치 확인"
   ]
  },
  {
   "cell_type": "code",
   "execution_count": 2,
   "metadata": {},
   "outputs": [
    {
     "name": "stdout",
     "output_type": "stream",
     "text": [
      "numpy                              1.18.1              \n",
      "numpydoc                           0.9.2               \n"
     ]
    }
   ],
   "source": [
    "!pip list | grep numpy\n",
    "# 넘파이도 한번 찾아보자 1.18.1 버전으로 있네\n",
    "# 우리는 0.0.1 버전으로 dss라는 패키지(이름은 위의 name을 따라 간다)를 설치한 것"
   ]
  },
  {
   "cell_type": "code",
   "execution_count": 1,
   "metadata": {},
   "outputs": [],
   "source": [
    "# dss 패키지 사용 해보자\n",
    "from dss import *"
   ]
  },
  {
   "cell_type": "code",
   "execution_count": 2,
   "metadata": {},
   "outputs": [
    {
     "name": "stdout",
     "output_type": "stream",
     "text": [
      "Variable   Type      Data/Info\n",
      "------------------------------\n",
      "data1      module    <module 'dss.data1' from <...>\\\\school\\\\dss\\\\data1.py'>\n",
      "data2      module    <module 'dss.data2' from <...>\\\\school\\\\dss\\\\data2.py'>\n"
     ]
    }
   ],
   "source": [
    "%whos"
   ]
  },
  {
   "cell_type": "code",
   "execution_count": 10,
   "metadata": {},
   "outputs": [
    {
     "ename": "AttributeError",
     "evalue": "module 'dss' has no attribute 'web'",
     "output_type": "error",
     "traceback": [
      "\u001b[1;31m---------------------------------------------------------------------------\u001b[0m",
      "\u001b[1;31mAttributeError\u001b[0m                            Traceback (most recent call last)",
      "\u001b[1;32m<ipython-input-10-ca10e1874787>\u001b[0m in \u001b[0;36m<module>\u001b[1;34m\u001b[0m\n\u001b[1;32m----> 1\u001b[1;33m \u001b[0mdss\u001b[0m\u001b[1;33m.\u001b[0m\u001b[0mweb\u001b[0m\u001b[1;33m.\u001b[0m\u001b[0murl\u001b[0m\u001b[1;33m\u001b[0m\u001b[1;33m\u001b[0m\u001b[0m\n\u001b[0m\u001b[0;32m      2\u001b[0m \u001b[1;31m# 에러!\u001b[0m\u001b[1;33m\u001b[0m\u001b[1;33m\u001b[0m\u001b[1;33m\u001b[0m\u001b[0m\n\u001b[0;32m      3\u001b[0m \u001b[1;31m# dss 폴더 내에 data1.py data2.py 모듈을 어떤 것을 쓸지 이닛 파이 파일에 지정해줘야 하는데 깜빡했다. 추가해주겠다.\u001b[0m\u001b[1;33m\u001b[0m\u001b[1;33m\u001b[0m\u001b[1;33m\u001b[0m\u001b[0m\n",
      "\u001b[1;31mAttributeError\u001b[0m: module 'dss' has no attribute 'web'"
     ]
    }
   ],
   "source": [
    "dss.web.url\n",
    "# 에러!\n",
    "# dss 폴더 내에 data1.py data2.py 모듈을 어떤 것을 쓸지 이닛 파이 파일에 지정해줘야 하는데 깜빡했다. 추가해주겠다. "
   ]
  },
  {
   "cell_type": "code",
   "execution_count": 3,
   "metadata": {},
   "outputs": [
    {
     "name": "stdout",
     "output_type": "stream",
     "text": [
      "data1\n"
     ]
    },
    {
     "data": {
      "text/plain": [
       "3"
      ]
     },
     "execution_count": 3,
     "metadata": {},
     "output_type": "execute_result"
    }
   ],
   "source": [
    "# 그리고 dss 말고\n",
    "data1.plus(1, 2) #데이터1이 모듈"
   ]
  },
  {
   "cell_type": "code",
   "execution_count": null,
   "metadata": {},
   "outputs": [],
   "source": [
    "# 우리가 school 디렉토리에 dss와 web 디렉토리 만듦. dss에는 __init__.py와 data1.py와 data2.py web에는 __init__.py, url.py 모듈 각각 만듦\n",
    "# 그리고 디렉토리에 작성할 떄 __init__.py 파일을 작성해줘야 함.(이건 클래스의 생성자 함수와도 비슷한 듯?)\n",
    "# 그리고 dss 내의 __init__.py에서 __all__(이라는 예약된 변수, 어떤 패키지를 설치했을 때 어떤 모듈을 임포트할지 설정할 수 있다.)에 data1과 data2를 넣어준 것.\n",
    "# 그리고 스쿨 디렉토리 하위에 setup.py 파일을 작성. 다음에 패키지 설치. 셋업점 파이를 파이선 명령어 이용해서 설치. 여기에 develop라는 옵션이 있는데 빌드와 디벨롭을 쓴다.\n",
    "# 디벨롭 쓰면 설치하고 나서 dss 내에 만든 패키지의 내용(데이터1,데이터2)을 수정하면 수정한 게 적용된다. 그런데 빌드라고 쓰면 수정한 게 적용 안 됨\n",
    "# 패키지 디벨롭 모델로 설치 했다. 그다음 dss *라고 임포트를 해주니 dss에 이닛에 있는 데이터1과 데이터2가 두 개가 모듈로 임포트가 된 것.\n",
    "# 데이터1의 플러스 기능을 여기에 쓰니 데이터1의 플러스 함수가 호출된 것.\n",
    "# 디벨롭이라는 옵션은, 수정하고 다시 설치해주지 않아도 됨. 셋업툴스를 실행해서 설치를 하면 데이터1 코드를 변경하고 data1.plus()함수를 실행하면 변경된 함수로 출력.\n",
    "# 빌드 모드는 수정하면 다시 설치해줘야 수정된 것이 반영됨. 그냥은 변경해도 바뀌지 않는다는 것.\n",
    "# url도 추가해주려면 이닛 파이 파일의 올 변수에서 추가를 해줘야 한다. 그러면 모두 추가가 된다."
   ]
  },
  {
   "cell_type": "code",
   "execution_count": null,
   "metadata": {},
   "outputs": [],
   "source": [
    "# uninstall\n",
    "# pip uninstall dss 라고 터미널에 입력을 해주면 된다. 어디서나 입력 가능, 패키지는 어디서나 실행 가능하기 때문에"
   ]
  },
  {
   "cell_type": "code",
   "execution_count": 4,
   "metadata": {},
   "outputs": [],
   "source": [
    "!pip list | grep dss\n",
    "# 설치 확인 해보면 없어진 것을 확인할 수 있다."
   ]
  },
  {
   "cell_type": "code",
   "execution_count": null,
   "metadata": {},
   "outputs": [],
   "source": [
    "# 넘파이, 판다스 등 패키지를 설치하는 방법은 conda(콘다) 인스톨이라든가 pip 인스톨을 이용해서 설치한다.\n",
    "# 여기에서 pip install 패키지명, conda install 레파지토리명? 패키지명 이렇게 해서 인스톨 하면 pip라고 하는 인터넷상에 저장소(패키지 담겨 있는)에서 해당 패키지를 다운받아 설치가 되는 것.\n",
    "# 아나콘다가 제공하는 콘다는 pip가 있고, 여기에 작성된 레파지토리?로 패키지를 다운을 받아와서 설치되는 것.\n",
    "# 만약 우리가 만든 패키지를 pip를 통해 누구나 설치를 하도록 하게 하고 싶으면 셋업.py를 작성한 전체 패키지를 작성해 pypy라고 하는 곳에 제출하면 심사 후 pip 저장소에 등록을 해준다."
   ]
  }
 ],
 "metadata": {
  "kernelspec": {
   "display_name": "Python 3",
   "language": "python",
   "name": "python3"
  },
  "language_info": {
   "codemirror_mode": {
    "name": "ipython",
    "version": 3
   },
   "file_extension": ".py",
   "mimetype": "text/x-python",
   "name": "python",
   "nbconvert_exporter": "python",
   "pygments_lexer": "ipython3",
   "version": "3.7.6"
  }
 },
 "nbformat": 4,
 "nbformat_minor": 4
}
