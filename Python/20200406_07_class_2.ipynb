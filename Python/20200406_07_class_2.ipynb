{
 "cells": [
  {
   "cell_type": "code",
   "execution_count": null,
   "metadata": {},
   "outputs": [],
   "source": [
    "### summary\n",
    "- function\n",
    "    - docstring shift + tab\n",
    "    - scope : 전역, 지역: 지역 영역에서 전역 영역에 있는 변수를 사용하려면 global 이라는 예약어를 사용한다.\n",
    "        - 지역 영역에서 변수 사용할 때 가장 먼저 지역 그 이후 전역에서 가져다 사용, 메모리 절약 위해, 중복되는 변수명 줄이기 위해\n",
    "    - inner function : 함수 안의 함수를 선언(전역, 지역과도 관계), 지역 함수를 전역에서 사용하려면 리턴 이너펑션 해서 사용했다\n",
    "    - lambda function: 간략한 함수를 한 줄의 코드로 작성하는 방법, 함수가 일회성으로 사용될 때 쓰면 저장공간 절약할 수 있다.\n",
    "    - decorlator : 특정 기능을 데코레이터 함수로 만들어 함수에 특정 기능을 적용하는 방법(실행 시간 @timer, 로그인 @password_check 등으로)\n",
    "- class\n",
    "    - 변수와 함수들이 모여 있는 집합\n",
    "    - 기본 클래스 사용법\n",
    "        - 클래스를 선언하고 -> 객체로 만들고 -> 객체에 함수를 호출\n",
    "    - 생성자 함수\n",
    "        - 클래스가 객체로 만들어질 때 객체에 선언되는 변수를 설정하는 방법\n",
    "        - 객체가 생성될 때 클래스 안에 있는 생성자 함수가 자동으로 실행, 생성자 함수 실행될 때 에러 발생하면 객체로 만들 수 없음\n",
    "        - 숫자 두 개 받아야 플러스, 마이너스 할 수 있는 것"
   ]
  },
  {
   "cell_type": "code",
   "execution_count": 3,
   "metadata": {},
   "outputs": [
    {
     "name": "stdout",
     "output_type": "stream",
     "text": [
      "[0, 1, 2]\n",
      "[(0, 'a'), (1, 'b'), (2, 'c')]\n",
      "0 a\n",
      "1 b\n",
      "2 c\n",
      "0 {'user': 'test', 'pw': '1234', 'count': 0}\n",
      "1 {'user': 'python', 'pw': '5678', 'count': 0}\n"
     ]
    }
   ],
   "source": [
    "user_datas = [\n",
    "    {\"user\": \"test\", \"pw\": \"1234\", \"count\": 0},\n",
    "    {\"user\": \"python\", \"pw\": \"5678\", \"count\": 0},\n",
    "]\n",
    "ls = [\"a\", \"b\", \"c\"]\n",
    "print(list(range(len(ls))))\n",
    "print(list(zip(range(len(ls)), ls))) # 두 개의 리스트를 같은 인덱스 끼리 묵어서 튜플 데이터 형태로 나타내주는 리스트\n",
    "for idx, data in list(zip(range(len(ls)), ls)):\n",
    "    print(idx, data)\n",
    "for idx, user_data in zip(range(len(user_datas)), user_datas):\n",
    "    print(idx, user_data)"
   ]
  },
  {
   "cell_type": "code",
   "execution_count": 4,
   "metadata": {},
   "outputs": [],
   "source": [
    "# user data를 입력받아서 아이디와 패스워드를 체크하는 데코레이터 함수를 코드로 작성하세요\n",
    "# 로그인 될 때마다 count를 1씩 증가\n",
    "def need_login(func):\n",
    "    def wrapper(*args, **kwargs):\n",
    "        # 아이디 패스워드 입력\n",
    "        user, pw = tuple(input(\"insert user pw: \").split(\" \"))\n",
    "        # 존재하는 아이디, 패스워드 확인\n",
    "        for idx, user_data in zip(range(len(user_datas)), user_datas):\n",
    "            if (user_data[\"user\"] == user) and (user_data[\"pw\"] == pw):\n",
    "                user_datas[idx][\"count\"] += 1\n",
    "                # 함수 실행\n",
    "                return func(*args, **kwargs) # 리턴하면 거기서 끝\n",
    "            return \"wrong login data!\"\n",
    "    return wrapper"
   ]
  },
  {
   "cell_type": "code",
   "execution_count": 5,
   "metadata": {},
   "outputs": [],
   "source": [
    "@need_login\n",
    "def plus(num1, num2):\n",
    "    return num1 + num2"
   ]
  },
  {
   "cell_type": "code",
   "execution_count": 6,
   "metadata": {},
   "outputs": [
    {
     "name": "stdout",
     "output_type": "stream",
     "text": [
      "insert user pw: test 1234\n"
     ]
    },
    {
     "data": {
      "text/plain": [
       "3"
      ]
     },
     "execution_count": 6,
     "metadata": {},
     "output_type": "execute_result"
    }
   ],
   "source": [
    "plus(1, 2)"
   ]
  },
  {
   "cell_type": "code",
   "execution_count": 8,
   "metadata": {},
   "outputs": [
    {
     "data": {
      "text/plain": [
       "1"
      ]
     },
     "execution_count": 8,
     "metadata": {},
     "output_type": "execute_result"
    }
   ],
   "source": [
    "user_datas[0]['count']"
   ]
  },
  {
   "cell_type": "code",
   "execution_count": 5,
   "metadata": {},
   "outputs": [
    {
     "name": "stdout",
     "output_type": "stream",
     "text": [
      "insert user pw: a 1234\n"
     ]
    },
    {
     "data": {
      "text/plain": [
       "('a', '1234')"
      ]
     },
     "execution_count": 5,
     "metadata": {},
     "output_type": "execute_result"
    }
   ],
   "source": [
    "user, pw = input(\"insert user pw: \").split(\" \")\n",
    "user, pw"
   ]
  },
  {
   "cell_type": "code",
   "execution_count": 9,
   "metadata": {},
   "outputs": [
    {
     "data": {
      "text/plain": [
       "[(0, {'user': 'test', 'pw': '1234', 'count': 1}),\n",
       " (1, {'user': 'python', 'pw': '5678', 'count': 0})]"
      ]
     },
     "execution_count": 9,
     "metadata": {},
     "output_type": "execute_result"
    }
   ],
   "source": [
    "list(enumerate(user_datas))"
   ]
  },
  {
   "cell_type": "code",
   "execution_count": 78,
   "metadata": {},
   "outputs": [],
   "source": [
    "# 스타크래프트의 마린을 클래스로 설계\n",
    "# 체력(health : 40), 공격력(attack_pow : 5), 공격(attack())\n",
    "# 마린 클래스로 마린 객체 2개를 생성해서 마린 1이 마린2를 공격하는 코드를 작성\n",
    "# attack(self, unit)\n",
    "# 체력이 0인 경우 \"사망\"을 출력하고 체력이 (-)가 되지 않도록 코드를 작성\n",
    "# 메딕 만들기(heal_pow : 6), heal()"
   ]
  },
  {
   "cell_type": "code",
   "execution_count": 93,
   "metadata": {},
   "outputs": [],
   "source": [
    "class Marine:\n",
    "    # 여기에 attack_pow 이렇게 변수 선언해주는 경우도 있는데\n",
    "    def __init__(self, health=40, attack_pow=5): # 주로 생성자 함수 안에 사용하는 변수 선언\n",
    "        self.health = health\n",
    "        self.attack_pow = attack_pow\n",
    "    def attack(self, unit): # marine_1.attack(marine_2)이므로 self는 마린1을, unit은 마린 2를 가리킴\n",
    "        unit.health -= self.attack_pow\n",
    "        if unit.health <= 0:\n",
    "            unit.health = 0 # 체력이 (-)가 되지 않도록 하는 코드\n",
    "            print(\"사망\")"
   ]
  },
  {
   "cell_type": "code",
   "execution_count": 94,
   "metadata": {},
   "outputs": [],
   "source": [
    "marine_1 = Marine() # marine_1.health = 40, marine_1.attack_pow = 5라고 선언해주는 것과 같다?"
   ]
  },
  {
   "cell_type": "code",
   "execution_count": 95,
   "metadata": {},
   "outputs": [],
   "source": [
    "marine_2 = Marine()# marine_2.health = 40, marine_2.attack_pow = 5라고 선언해주는 것과 같다?"
   ]
  },
  {
   "cell_type": "code",
   "execution_count": 96,
   "metadata": {},
   "outputs": [],
   "source": [
    "marine_1.attack(marine_2) # 생성자 함수 다음에 나오는 어택 함수를 호출. mairne_21의 공격력으로 marine_2의 헬스를 깎음 "
   ]
  },
  {
   "cell_type": "code",
   "execution_count": 97,
   "metadata": {},
   "outputs": [
    {
     "data": {
      "text/plain": [
       "(40, 35)"
      ]
     },
     "execution_count": 97,
     "metadata": {},
     "output_type": "execute_result"
    }
   ],
   "source": [
    "marine_1.health, marine_2.health # 40, 35"
   ]
  },
  {
   "cell_type": "code",
   "execution_count": 66,
   "metadata": {},
   "outputs": [],
   "source": [
    "# 메딕 : heal_pow, heal(unit)\n",
    "class Medic:\n",
    "    def __init__(self, health=40, heal_pow=6):\n",
    "        self.health = health\n",
    "        self.heal_pow = heal_pow\n",
    "    \n",
    "    def heal(self, unit):\n",
    "        if unit.health > 0:\n",
    "            unit.health += self.heal_pow\n",
    "            if unit.health >= 40:\n",
    "                unit.health = 40\n",
    "        else:\n",
    "            print(\"이미 사망\")"
   ]
  },
  {
   "cell_type": "code",
   "execution_count": 84,
   "metadata": {},
   "outputs": [],
   "source": [
    "medic = Medic()"
   ]
  },
  {
   "cell_type": "code",
   "execution_count": 85,
   "metadata": {},
   "outputs": [],
   "source": [
    "medic.heal(marine_2)"
   ]
  },
  {
   "cell_type": "code",
   "execution_count": 98,
   "metadata": {},
   "outputs": [],
   "source": [
    "marine_3 = Marine(attack_pow=25)"
   ]
  },
  {
   "cell_type": "code",
   "execution_count": 101,
   "metadata": {},
   "outputs": [
    {
     "name": "stdout",
     "output_type": "stream",
     "text": [
      "사망\n"
     ]
    }
   ],
   "source": [
    "marine_3.attack(marine_2)"
   ]
  },
  {
   "cell_type": "code",
   "execution_count": 102,
   "metadata": {},
   "outputs": [
    {
     "data": {
      "text/plain": [
       "(40, 0, 40)"
      ]
     },
     "execution_count": 102,
     "metadata": {},
     "output_type": "execute_result"
    }
   ],
   "source": [
    "marine_1.health, marine_2.health, marine_3.health"
   ]
  },
  {
   "cell_type": "code",
   "execution_count": null,
   "metadata": {},
   "outputs": [],
   "source": [
    "# 객체 지향: 클래스를 만들어주는 것은 객체를 설계하는 과정, 설계된 클래스를 이용해 객체를 만들고 객체 안의 함수나 기능들을 사용할 수 있는 형태로 개발하는 것"
   ]
  },
  {
   "cell_type": "code",
   "execution_count": 103,
   "metadata": {},
   "outputs": [],
   "source": [
    "class Marine:\n",
    "    # 여기에 attack_pow 이렇게 변수 선언해주는 경우도 있는데\n",
    "    def __init__(self, max_health=40, attack_pow=5): # 주로 생성자 함수 안에 사용하는 변수 선언\n",
    "        self.health = max_health\n",
    "        self.max_health = max_health\n",
    "        self.attack_pow = attack_pow\n",
    "    def attack(self, unit): # marine_1.attack(marine_2)이므로 self는 마린1을, unit은 마린 2를 가리킴\n",
    "        unit.health -= self.attack_pow\n",
    "        if unit.health <= 0:\n",
    "            unit.health = 0 # 체력이 (-)가 되지 않도록 하는 코드\n",
    "            print(\"사망\")"
   ]
  },
  {
   "cell_type": "code",
   "execution_count": null,
   "metadata": {},
   "outputs": [],
   "source": [
    "# 메딕 : heal_pow, heal(unit)\n",
    "class Medic:\n",
    "    def __init__(self, max_health=40, heal_pow=6):\n",
    "        self.health = max_health\n",
    "        self.max_health = max_health\n",
    "        self.heal_pow = heal_pow\n",
    "    \n",
    "    def heal(self, unit):\n",
    "        if unit.health > 0:\n",
    "            unit.health += self.heal_pow\n",
    "            if unit.health >= max_health:\n",
    "                unit.health = max_health\n",
    "        else:\n",
    "            print(\"이미 사망\")"
   ]
  },
  {
   "cell_type": "markdown",
   "metadata": {},
   "source": [
    "### 1. 상속\n",
    "- 클래스의 기능을 가져다가 기능을 수정하거나 추가할 때 사용하는 방법"
   ]
  },
  {
   "cell_type": "code",
   "execution_count": 151,
   "metadata": {},
   "outputs": [],
   "source": [
    "class Calculator:\n",
    "    def __init__(self, num1 = 1, num2 = 2):\n",
    "        self.num1 = num1\n",
    "        self.num2 = num2\n",
    "        \n",
    "    def plus(self):\n",
    "        return self.num1 + self.num2"
   ]
  },
  {
   "cell_type": "code",
   "execution_count": 152,
   "metadata": {},
   "outputs": [
    {
     "data": {
      "text/plain": [
       "3"
      ]
     },
     "execution_count": 152,
     "metadata": {},
     "output_type": "execute_result"
    }
   ],
   "source": [
    "calc = Calculator(1, 2) # 클래스의 사용, 객체!\n",
    "calc.plus()"
   ]
  },
  {
   "cell_type": "code",
   "execution_count": 153,
   "metadata": {},
   "outputs": [
    {
     "data": {
      "text/plain": [
       "['__class__',\n",
       " '__delattr__',\n",
       " '__dict__',\n",
       " '__dir__',\n",
       " '__doc__',\n",
       " '__eq__',\n",
       " '__format__',\n",
       " '__ge__',\n",
       " '__getattribute__',\n",
       " '__gt__',\n",
       " '__hash__',\n",
       " '__init__',\n",
       " '__init_subclass__',\n",
       " '__le__',\n",
       " '__lt__',\n",
       " '__module__',\n",
       " '__ne__',\n",
       " '__new__',\n",
       " '__reduce__',\n",
       " '__reduce_ex__',\n",
       " '__repr__',\n",
       " '__setattr__',\n",
       " '__sizeof__',\n",
       " '__str__',\n",
       " '__subclasshook__',\n",
       " '__weakref__',\n",
       " 'num1',\n",
       " 'num2',\n",
       " 'plus']"
      ]
     },
     "execution_count": 153,
     "metadata": {},
     "output_type": "execute_result"
    }
   ],
   "source": [
    "dir(calc)"
   ]
  },
  {
   "cell_type": "code",
   "execution_count": 154,
   "metadata": {},
   "outputs": [],
   "source": [
    "# 여기에 마이너스 기능을 추가한 계산기"
   ]
  },
  {
   "cell_type": "code",
   "execution_count": 155,
   "metadata": {},
   "outputs": [],
   "source": [
    "class Calculator2:\n",
    "    def __init__(self, num1 = 1, num2 = 2):\n",
    "        self.num1 = num1\n",
    "        self.num2 = num2\n",
    "        \n",
    "    def plus(self):\n",
    "        return self.num1 + self.num2\n",
    "    def minus(self):\n",
    "        return self.num1 - self.num2"
   ]
  },
  {
   "cell_type": "code",
   "execution_count": 156,
   "metadata": {},
   "outputs": [
    {
     "data": {
      "text/plain": [
       "-1"
      ]
     },
     "execution_count": 156,
     "metadata": {},
     "output_type": "execute_result"
    }
   ],
   "source": [
    "calc2 = Calculator2(1, 2)\n",
    "calc2.minus()"
   ]
  },
  {
   "cell_type": "code",
   "execution_count": 157,
   "metadata": {},
   "outputs": [],
   "source": [
    "# 중복되는 코드를 정리해줄 때 상속을 사용한다\n",
    "# 상속을 사용해 마이너스 함수 추가\n",
    "class Calculator3(Calculator): # 원래는 Calulator: 임, 여기에 괄호 열고 원래 참조할 클래스를 넣어준 것\n",
    "    def minus(self):\n",
    "        return self.num1 - self.num2"
   ]
  },
  {
   "cell_type": "code",
   "execution_count": 158,
   "metadata": {},
   "outputs": [],
   "source": [
    "calc3 = Calculator3(1, 2)"
   ]
  },
  {
   "cell_type": "code",
   "execution_count": 159,
   "metadata": {},
   "outputs": [
    {
     "data": {
      "text/plain": [
       "(3, -1)"
      ]
     },
     "execution_count": 159,
     "metadata": {},
     "output_type": "execute_result"
    }
   ],
   "source": [
    "calc3. plus(), calc3.minus()"
   ]
  },
  {
   "cell_type": "code",
   "execution_count": 160,
   "metadata": {},
   "outputs": [],
   "source": [
    "# 여기에서 플러스 기능만 제곱해서 플러스 해주는 걸로 바꾸고 싶다\n",
    "# 함수가 100개쯤 있는데 하나만 바꾸고 싶을 수도. 몇개 기능 추가한다든가\n",
    "# 그럴 때 사용하는 기능이 메서드 오버라이딩(함수의 오버라이딩)\n",
    "# 다른 사람이 만들어놓은 클래스 중 일부만 고치고 싶을 때, 다른 사람들이 만들어 놓은 클래스를 상속해서 메서드 오버라이딩 하면 됨\n",
    "class Calculator4(Calculator3):\n",
    "    def plus(self): # 똑같은 함수 이름으로 재정의 해주면 덮어씌워지는 것, 다른 함수들은 그대로 유지, 이 함수만 바뀌게 되는 것\n",
    "        return self.num1**2 + self.num2**2"
   ]
  },
  {
   "cell_type": "code",
   "execution_count": 161,
   "metadata": {},
   "outputs": [],
   "source": [
    "calc4 = Calculator4(1, 2)"
   ]
  },
  {
   "cell_type": "code",
   "execution_count": 162,
   "metadata": {},
   "outputs": [
    {
     "data": {
      "text/plain": [
       "5"
      ]
     },
     "execution_count": 162,
     "metadata": {},
     "output_type": "execute_result"
    }
   ],
   "source": [
    "calc4.plus()"
   ]
  },
  {
   "cell_type": "code",
   "execution_count": 165,
   "metadata": {},
   "outputs": [],
   "source": [
    "calc5 = Calculator(1, 2)"
   ]
  },
  {
   "cell_type": "code",
   "execution_count": 168,
   "metadata": {},
   "outputs": [
    {
     "ename": "AttributeError",
     "evalue": "'Calculator' object has no attribute 'minus'",
     "output_type": "error",
     "traceback": [
      "\u001b[1;31m---------------------------------------------------------------------------\u001b[0m",
      "\u001b[1;31mAttributeError\u001b[0m                            Traceback (most recent call last)",
      "\u001b[1;32m<ipython-input-168-b6dff61c545b>\u001b[0m in \u001b[0;36m<module>\u001b[1;34m\u001b[0m\n\u001b[1;32m----> 1\u001b[1;33m \u001b[0mcalc5\u001b[0m\u001b[1;33m.\u001b[0m\u001b[0mminus\u001b[0m\u001b[1;33m(\u001b[0m\u001b[1;33m)\u001b[0m\u001b[1;33m\u001b[0m\u001b[1;33m\u001b[0m\u001b[0m\n\u001b[0m",
      "\u001b[1;31mAttributeError\u001b[0m: 'Calculator' object has no attribute 'minus'"
     ]
    }
   ],
   "source": [
    "calc5.minus()"
   ]
  },
  {
   "cell_type": "code",
   "execution_count": 164,
   "metadata": {},
   "outputs": [
    {
     "data": {
      "text/plain": [
       "['__class__',\n",
       " '__delattr__',\n",
       " '__dict__',\n",
       " '__dir__',\n",
       " '__doc__',\n",
       " '__eq__',\n",
       " '__format__',\n",
       " '__ge__',\n",
       " '__getattribute__',\n",
       " '__gt__',\n",
       " '__hash__',\n",
       " '__init__',\n",
       " '__init_subclass__',\n",
       " '__le__',\n",
       " '__lt__',\n",
       " '__module__',\n",
       " '__ne__',\n",
       " '__new__',\n",
       " '__reduce__',\n",
       " '__reduce_ex__',\n",
       " '__repr__',\n",
       " '__setattr__',\n",
       " '__sizeof__',\n",
       " '__str__',\n",
       " '__subclasshook__',\n",
       " '__weakref__',\n",
       " 'num1',\n",
       " 'num2',\n",
       " 'plus']"
      ]
     },
     "execution_count": 164,
     "metadata": {},
     "output_type": "execute_result"
    }
   ],
   "source": [
    "dir(calc5)"
   ]
  },
  {
   "cell_type": "code",
   "execution_count": 221,
   "metadata": {},
   "outputs": [],
   "source": [
    "### quiz\n",
    "# 아이폰 1, 2, 3\n",
    "# 아이폰 1 : Calling : print(\"calling\")\n",
    "# 아이폰 2 : Calling, send msg\n",
    "# 아이폰 3 : Calling, send msg, internet"
   ]
  },
  {
   "cell_type": "code",
   "execution_count": 228,
   "metadata": {},
   "outputs": [],
   "source": [
    "class Iphone1:\n",
    "    def __init__(self, order1, order2=0, order3=0):\n",
    "        self.order1 = order1\n",
    "        self.order2 = order2\n",
    "        self.order3 = order3\n",
    "    def calling(self):\n",
    "        if self.order1 == \"Calling\":\n",
    "            print(\"Calling\")"
   ]
  },
  {
   "cell_type": "code",
   "execution_count": 229,
   "metadata": {},
   "outputs": [
    {
     "name": "stdout",
     "output_type": "stream",
     "text": [
      "Calling\n"
     ]
    }
   ],
   "source": [
    "iphone1 = Iphone1(\"Calling\")\n",
    "iphone1.calling()"
   ]
  },
  {
   "cell_type": "code",
   "execution_count": 230,
   "metadata": {},
   "outputs": [],
   "source": [
    "class Iphone2(Iphone1):\n",
    "    def sendmsg(self):\n",
    "        if self.order2 == \"Sendmsg\":\n",
    "            print(\"Send MSG\")"
   ]
  },
  {
   "cell_type": "code",
   "execution_count": 231,
   "metadata": {},
   "outputs": [
    {
     "name": "stdout",
     "output_type": "stream",
     "text": [
      "Calling\n",
      "Send MSG\n"
     ]
    }
   ],
   "source": [
    "iphone2 = Iphone2(\"Calling\", \"Sendmsg\")\n",
    "iphone2.calling()\n",
    "iphone2.sendmsg()"
   ]
  },
  {
   "cell_type": "code",
   "execution_count": 232,
   "metadata": {},
   "outputs": [],
   "source": [
    "class Iphone3(Iphone2):\n",
    "    def internet(self):\n",
    "        if self.order3 == \"Internet\":\n",
    "            print(\"Internet\")"
   ]
  },
  {
   "cell_type": "code",
   "execution_count": 233,
   "metadata": {},
   "outputs": [
    {
     "name": "stdout",
     "output_type": "stream",
     "text": [
      "Calling\n",
      "Send MSG\n",
      "Internet\n"
     ]
    }
   ],
   "source": [
    "iphone3 = Iphone3(\"Calling\", \"Sendmsg\", \"Internet\")\n",
    "iphone3.calling()\n",
    "iphone3.sendmsg()\n",
    "iphone3.internet()"
   ]
  },
  {
   "cell_type": "code",
   "execution_count": 237,
   "metadata": {},
   "outputs": [],
   "source": [
    "#강사님 버전\n",
    "class Iphone1:\n",
    "    def calling(self):\n",
    "        print(\"calling\")\n",
    "        \n",
    "class Iphone2(Iphone1):\n",
    "    def send_msg(self):\n",
    "        print(\"send_msg\")\n",
    "\n",
    "class Iphone3(Iphone2):\n",
    "    def internet(self):\n",
    "        print(\"internet\")"
   ]
  },
  {
   "cell_type": "code",
   "execution_count": 238,
   "metadata": {},
   "outputs": [],
   "source": [
    "iphone3 = Iphone3()"
   ]
  },
  {
   "cell_type": "code",
   "execution_count": 236,
   "metadata": {},
   "outputs": [
    {
     "name": "stdout",
     "output_type": "stream",
     "text": [
      "calling\n",
      "send_msg\n",
      "internet\n"
     ]
    },
    {
     "data": {
      "text/plain": [
       "(None, None, None)"
      ]
     },
     "execution_count": 236,
     "metadata": {},
     "output_type": "execute_result"
    }
   ],
   "source": [
    "iphone3.calling(), iphone3.send_msg(), iphone3.internet() # 리턴이 없기 때문에 넌 값으로 나오는 것."
   ]
  },
  {
   "cell_type": "code",
   "execution_count": 239,
   "metadata": {},
   "outputs": [],
   "source": [
    "class Galaxy:\n",
    "    def show_img(self):\n",
    "        print(\"show_img\")"
   ]
  },
  {
   "cell_type": "code",
   "execution_count": 240,
   "metadata": {},
   "outputs": [],
   "source": [
    "class DssPhone(Iphone3, Galaxy):\n",
    "    def camera(self):\n",
    "        print(\"camera\")"
   ]
  },
  {
   "cell_type": "code",
   "execution_count": 241,
   "metadata": {},
   "outputs": [],
   "source": [
    "dss_phone = DssPhone()"
   ]
  },
  {
   "cell_type": "code",
   "execution_count": 243,
   "metadata": {},
   "outputs": [
    {
     "name": "stdout",
     "output_type": "stream",
     "text": [
      "calling\n",
      "camera\n",
      "internet\n",
      "send_msg\n",
      "show_img\n"
     ]
    },
    {
     "data": {
      "text/plain": [
       "(None, None, None, None, None)"
      ]
     },
     "execution_count": 243,
     "metadata": {},
     "output_type": "execute_result"
    }
   ],
   "source": [
    "dss_phone.calling(), dss_phone.camera(), dss_phone.internet(), dss_phone.send_msg(), dss_phone.show_img()"
   ]
  },
  {
   "cell_type": "code",
   "execution_count": 245,
   "metadata": {},
   "outputs": [
    {
     "data": {
      "text/plain": [
       "['calling', 'camera', 'internet', 'send_msg', 'show_img']"
      ]
     },
     "execution_count": 245,
     "metadata": {},
     "output_type": "execute_result"
    }
   ],
   "source": [
    "[func for func in dir(dss_phone) if func[:2] != \"__\"]"
   ]
  },
  {
   "cell_type": "code",
   "execution_count": null,
   "metadata": {},
   "outputs": [],
   "source": [
    "### 2. super\n",
    "- 부모 클래스에서 사용된 함수의 코드를 가져다가 자식 클래스의 함수에서 재사용할 때 사용. \n",
    "- 부모 클래스에 있는 함수 안의 코드를 가져다가 새로운 함수를 만들어 주는 것. 그럴 때 슈퍼를 쓴다\n",
    "```\n",
    "class A:\n",
    "    def plus(self):\n",
    "        code1\n",
    "\n",
    "class B(A):\n",
    "    def minus(self):\n",
    "        code1 # 코드1이 중복된다. 이때 코드1을 쓰는 게 아니라 super().plus()로 쓴다. 나중에 부모 클래스 바뀌면 다 바뀜\n",
    "        code2\n",
    "# 여기서 슈퍼는 위의 함수를 가져오는 것. 플러스 함수 실행시키는 self.plus()와는 다름 \n",
    "```"
   ]
  },
  {
   "cell_type": "code",
   "execution_count": 255,
   "metadata": {},
   "outputs": [],
   "source": [
    "class Marine:\n",
    "    # 여기에 attack_pow 이렇게 변수 선언해주는 경우도 있는데\n",
    "    def __init__(self): # 주로 생성자 함수 안에 사용하는 변수 선언\n",
    "        self.health = 40\n",
    "        self.attack_pow = 5\n",
    "\n",
    "    def attack(self, unit): # marine_1.attack(marine_2)이므로 self는 마린1을, unit은 마린 2를 가리킴\n",
    "        unit.health -= self.attack_pow\n",
    "        if unit.health <= 0:\n",
    "            unit.health = 0 # 체력이 (-)가 되지 않도록 하는 코드"
   ]
  },
  {
   "cell_type": "code",
   "execution_count": 256,
   "metadata": {},
   "outputs": [],
   "source": [
    "class Marine2(Marine):\n",
    "    def __init__(self): ## 어택은 그대로 둔체 이닛이라는 생성자 함수를 오버라이딩 한 것\n",
    "#         self.health = 40\n",
    "#         self.attack_pow = 5\n",
    "        super().__init__() # 헬스와 어택파워 모두 써준 것과 같은 효과를 내주는 슈퍼 함수\n",
    "        # 에러 남 단일 상속일 때는 굳이 안 적어줘도 될 듯??? 아규먼트로 (Marine, self) 적지 않아도 똑같이 동작은 된다. 그런데 만약 마린2 클래스가 다중 상속을 받으면 어디 클래스에서 가져와 사용할 건지 헷갈릴 수가 있다. 보통 명시적으로 사용해준다.\n",
    "        self.max_health = 40\n",
    "# 슈퍼 함수 안 써주면 맥스헬스라는 변수 추가시켜주기 위해 이닛 함수에 100줄 있으면 100줄 다 써줘야 함\n",
    "# 생성자 함수 뿐만 아니라 어택 함수 등 다른 함수들도 같은 방식으로 가져와 쓸 수 있음"
   ]
  },
  {
   "cell_type": "code",
   "execution_count": 257,
   "metadata": {},
   "outputs": [],
   "source": [
    "marine = Marine2()"
   ]
  },
  {
   "cell_type": "code",
   "execution_count": 259,
   "metadata": {},
   "outputs": [
    {
     "data": {
      "text/plain": [
       "(40, 5, 40)"
      ]
     },
     "execution_count": 259,
     "metadata": {},
     "output_type": "execute_result"
    }
   ],
   "source": [
    "marine.health, marine.attack_pow, marine.max_health"
   ]
  },
  {
   "cell_type": "code",
   "execution_count": null,
   "metadata": {},
   "outputs": [],
   "source": [
    "### 3. class의 getter, setter\n",
    "- 객체의 내부 변수에 접근할 때 특정 로직을 거쳐서 접근시키는 방법"
   ]
  },
  {
   "cell_type": "code",
   "execution_count": 260,
   "metadata": {},
   "outputs": [],
   "source": [
    "class User:\n",
    "    def __init__(self, first_name, last_name):\n",
    "        self.first_name = first_name\n",
    "        self.last_name = last_name\n",
    "    def disp(self):\n",
    "        print(self.first_name, self.last_name)"
   ]
  },
  {
   "cell_type": "code",
   "execution_count": 261,
   "metadata": {},
   "outputs": [],
   "source": [
    "# A라는 사람이 만들고 B라는 사람이 이 유저 클래스를 가져다 쓰려고 한다\n",
    "user1 = User(\"andy\", \"kim\")"
   ]
  },
  {
   "cell_type": "code",
   "execution_count": 263,
   "metadata": {},
   "outputs": [
    {
     "name": "stdout",
     "output_type": "stream",
     "text": [
      "andy kim\n"
     ]
    }
   ],
   "source": [
    "user1.disp()"
   ]
  },
  {
   "cell_type": "code",
   "execution_count": 266,
   "metadata": {},
   "outputs": [
    {
     "name": "stdout",
     "output_type": "stream",
     "text": [
      "john kim\n"
     ]
    }
   ],
   "source": [
    "user1.first_name = \"john\"\n",
    "user1.disp()"
   ]
  },
  {
   "cell_type": "code",
   "execution_count": 269,
   "metadata": {},
   "outputs": [
    {
     "name": "stdout",
     "output_type": "stream",
     "text": [
      "1 kim\n"
     ]
    }
   ],
   "source": [
    "user1.first_name = 1\n",
    "user1.disp()\n",
    "# 이름에는 문자열만 들어가야 하는데 사용하는 사람은 강제로 숫자 데이터를 넣을 수 있게 됨\n",
    "# 강제로 숫자 데이터를 쓸 수 없도록 제약을 걸어주는 게 게터와 세터\n",
    "# 아래 문제는 이름 3글자 이상 입력하도록 하는 것으로 바꿈. if문 type(first_nmae) == \"str\"에서 에러"
   ]
  },
  {
   "cell_type": "code",
   "execution_count": 317,
   "metadata": {},
   "outputs": [],
   "source": [
    "class User:\n",
    "    def __init__(self, first_name):\n",
    "        self.first_name = first_name\n",
    "#         self.last_name = last_name\n",
    "    def setter(self, first_name): # 3글자 이상 들어가게 하고 싶다는 제약 조건을 걸어주는 세터\n",
    "        if len(first_name) >= 3:\n",
    "            self.first_name = first_name\n",
    "        else:\n",
    "            print(\"error\")\n",
    "    def getter(self): # 결과 대문자로 출력하게 하고 싶다는 제약 조건을 걸어주는 게터\n",
    "        print(\"getter\")\n",
    "        return self.first_name.upper()\n",
    "#     def disp(self):\n",
    "#         print(self.first_name, self.last_name)\n",
    "    name = property(getter, setter) # 네임이라는 변수에 게터 세터로 접근할 수 있도록 만들어주는 함수. 네임이라는 변수를 선언함으로 게터 세터에 접근할 수 있게 된다.\n",
    "    # 게터라는 함수가 프로퍼티를 네임으로 설정해주면 네임이라는 변수에 접근해서 출력해줄 때 게터함수가 실행되면서 대문자로 출력되게끔 할 수 있는 것\n",
    "    # 파이선은 자바처럼 게터 세터 많이 써주진 않는다.\n",
    "    # 게터는 변수를 받지 않고 세터는 변수를 받는다?\n",
    "    # 이러한 제약 조건을 걸어서 사용해주면 객체 안의 변수에 데이터타입이라든가 글자 길이 포맷 등을 컨틀롷 해줄 수 있어. 이걸 가지고 함수 기능을 만든다. 그 기능이 잘못 동작되지 않도록 설정해줄 수 있다.\n",
    "    # 네임이라는 변수 이용해서 게터 세터 함수 실행, 퍼스트 네임에 접근할 수  있지만 유저의 퍼스트네임에 다이렉트로 접근할 수도 있다. 다이렉트로 접근하게 하면 제약 조건에 걸리지 않게끔해서 수정할 수 있다.\n",
    "    # 다이렉트로 접근하지 못하도록 하는 방법이 있다. 맹글링!"
   ]
  },
  {
   "cell_type": "code",
   "execution_count": 318,
   "metadata": {},
   "outputs": [
    {
     "data": {
      "text/plain": [
       "'john'"
      ]
     },
     "execution_count": 318,
     "metadata": {},
     "output_type": "execute_result"
    }
   ],
   "source": [
    "user2 = User(\"john\")\n",
    "user2.first_name"
   ]
  },
  {
   "cell_type": "code",
   "execution_count": 319,
   "metadata": {},
   "outputs": [],
   "source": [
    "# setter 함수 실행 , 조건을 확인을 해서 데이터를 제약 조건을 줘서 저장을 할 수 있게 만드는 것을 세터\n",
    "user2.name = \"john\"\n",
    "# 특정 함수를 거쳐서 데이터를 넣어주면 숫자 데이터가 안 들어가게 할 수 있다"
   ]
  },
  {
   "cell_type": "code",
   "execution_count": 321,
   "metadata": {},
   "outputs": [
    {
     "name": "stdout",
     "output_type": "stream",
     "text": [
      "getter\n"
     ]
    },
    {
     "data": {
      "text/plain": [
       "'JOHN'"
      ]
     },
     "execution_count": 321,
     "metadata": {},
     "output_type": "execute_result"
    }
   ],
   "source": [
    "# getter 함수 실행, \n",
    "user2.name\n",
    "#\"저장은 소문자로 하지만 출력은 대문자로 하고 싶다\"할 때 게터에 upper라는 함수를 써서 재약 조건을 걸어주면 된다. "
   ]
  },
  {
   "cell_type": "markdown",
   "metadata": {},
   "source": [
    "### 4. non public\n",
    "- mangling 이라는 방법으로 다이렉트로 객체의 변수에 접근하지 못하게 하는 방법"
   ]
  },
  {
   "cell_type": "code",
   "execution_count": 401,
   "metadata": {},
   "outputs": [],
   "source": [
    "class Calculator:\n",
    "    def __init__(self, num1, num2):\n",
    "        self.num1 = num1\n",
    "        self.__num2 = num2\n",
    "    def getter(self):\n",
    "        return self.__num2\n",
    "    # num2에 0이 들어가지 않도록 함, 1이 입력이 되도록\n",
    "    def setter(self, num2):\n",
    "        num2 = 1 if num2 == 0 else num2 # 아래 식의 삼항연산\n",
    "#         if num2 == 0:\n",
    "#             num2 = 1\n",
    "        self.__num2 = num2\n",
    "    def __disp(self):\n",
    "        print(self.num1, self.__num2)\n",
    "    def div(self):\n",
    "        self.__disp()\n",
    "        return self.num1 / self.__num2 # self.num2에 0이 들어가면 안 된다.\n",
    "    number2 = property(getter, setter)"
   ]
  },
  {
   "cell_type": "code",
   "execution_count": 402,
   "metadata": {},
   "outputs": [],
   "source": [
    "calc = Calculator(1, 2)"
   ]
  },
  {
   "cell_type": "code",
   "execution_count": 403,
   "metadata": {},
   "outputs": [
    {
     "name": "stdout",
     "output_type": "stream",
     "text": [
      "1 2\n"
     ]
    },
    {
     "data": {
      "text/plain": [
       "0.5"
      ]
     },
     "execution_count": 403,
     "metadata": {},
     "output_type": "execute_result"
    }
   ],
   "source": [
    "calc.div()"
   ]
  },
  {
   "cell_type": "code",
   "execution_count": 404,
   "metadata": {},
   "outputs": [
    {
     "data": {
      "text/plain": [
       "2"
      ]
     },
     "execution_count": 404,
     "metadata": {},
     "output_type": "execute_result"
    }
   ],
   "source": [
    "calc.number2 # 를 실행하면 게터 함수가 실행이 되니까 2가 출력된다"
   ]
  },
  {
   "cell_type": "code",
   "execution_count": 405,
   "metadata": {},
   "outputs": [],
   "source": [
    "calc.number2 = 0 # 그런데 넘버2에 0을 저장하려고 하면 세터 함수가 실행되면서 calc.number2의 값은 1이 된다."
   ]
  },
  {
   "cell_type": "code",
   "execution_count": 406,
   "metadata": {},
   "outputs": [],
   "source": [
    "calc.num2 = 0 # 그런데 넘버2가 아닌 다이렉트로 넘2에 들어가려고 하면"
   ]
  },
  {
   "cell_type": "code",
   "execution_count": 407,
   "metadata": {},
   "outputs": [
    {
     "name": "stdout",
     "output_type": "stream",
     "text": [
      "1 1\n"
     ]
    },
    {
     "data": {
      "text/plain": [
       "1.0"
      ]
     },
     "execution_count": 407,
     "metadata": {},
     "output_type": "execute_result"
    }
   ],
   "source": [
    "calc.div() # 분모가 0이 되니 에러가 난다."
   ]
  },
  {
   "cell_type": "code",
   "execution_count": 400,
   "metadata": {},
   "outputs": [
    {
     "ename": "AttributeError",
     "evalue": "'Calculator' object has no attribute '__num2'",
     "output_type": "error",
     "traceback": [
      "\u001b[1;31m---------------------------------------------------------------------------\u001b[0m",
      "\u001b[1;31mAttributeError\u001b[0m                            Traceback (most recent call last)",
      "\u001b[1;32m<ipython-input-400-cd58cfc8ae59>\u001b[0m in \u001b[0;36m<module>\u001b[1;34m\u001b[0m\n\u001b[0;32m      1\u001b[0m \u001b[1;31m# 그러면 넘2에 다이렉트로 0을 집어넣을 수 없도록 해야. 항상 세타 함수 거쳐서 값을 설정할 수 있게끔. 결국 'calc.num2 = 0' 코드가 동작되지 않게끔 해야 한다는 말.\u001b[0m\u001b[1;33m\u001b[0m\u001b[1;33m\u001b[0m\u001b[1;33m\u001b[0m\u001b[0m\n\u001b[0;32m      2\u001b[0m \u001b[1;31m# 그 방법이 맹글링이라는 방법. 앞에 언더 바 두개\u001b[0m\u001b[1;33m\u001b[0m\u001b[1;33m\u001b[0m\u001b[1;33m\u001b[0m\u001b[0m\n\u001b[1;32m----> 3\u001b[1;33m \u001b[0mcalc\u001b[0m\u001b[1;33m.\u001b[0m\u001b[0m__num2\u001b[0m \u001b[1;31m#이후에 호출해보면 calc.__num2가 없다고 나온다.\u001b[0m\u001b[1;33m\u001b[0m\u001b[1;33m\u001b[0m\u001b[0m\n\u001b[0m\u001b[0;32m      4\u001b[0m \u001b[1;31m# 해당 이름으로 접근할 수 없게 만들고 접근하기 위해서는\u001b[0m\u001b[1;33m\u001b[0m\u001b[1;33m\u001b[0m\u001b[1;33m\u001b[0m\u001b[0m\n\u001b[0;32m      5\u001b[0m \u001b[0mcalc\u001b[0m\u001b[1;33m.\u001b[0m\u001b[0m_Calculator__num2\u001b[0m \u001b[1;31m#로 접근할 수 있게 되는 것, 사실은 이렇게도 접속할 수 없게 만드는 것이 정상. 하지만 파이선은 개발자가 객체 안에 있는 내용을 최소한 볼 수 있게 하려고 이러한 코드 형태로 볼 수 있게 만든 것\u001b[0m\u001b[1;33m\u001b[0m\u001b[1;33m\u001b[0m\u001b[0m\n",
      "\u001b[1;31mAttributeError\u001b[0m: 'Calculator' object has no attribute '__num2'"
     ]
    }
   ],
   "source": [
    "# 그러면 넘2에 다이렉트로 0을 집어넣을 수 없도록 해야. 항상 세타 함수 거쳐서 값을 설정할 수 있게끔. 결국 'calc.num2 = 0' 코드가 동작되지 않게끔 해야 한다는 말.\n",
    "# 그 방법이 맹글링이라는 방법. 앞에 언더 바 두개 \n",
    "calc.__num2 #이후에 호출해보면 calc.__num2가 없다고 나온다.\n",
    "# 해당 이름으로 접근할 수 없게 만들고 접근하기 위해서는\n",
    "calc._Calculator__num2 #로 접근할 수 있게 되는 것, 사실은 이렇게도 접속할 수 없게 만드는 것이 정상. 하지만 파이선은 개발자가 객체 안에 있는 내용을 최소한 볼 수 있게 하려고 이러한 코드 형태로 볼 수 있게 만든 것\n",
    "# 클래스 생성, self.__num2 변수 작성, __는 맹글링이라는 기능을 이용해 변수를 만들 때 실제로는 self._Calculator__num2로 변수가 만들어지는 것. 자동으로 바뀌어서 변수가 만들어짐.\n",
    "# calc.__num2 = 0 넣었을 때 동작이 된다. 이거는 calc 객체가 Calculator의 넘2로 생성이 됐는데 __num2라는 이름으로 변수가 생성이 되는 것.하지만 위와 같은 이유로 calc.__num2는 self.__num2가 아니다\n",
    "# 결국 세터 함수 거치지 않고서는 self.__num2를 바꿀 수가 없다. 이는 세터의 제약 조건에 따라 넘2에는 0이 들어갈 수 없다는 의미"
   ]
  },
  {
   "cell_type": "code",
   "execution_count": null,
   "metadata": {},
   "outputs": [],
   "source": [
    "### 5. is a & has a\n",
    "- 클래스를 설계하는 개념\n",
    "- A is a B\n",
    "    - A는 B이다. 상속을 이용해서 클래스를 만드는 방법을 의미\n",
    "- A has a B\n",
    "    - A는 B를 가진다. A가 B객체를 가지고 클래스를 만드는 방법"
   ]
  },
  {
   "cell_type": "code",
   "execution_count": null,
   "metadata": {},
   "outputs": [],
   "source": [
    "# 사람 클래스: 이름, 메일, 정보 출력()"
   ]
  },
  {
   "cell_type": "code",
   "execution_count": 408,
   "metadata": {},
   "outputs": [],
   "source": [
    "# is a\n",
    "class Person:\n",
    "    def __init__(self, name, email):\n",
    "        self.name = name\n",
    "        self.email = email"
   ]
  },
  {
   "cell_type": "code",
   "execution_count": 409,
   "metadata": {},
   "outputs": [],
   "source": [
    "class Person2(Person):\n",
    "    def info(self):\n",
    "        print(self.name, self.email)"
   ]
  },
  {
   "cell_type": "code",
   "execution_count": 412,
   "metadata": {},
   "outputs": [
    {
     "name": "stdout",
     "output_type": "stream",
     "text": [
      "andy andy@gmail.com\n"
     ]
    }
   ],
   "source": [
    "p = Person2(\"andy\", \"andy@gmail.com\")\n",
    "p.info()\n",
    "#상속으로 p라는 객체에 네임 메일 인포라는 세가지 변수가 있다. 이게 is a 개념"
   ]
  },
  {
   "cell_type": "code",
   "execution_count": 417,
   "metadata": {},
   "outputs": [],
   "source": [
    "# has a\n",
    "class Name:\n",
    "    def __init__(self, name):\n",
    "        self.name_str = name\n",
    "class Email:\n",
    "    def __init__(self, email):\n",
    "        self.email_str = email"
   ]
  },
  {
   "cell_type": "code",
   "execution_count": 420,
   "metadata": {},
   "outputs": [],
   "source": [
    "class Person:\n",
    "    def __init__(self, name_obj, email_obj):\n",
    "        self.name = name_obj\n",
    "        self.email = email_obj\n",
    "    def info(self):\n",
    "        print(name.name_str, email.email_str)"
   ]
  },
  {
   "cell_type": "code",
   "execution_count": 421,
   "metadata": {},
   "outputs": [],
   "source": [
    "name = Name(\"andy\")\n",
    "email = Email(\"andy@gmail.com\")\n",
    "p = Person(name, email) # p 안에 name과 email이라는 객체를 가지고 있다. 객체 안에 객체"
   ]
  },
  {
   "cell_type": "code",
   "execution_count": 422,
   "metadata": {},
   "outputs": [
    {
     "name": "stdout",
     "output_type": "stream",
     "text": [
      "andy andy@gmail.com\n"
     ]
    }
   ],
   "source": [
    "p.info()"
   ]
  },
  {
   "cell_type": "code",
   "execution_count": null,
   "metadata": {},
   "outputs": [],
   "source": [
    "### Magic(special) Method 매직 메서드(구글 검색하면 자세한 내용 나온다)\n",
    "- 펑션과 메서드의 차이? 펑션은 전역 영역에서 만들어진 def로 선언된 함수. 클래스 내에서 생성된 함수들은 메서드라고 한다. 둘 다 함수다.\n",
    "- compare\n",
    "    - `__eq__` : ==\n",
    "    - `__ne__` : !=\n",
    "    - `__lt__` : <\n",
    "- calculate\n",
    "    - `__add__` : +\n",
    "    - `__sub__` : -\n",
    "    -곱셈, 나눗셈\n",
    "- __repr__ : 객체의 내용을 출력(개발자용)\n",
    "- __str__ : 객체의 내용을 출력"
   ]
  },
  {
   "cell_type": "code",
   "execution_count": 423,
   "metadata": {},
   "outputs": [
    {
     "data": {
      "text/plain": [
       "True"
      ]
     },
     "execution_count": 423,
     "metadata": {},
     "output_type": "execute_result"
    }
   ],
   "source": [
    "\"test\" == \"test\""
   ]
  },
  {
   "cell_type": "code",
   "execution_count": 425,
   "metadata": {},
   "outputs": [
    {
     "data": {
      "text/plain": [
       "True"
      ]
     },
     "execution_count": 425,
     "metadata": {},
     "output_type": "execute_result"
    }
   ],
   "source": [
    "\"test\".__eq__(\"test\") // \"test\"라는 객체 내의 eq 함수의 파라미터에 \"test\"라는 아규먼트를 넣어준 것"
   ]
  },
  {
   "cell_type": "code",
   "execution_count": 428,
   "metadata": {},
   "outputs": [
    {
     "data": {
      "text/plain": [
       "3"
      ]
     },
     "execution_count": 428,
     "metadata": {},
     "output_type": "execute_result"
    }
   ],
   "source": [
    "1 + 2 # +는 add 라는 함수에 정의가 돼 있다. 인티저 객체에 있는 애드 함수와"
   ]
  },
  {
   "cell_type": "code",
   "execution_count": 430,
   "metadata": {},
   "outputs": [
    {
     "data": {
      "text/plain": [
       "'12'"
      ]
     },
     "execution_count": 430,
     "metadata": {},
     "output_type": "execute_result"
    }
   ],
   "source": [
    "\"1\" + \"2\" # 스트링 객체에 있는 애드 함수가 다르기 때문에 다르게 동작하는 것."
   ]
  },
  {
   "cell_type": "code",
   "execution_count": 448,
   "metadata": {},
   "outputs": [],
   "source": [
    "class Txt:\n",
    "    def __init__(self, txt):\n",
    "        self.txt = txt\n",
    "        \n",
    "    def __eq__(self, txt_obj): # 오버라이딩을 이용해 == 이라는 기능을 대소문자 구분 없이 비교해주는 연산자로 바꿔준 것. txt_obj에 t2 들어간다.\n",
    "        return self.txt.lower() == txt_obj.txt.lower() # self.txt는 \"python\", tex_obj.txt는 t2.txt 즉, \"Python\"과 같다.\n",
    "    def __repr__(self):\n",
    "        return \"Txt(txt={})\".format(self.txt)\n",
    "    \n",
    "    def __str__(self):\n",
    "        return self.txt"
   ]
  },
  {
   "cell_type": "code",
   "execution_count": 449,
   "metadata": {},
   "outputs": [],
   "source": [
    "t1 = Txt(\"python\")\n",
    "t2 = Txt(\"Python\")\n",
    "t3 = t1 # 얕은 복소로 같은 주소값 갖는다"
   ]
  },
  {
   "cell_type": "code",
   "execution_count": 450,
   "metadata": {},
   "outputs": [
    {
     "data": {
      "text/plain": [
       "(True, True, True)"
      ]
     },
     "execution_count": 450,
     "metadata": {},
     "output_type": "execute_result"
    }
   ],
   "source": [
    "t1 == t2, t1 == t3, t2 == t3 # 여기서 ==은 논리 연선자, 앞의 객체와 뒤의 객체의 주소 값이 같으면 트루"
   ]
  },
  {
   "cell_type": "code",
   "execution_count": 451,
   "metadata": {},
   "outputs": [
    {
     "data": {
      "text/plain": [
       "Txt(txt=python)"
      ]
     },
     "execution_count": 451,
     "metadata": {},
     "output_type": "execute_result"
    }
   ],
   "source": [
    "t1 # 매직 메서드 재설정을 통해서, 디폴트 값으로 정해져 있던 의미 없는 주소값 출력에서, 안의 내용을 볼 수 있는 함수로 바꿔줄 수 있는 것"
   ]
  },
  {
   "cell_type": "code",
   "execution_count": 452,
   "metadata": {},
   "outputs": [
    {
     "name": "stdout",
     "output_type": "stream",
     "text": [
      "python\n"
     ]
    }
   ],
   "source": [
    "print(t1)"
   ]
  },
  {
   "cell_type": "code",
   "execution_count": 453,
   "metadata": {},
   "outputs": [
    {
     "data": {
      "text/plain": [
       "range(0, 5)"
      ]
     },
     "execution_count": 453,
     "metadata": {},
     "output_type": "execute_result"
    }
   ],
   "source": [
    "range(5) ## range라는 객체의 __repr__이 밑에와 같이 출력되도록 설정돼 있는 것."
   ]
  },
  {
   "cell_type": "code",
   "execution_count": 456,
   "metadata": {},
   "outputs": [
    {
     "data": {
      "text/plain": [
       "[2, 5, 10, 17]"
      ]
     },
     "execution_count": 456,
     "metadata": {},
     "output_type": "execute_result"
    }
   ],
   "source": []
  },
  {
   "cell_type": "code",
   "execution_count": null,
   "metadata": {},
   "outputs": [],
   "source": []
  }
 ],
 "metadata": {
  "kernelspec": {
   "display_name": "Python 3",
   "language": "python",
   "name": "python3"
  },
  "language_info": {
   "codemirror_mode": {
    "name": "ipython",
    "version": 3
   },
   "file_extension": ".py",
   "mimetype": "text/x-python",
   "name": "python",
   "nbconvert_exporter": "python",
   "pygments_lexer": "ipython3",
   "version": "3.7.6"
  }
 },
 "nbformat": 4,
 "nbformat_minor": 4
}
