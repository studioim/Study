{
 "cells": [
  {
   "cell_type": "markdown",
   "metadata": {},
   "source": [
    "### 절대 경로와 상대 경로\n",
    "- 상대 경로: 현재 위치에서 내가 원하는 위치로 이동하는 것\n",
    "    - cd ~\n",
    "    - cd ./python3/database\n",
    "    - ./는 생략 가능\n",
    "- 절대 경로: 제일 위에서부터 찾아서 내려가는 것\n",
    "    - cd /home/ubuntu/python3/database/"
   ]
  },
  {
   "cell_type": "markdown",
   "metadata": {
    "ExecuteTime": {
     "end_time": "2020-06-17T05:37:34.880503Z",
     "start_time": "2020-06-17T05:37:34.869064Z"
    }
   },
   "source": [
    "- 개발하는데 맥이 좋다. 서버 작업을 많이하는데\n",
    "- 맥과 리눅스는 유닉스라는 OS에서 같이 떨어져나옴.\n",
    "- 리눅스 계열의 OS와 맥이 유사\n",
    "- 윈도우는 많이 달라"
   ]
  },
  {
   "cell_type": "markdown",
   "metadata": {
    "ExecuteTime": {
     "end_time": "2020-06-17T05:39:12.484102Z",
     "start_time": "2020-06-17T05:39:12.477794Z"
    }
   },
   "source": [
    "- cd /: 하면 최상위 디렉토리로\n",
    "- cd ~: 하면 우리가 접속해 있는 우분투 계정의 최상위 디렉토리로"
   ]
  },
  {
   "cell_type": "markdown",
   "metadata": {},
   "source": [
    "### tmux\n",
    "- 세션 멀티플렉서"
   ]
  },
  {
   "cell_type": "markdown",
   "metadata": {},
   "source": [
    "* 주피터 노트북 종료하지 않고 명령어 입력할 수 있는 방법이 두 가지가 있다.\n",
    "\n",
    "- 1) jupyter notebook & : 주피터 노트북을 백그라운드서 실행하고, 포어 그라운드서 명령어 계속 입력 가능.\n",
    "\n",
    "- 2) tmux라는 방법이 있다: 세션 멀티플렉서, 세션 관리해주는\n",
    "    - tmux new -s dss # dss라는 새로운 세션 생성\n",
    "    - 컨트롤 + b, 누르고 떼고 c : 1번 윈도우\n",
    "    - 컨트롤 + b, 누르고 떼고 0 : 0번 윈도우로 이동\n",
    " \n",
    "    - 새로운 터미널 열고\n",
    "    - tmux attach -t dss 하면 터미널 미러링"
   ]
  },
  {
   "cell_type": "markdown",
   "metadata": {
    "ExecuteTime": {
     "end_time": "2020-06-17T06:12:58.041606Z",
     "start_time": "2020-06-17T06:12:58.037919Z"
    }
   },
   "source": [
    "# DATABASE"
   ]
  },
  {
   "cell_type": "markdown",
   "metadata": {},
   "source": [
    "- DB: 데이터를 통합해 관리하는 데이터의 집합\n",
    "    - 데이터 자체\n",
    "- DBMS: database management system\n",
    "    - 데이터베이스를 관리하는 미들웨어 시스템을 데이터베이스 관리시스템이라고 한다\n",
    "    - 예) mysql, mongoDB\n",
    "    - 그 중에서 RDBMS가 있고 Nosql이 있다"
   ]
  },
  {
   "cell_type": "markdown",
   "metadata": {},
   "source": [
    "- RDBMS\n",
    "    - Relational Database Management System\n",
    "    - 다른 두개의 데이터를 특정한 키 값으로 합칠 수 있는 시스템\n",
    "        - Nosql은 관계형 데이터베이스가 아니라서 다른 두 db를 합칠 수가 없다\n",
    "    - Oracle(비싼 대신 사후지원 좋음), Mysql(오라클이 인수), Postgresql, Sqlite\n",
    "        - mysql은 기본적으로 무료, 나중에 상업적으로 배포하려면 유료\n",
    "    - 데이터 테이블 사이에 키 값으로 관계를 가지고 있는 데이터베이스\n",
    "    - 데이터 사이의 관계 설정으로 최적화된 스키마를 설계 가능\n",
    "    - 우리는 Mysql 학습"
   ]
  },
  {
   "cell_type": "markdown",
   "metadata": {
    "ExecuteTime": {
     "end_time": "2020-06-17T06:22:04.120204Z",
     "start_time": "2020-06-17T06:22:04.113007Z"
    }
   },
   "source": [
    "- NoSQL\n",
    "    - 데이터 테이블 사이에 관계가 없이 저장하는 데이터베이스\n",
    "    - 딕셔너리 형식의 key, value처럼\n",
    "    - Mongodb, Hbase, Cassandra\n",
    "    - 데이터 사이의 관계가 없으므로 복잡성이 줄고 많은 데이터를 저장 가능"
   ]
  },
  {
   "cell_type": "markdown",
   "metadata": {},
   "source": [
    "- Mysql\n",
    "    - MySQL은 오픈소스이며 다중 사용자와 다중 스레드 지원 (여러명이 동시 접속해 사용 가능)\n",
    "    - 다양한 운영체제에 다양한 프로그래밍 언어 지원\n",
    "    - 표준 SQL을 사용\n",
    "    - 세계적으로 가장 많이 사용\n",
    "    - 작고 강력하며 가격이 저렴\n",
    "    \n",
    "    - MySQL을 포함하는 하드웨어나 소프트웨어 기타 장비를 판매하는 경우 라이센스 필요\n",
    "    - 배포시 소스를 공개하면 무료이지만 소스공개를 원하지 않는 경우 상용 라이센스 필요\n",
    "    - 서비스에 이용하는건 무료로 가능"
   ]
  },
  {
   "cell_type": "markdown",
   "metadata": {
    "ExecuteTime": {
     "end_time": "2020-06-17T06:29:41.264483Z",
     "start_time": "2020-06-17T06:29:41.257630Z"
    }
   },
   "source": [
    "- RDBMS\n",
    "    - 데이터 분류, 정렬, 탐색속도가 빠름 \n",
    "    - 오래 사용된 만큼 신뢰성이 높음\n",
    "    - 스키마 수정이 어려움"
   ]
  },
  {
   "cell_type": "code",
   "execution_count": null,
   "metadata": {},
   "outputs": [],
   "source": []
  }
 ],
 "metadata": {
  "kernelspec": {
   "display_name": "Python 3",
   "language": "python",
   "name": "python3"
  },
  "language_info": {
   "codemirror_mode": {
    "name": "ipython",
    "version": 3
   },
   "file_extension": ".py",
   "mimetype": "text/x-python",
   "name": "python",
   "nbconvert_exporter": "python",
   "pygments_lexer": "ipython3",
   "version": "3.7.6"
  }
 },
 "nbformat": 4,
 "nbformat_minor": 4
}
