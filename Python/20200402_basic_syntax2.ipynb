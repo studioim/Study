{
 "cells": [
  {
   "cell_type": "code",
   "execution_count": 6,
   "metadata": {},
   "outputs": [
    {
     "data": {
      "text/plain": [
       "(['seoul', 'busan', 'daegu'], [9700000, 3400000, 2400000])"
      ]
     },
     "execution_count": 6,
     "metadata": {},
     "output_type": "execute_result"
    }
   ],
   "source": [
    "city = [\"seoul\", \"busan\", \"daegu\"]\n",
    "population = [9700000, 3400000, 2400000]\n",
    "dict(list(zip(city, population)))\n",
    "result = dict(list(zip(city, population)))\n",
    "data1 = list(result.keys())\n",
    "data2 = list(result.values())\n",
    "data1, data2"
   ]
  },
  {
   "cell_type": "code",
   "execution_count": 7,
   "metadata": {},
   "outputs": [
    {
     "ename": "ValueError",
     "evalue": "invalid literal for int() with base 10: 'python'",
     "output_type": "error",
     "traceback": [
      "\u001b[1;31m---------------------------------------------------------------------------\u001b[0m",
      "\u001b[1;31mValueError\u001b[0m                                Traceback (most recent call last)",
      "\u001b[1;32m<ipython-input-7-3eb1982ee741>\u001b[0m in \u001b[0;36m<module>\u001b[1;34m\u001b[0m\n\u001b[0;32m      1\u001b[0m \u001b[0mstring\u001b[0m \u001b[1;33m=\u001b[0m \u001b[1;34m\"python\"\u001b[0m\u001b[1;33m\u001b[0m\u001b[1;33m\u001b[0m\u001b[0m\n\u001b[1;32m----> 2\u001b[1;33m \u001b[0mint\u001b[0m\u001b[1;33m(\u001b[0m\u001b[0mstring\u001b[0m\u001b[1;33m)\u001b[0m\u001b[1;33m\u001b[0m\u001b[1;33m\u001b[0m\u001b[0m\n\u001b[0m",
      "\u001b[1;31mValueError\u001b[0m: invalid literal for int() with base 10: 'python'"
     ]
    }
   ],
   "source": [
    "string = \"python\"\n",
    "int(string)\n",
    "# 바꿀 수 없다"
   ]
  },
  {
   "cell_type": "markdown",
   "metadata": {},
   "source": [
    "### 6. 연산자\n",
    "- 산술연산자 7가지 : +,-,*,/,//(몫),%(나머지),**(제곱) / 제곱이 가장 연산 순위 높고 *,/ 마지막에 +-\n",
    "- 할당연산자 : 변수에 누적시켜서 연산해주는 것 :+=, ..=, **=,...\n",
    "- 비교연산자 : >, <, ==, !=, <=, >= : 결과로 True, False 출력\n",
    "- 논리연산자 : True, False를 연산 : or(true false 연산했을 때 true 결과 출력), and(둘 다 true일 때 true 출력), not(true를 false로, false를 true로) 세 가지\n",
    "- 멤버연산자: 특정 데이터가 있는지 확인할 때 사용 : not in, in"
   ]
  },
  {
   "cell_type": "code",
   "execution_count": 10,
   "metadata": {},
   "outputs": [
    {
     "data": {
      "text/plain": [
       "3"
      ]
     },
     "execution_count": 10,
     "metadata": {},
     "output_type": "execute_result"
    }
   ],
   "source": [
    "a = 1\n",
    "b = 2\n",
    "a + b # 두 개의 연산을 CPU에서 하는 것"
   ]
  },
  {
   "cell_type": "code",
   "execution_count": 19,
   "metadata": {},
   "outputs": [
    {
     "data": {
      "text/plain": [
       "2.0"
      ]
     },
     "execution_count": 19,
     "metadata": {},
     "output_type": "execute_result"
    }
   ],
   "source": [
    "#산술연산\n",
    "1 + 4 / 2 ** 2"
   ]
  },
  {
   "cell_type": "code",
   "execution_count": 23,
   "metadata": {},
   "outputs": [
    {
     "data": {
      "text/plain": [
       "30"
      ]
     },
     "execution_count": 23,
     "metadata": {},
     "output_type": "execute_result"
    }
   ],
   "source": [
    "#할당 연산\n",
    "a = 10\n",
    "# a = a + 10\n",
    "# a = a + 10\n",
    "a += 10\n",
    "a += 10\n",
    "a"
   ]
  },
  {
   "cell_type": "code",
   "execution_count": 25,
   "metadata": {},
   "outputs": [
    {
     "name": "stdout",
     "output_type": "stream",
     "text": [
      "30 2\n"
     ]
    },
    {
     "data": {
      "text/plain": [
       "(False, False, True)"
      ]
     },
     "execution_count": 25,
     "metadata": {},
     "output_type": "execute_result"
    }
   ],
   "source": [
    "#비교 연산\n",
    "print(a, b)\n",
    "a < b, a == b, a != b"
   ]
  },
  {
   "cell_type": "code",
   "execution_count": 26,
   "metadata": {},
   "outputs": [
    {
     "data": {
      "text/plain": [
       "(False, True, False)"
      ]
     },
     "execution_count": 26,
     "metadata": {},
     "output_type": "execute_result"
    }
   ],
   "source": [
    "#논리 연산\n",
    "True and False, True or False, not True or False"
   ]
  },
  {
   "cell_type": "code",
   "execution_count": 28,
   "metadata": {},
   "outputs": [],
   "source": [
    "#멤버 연산\n",
    "ls = [\"jin\", \"andy\", \"jhon\"]"
   ]
  },
  {
   "cell_type": "code",
   "execution_count": 30,
   "metadata": {},
   "outputs": [
    {
     "data": {
      "text/plain": [
       "(True, False, False)"
      ]
     },
     "execution_count": 30,
     "metadata": {},
     "output_type": "execute_result"
    }
   ],
   "source": [
    "\"andy\" in ls, \"anchel\" in ls, \"jhon\" not in ls"
   ]
  },
  {
   "cell_type": "code",
   "execution_count": 31,
   "metadata": {},
   "outputs": [
    {
     "data": {
      "text/plain": [
       "True"
      ]
     },
     "execution_count": 31,
     "metadata": {},
     "output_type": "execute_result"
    }
   ],
   "source": [
    "True or False and \"andy\" in ls"
   ]
  },
  {
   "cell_type": "code",
   "execution_count": 42,
   "metadata": {},
   "outputs": [
    {
     "data": {
      "text/plain": [
       "6"
      ]
     },
     "execution_count": 42,
     "metadata": {},
     "output_type": "execute_result"
    }
   ],
   "source": [
    "# 랜덤함수\n",
    "import random\n",
    "random.randint(1, 10)"
   ]
  },
  {
   "cell_type": "code",
   "execution_count": 46,
   "metadata": {},
   "outputs": [
    {
     "name": "stdout",
     "output_type": "stream",
     "text": [
      "insert string : 안녕하세요\n"
     ]
    },
    {
     "data": {
      "text/plain": [
       "'안녕하세요'"
      ]
     },
     "execution_count": 46,
     "metadata": {},
     "output_type": "execute_result"
    }
   ],
   "source": [
    "# 입력함수\n",
    "data = input(\"insert string : \")\n",
    "data"
   ]
  },
  {
   "cell_type": "code",
   "execution_count": 48,
   "metadata": {},
   "outputs": [],
   "source": [
    "# 해결의 책 : 질문을 하면 질문에 대한 답변읗 해주는 책\n",
    "# 솔루션을 리스트로 작성\n",
    "# 솔루션의 갯수에 맞게 랜덤한 index 정수 값을 생성(랜덤함수 사용)\n",
    "# index에 해당하는 솔루션 리스트의 데이터를 출력"
   ]
  },
  {
   "cell_type": "code",
   "execution_count": 59,
   "metadata": {},
   "outputs": [
    {
     "name": "stdout",
     "output_type": "stream",
     "text": [
      "질문을 입력하세요 : 안녕\n"
     ]
    },
    {
     "data": {
      "text/plain": [
       "'오늘은 재수가 없을 것 같네'"
      ]
     },
     "execution_count": 59,
     "metadata": {},
     "output_type": "execute_result"
    }
   ],
   "source": [
    "# 솔루션을 리스트로 작성\n",
    "solutions = [\n",
    "    \"오늘은 재수가 없을 것 같네\",\n",
    "    \"귀인을 만날 것 같은 날이다\",\n",
    "    \"날씨가 좋은 날일거야\",\n",
    "    \"몸 조심해라\", #### ,빼먹지 않도록 조심\n",
    "]\n",
    "\n",
    "#질문 입력 받음\n",
    "input(\"질문을 입력하세요 : \")\n",
    "\n",
    "#솔루션의 갯수에 맞게 랜덤한 index 정수 값 생성\n",
    "idx = random.randint(0, len(solutions) - 1) # 0에서 솔루션 길이보다 1작은 값 사이 중 랜덤 수 내놓음\n",
    "\n",
    "#index에 해당하는 솔루션 리스트 데이터 출력\n",
    "solutions[idx]"
   ]
  },
  {
   "cell_type": "markdown",
   "metadata": {},
   "source": [
    "### summary\n",
    "- jupyter notebook\n",
    "    - mode: 명령모드, 편집모드\n",
    "    - style: 마크다운, 코드\n",
    "    - 단축키\n",
    "        - 실행: 시프트 + 엔터\n",
    "        - 자동완성: 탭\n",
    "        - docstring 보기 : 시프트 + 탭\n",
    "        - 주석 설정: cmd(ctrl) + /\n",
    "        - 셀 생성: a(위에), b(아래)\n",
    "- 파이선 기본 문법\n",
    "    - 변수 선언: 램 저장공간에 값을 할당하는 행위\n",
    "    - 식별자 규칙\n",
    "        - 대문자, 소문자, 숫자,...\n",
    "        - 가장 앞글자 숫자사용 불가\n",
    "        - 예약어 사용 불가: def, class, try,...\n",
    "        - snake_case(변수, 함수), CamelCase(클래스) # 이것은 언어마다 다른데 파이선은 이 규칙에 따른다\n",
    "        - pep8 문서 참고\n",
    "    - 데이터 타입\n",
    "        - 파이선은 동적 타이핑 : 자동으로 저장공간이 데이터 타입이 설정\n",
    "        - 기본 데이터 타입 : int, flat, bool, str\n",
    "        - 컬렉션 데이터 타입 : list(순서가 있는 데이터의 집합 iterable), tuple(iterable), dict\n",
    "        - 오프셋 인덱스 : 특정 위치의 데이터를 출력할 때 사용\n",
    "            - iterable한 데이터 타입에서만 사용이 가능\n",
    "            - [] : mask, masking 이라고 함\n",
    "            - [idx] : idx 위치 데이터를 출력\n",
    "            - [start:end] : start에서 end까지 출력(end는 포함되지 않음)\n",
    "            - [start:end:stride] : sride 만큼씩 점프하여 출력\n",
    "        -각 데이터 타입별로 함수가 있다. str.upper(), list, int 에서 쓸 수 있는 함수가 각기 다르다.클래스에서 자세한 설명\n",
    "    - 형변환\n",
    "        - 이미 변수에 설정된 데이터 타입을 변경하는 행위\n",
    "        - zip\n",
    "            - 여러 개의 리스트를 같은 인덱스끼리 묶어주는 함수\n",
    "            - 두개의 리스트를 묶어서 dict 형변환\n",
    "    - 연산자\n",
    "        - 산술: +, -, *, /, //, %, ** # 다른 언어 같은 경우 제곱은 모듈을 호출해서 제곱하는데 파이선은 쉽게 제곱할 수 있다.\n",
    "        - 할당: A (산술)= (data), +=, -+, \n",
    "        - 비교: <, >, ==, !=, >=, <=\n",
    "        - 논리: and, or, not ##and 둘다 트루여야지 트루, or 둘다 false여야지 false 출력, not은 투르를 펄스로, 펄스를 트루로\n",
    "        - 멤버: in, not in"
   ]
  },
  {
   "cell_type": "markdown",
   "metadata": {},
   "source": [
    "### 1. 조건문\n",
    "- 특정 조건에 따라서 코드 실행하고자 할 때 사용\n",
    "- if, else, elif"
   ]
  },
  {
   "cell_type": "code",
   "execution_count": 61,
   "metadata": {},
   "outputs": [
    {
     "name": "stdout",
     "output_type": "stream",
     "text": [
      "python\n",
      "done\n"
     ]
    }
   ],
   "source": [
    "# 조건부분에: bool 데이터 타입 이외의 데이터 타입이 오면 bool으로 형변환돼 판단\n",
    "\n",
    "if True:\n",
    "    print(\"python\") # if 구분해주는 것은 인덴트(들여쓰기)\n",
    "\n",
    "print(\"done\")"
   ]
  },
  {
   "cell_type": "code",
   "execution_count": 62,
   "metadata": {},
   "outputs": [
    {
     "data": {
      "text/plain": [
       "(False, True, True, True)"
      ]
     },
     "execution_count": 62,
     "metadata": {},
     "output_type": "execute_result"
    }
   ],
   "source": [
    "# int : 0을 제외한 나머지 값은 True\n",
    "bool(0), bool(1), bool(-1), bool(100)"
   ]
  },
  {
   "cell_type": "code",
   "execution_count": 63,
   "metadata": {},
   "outputs": [
    {
     "name": "stdout",
     "output_type": "stream",
     "text": [
      "python_2\n"
     ]
    }
   ],
   "source": [
    "num = 0\n",
    "if num:\n",
    "    print(\"python_1\")\n",
    "num = 1\n",
    "if num:\n",
    "    print(\"python_2\")"
   ]
  },
  {
   "cell_type": "code",
   "execution_count": 64,
   "metadata": {},
   "outputs": [
    {
     "name": "stdout",
     "output_type": "stream",
     "text": [
      "홀수\n"
     ]
    }
   ],
   "source": [
    "number = 7\n",
    "\n",
    "if number % 2 == 1:\n",
    "    print(\"홀수\")"
   ]
  },
  {
   "cell_type": "code",
   "execution_count": 65,
   "metadata": {},
   "outputs": [
    {
     "name": "stdout",
     "output_type": "stream",
     "text": [
      "홀수\n"
     ]
    }
   ],
   "source": [
    "### 그런데 == 1을 빼줘도 된다. 0(짝수)이면 false이고 1(홀수)이면 true이기 때문에\n",
    "\n",
    "if number % 2:\n",
    "    print(\"홀수\")"
   ]
  },
  {
   "cell_type": "code",
   "execution_count": null,
   "metadata": {},
   "outputs": [],
   "source": [
    "# float : 0.0을 제외한 나머지 실수는 True\n",
    "# str : \"\"를 제외한 나머지 문자열은 True\n",
    "#list, tuple, dict : [], (), {}를 제외한 나머지는 True\n"
   ]
  },
  {
   "cell_type": "code",
   "execution_count": 66,
   "metadata": {},
   "outputs": [],
   "source": [
    "# 지갑에 돈이 만원 이상 있으면 택시를 타고\n",
    "# 2000원 이상 10000원 미만이 있으면 버스를 탑니다.\n",
    "#그렇지 않으면 걸어서 집에 갑니다. "
   ]
  },
  {
   "cell_type": "code",
   "execution_count": 69,
   "metadata": {},
   "outputs": [
    {
     "name": "stdout",
     "output_type": "stream",
     "text": [
      "택시 타고 집에 갑니다.\n"
     ]
    }
   ],
   "source": [
    "#조건문으로 작성\n",
    "money = 12000\n",
    "if money >= 10000:\n",
    "    print(\"택시 타고 집에 갑니다.\")\n",
    "if money < 10000:\n",
    "    print(\"걸어서 집에 갑니다.\")\n",
    "## 조건 확인 두번한다"
   ]
  },
  {
   "cell_type": "code",
   "execution_count": 71,
   "metadata": {},
   "outputs": [
    {
     "name": "stdout",
     "output_type": "stream",
     "text": [
      "택시 타고 집에 갑니다.\n"
     ]
    }
   ],
   "source": [
    "money = 12000\n",
    "if money >= 10000:\n",
    "    print(\"택시 타고 집에 갑니다.\")\n",
    "else:\n",
    "    print(\"걸어서 집에 갑니다.\")\n",
    "#위에가 트루면 그대로 빠져 나온다. 밑에 있는 조건 확인하지 않는다. if else ,elif 써주는 게 효율적"
   ]
  },
  {
   "cell_type": "code",
   "execution_count": 75,
   "metadata": {},
   "outputs": [
    {
     "name": "stdout",
     "output_type": "stream",
     "text": [
      "광역버스를 타고 집에 갑니다\n"
     ]
    }
   ],
   "source": [
    "money = 9000\n",
    "if money >= 10000:\n",
    "    print(\"택시 타고 집에 갑니다.\")\n",
    "elif money >= 5000:\n",
    "    print(\"광역버스를 타고 집에 갑니다\")\n",
    "elif money >= 2000 and money < 5000:\n",
    "    print(\"버스를 타고 집에 갑니다\")\n",
    "else:\n",
    "    print(\"걸어서 집에 갑니다.\")\n",
    "## elif는 여러개를 쓸 수 있다. if는 반드시 써줘야 한다. if else, if elif 이렇게 쓸 수 있다."
   ]
  },
  {
   "cell_type": "code",
   "execution_count": null,
   "metadata": {},
   "outputs": [],
   "source": [
    "# 계좌에 10000원이 들어 있습니다\n",
    "# 인출 금액을 입력 받습니다\n",
    "# 인출 금액이 계좌에 있는 금액보다 크면 \"인출이 불가능합니다\" 출력\n",
    "# 인출 금액이 계좌에 있는 금액보다 작으면 \"인출 되었습니다\" 출력\n",
    "# 마지막에 현재 계좌의 잔액을 출력"
   ]
  },
  {
   "cell_type": "code",
   "execution_count": 81,
   "metadata": {},
   "outputs": [
    {
     "name": "stdout",
     "output_type": "stream",
     "text": [
      "draw money: 3213\n"
     ]
    },
    {
     "data": {
      "text/plain": [
       "(int, 3213)"
      ]
     },
     "execution_count": 81,
     "metadata": {},
     "output_type": "execute_result"
    }
   ],
   "source": [
    "data = int(input(\"draw money: \")) # 반드시 숫자를 입력해야 한다, 문자는 정수로 치환되지 않기 때문, 만약 문자 입력받았을 때 에러 처리도 공부할 것\n",
    "type(data), data"
   ]
  },
  {
   "cell_type": "code",
   "execution_count": 82,
   "metadata": {},
   "outputs": [
    {
     "data": {
      "text/plain": [
       "6787"
      ]
     },
     "execution_count": 82,
     "metadata": {},
     "output_type": "execute_result"
    }
   ],
   "source": [
    "10000 - data # 위에서 int 표시 안 해주면 에러난다 입력 값이 문자열로 인식되기 때문"
   ]
  },
  {
   "cell_type": "code",
   "execution_count": 92,
   "metadata": {},
   "outputs": [
    {
     "name": "stdout",
     "output_type": "stream",
     "text": [
      "얼마의 돈을 인출할까요?: 10000\n",
      "인출 됐습니다.\n",
      "현재 잔액은: 0 원 입니다.\n"
     ]
    }
   ],
   "source": [
    "# 계좌에 10000원이 들어 있습니다\n",
    "mymoney = 10000\n",
    "# 인출 금액을 입력 받습니다\n",
    "data1 = int(input(\"얼마의 돈을 인출할까요?: \"))\n",
    "# 인출 금액이 계좌에 있는 금액보다 크면 \"인출이 불가능합니다\" 출력\n",
    "if data1 > mymoney:\n",
    "    print(\"인출이 불가능합니다.\")\n",
    "# 인출 금액이 계좌에 있는 금액보다 작으면 \"인출 되었습니다\" 출력\n",
    "else:\n",
    "    print(\"인출 됐습니다.\")\n",
    "    print(\"현재 잔액은:\", mymoney-data1, \"원 입니다.\")\n",
    "# 마지막에 현재 계좌의 잔액을 출력"
   ]
  },
  {
   "cell_type": "code",
   "execution_count": 107,
   "metadata": {},
   "outputs": [
    {
     "name": "stdout",
     "output_type": "stream",
     "text": [
      "insert money what you want:5000\n",
      "5000원이 인출됐습니다.\n",
      "현재 잔액은 5000원입니다.\n"
     ]
    }
   ],
   "source": [
    "account = 10000\n",
    "draw_money = int(input(\"insert money what you want:\"))\n",
    "if account >= draw_money:\n",
    "    account -= draw_money\n",
    "    print(str(draw_money) + \"원이 인출됐습니다.\")\n",
    "else:\n",
    "    print(\"인출이 불가능합니다.\" + str(draw_money - account) + \" 원의 잔액이 부족합니다.\") # ,로 해줘도 되는데 형변환은 좀 더 좋은 기능\n",
    "print(\"현재 잔액은 \" + str(account) + \"원입니다.\")"
   ]
  },
  {
   "cell_type": "code",
   "execution_count": 109,
   "metadata": {},
   "outputs": [
    {
     "name": "stdout",
     "output_type": "stream",
     "text": [
      "현재 잔액은 5000원입니다.\n",
      "현재 잔액은 5000원입니다. 인출 금액은 5000입니다.\n"
     ]
    }
   ],
   "source": [
    "#string 데이터 타입의 포맷 함수, 중간에 변수에 대한 데이터를 문자열로 만들어 사용하고 싶을 때 사용\n",
    "print(\"현재 잔액은 \" + str(account) + \"원입니다.\")\n",
    "print(\"현재 잔액은 {data1}원입니다. 인출 금액은 {data2}입니다.\".format(data2 = account, data1 = draw_money))"
   ]
  },
  {
   "cell_type": "code",
   "execution_count": null,
   "metadata": {},
   "outputs": [],
   "source": []
  },
  {
   "cell_type": "code",
   "execution_count": null,
   "metadata": {},
   "outputs": [],
   "source": []
  }
 ],
 "metadata": {
  "kernelspec": {
   "display_name": "Python 3",
   "language": "python",
   "name": "python3"
  },
  "language_info": {
   "codemirror_mode": {
    "name": "ipython",
    "version": 3
   },
   "file_extension": ".py",
   "mimetype": "text/x-python",
   "name": "python",
   "nbconvert_exporter": "python",
   "pygments_lexer": "ipython3",
   "version": "3.7.6"
  }
 },
 "nbformat": 4,
 "nbformat_minor": 4
}
