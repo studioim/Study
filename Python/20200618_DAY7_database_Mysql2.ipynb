{
 "cells": [
  {
   "cell_type": "markdown",
   "metadata": {},
   "source": [
    "스키마는 데이터베이스의 구조를 만드는 디자인"
   ]
  },
  {
   "cell_type": "markdown",
   "metadata": {},
   "source": [
    "- NoSQL\n",
    "    - NoSQL : Not Only SQL\n",
    "    - RDBMS의 한계를 극복하기 위해 만들어진 데이터 베이스\n",
    "    - 확장성이 좋음 - 데이터의 분산처리 용이\n",
    "    - 데이터 저장이 유연함 - RDBMS와 다르게 구조의 변경이 불필요\n",
    "    - 스키마(Schema) 및 Join이 없음\n",
    "    - Collection 별로 관계가 없기 때문에 모든 데이터가 들어있어야 함\n",
    "    - 저장되는 데이터는 Key- Value 형태의 JSON 포멧을 사용\n",
    "    - Select는 RDBMS 보다 느리지만 Insert가 빨라 대용량 데이터 베이스에 많이 사용됨 트랜젝션(transaction)이 지원되지 않음 (동시수정에 대한 신뢰성이 지원되지 않음)"
   ]
  },
  {
   "cell_type": "code",
   "execution_count": 2,
   "metadata": {
    "ExecuteTime": {
     "end_time": "2020-06-18T02:08:03.708504Z",
     "start_time": "2020-06-18T02:08:03.674403Z"
    }
   },
   "outputs": [],
   "source": [
    "# 조인이 없음. 관계가 없기 때문에.\n",
    "# 저장되는 형태는 키 밸류 형태\n",
    "# 저장은 빠르고 가져오는 건 느리다.\n",
    "    # 빅데이터에서 뜬 이유는 로그 데이터가 많이 수집되기 때문에 인서트가 빨리돼야 함\n",
    "    # RDBMS는 인서트가 느리다. 서로 연결돼 있고 해서 하나 넣으면 여기저기 업데이트해줘야 한다\n",
    "    # 그런데 노sql은 넣으면 넣는대로 쌓아놓는다\n",
    "# 트랜잭션은 서로다른 atm기에서 한번에 출금이 안 되는 것을 생각하면 된다. 트랜잭션이 안 된다는 것"
   ]
  },
  {
   "cell_type": "code",
   "execution_count": 5,
   "metadata": {
    "ExecuteTime": {
     "end_time": "2020-06-18T02:43:47.104886Z",
     "start_time": "2020-06-18T02:43:47.100423Z"
    }
   },
   "outputs": [],
   "source": [
    "# 판다스는 데이터를 램에 저장해서 다루지만 데이터베이스는 롬에 저장해서 다룬다\n",
    "# 데이터가 너무 많거나 용량이 많으면 mysql같은 데이터베이스관리시스템을 써야 한다\n",
    "# 데이터가 1테라가 넘어가면 빅데이터. 스파크 같은 거 쓰는 것\n",
    "# 판다스보다 mysql이 필터링해서 데이터 가져오는 것은 빠르다. 입출력(IO) 시간은 더 들어갈 수 있지만"
   ]
  },
  {
   "cell_type": "code",
   "execution_count": 6,
   "metadata": {
    "ExecuteTime": {
     "end_time": "2020-06-18T02:56:30.053499Z",
     "start_time": "2020-06-18T02:56:30.046836Z"
    }
   },
   "outputs": [],
   "source": [
    "# source tree 참고, git 쉽게 쓸 수 있다. 이것만 쓰면 커맨드 다 까먹는다"
   ]
  },
  {
   "cell_type": "code",
   "execution_count": null,
   "metadata": {
    "ExecuteTime": {
     "end_time": "2020-06-18T04:42:03.943717Z",
     "start_time": "2020-06-18T04:42:03.909532Z"
    }
   },
   "outputs": [],
   "source": [
    "# Server - Database - Table\n",
    "\n",
    "# 1. 데이터 베이스\n",
    "\n",
    "SHOW DATABASES # 현재 데이터 베이스 확인\n",
    "# 변수는 소문자를 쓰고, 커맨드는 대문자를 쓰는 것을 원칙. 소문자로 써도 상관 없다. \n",
    "\n",
    "# 생성\n",
    "CREATE DATABASE test\n",
    "\n",
    "# 선택\n",
    "USE test\n",
    "\n",
    "# 현재 확인\n",
    "SELECT DATABASE()\n",
    "\n",
    "# 2. Table\n",
    "CREATE TABLE user1(\n",
    "\tuser_id INT,\n",
    "\tname VARCHAR(20),\n",
    "\temail VARCHAR(30),\n",
    "\tage INT(3),\n",
    "\trdate DATE\n",
    ")\n",
    "\n",
    "# 제약 조건 걸어줄 수 있다\n",
    "CREATE TABLE user2(\n",
    "\tuser_id INT PRIMARY KEY AUTO_INCREMENT, # 중복되는 데이터가 들어갈 수 없다는 unique 조건과 Null 값이 들어갈 수 없다는 Not Null 조건을 같이 가지고 있는 프라이머리 제약 조건\n",
    "\t# AUTO_INCREMENT는 데이터 없으면 1씩 증가하게끔 숫자로 자동으로 넣어준다\t\n",
    "\tname VARCHAR(20) NOT NULL,\n",
    "\temail VARCHAR(30) UNIQUE NOT NULL,\n",
    "\tage INT(3) DEFAULT 30, # 데이터를 설정하지 않으면 자동으로 30이 들어간다\n",
    "\trdate TIMESTAMP # 현재 시간이 자동으로 들어가는 데이터 타입, 한국 시간이 아니라 표준시로\n",
    ")"
   ]
  },
  {
   "cell_type": "code",
   "execution_count": null,
   "metadata": {},
   "outputs": [],
   "source": [
    "# 2. 수정 Alter\n",
    "\n",
    "# 2-1 데이터 베이스\n",
    "SHOW variables like \"character_set_database\"\n",
    "ALTER DATABASE test CHARACTER SET = utf8 # latin에서 utf8로 변경\n",
    "\n",
    "# 2-2 테이블\n",
    "ALTER TABLE user2 ADD tmp TEXT\n",
    "ALTER TABLE user2 MODIFY COLUMN tmp INT(3)\n",
    "ALTER TABLE user2 DROP tmp "
   ]
  },
  {
   "cell_type": "code",
   "execution_count": null,
   "metadata": {},
   "outputs": [],
   "source": [
    "# 3. Drop\n",
    "\n",
    "# 3-1 데이터 베이스 삭제\n",
    "CREATE DATABASE tmp\n",
    "DROP DATABASE tmp\n",
    "SHOW DATABASES\n",
    "\n",
    "# 3-2 테이블\n",
    "DROP TABLE user3\n",
    "SELECT DATABASE()\n",
    "\n",
    "# 4. Insert\n",
    "INSERT INTO user1(user_id, name, email, age, rdate)\n",
    "VALUE(2, \"peter\", \"peter@gmail.com\", 32, now()),\n",
    "(3, \"andy\", \"andy@gmail.com\", 33, now()),\n",
    "(4, \"bread\", \"bread@gmail.com\", 23, now()),\n",
    "(5, \"pete\", \"pete@gmail.com\", 44, now())\n",
    "\n",
    "# 5. SELECT : 데이터 조회\n",
    "SELECT user_id, name, age\n",
    "FROM user1\n",
    "\n",
    "SELECT * # 모든 컬럼 데이터 전체 \n",
    "FROM user1\n",
    "\n",
    "SELECT user_id as \"ID\", name as \"UserName\", age as \"AGES\" # 가져올 때 컬럼명 지정\n",
    "FROM user1\n",
    "\n",
    "# DISTINCT : 중복 제거\n",
    "SELECT DISTINCT(name)\n",
    "FROM user1\n",
    "\n",
    "# WHERE : 조건 검색\n",
    "SELECT DISTINCT(name)\n",
    "FROM user1\n",
    "WHERE age >= 30\n",
    "\n",
    "SELECT *\n",
    "FROM user1\n",
    "WHERE age > 20 AND age < 40 # AND OR 논리 연산자를 쓸 수 있다\n",
    "\n",
    "# BETWEEN A AND B\n",
    "SELECT *\n",
    "FROM user1\n",
    "WHERE age BETWEEN 20 AND 39\n",
    "\n",
    "# ORDER BY 정렬\n",
    "SELECT *\n",
    "FROM user1\n",
    "ORDER BY age ASC # 나이 순 정렬\n",
    "\n",
    "SELECT *\n",
    "FROM user1\n",
    "ORDER BY age DESC # 내림차순, 안 써주면 자동으로 오름차순\n",
    "\n",
    "SELECT *\n",
    "FROM user1\n",
    "ORDER BY name, age DESC # 이름으로 오름차순 정렬하고 같은 애들끼리는 나이로 내림차순 정렬하는 것\n",
    "\n",
    "# 나이가 20세에서 40세 사이에 있는 사용자를 이름 순으로 정렬하고 중복 데이터를 제거해서 이름만 출력, 한번 해볼 것\n",
    "SELECT DISTINCT(name)\n",
    "FROM user1\n",
    "WHERE age BETWEEN 20 and 39\n",
    "ORDER BY name DESC"
   ]
  },
  {
   "cell_type": "code",
   "execution_count": null,
   "metadata": {},
   "outputs": [],
   "source": [
    "# concat\n",
    "select name, age, concat(name, \"(\", age, \")\") as \"name_age\" # 괄호 추가해줄 수도 있다\n",
    "from user1\n",
    "\n",
    "# like : where 절에서 특정 문자열이 들어간 데이터 조회할 때 사용\n",
    "select *\n",
    "from user1\n",
    "-- where email like \"%jin@gmail.%\"\n",
    "-- where email like \"p%\" # 제일 앞에 p가 오는 데이터 선택\n",
    "# %의 의미는 문자가 있거나 없거나를 찾는 것\n",
    "where email not like \"peter%\"\n",
    "\n",
    "# in : 여러 개의 조건을 조화할 때 사용\n",
    "select *\n",
    "from user1\n",
    "/*where name=\"andy\" or name=\"peter\" or name = \"po\"*/\n",
    "where name in (\"andy\", \"peter\", \"po\") # 더 간단하게 표현 가능\n",
    "\n",
    "# 서브 쿼리 맛보기\n",
    "select *\n",
    "from user1\n",
    "where name in (\n",
    "\tselect distinct(name)\n",
    "\tfrom user1\n",
    "\twhere age > 30\n",
    ")\n",
    "\n",
    "#LIMIT\n",
    "select *\n",
    "from user1\n",
    "limit 3 # 가장 상단에 있는 3개의 데이터 출력\n",
    "\n",
    "select *\n",
    "from user1\n",
    "limit 3, 5 # 3번째부터 밑으로 5개 출력\n",
    "# 잘못해서 데이터가 날아갈 수 있는 경우를 대비해 limit 많이 쓴다. 날아가도 일부만 날아가니까"
   ]
  },
  {
   "cell_type": "code",
   "execution_count": null,
   "metadata": {},
   "outputs": [],
   "source": [
    "# 6. UPDATE\n",
    "UPDATE user1\n",
    "SET age=20, rdate=\"2019-12-12\"\n",
    "WHERE age BETWEEN 20 AND 29 # where절 안 써주면 회사 망하는 것\n",
    "\n",
    "select *\n",
    "from user1\n",
    "WHERE age BETWEEN 20 AND 29"
   ]
  },
  {
   "cell_type": "code",
   "execution_count": null,
   "metadata": {},
   "outputs": [],
   "source": [
    "# 7. delete\n",
    "DELETE FROM user1\n",
    "WHERE rdate > \"2019-11-01\"\n",
    "\n",
    "select *\n",
    "from user1"
   ]
  },
  {
   "cell_type": "code",
   "execution_count": null,
   "metadata": {},
   "outputs": [],
   "source": [
    "# quiz1\n",
    "select distinct(continent)\n",
    "from country\n",
    "\n",
    "# quiz2\n",
    "select Name, Population\n",
    "from city\n",
    "where CountryCode = \"KOR\" AND Population >= 1000000\n",
    "order by Population DESC\n",
    "\n",
    "# quiz3\n",
    "select Name, CountryCode, Population\n",
    "from city\n",
    "where Population BETWEEN 8000000 AND 10000000\n",
    "order by Population DESC\n",
    "\n",
    "# quiz4\n",
    "select Code, concat(Name, \"(\", IndepYear, \")\"), Continent, Population\n",
    "from country\n",
    "where IndepYear BETWEEN 1940 AND 1950\n",
    "order by IndepYear ASC, Population DESC\n",
    "\n",
    "# quiz5\n",
    "select CountryCode, Language, Percentage/100\n",
    "from countrylanguage\n",
    "where Language in (\"English\", \"Korean\", \"Spanish\")\n",
    "and Percentage >= 95\n",
    "order by Percentage DESC\n",
    "\n",
    "# quiz6\n",
    "select Code, Name, Continent, GovernmentForm, Population\n",
    "from country\n",
    "where Code like \"A%\" and GovernmentForm like \"%Republic%\""
   ]
  },
  {
   "cell_type": "code",
   "execution_count": null,
   "metadata": {},
   "outputs": [],
   "source": [
    "\n",
    "# city 테이블에서 나라별 도시의 개수를 출력\n",
    "select CountryCode, count(CountryCode) as count\n",
    "from city\n",
    "group by CountryCode\n",
    "\n",
    "# countrylanguage 테이블에서 전체 언어의 개수를 출력\n",
    "select count(distinct(Language))\n",
    "from countrylanguage\n",
    "\n",
    "# 대륙별 인구 수와 GNP의 최대값을 출력\n",
    "-- select continent, max(population), max(GNP) # max 빠지면 어떻게 처리할지 몰라 에러난다, sum으로 바꿔줄수도\n",
    "select continent, sum(population), sum(GNP), sum(GNP) / sum(population)\n",
    "from country\n",
    "group by continent\n",
    "\n",
    "# 대륙별 전체인구를 구하고 5억 이상인 대륙만 출력\n",
    "# Having: group by가 실행되고 난 결과에 조건을 추가\n",
    "select continent, sum(population) as data\n",
    "from country\n",
    "group by continent\n",
    "having data >= 500000000\n",
    "# where는 select from where 순으로 와야 한다, having은 group by 한 거에서 조건 주려 할 때 쓴다"
   ]
  }
 ],
 "metadata": {
  "kernelspec": {
   "display_name": "Python 3",
   "language": "python",
   "name": "python3"
  },
  "language_info": {
   "codemirror_mode": {
    "name": "ipython",
    "version": 3
   },
   "file_extension": ".py",
   "mimetype": "text/x-python",
   "name": "python",
   "nbconvert_exporter": "python",
   "pygments_lexer": "ipython3",
   "version": "3.7.6"
  }
 },
 "nbformat": 4,
 "nbformat_minor": 4
}
