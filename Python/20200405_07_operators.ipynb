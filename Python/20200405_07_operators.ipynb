{
 "cells": [
  {
   "cell_type": "code",
   "execution_count": 1,
   "metadata": {},
   "outputs": [],
   "source": [
    "#부동소수점 문제\n",
    "data = {\"koreans\": 96.3, \"english\": 78.4, \"science\": 87.2, \"math\": 92.1}"
   ]
  },
  {
   "cell_type": "code",
   "execution_count": 3,
   "metadata": {},
   "outputs": [
    {
     "data": {
      "text/plain": [
       "(354.0, 88.5)"
      ]
     },
     "execution_count": 3,
     "metadata": {},
     "output_type": "execute_result"
    }
   ],
   "source": [
    "#소수점을 없애서 해결\n",
    "total = 0\n",
    "total = data[\"koreans\"] * 10\n",
    "total = total + data[\"english\"] * 10\n",
    "total = total + data[\"science\"] * 10\n",
    "total = total + data[\"math\"] * 10\n",
    "total = total / 10\n",
    "total, total / len(data) # 총합, 평균"
   ]
  },
  {
   "cell_type": "code",
   "execution_count": 11,
   "metadata": {},
   "outputs": [
    {
     "data": {
      "text/plain": [
       "(354.0, 88.5)"
      ]
     },
     "execution_count": 11,
     "metadata": {},
     "output_type": "execute_result"
    }
   ],
   "source": [
    "# 반올림으로 해결, ronund 함수\n",
    "total = round(sum(data.values()), 1) # data 이후 .이다 괄호 아님\n",
    "total, total / len(data)"
   ]
  },
  {
   "cell_type": "code",
   "execution_count": 16,
   "metadata": {},
   "outputs": [
    {
     "data": {
      "text/plain": [
       "(354.0, 88.5)"
      ]
     },
     "execution_count": 16,
     "metadata": {},
     "output_type": "execute_result"
    }
   ],
   "source": [
    "# 고정 소수점으로 해결\n",
    "from decimal import Decimal\n",
    "total = Decimal(str(data[\"koreans\"]))\n",
    "total = total + Decimal(str(data[\"english\"]))\n",
    "total = total + Decimal(str(data[\"science\"]))\n",
    "total = total + Decimal(str(data[\"math\"]))\n",
    "float(total), float(total) / len(data)"
   ]
  },
  {
   "cell_type": "code",
   "execution_count": 17,
   "metadata": {},
   "outputs": [],
   "source": [
    "a, b = 10, 20"
   ]
  },
  {
   "cell_type": "code",
   "execution_count": 18,
   "metadata": {},
   "outputs": [
    {
     "name": "stdout",
     "output_type": "stream",
     "text": [
      "False\n"
     ]
    }
   ],
   "source": [
    "print(a == b)"
   ]
  },
  {
   "cell_type": "code",
   "execution_count": 22,
   "metadata": {},
   "outputs": [
    {
     "name": "stdout",
     "output_type": "stream",
     "text": [
      "True\n",
      "False\n",
      "True\n"
     ]
    }
   ],
   "source": [
    "print(a != b)\n",
    "print(a > b)\n",
    "print(a <= b)"
   ]
  },
  {
   "cell_type": "code",
   "execution_count": 30,
   "metadata": {},
   "outputs": [
    {
     "name": "stdout",
     "output_type": "stream",
     "text": [
      "False\n"
     ]
    }
   ],
   "source": [
    "#비교연산 문제\n",
    "data = 4\n",
    "if data % 2:\n",
    "    print(\"True\")\n",
    "else: print(\"False\") # else에도 : 넣어줘야 함"
   ]
  },
  {
   "cell_type": "code",
   "execution_count": 34,
   "metadata": {},
   "outputs": [
    {
     "data": {
      "text/plain": [
       "True"
      ]
     },
     "execution_count": 34,
     "metadata": {},
     "output_type": "execute_result"
    }
   ],
   "source": [
    "data = 3\n",
    "result = data % 2 == 1\n",
    "result"
   ]
  },
  {
   "cell_type": "code",
   "execution_count": 32,
   "metadata": {},
   "outputs": [
    {
     "data": {
      "text/plain": [
       "False"
      ]
     },
     "execution_count": 32,
     "metadata": {},
     "output_type": "execute_result"
    }
   ],
   "source": [
    "data = 4\n",
    "data % 2 == 1"
   ]
  },
  {
   "cell_type": "code",
   "execution_count": null,
   "metadata": {},
   "outputs": [],
   "source": [
    "# 할당연산자, 대입연산자는 ="
   ]
  },
  {
   "cell_type": "code",
   "execution_count": 36,
   "metadata": {},
   "outputs": [
    {
     "data": {
      "text/plain": [
       "10"
      ]
     },
     "execution_count": 36,
     "metadata": {},
     "output_type": "execute_result"
    }
   ],
   "source": [
    "data = 5\n",
    "data += 5\n",
    "data"
   ]
  },
  {
   "cell_type": "code",
   "execution_count": 37,
   "metadata": {},
   "outputs": [
    {
     "data": {
      "text/plain": [
       "100"
      ]
     },
     "execution_count": 37,
     "metadata": {},
     "output_type": "execute_result"
    }
   ],
   "source": [
    "data = 10\n",
    "data *= 10\n",
    "data"
   ]
  },
  {
   "cell_type": "code",
   "execution_count": 40,
   "metadata": {},
   "outputs": [
    {
     "data": {
      "text/plain": [
       "(330, 82.5)"
      ]
     },
     "execution_count": 40,
     "metadata": {},
     "output_type": "execute_result"
    }
   ],
   "source": [
    "ls = [87, 76, 98, 69]\n",
    "result = 0\n",
    "result += ls[0]\n",
    "result += ls[1]\n",
    "result += ls[2]\n",
    "result += ls[3]\n",
    "result, result / len(ls)"
   ]
  },
  {
   "cell_type": "code",
   "execution_count": 49,
   "metadata": {},
   "outputs": [
    {
     "name": "stdout",
     "output_type": "stream",
     "text": [
      "True\n",
      "True\n",
      "False\n",
      "False\n",
      "True\n",
      "False\n",
      "False\n"
     ]
    }
   ],
   "source": [
    "# 논리연산자\n",
    "print(True and True)\n",
    "print(True or False)\n",
    "print(False or False)\n",
    "print(not True)\n",
    "print(not False)\n",
    "print(not True and True)\n",
    "print(not(True and True))"
   ]
  },
  {
   "cell_type": "code",
   "execution_count": 53,
   "metadata": {},
   "outputs": [
    {
     "name": "stdout",
     "output_type": "stream",
     "text": [
      "False\n"
     ]
    }
   ],
   "source": [
    "#Quiz 산술 연산자와 비교 연산자, 논리연산자\n",
    "data = 4\n",
    "if data % 3 == 0 or data % 5 == 0:\n",
    "    print(\"True\")\n",
    "else: print(\"False\")"
   ]
  },
  {
   "cell_type": "code",
   "execution_count": 54,
   "metadata": {},
   "outputs": [
    {
     "data": {
      "text/plain": [
       "True"
      ]
     },
     "execution_count": 54,
     "metadata": {},
     "output_type": "execute_result"
    }
   ],
   "source": [
    "data = 5\n",
    "data % 3 == 0 or data % 5 == 0"
   ]
  },
  {
   "cell_type": "code",
   "execution_count": 55,
   "metadata": {},
   "outputs": [
    {
     "data": {
      "text/plain": [
       "True"
      ]
     },
     "execution_count": 55,
     "metadata": {},
     "output_type": "execute_result"
    }
   ],
   "source": [
    "# Quiz5\n",
    "a, b = 4, 7\n",
    "a <= 10 and b <= 10"
   ]
  },
  {
   "cell_type": "code",
   "execution_count": 66,
   "metadata": {},
   "outputs": [
    {
     "data": {
      "text/plain": [
       "True"
      ]
     },
     "execution_count": 66,
     "metadata": {},
     "output_type": "execute_result"
    }
   ],
   "source": [
    "a, b, c = 5, 3, 1\n",
    "(a % 2 == 0) or (b % 2 == 0) or (c % 2 != 0)"
   ]
  },
  {
   "cell_type": "markdown",
   "metadata": {},
   "source": [
    "### 5. 멤버연산자\n",
    "- in :데이터 집합에서 특정 데이터가 있는지 확인해서 있으면 True\n",
    "- not in : 데이터 집합에서 특정 데이터가 있는지 확인해서 있으면 False"
   ]
  },
  {
   "cell_type": "code",
   "execution_count": 69,
   "metadata": {},
   "outputs": [
    {
     "data": {
      "text/plain": [
       "False"
      ]
     },
     "execution_count": 69,
     "metadata": {},
     "output_type": "execute_result"
    }
   ],
   "source": [
    "data = [1, 2, 3, 4]\n",
    "2 in data\n",
    "3 in data\n",
    "5 in data"
   ]
  },
  {
   "cell_type": "code",
   "execution_count": 70,
   "metadata": {},
   "outputs": [
    {
     "data": {
      "text/plain": [
       "(False, True)"
      ]
     },
     "execution_count": 70,
     "metadata": {},
     "output_type": "execute_result"
    }
   ],
   "source": [
    "2 not in data, 3 in data"
   ]
  },
  {
   "cell_type": "code",
   "execution_count": 74,
   "metadata": {},
   "outputs": [
    {
     "name": "stdout",
     "output_type": "stream",
     "text": [
      "True\n",
      "False\n",
      "True\n"
     ]
    }
   ],
   "source": [
    "data = {1: \"one\", 2: \"two\", 3: \"three\"}\n",
    "print(1 in data)\n",
    "print(4 in data)\n",
    "print(\"one\" in data.values())"
   ]
  },
  {
   "cell_type": "code",
   "execution_count": 121,
   "metadata": {},
   "outputs": [
    {
     "name": "stdout",
     "output_type": "stream",
     "text": [
      "[4, 2, 2, 2, 5]\n",
      "True\n"
     ]
    }
   ],
   "source": [
    "import random\n",
    "ls = []\n",
    "count = 5\n",
    "while count:\n",
    "    ls.append(random.randint(1, 10))\n",
    "    count -= 1\n",
    "print(ls)\n",
    "if 5 in ls:\n",
    "    print(\"True\")\n",
    "else: print(\"False\")"
   ]
  },
  {
   "cell_type": "code",
   "execution_count": 132,
   "metadata": {},
   "outputs": [
    {
     "name": "stdout",
     "output_type": "stream",
     "text": [
      "숫자를 입력하세요:4\n",
      "even\n"
     ]
    }
   ],
   "source": [
    "data = int(input(\"숫자를 입력하세요:\"))\n",
    "if data % 2:\n",
    "    print(\"odd\")\n",
    "else: print(\"even\")"
   ]
  },
  {
   "cell_type": "code",
   "execution_count": 5,
   "metadata": {},
   "outputs": [
    {
     "name": "stdout",
     "output_type": "stream",
     "text": [
      "인출할 금액을 입력하세요:3000\n",
      "True 잔액이 7000원 남았습니다.\n"
     ]
    }
   ],
   "source": [
    "account = 10000\n",
    "money = int(input(\"인출할 금액을 입력하세요:\"))\n",
    "if account >= money:\n",
    "    account -= money\n",
    "    print(True, \"잔액이 {}원 남았습니다.\".format(account))\n",
    "else:\n",
    "    print(False, \"인출 가능 금액은: {}원, 인출할 금액이 {}원 부족합니다.\".format(account, money-account))"
   ]
  },
  {
   "cell_type": "code",
   "execution_count": null,
   "metadata": {},
   "outputs": [],
   "source": [
    "money = int(input(\"인출할 금액을 입력하세요:\"))\n",
    "if account >= money:\n",
    "    account -= money\n",
    "    print(True, \"잔액이 {}원 남았습니다.\".format(account))\n",
    "else:\n",
    "    print(False, \"인출 가능 금액은: {}원, 인출할 금액이 {}원 부족합니다.\".format(account, money-account))"
   ]
  },
  {
   "cell_type": "code",
   "execution_count": null,
   "metadata": {},
   "outputs": [],
   "source": [
    "# 삼항연산\n",
    "data = 2\n",
    "result = \"mal\""
   ]
  },
  {
   "cell_type": "code",
   "execution_count": null,
   "metadata": {},
   "outputs": [],
   "source": []
  },
  {
   "cell_type": "code",
   "execution_count": null,
   "metadata": {},
   "outputs": [],
   "source": []
  },
  {
   "cell_type": "code",
   "execution_count": null,
   "metadata": {},
   "outputs": [],
   "source": []
  },
  {
   "cell_type": "code",
   "execution_count": null,
   "metadata": {},
   "outputs": [],
   "source": []
  }
 ],
 "metadata": {
  "kernelspec": {
   "display_name": "Python 3",
   "language": "python",
   "name": "python3"
  },
  "language_info": {
   "codemirror_mode": {
    "name": "ipython",
    "version": 3
   },
   "file_extension": ".py",
   "mimetype": "text/x-python",
   "name": "python",
   "nbconvert_exporter": "python",
   "pygments_lexer": "ipython3",
   "version": "3.7.6"
  }
 },
 "nbformat": 4,
 "nbformat_minor": 4
}
