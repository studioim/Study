{
 "cells": [
  {
   "cell_type": "code",
   "execution_count": null,
   "metadata": {},
   "outputs": [],
   "source": [
    "### ipython 설정\n",
    "-startup 파일 설정\n",
    "    - 주피터 노트북 실행 시 미리 실행되는 코드 설정, 넘파이 쓸려고 임포트 추가로 해줄 필요 없음\n",
    "    - 자주 쓰는 것은 미리 설정해놓음 된다\n",
    "    - 설정 방법\n",
    "        - 프로필 파일 생성 : `$(터미널에서 실행) ipython profile create` # 프로필 파일이 아이파이선 디렉토리에 생성된다.\n",
    "        - 스타트업 파일 수정\n",
    "            - `cd ~/.ipython/profile_default/startup` # 탭키 누르면 자동 완성된다\n",
    "            - cat README 치면 숫자 번호에 따라 파이선 코드가 주피터 노트북 실행할 때 실행된다\n",
    "            - 여기서 주피터 노트북 실행해서 수정해줄 수도 있고, vi 에디터로 쓸 수도 있다.\n",
    "            - vi 00-first.py 치면 이 이름으로 파일 생성된다. 맨 앞의 숫자 번호에 따라서 순차적으로 파일 실행된다 \n",
    "            - 밑의 코드 입력"
   ]
  },
  {
   "cell_type": "code",
   "execution_count": null,
   "metadata": {},
   "outputs": [],
   "source": [
    "# 처음 터미널 상에서 i 입력 하면 끼워넣기 뜬다! 그상태서 입력\n",
    "#basic\n",
    "import time\n",
    "import random\n",
    "\n",
    "# data analytics\n",
    "import numpy as np\n",
    "import pandas as pd\n",
    "\n",
    "# web crawling\n",
    "import requests\n",
    "from bs4 import Beautifulsoup\n",
    "\n",
    "# visualization\n",
    "import matplotlib as mp1\n",
    "import matplotlib.pyplot as plt\n",
    "import seaborn as sns\n",
    "\n",
    "sns.set()\n",
    "# esc 누르고 \n",
    "#:wq #로 저장하고 나오면\n",
    "\n",
    "```\n",
    "- inline backend config # 매직 커맨드 설정 없이 바로 그래프를 그릴 수 있도록 설정, 커널에 미리해놓으면 나중에 할 필요가 없음\n",
    "    - `$ vi ~/.ipython/profile_default/ipython_kernel_config.py`\n",
    "# 명령 모드에서 대문자 G 누르면 가장 마지막 줄로 이동한다. GG누르면 맨 위로 이동?\n",
    "```\n",
    "c.IPKernelApp.matplotlib = 'inline'\n",
    "c.InlineBackend.figure_format = 'retina'\n",
    "# 다른 코드 입력하지 않아도 그래프 바로바로 그릴 수 있다.\n",
    "```\n"
   ]
  },
  {
   "cell_type": "code",
   "execution_count": null,
   "metadata": {},
   "outputs": [],
   "source": [
    "### autopep8 기능 추가\n",
    "- 1 + 2 #pep에는 연산자 앞뒤로 띄워쓰도록 돼 있다. autopep는 이러한 컨벤션들을 자동으로 되도록 해주는 기능\n",
    "- nbextentions config 설치\n",
    "    - `$ conda install -c conda-forge jupyter_contrib_nbextentions`\n",
    "    - 설치하면 edit 눌렀을 때  nbextention cofig 라는 메뉴 생성된다"
   ]
  },
  {
   "cell_type": "code",
   "execution_count": 1,
   "metadata": {},
   "outputs": [
    {
     "data": {
      "text/plain": [
       "4"
      ]
     },
     "execution_count": 1,
     "metadata": {},
     "output_type": "execute_result"
    }
   ],
   "source": [
    "1+3"
   ]
  }
 ],
 "metadata": {
  "kernelspec": {
   "display_name": "Python 3",
   "language": "python",
   "name": "python3"
  },
  "language_info": {
   "codemirror_mode": {
    "name": "ipython",
    "version": 3
   },
   "file_extension": ".py",
   "mimetype": "text/x-python",
   "name": "python",
   "nbconvert_exporter": "python",
   "pygments_lexer": "ipython3",
   "version": "3.7.6"
  }
 },
 "nbformat": 4,
 "nbformat_minor": 4
}
