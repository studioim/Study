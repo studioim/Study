{
 "cells": [
  {
   "cell_type": "code",
   "execution_count": 1,
   "metadata": {},
   "outputs": [
    {
     "name": "stdout",
     "output_type": "stream",
     "text": [
      "<class 'list'> [1, 'py', False]\n"
     ]
    }
   ],
   "source": [
    "ls = [1, \"py\", False]\n",
    "print(type(ls), ls)"
   ]
  },
  {
   "cell_type": "code",
   "execution_count": 6,
   "metadata": {},
   "outputs": [
    {
     "name": "stdout",
     "output_type": "stream",
     "text": [
      "data science python <class 'str'>\n"
     ]
    }
   ],
   "source": [
    "a = [\"data\", \"science\", \"python\"]\n",
    "result = \" \".join(a)\n",
    "print(result, type(result))"
   ]
  },
  {
   "cell_type": "code",
   "execution_count": 16,
   "metadata": {},
   "outputs": [
    {
     "name": "stdout",
     "output_type": "stream",
     "text": [
      "Python is best programing language.\n"
     ]
    }
   ],
   "source": [
    "### quiz 함수 오프셋 조인 세가지 합쳐서 사용\n",
    "ls1 = [\"python\", \"is\", \"best\", \"programing\", \"language\"]\n",
    "result = \" \".join(ls1)\n",
    "result = result[0].upper() + result[1:] + \".\"\n",
    "print(result)"
   ]
  },
  {
   "cell_type": "code",
   "execution_count": 19,
   "metadata": {},
   "outputs": [
    {
     "name": "stdout",
     "output_type": "stream",
     "text": [
      "[9, 7, 5, 3, 1]\n"
     ]
    }
   ],
   "source": [
    "ls = [0, 1, 2, 3, 4, 5, 6, 7, 8, 9]\n",
    "result = ls[::-1][::2]\n",
    "print(result)"
   ]
  },
  {
   "cell_type": "code",
   "execution_count": 23,
   "metadata": {},
   "outputs": [
    {
     "name": "stdout",
     "output_type": "stream",
     "text": [
      "<class 'str'> <class 'list'> ['python', 'data', 'science']\n",
      "<class 'str'> python data science\n"
     ]
    }
   ],
   "source": [
    "txt = \"python data science\"\n",
    "result = txt.split(\" \")\n",
    "print(type(txt), type(result), result)\n",
    "tog = \" \".join(result)\n",
    "print(type(tog), tog)"
   ]
  },
  {
   "cell_type": "code",
   "execution_count": 26,
   "metadata": {},
   "outputs": [
    {
     "name": "stdout",
     "output_type": "stream",
     "text": [
      "['data', 'science', 'fast']\n",
      "['data', 'science', 'fast', 'campus']\n"
     ]
    }
   ],
   "source": [
    "ls = [\"data\", \"science\", \"fast\"]\n",
    "print(ls)\n",
    "ls.append(\"campus\")\n",
    "print(ls)"
   ]
  },
  {
   "cell_type": "code",
   "execution_count": 27,
   "metadata": {},
   "outputs": [
    {
     "name": "stdout",
     "output_type": "stream",
     "text": [
      "['campus', 'data', 'fast', 'science']\n"
     ]
    }
   ],
   "source": [
    "# sort 함수\n",
    "ls = [\"data\", \"science\", \"fast\", \"campus\"]\n",
    "ls.sort()\n",
    "print(ls)"
   ]
  },
  {
   "cell_type": "code",
   "execution_count": 28,
   "metadata": {},
   "outputs": [
    {
     "name": "stdout",
     "output_type": "stream",
     "text": [
      "['science', 'fast', 'data', 'campus']\n"
     ]
    }
   ],
   "source": [
    "# reverse 함수\n",
    "ls.reverse()\n",
    "print(ls)"
   ]
  },
  {
   "cell_type": "code",
   "execution_count": 30,
   "metadata": {},
   "outputs": [
    {
     "name": "stdout",
     "output_type": "stream",
     "text": [
      "['science', 'slow', 'data', 'campus']\n"
     ]
    }
   ],
   "source": [
    "ls[1] = \"slow\"\n",
    "print(ls)"
   ]
  },
  {
   "cell_type": "code",
   "execution_count": null,
   "metadata": {},
   "outputs": [],
   "source": [
    "### Quiz3\n",
    "- beautiful is better than ugly. 단어의 길이가 긴 순서대로 재정렬해서 문장을 다시 만드는 코드를 작성해주세요.\n",
    "-결과 beautiful better ugly than is."
   ]
  },
  {
   "cell_type": "code",
   "execution_count": 32,
   "metadata": {},
   "outputs": [
    {
     "name": "stdout",
     "output_type": "stream",
     "text": [
      "['d', 'bc', 'abc', 'efags']\n"
     ]
    }
   ],
   "source": [
    "data = [\"abc\", \"bc\", \"d\", \"efags\"]\n",
    "data.sort(key=len)\n",
    "print(data)"
   ]
  },
  {
   "cell_type": "code",
   "execution_count": 62,
   "metadata": {},
   "outputs": [
    {
     "name": "stdout",
     "output_type": "stream",
     "text": [
      "Beautiful better ugly than is.\n"
     ]
    }
   ],
   "source": [
    "data = \"Beautiful is better than ugly.\"\n",
    "result = data.lower()[:-1]\n",
    "result = result.split(\" \")\n",
    "result.sort(key=len)\n",
    "result.reverse()\n",
    "result = \" \".join(result)\n",
    "result = result[0].upper() + result[1:] + \".\"\n",
    "print(result)"
   ]
  },
  {
   "cell_type": "code",
   "execution_count": 83,
   "metadata": {},
   "outputs": [
    {
     "name": "stdout",
     "output_type": "stream",
     "text": [
      "<class 'tuple'> (1, 2, 3)\n"
     ]
    }
   ],
   "source": [
    "### 튜플 선언\n",
    "tp = (1, 2, 3)\n",
    "print(type(tp), tp)"
   ]
  },
  {
   "cell_type": "code",
   "execution_count": 85,
   "metadata": {},
   "outputs": [
    {
     "ename": "TypeError",
     "evalue": "'tuple' object does not support item assignment",
     "output_type": "error",
     "traceback": [
      "\u001b[1;31m---------------------------------------------------------------------------\u001b[0m",
      "\u001b[1;31mTypeError\u001b[0m                                 Traceback (most recent call last)",
      "\u001b[1;32m<ipython-input-85-60fe87ebfb57>\u001b[0m in \u001b[0;36m<module>\u001b[1;34m\u001b[0m\n\u001b[1;32m----> 1\u001b[1;33m \u001b[0mtp\u001b[0m\u001b[1;33m[\u001b[0m\u001b[1;36m1\u001b[0m\u001b[1;33m]\u001b[0m \u001b[1;33m=\u001b[0m \u001b[1;36m10\u001b[0m\u001b[1;33m\u001b[0m\u001b[1;33m\u001b[0m\u001b[0m\n\u001b[0m\u001b[0;32m      2\u001b[0m \u001b[0mprint\u001b[0m\u001b[1;33m(\u001b[0m\u001b[0mtp\u001b[0m\u001b[1;33m)\u001b[0m\u001b[1;33m\u001b[0m\u001b[1;33m\u001b[0m\u001b[0m\n",
      "\u001b[1;31mTypeError\u001b[0m: 'tuple' object does not support item assignment"
     ]
    }
   ],
   "source": [
    "tp[1] = 10\n",
    "print(tp) # 튜플은 데이터 수정이 불가능"
   ]
  },
  {
   "cell_type": "code",
   "execution_count": 89,
   "metadata": {},
   "outputs": [
    {
     "data": {
      "text/plain": [
       "(2, 3)"
      ]
     },
     "execution_count": 89,
     "metadata": {},
     "output_type": "execute_result"
    }
   ],
   "source": [
    "# 튜플에서의 오프셋 인덱스 사용\n",
    "tp[1:]"
   ]
  },
  {
   "cell_type": "code",
   "execution_count": 90,
   "metadata": {},
   "outputs": [
    {
     "name": "stdout",
     "output_type": "stream",
     "text": [
      "104 byte\n",
      "88 byte\n"
     ]
    }
   ],
   "source": [
    "import sys\n",
    "ls = [1, 2, 3, 4, 5]\n",
    "tp = (1, 2, 3, 4, 5)\n",
    "print(sys.getsizeof(ls), \"byte\")\n",
    "print(sys.getsizeof(tp), \"byte\")"
   ]
  },
  {
   "cell_type": "markdown",
   "metadata": {},
   "source": [
    "### 딕셔너리\n",
    "- 순서가 없는 데이터 집합\n",
    "- 키, 값으로 구성돼 있는 데이터 타입"
   ]
  },
  {
   "cell_type": "code",
   "execution_count": 91,
   "metadata": {},
   "outputs": [
    {
     "name": "stdout",
     "output_type": "stream",
     "text": [
      "<class 'dict'> {1: 'one', 'A': ['data', 'science'], '숫자': 1234}\n"
     ]
    }
   ],
   "source": [
    "#선언\n",
    "dic = {\n",
    "    1: \"one\",\n",
    "    \"A\": [\"data\", \"science\"],\n",
    "    \"숫자\": 1234,\n",
    "}\n",
    "print(type(dic), dic)"
   ]
  },
  {
   "cell_type": "code",
   "execution_count": 92,
   "metadata": {},
   "outputs": [
    {
     "name": "stdout",
     "output_type": "stream",
     "text": [
      "{1: '하나', 'A': ['data', 'science'], '숫자': 1234}\n"
     ]
    }
   ],
   "source": [
    "#데이터 수정\n",
    "dic[1] = \"하나\"\n",
    "print(dic)"
   ]
  },
  {
   "cell_type": "code",
   "execution_count": 93,
   "metadata": {},
   "outputs": [
    {
     "name": "stdout",
     "output_type": "stream",
     "text": [
      "<class 'dict'> {'name': 'python', 'addr': 'seoul', 'age': 25}\n"
     ]
    }
   ],
   "source": [
    "### quiz1\n",
    "#-아래의 테이블 데이터를 딕셔너리 데이터 타입으로 선언하세요\n",
    "# key value\n",
    "# name python\n",
    "# addr seoul\n",
    "# age 25\n",
    "dic = {\n",
    "    \"name\" : \"python\",\n",
    "    \"addr\" : \"seoul\",\n",
    "    \"age\" : 25,\n",
    "}\n",
    "print(type(dic), dic)"
   ]
  },
  {
   "cell_type": "code",
   "execution_count": 99,
   "metadata": {},
   "outputs": [
    {
     "name": "stdout",
     "output_type": "stream",
     "text": [
      "{'data1': 1, 'data2': 2, 'data3': 3}\n"
     ]
    }
   ],
   "source": [
    "#딕셔너리 키 값은 문자열과 정수 타입 만 사용 가능\n",
    "dic = {'data1' : 1, 'data2' : 2, 'data3' : 3}\n",
    "print(dic)"
   ]
  },
  {
   "cell_type": "code",
   "execution_count": 100,
   "metadata": {},
   "outputs": [
    {
     "ename": "KeyError",
     "evalue": "1",
     "output_type": "error",
     "traceback": [
      "\u001b[1;31m---------------------------------------------------------------------------\u001b[0m",
      "\u001b[1;31mKeyError\u001b[0m                                  Traceback (most recent call last)",
      "\u001b[1;32m<ipython-input-100-44fd7baa145e>\u001b[0m in \u001b[0;36m<module>\u001b[1;34m\u001b[0m\n\u001b[1;32m----> 1\u001b[1;33m \u001b[0mdic\u001b[0m\u001b[1;33m[\u001b[0m\u001b[1;36m1\u001b[0m\u001b[1;33m]\u001b[0m\u001b[1;33m\u001b[0m\u001b[1;33m\u001b[0m\u001b[0m\n\u001b[0m",
      "\u001b[1;31mKeyError\u001b[0m: 1"
     ]
    }
   ],
   "source": [
    "dic[1]"
   ]
  },
  {
   "cell_type": "code",
   "execution_count": 113,
   "metadata": {},
   "outputs": [
    {
     "name": "stdout",
     "output_type": "stream",
     "text": [
      "dict_keys(['data1', 'data2', 'data3'])\n",
      "dict_values([1, 2, 3])\n",
      "<class 'dict_items'> dict_items([('data1', 1), ('data2', 2), ('data3', 3)])\n"
     ]
    }
   ],
   "source": [
    "dic = {\n",
    "    \"data1\" : 1,\n",
    "    'data2' : 2,\n",
    "    'data3' : 3,\n",
    "}\n",
    "result = dic.keys() # 키 값만 출력해준다\n",
    "print(result)\n",
    "result = dic.values()\n",
    "print(result)\n",
    "result = dic.items()\n",
    "print(type(result), result)"
   ]
  },
  {
   "cell_type": "code",
   "execution_count": 115,
   "metadata": {},
   "outputs": [
    {
     "name": "stdout",
     "output_type": "stream",
     "text": [
      "{1: 'a', 2: 'c', 3: 'd'}\n"
     ]
    }
   ],
   "source": [
    "#update\n",
    "dic1 = {1:\"a\", 2:\"b\"}\n",
    "dic2 = {2:\"c\", 3:\"d\"}\n",
    "dic1.update(dic2)\n",
    "print(dic1)"
   ]
  },
  {
   "cell_type": "code",
   "execution_count": 121,
   "metadata": {},
   "outputs": [
    {
     "name": "stdout",
     "output_type": "stream",
     "text": [
      "{'국어': 80, '영어': 90, '수학': 70}\n"
     ]
    }
   ],
   "source": [
    "#리스트\n",
    "subjects = [\"국어\", \"영어\", \"수학\"]\n",
    "points = [80, 90, 70]\n",
    "\n",
    "\n",
    "dic = {\n",
    "    \"국어\" : 80,\n",
    "    \"영어\" : 90,\n",
    "    \"수학\" : 70\n",
    "}\n",
    "print(dic)\n"
   ]
  },
  {
   "cell_type": "code",
   "execution_count": null,
   "metadata": {},
   "outputs": [],
   "source": []
  }
 ],
 "metadata": {
  "kernelspec": {
   "display_name": "Python 3",
   "language": "python",
   "name": "python3"
  },
  "language_info": {
   "codemirror_mode": {
    "name": "ipython",
    "version": 3
   },
   "file_extension": ".py",
   "mimetype": "text/x-python",
   "name": "python",
   "nbconvert_exporter": "python",
   "pygments_lexer": "ipython3",
   "version": "3.7.6"
  }
 },
 "nbformat": 4,
 "nbformat_minor": 4
}
