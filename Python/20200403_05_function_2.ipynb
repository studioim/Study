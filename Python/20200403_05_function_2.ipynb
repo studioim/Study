{
 "cells": [
  {
   "cell_type": "markdown",
   "metadata": {},
   "source": [
    "### summary\n",
    "- 조건문\n",
    "    - if, else, elif\n",
    "    - 특정조건에 따라서 코드를 실행하고 싶을 때 사용\n",
    "- 반복문\n",
    "    - while, for(iterable한 데이터 집합 받아서 반복문 실행)\n",
    "    - 특정 코드를 반복적으로 실행하고 싶을 때 사용\n",
    "    - continue(for나while 조건 확인하는 구문으로 올라가 밑에 실행 안 됨), break(중간에 종료)"
   ]
  },
  {
   "cell_type": "code",
   "execution_count": 19,
   "metadata": {},
   "outputs": [
    {
     "name": "stdout",
     "output_type": "stream",
     "text": [
      "input sentence : python IS the best Language.\n"
     ]
    },
    {
     "data": {
      "text/plain": [
       "'Python is the best language.'"
      ]
     },
     "execution_count": 19,
     "metadata": {},
     "output_type": "execute_result"
    }
   ],
   "source": [
    "# 문제1\n",
    "# 문장을 입력받아서 문법에 맞도록 결과를 출력하는 코드를 작성\n",
    "# 마지막 문자는 . 이 있을 수도 있고 없을 수도 있음\n",
    "# 논리적인 문제 해결 순서 -> 코드로 변경해서 푸는 연습을 하라\n",
    "# str.upper(), str.lower(), offset index[], str.__add__(문자열 덧셈)\n",
    "\n",
    "# python IS the best Language. / python IS the best Language\n",
    "# result = Python is the best language.\n",
    "#1. 문자열 입력 받기, #2 모두 소문자로 변경, #3 가장 앞글자를 대문자로 변경 #4 마지막 문자가 .인지 확인해서 .이 아니면 .을 추가\n",
    "#이러한 순서를 정하는 것이 알고리즘.\n",
    "sentence = input(\"input sentence : \")\n",
    "sentence[0].upper() + sentence[1:].lower()"
   ]
  },
  {
   "cell_type": "code",
   "execution_count": 21,
   "metadata": {},
   "outputs": [
    {
     "name": "stdout",
     "output_type": "stream",
     "text": [
      "input senctence: python IS the best Language\n"
     ]
    },
    {
     "data": {
      "text/plain": [
       "'Python is the best language.'"
      ]
     },
     "execution_count": 21,
     "metadata": {},
     "output_type": "execute_result"
    }
   ],
   "source": [
    "#1. 문자열 입력 받기\n",
    "sentence = input(\"input senctence: \")\n",
    "#2 모두 소문자로 변경\n",
    "result = sentence.lower()\n",
    "#3 가장 앞글자를 대문자로 변경\n",
    "result = result[0].upper() + result[1:]\n",
    "#4 마지막 문자가 .인지 확인해서 .이 아니면 .을 추가\n",
    "if result[-1] != \".\":\n",
    "    result += \".\"\n",
    "result"
   ]
  },
  {
   "cell_type": "code",
   "execution_count": 160,
   "metadata": {},
   "outputs": [
    {
     "name": "stdout",
     "output_type": "stream",
     "text": [
      "[6, 13, 16, 22, 30, 39]\n"
     ]
    },
    {
     "name": "stderr",
     "output_type": "stream",
     "text": [
      "UsageError: Line magic function `%%timeit` not found.\n"
     ]
    }
   ],
   "source": [
    "# 문제2\n",
    "# 6자리의 로또번호를 생성하는 코드를 작성하세요\n",
    "# 6자리의 번호는 중복이 X\n",
    "# 문자열, 숫자, 리스트 아무 타입이나 출력해도 된다\n",
    "# while, not in, in, list.append(), break, len() 써서 풀었다\n",
    "# 문제 조금 복잡하면, 간단한 기능부터 구현하고 업데이트를 하는 방법으로 해결해도 괜찮다.\n",
    "# 랜덤한 숫자 6개 출력 -> 숫자가 중복되지 않는 코드를 추가\n",
    "# 정렬 안 해도 된다. 하면 깔끔할 것\n",
    "import random\n",
    "count = 6\n",
    "ls = []\n",
    "while count:\n",
    "    a = random.randint(1, 45)\n",
    "    if a in ls:\n",
    "        continue\n",
    "    ls.append(a)\n",
    "    count -= 1\n",
    "ls.sort()\n",
    "print(ls)"
   ]
  },
  {
   "cell_type": "code",
   "execution_count": 167,
   "metadata": {},
   "outputs": [
    {
     "data": {
      "text/plain": [
       "[12, 15, 23, 28, 29, 45]"
      ]
     },
     "execution_count": 167,
     "metadata": {},
     "output_type": "execute_result"
    }
   ],
   "source": [
    "lotto = []\n",
    "while True:\n",
    "    number = random.randint(1, 45)\n",
    "    if number not in lotto:\n",
    "        lotto.append(number)\n",
    "    if len(lotto) >= 6:\n",
    "        lotto.sort()\n",
    "        break\n",
    "lotto\n",
    "# for문으로도 구현할 수 있지만 for문은 횟수가 정해져 있다. 그 안에 중복되는 숫자가 나오면 문제가 될 수 있으니 while로 써주는 게 좋다"
   ]
  },
  {
   "cell_type": "markdown",
   "metadata": {},
   "source": [
    "- 함수\n",
    "    - 중복되는 코드를 묶어서 효율적으로 코드를 작성하기 위해 사용\n",
    "    - 기본 함수: 선언(def), 호출(func_name())\n",
    "    - argument, parameter(값을 받는 부분), keyword arg(특정 파라미터 값만 설정해서 선택적으로 함수를 호출할 때), default parameter(아규먼트에서 파라미터로 값이 전달되지 않아도 디폴트 값이 설정돼 있어서 함수 안의 코드를 실행시키는)\n",
    "    - return(함수를 실행하고 실행한 결과 데이터를 특정 변수에 담아서 코드를 쭉 실행하고 싶을 때)\n",
    "    -  `*args`, `**kwargus`"
   ]
  },
  {
   "cell_type": "markdown",
   "metadata": {},
   "source": [
    "### 함수 2.\n",
    "- docstring\n",
    "- scope\n",
    "- inner function\n",
    "- lambda function\n",
    "- map, filter, reduce\n",
    "- decorlator"
   ]
  },
  {
   "cell_type": "markdown",
   "metadata": {},
   "source": [
    "### 1)Docstring\n",
    "- 함수의 설명을 작성하는 문법"
   ]
  },
  {
   "cell_type": "code",
   "execution_count": 172,
   "metadata": {},
   "outputs": [],
   "source": [
    "def echo(msg):\n",
    "    \"echo print msg\"\n",
    "    print(msg)"
   ]
  },
  {
   "cell_type": "code",
   "execution_count": null,
   "metadata": {},
   "outputs": [],
   "source": [
    "echo"
   ]
  },
  {
   "cell_type": "code",
   "execution_count": 175,
   "metadata": {},
   "outputs": [],
   "source": [
    "def echo(msg):\n",
    "    \"\"\"\n",
    "    echo func return its input argument\n",
    "    The operation is:\n",
    "        1. print msg\n",
    "        2. return msg parameter\n",
    "    param : msg : str\n",
    "    return : str\n",
    "    \"\"\"\n",
    "    print(msg)"
   ]
  },
  {
   "cell_type": "code",
   "execution_count": 180,
   "metadata": {},
   "outputs": [
    {
     "name": "stdout",
     "output_type": "stream",
     "text": [
      "Help on function echo in module __main__:\n",
      "\n",
      "echo(msg)\n",
      "    echo func return its input argument\n",
      "    The operation is:\n",
      "        1. print msg\n",
      "        2. return msg parameter\n",
      "    param : msg : str\n",
      "    return : str\n",
      "\n"
     ]
    }
   ],
   "source": [
    "help(echo)"
   ]
  },
  {
   "cell_type": "code",
   "execution_count": 181,
   "metadata": {},
   "outputs": [
    {
     "name": "stdout",
     "output_type": "stream",
     "text": [
      "\n",
      "    echo func return its input argument\n",
      "    The operation is:\n",
      "        1. print msg\n",
      "        2. return msg parameter\n",
      "    param : msg : str\n",
      "    return : str\n",
      "    \n"
     ]
    }
   ],
   "source": [
    "print(echo.__doc__)"
   ]
  },
  {
   "cell_type": "code",
   "execution_count": null,
   "metadata": {},
   "outputs": [],
   "source": [
    "### 2) Scope 범위\n",
    "- 함수 안에서 선언되는 변수와 함수 밖에서 선언되는 변수의 범위가 다릅니다\n",
    "- global(전역), local(지역) , 함수 안에서 선언되는 변수가 지역, 밖에서 선언되는 변수가 전역"
   ]
  },
  {
   "cell_type": "code",
   "execution_count": 188,
   "metadata": {},
   "outputs": [
    {
     "name": "stdout",
     "output_type": "stream",
     "text": [
      "100\n"
     ]
    },
    {
     "data": {
      "text/plain": [
       "10"
      ]
     },
     "execution_count": 188,
     "metadata": {},
     "output_type": "execute_result"
    }
   ],
   "source": [
    "# global\n",
    "gv = 10\n",
    "def echo():\n",
    "    gv = 100 # 새로운 변수가 생성되는 것, 지역변수는 활동범위가 함수 안에서만, 전역변수는 안에서 밖에서 모두 활동할 수 있음\n",
    "    print(gv)\n",
    "echo()\n",
    "gv"
   ]
  },
  {
   "cell_type": "code",
   "execution_count": 184,
   "metadata": {},
   "outputs": [
    {
     "data": {
      "text/plain": [
       "10"
      ]
     },
     "execution_count": 184,
     "metadata": {},
     "output_type": "execute_result"
    }
   ],
   "source": [
    "gv "
   ]
  },
  {
   "cell_type": "code",
   "execution_count": 187,
   "metadata": {},
   "outputs": [
    {
     "name": "stdout",
     "output_type": "stream",
     "text": [
      "100\n"
     ]
    },
    {
     "data": {
      "text/plain": [
       "100"
      ]
     },
     "execution_count": 187,
     "metadata": {},
     "output_type": "execute_result"
    }
   ],
   "source": [
    "# local\n",
    "gv = 10\n",
    "def echo():\n",
    "    global gv\n",
    "    gv = 100\n",
    "    print(gv)\n",
    "echo()\n",
    "gv\n",
    "# 함수는 지역 내에서 먼저 변수를 찾은 뒤 없으면 전역으로 가서 함수를 찾는다.\n",
    "# global gv라고 쓰면 gv라는 변수가 선언되고 얘가 xxx값을 참조해 전역함수 gv를 참조하고 있는 것. 복사로 치면 얕은 복사. gv = 100이라고 쓰면 이 주소값의 전역 변수가 바뀌는 것.\n",
    "# 단순히 지역 변수 값 바꾼다고 해서 전역 변수 값이 바뀌지 않는다\n",
    "# 전역 영역의 함수 와 지역 영역의 함수는 서로 다른 영역이다. 두 영역에서 변수 공통적으로 사용하려면 전역 변수로 사용해야.\n",
    "# 사실 전역변수는 안 쓸 수 있으면 안 쓰는 게 유리해. 전역변수는 코드 실행 시 무조건 메모리 값 할당 받아서 가지고 있다. 그런데 함수 안의 변수는 함수가 호출돼야지 로컬 영역 변수가 선언돼. 함수 호출되지 않으면 메모리 안 잡아먹는 다는 말.\n",
    "# 되도록 로컬 영역 변수 선언해주는 게 효율적. 스코프를 잘 이해해야\n",
    "#여기서 에코는 지역함수라고 설명했는데, 그럼 기본적으로 함수는 모두 지역영역에 생성되나???? 틀린 것 같은데"
   ]
  },
  {
   "cell_type": "code",
   "execution_count": null,
   "metadata": {},
   "outputs": [],
   "source": [
    "### 3) Inner Function\n",
    "- 함수가 지역영역에 선언된 것, 함수 안에 함수가 선언된 것.\n",
    "- 이걸 잘 이해해야 데코레이터 잘 이해할 수 있다."
   ]
  },
  {
   "cell_type": "code",
   "execution_count": 194,
   "metadata": {},
   "outputs": [],
   "source": [
    "def outer(a, b): # outer 밖에 있는 함수, 전역 영역의 함수가 선언되는 것.\n",
    "#함수도 변수의 데이터타입 중 하나. 함수 안의 함수라는 변수를 하나 선언하는 것\n",
    "    def inner(c, d):\n",
    "        return c + d\n",
    "    return inner(a, b)"
   ]
  },
  {
   "cell_type": "code",
   "execution_count": 195,
   "metadata": {},
   "outputs": [
    {
     "data": {
      "text/plain": [
       "3"
      ]
     },
     "execution_count": 195,
     "metadata": {},
     "output_type": "execute_result"
    }
   ],
   "source": [
    "outer(1, 2)"
   ]
  },
  {
   "cell_type": "code",
   "execution_count": 193,
   "metadata": {},
   "outputs": [
    {
     "ename": "NameError",
     "evalue": "name 'inner' is not defined",
     "output_type": "error",
     "traceback": [
      "\u001b[1;31m---------------------------------------------------------------------------\u001b[0m",
      "\u001b[1;31mNameError\u001b[0m                                 Traceback (most recent call last)",
      "\u001b[1;32m<ipython-input-193-468e0d571ba5>\u001b[0m in \u001b[0;36m<module>\u001b[1;34m\u001b[0m\n\u001b[1;32m----> 1\u001b[1;33m \u001b[0minner\u001b[0m\u001b[1;33m(\u001b[0m\u001b[1;36m2\u001b[0m\u001b[1;33m,\u001b[0m \u001b[1;36m3\u001b[0m\u001b[1;33m)\u001b[0m\u001b[1;33m\u001b[0m\u001b[1;33m\u001b[0m\u001b[0m\n\u001b[0m",
      "\u001b[1;31mNameError\u001b[0m: name 'inner' is not defined"
     ]
    }
   ],
   "source": [
    "inner(2, 3)\n",
    "# 에러!\n",
    "#전역 영역에서는 지역 영역에 선언된 변수 가져다 쓸 수 없는데, 얘는 전역영역에서 지역영역에 있는 함수(변수)를 사용하려고 해. 그래서 사용 안 되는 것.\n",
    "#지역 영역에서 선언된 함수(변수)는 지역영역 내에서만 사용할 수 있다.\n",
    "#이너 함수를 익명 함수라고 불리기도 한다. 전역 영역에서 가져다 쓸 수 없기 때문에"
   ]
  },
  {
   "cell_type": "code",
   "execution_count": 197,
   "metadata": {},
   "outputs": [],
   "source": [
    "def outer(a, b):\n",
    "    def inner(c, d):\n",
    "        return c + d\n",
    "    return inner\n",
    "# 이때 a와 b는 의미가 없긴 하다"
   ]
  },
  {
   "cell_type": "code",
   "execution_count": 200,
   "metadata": {},
   "outputs": [
    {
     "data": {
      "text/plain": [
       "7"
      ]
     },
     "execution_count": 200,
     "metadata": {},
     "output_type": "execute_result"
    }
   ],
   "source": [
    "outer(1, 2)(3, 4)\n",
    "# 숫자 (1, 2) 들어가서 함수가 실행되고 inner가 선언된다. 다음에 함수 리턴. 그러면 inner(3, 4) 실행한 것과 똑같은 결과가 된다\n",
    "# 이렇게 리턴으로 함수 사용하면 전역 영역에서도 지역 영역 함수 사용할 수 있다."
   ]
  },
  {
   "cell_type": "code",
   "execution_count": 201,
   "metadata": {},
   "outputs": [],
   "source": [
    "# callback function : 함수를 아규먼트 파라미터로 설정해서 사용하는 것을 의미"
   ]
  },
  {
   "cell_type": "code",
   "execution_count": 214,
   "metadata": {},
   "outputs": [],
   "source": [
    "def calc(func, a, b):\n",
    "    a **= 2\n",
    "    b **= 2\n",
    "    return func(a, b) # 콜백 function\n",
    "# 아규먼트로 함수를 넘겨서 파라미터로 함수 받아서 그 함수 안에서 받은 함수를 실행하는 것을 콜백 펑션이라고 한다"
   ]
  },
  {
   "cell_type": "code",
   "execution_count": 215,
   "metadata": {},
   "outputs": [],
   "source": [
    "def plus(a, b):\n",
    "    return a + b"
   ]
  },
  {
   "cell_type": "code",
   "execution_count": 216,
   "metadata": {},
   "outputs": [],
   "source": [
    "def minus(a, b):\n",
    "    return a - b"
   ]
  },
  {
   "cell_type": "code",
   "execution_count": 212,
   "metadata": {},
   "outputs": [
    {
     "data": {
      "text/plain": [
       "5"
      ]
     },
     "execution_count": 212,
     "metadata": {},
     "output_type": "execute_result"
    }
   ],
   "source": [
    "calc(plus, 1, 2) # 덧셈"
   ]
  },
  {
   "cell_type": "code",
   "execution_count": 213,
   "metadata": {},
   "outputs": [
    {
     "data": {
      "text/plain": [
       "-3"
      ]
     },
     "execution_count": 213,
     "metadata": {},
     "output_type": "execute_result"
    }
   ],
   "source": [
    "calc(minus, 1, 2) # 뺄셈"
   ]
  },
  {
   "cell_type": "markdown",
   "metadata": {},
   "source": [
    "###4) 람다 함수\n",
    "- 파라미터를 간단한 계산으로 리턴되는 함수 : 삼항연산 (True) if (condition) else (False)(과 비슷한 개념)"
   ]
  },
  {
   "cell_type": "code",
   "execution_count": 218,
   "metadata": {},
   "outputs": [],
   "source": [
    "def plus(a, b):\n",
    "    return a + b"
   ]
  },
  {
   "cell_type": "code",
   "execution_count": 219,
   "metadata": {},
   "outputs": [
    {
     "data": {
      "text/plain": [
       "3"
      ]
     },
     "execution_count": 219,
     "metadata": {},
     "output_type": "execute_result"
    }
   ],
   "source": [
    "plus(1, 2)"
   ]
  },
  {
   "cell_type": "code",
   "execution_count": 220,
   "metadata": {},
   "outputs": [
    {
     "data": {
      "text/plain": [
       "5"
      ]
     },
     "execution_count": 220,
     "metadata": {},
     "output_type": "execute_result"
    }
   ],
   "source": [
    "plus2 = lambda a, b: a + b # 파라미터 : 리턴 되는 부분\n",
    "plus2(2, 3)"
   ]
  },
  {
   "cell_type": "code",
   "execution_count": 221,
   "metadata": {},
   "outputs": [
    {
     "data": {
      "text/plain": [
       "144"
      ]
     },
     "execution_count": 221,
     "metadata": {},
     "output_type": "execute_result"
    }
   ],
   "source": [
    "# calc(func, a, b)\n",
    "# 람다 함수를 왜 쓰냐? calc 함수 쓰려면 가장 앞에 펑션이 들어간다. 이 펑션에 람다 함수를 넣고 쓰면\n",
    "calc(lambda a, b : a * b, 3, 4)\n",
    "# 선언한 함수를 쓰려면 함수가 선언이 돼야 한다. 저장공간을 사용한다는 것. 그런데 람다함수는 호출될 때 함수가 만들어지니 함수가 따로 선언될 필요가 없다\n",
    "# 람다함수는 쓸 수 있으면 쓰는 게 좋다. 그러나 간단한 것만 쓸 수 있기 때문에 모든 것을 대체할 수는 없어."
   ]
  },
  {
   "cell_type": "code",
   "execution_count": 222,
   "metadata": {},
   "outputs": [],
   "source": [
    "### 5) map, filter, reduce\n",
    "# +데코레이터 까지 이해할 수 있으면 함수는 거의 마스터 했다고 볼 수 있어.\n",
    "# 맵, 필터, 리듀스는 프린트 함수처럼 이미 파이선에서 만들어놓은 함수. 특정 기능하도록. 실제 구현해보는 과제 내줄 것\n",
    "- map : 순서가 있는 데이터 집합에서 모든 값에 함수를 적용시킨 결과를 출력해주는 함수"
   ]
  },
  {
   "cell_type": "code",
   "execution_count": 225,
   "metadata": {},
   "outputs": [
    {
     "data": {
      "text/plain": [
       "('odd', 'even')"
      ]
     },
     "execution_count": 225,
     "metadata": {},
     "output_type": "execute_result"
    }
   ],
   "source": [
    "ls = [1, 2, 3, 4]\n",
    "def odd_even(num):\n",
    "    return \"odd\" if num % 2 else \"even\" # 홀수면 odd 짝수면 even 리턴하는 삼항연산\n",
    "odd_even(3), odd_even(4)\n",
    "# map()의 독스트링 보면  * 별표, 애스터리스크 ( 영어: asterisk ) 있다. 이는 키워드 없는 iterable한 데이터 리스트 튜플 넣으라는 얘기, 딕셔너리 말고"
   ]
  },
  {
   "cell_type": "code",
   "execution_count": 227,
   "metadata": {},
   "outputs": [
    {
     "data": {
      "text/plain": [
       "['odd', 'even', 'odd', 'even']"
      ]
     },
     "execution_count": 227,
     "metadata": {},
     "output_type": "execute_result"
    }
   ],
   "source": [
    "list(map(odd_even, ls))\n",
    "# 이터에이블한 데이터에 함수를 적용시킨 결과 데이터를 만들고 싶을 때 맵 함수 사용"
   ]
  },
  {
   "cell_type": "code",
   "execution_count": null,
   "metadata": {},
   "outputs": [],
   "source": [
    "# input 함수로 구분자는 \" \"으로 여러개의 숫자를 입력받습니다\n",
    "# str.split(\" \") 리스트로 만들고\n",
    "# 만들어진 리스트이 값들을 int로 형변환"
   ]
  },
  {
   "cell_type": "code",
   "execution_count": 228,
   "metadata": {},
   "outputs": [
    {
     "name": "stdout",
     "output_type": "stream",
     "text": [
      "insert numbers: 10 20 30 40 10 20 15\n"
     ]
    }
   ],
   "source": [
    "#맵이라는 함수 모르는 상태서 작성\n",
    "datas = input(\"insert numbers: \")"
   ]
  },
  {
   "cell_type": "code",
   "execution_count": 232,
   "metadata": {},
   "outputs": [
    {
     "data": {
      "text/plain": [
       "['10', '20', '30', '40', '10', '20', '15']"
      ]
     },
     "execution_count": 232,
     "metadata": {},
     "output_type": "execute_result"
    }
   ],
   "source": [
    "result = datas.split(\" \")\n",
    "result\n",
    "#물론 리스트 컴프리헨션(for문보다 빠르게 리스트 데이터를 만들어주는)을 사용할 수도 있다\n",
    "#리스트 컴프리헨션은 단점이 뒤의 조건 앞에 오는 함수로 사용되는 부분에서 복잡한 것들을 처리하기 어렵다\n",
    "#그런데 str.split(\" \")?는 함수를 선언해서 사용할 수 있기 때문에 그보다 좀더 쉽게 사용할 수 있다."
   ]
  },
  {
   "cell_type": "code",
   "execution_count": 233,
   "metadata": {},
   "outputs": [
    {
     "data": {
      "text/plain": [
       "[10, 20, 30, 40, 10, 20, 15]"
      ]
     },
     "execution_count": 233,
     "metadata": {},
     "output_type": "execute_result"
    }
   ],
   "source": [
    "result = list(map(int, result)) # int 펑션에 result 리스틑 넣어서 다시 리스트로 변환해주는 과정\n",
    "result"
   ]
  },
  {
   "cell_type": "code",
   "execution_count": null,
   "metadata": {},
   "outputs": [],
   "source": [
    "# 멀티라인 수정 윈도우는 (ctrl +) Alt, 맥은 command + option키\n",
    "1, \n",
    "2, \n",
    "3, \n",
    "4, \n",
    "5, "
   ]
  },
  {
   "cell_type": "code",
   "execution_count": 2,
   "metadata": {},
   "outputs": [
    {
     "data": {
      "text/plain": [
       "[1, 3, 5, 7, 9]"
      ]
     },
     "execution_count": 2,
     "metadata": {},
     "output_type": "execute_result"
    }
   ],
   "source": [
    "# filter: 리스트 데이터에서 특정 조건에 맞는 밸류만 남기는 함수, 조건에는 True False 논리연산 문만 들어간다\n",
    "ls = range(10)\n",
    "# 홀수만 출력해주는 함수\n",
    "list(filter(lambda data: True if data % 2 else False, ls))"
   ]
  },
  {
   "cell_type": "code",
   "execution_count": null,
   "metadata": {},
   "outputs": [],
   "source": [
    "# 맵은 호출 함수에 리스트의 모든 값을 대입시켜주는 함수, 필터는 함수의 조건에 맞는 값만 남기는 함수\n",
    "# 맵은 map(func, ls1, ls2)처럼 f(x1, x2)로도 확장시켜 써줄 수 있지만 필터는 하나밖에 못 온다.\n",
    "# 맵의 독스트링에서 *이 있다는 것은 컴마 해서 여러개 쓸 수 있다는 것. 필터는 별이 없음"
   ]
  },
  {
   "cell_type": "markdown",
   "metadata": {},
   "source": [
    "# 리듀스\n",
    "- 리스트 데이터를 처음부터 순서대로 특정 함수를 실행하여 결과를 누적시켜 주는 함수"
   ]
  },
  {
   "cell_type": "code",
   "execution_count": 4,
   "metadata": {},
   "outputs": [],
   "source": [
    "from functools import reduce"
   ]
  },
  {
   "cell_type": "code",
   "execution_count": 5,
   "metadata": {},
   "outputs": [
    {
     "data": {
      "text/plain": [
       "15"
      ]
     },
     "execution_count": 5,
     "metadata": {},
     "output_type": "execute_result"
    }
   ],
   "source": [
    "ls = [3, 1, 2, 4, 5]\n",
    "reduce(lambda x, y: x + y, ls) # 파라미타가 두개 들어가야 한다."
   ]
  },
  {
   "cell_type": "markdown",
   "metadata": {},
   "source": [
    "# 6. Decorlator\n",
    "- 함수에서 코드를 바꾸지 않고 기능을 추가허간 수정하고 싶을 때 사용하는 문법\n",
    "```\n",
    "def a():\n",
    "    code_1\n",
    "    code_2\n",
    "    code_3\n",
    "\n",
    "def b():\n",
    "    code_1\n",
    "    code_4\n",
    "    code_3\n",
    "```\n",
    "#코드1과 코드3의 중복. 계속 써줘야 할 수 있다. a라는 함수에는 코드 2만 쓰고, b라는 함수에는 코드 4만 써서 나머지 코드 1과 3을 묶어 새로운 함수로 써주면 효율성 증다. 이럴 때 데코레이터 씀"
   ]
  },
  {
   "cell_type": "code",
   "execution_count": null,
   "metadata": {},
   "outputs": [],
   "source": [
    "# 데코레이터의 사용\n",
    "```\n",
    "def c(func):\n",
    "    def wrapper(*args, **kwargs): #함수의 선언\n",
    "        code_1\n",
    "        result = func(*args, **kwargs)\n",
    "        code_3\n",
    "        return result\n",
    "    return wrapper\n",
    "\n",
    "@c # 데코레이터 함수 실행하는 문법\n",
    "def a(): # @c가 있기 떄문에 a()가 실행되면 위의 c의 함수가 실행된다. a함수가 func 자리에 들어가서 실행된다. 결국 a 함수가 실행되는 것\n",
    "    code_2\n",
    "\n",
    "@c\n",
    "def b():\n",
    "    code4\n",
    "```"
   ]
  },
  {
   "cell_type": "code",
   "execution_count": 8,
   "metadata": {},
   "outputs": [],
   "source": [
    "# a\n",
    "def plus(a, b):\n",
    "    print(\"start\")                      # code 1\n",
    "    result = a + b                     # code 2\n",
    "    print(\"result: {}\".format(result)) # code 3\n",
    "    return result"
   ]
  },
  {
   "cell_type": "code",
   "execution_count": 9,
   "metadata": {},
   "outputs": [],
   "source": [
    "# b\n",
    "def minus(a, b):\n",
    "    print(\"start\")                      # code 1\n",
    "    result = a - b                      # code 4\n",
    "    print(\"result: {}\".format(result)) # code 3\n",
    "    return result"
   ]
  },
  {
   "cell_type": "code",
   "execution_count": 10,
   "metadata": {},
   "outputs": [],
   "source": [
    "# c\n",
    "def disp(func):\n",
    "    def wrapper(*args, **kwargs):\n",
    "        print(\"start\")                  # code 1\n",
    "        result = func(*args, **kwargs)  # code 2, code 4\n",
    "        print(\"result : {}\".format(result)) #c code 3\n",
    "        return result\n",
    "    return wrapper"
   ]
  },
  {
   "cell_type": "code",
   "execution_count": 17,
   "metadata": {},
   "outputs": [],
   "source": [
    "@disp # 라고 쓰면 밑의 플러스 함수가 데코레이터에서 리턴되는 wrapper 함수로 바뀐다. 플러스라는 펑션이 disp의 파라미터로 들어간다 \n",
    "def plus(a, b):\n",
    "    result = a + b                     # code 2\n",
    "    return result"
   ]
  },
  {
   "cell_type": "code",
   "execution_count": 18,
   "metadata": {
    "scrolled": true
   },
   "outputs": [
    {
     "name": "stdout",
     "output_type": "stream",
     "text": [
      "start\n",
      "result : 3\n"
     ]
    },
    {
     "data": {
      "text/plain": [
       "3"
      ]
     },
     "execution_count": 18,
     "metadata": {},
     "output_type": "execute_result"
    }
   ],
   "source": [
    "plus(1, 2)"
   ]
  },
  {
   "cell_type": "code",
   "execution_count": null,
   "metadata": {},
   "outputs": [],
   "source": [
    "# 함수의 실행 시간을 출력하는 데코레이터 함수를 작성하세요\n",
    "# @timer # 시간 측정하는 함수\n",
    "# def test():\n",
    "#     # code\n",
    "# def test2():\n",
    "#     # code"
   ]
  },
  {
   "cell_type": "code",
   "execution_count": 46,
   "metadata": {},
   "outputs": [],
   "source": [
    "import time"
   ]
  },
  {
   "cell_type": "code",
   "execution_count": 62,
   "metadata": {},
   "outputs": [],
   "source": [
    "def timer(func):\n",
    "    def wrapper(*args, **kwargs):\n",
    "        start_time = time.time() # code 1\n",
    "        result = func(*args, **kwargs)          # code 2, code 4\n",
    "        end_time = time.time()   # code 3\n",
    "        print(\"running time : {}\".format(end_time - start_time))\n",
    "        return result\n",
    "    return wrapper"
   ]
  },
  {
   "cell_type": "code",
   "execution_count": 63,
   "metadata": {},
   "outputs": [],
   "source": [
    "@timer\n",
    "def test1(num1, num2):\n",
    "    data = range(num1, num2+1)\n",
    "    return sum(data)"
   ]
  },
  {
   "cell_type": "code",
   "execution_count": 64,
   "metadata": {},
   "outputs": [],
   "source": [
    "@timer\n",
    "def test2(num1, num2):\n",
    "    result = 0\n",
    "    for num in range(num1, num2+1): # 위와 밑아 같다, 위는 sum함수 써준거고 밑은 for문 써줘서 다 더해준 것\n",
    "        result += num\n",
    "    return result"
   ]
  },
  {
   "cell_type": "code",
   "execution_count": 67,
   "metadata": {},
   "outputs": [
    {
     "name": "stdout",
     "output_type": "stream",
     "text": [
      "running time : 0.0009970664978027344\n"
     ]
    },
    {
     "data": {
      "text/plain": [
       "50005000"
      ]
     },
     "execution_count": 67,
     "metadata": {},
     "output_type": "execute_result"
    }
   ],
   "source": [
    "test1(1, 10000)"
   ]
  },
  {
   "cell_type": "code",
   "execution_count": 68,
   "metadata": {},
   "outputs": [
    {
     "name": "stdout",
     "output_type": "stream",
     "text": [
      "running time : 0.0009989738464355469\n"
     ]
    },
    {
     "data": {
      "text/plain": [
       "50005000"
      ]
     },
     "execution_count": 68,
     "metadata": {},
     "output_type": "execute_result"
    }
   ],
   "source": [
    "test2(1, 10000)"
   ]
  },
  {
   "cell_type": "code",
   "execution_count": null,
   "metadata": {},
   "outputs": [],
   "source": [
    "#로그인이 필요한 함수와 로그인이 필요하지 않은 기능 등을 구분해서 사용할 때 많이 사용해준다"
   ]
  },
  {
   "cell_type": "code",
   "execution_count": null,
   "metadata": {},
   "outputs": [],
   "source": [
    "# 패스워드를 입력받아야 함수가 실행되도록 하는 데코레이터 작성"
   ]
  },
  {
   "cell_type": "code",
   "execution_count": 82,
   "metadata": {},
   "outputs": [],
   "source": [
    "def check_password(func):\n",
    "    def wrapper(*args, **kwargs):\n",
    "        #check password\n",
    "        pw = \"dss11\"\n",
    "#         datas = [\n",
    "#             {\"id\":\"test\", \"pw\":\"1234\"},\n",
    "#             {\"id\":\"test2\", \"pw\":\"12345\"}\n",
    "#         ]\n",
    "        input_pw = input(\"insert pw: \")\n",
    "        if input_pw == pw:\n",
    "            result = func(*args, **kwargs)\n",
    "        else:\n",
    "            result = \"not allow!\"\n",
    "        return result\n",
    "    return wrapper"
   ]
  },
  {
   "cell_type": "code",
   "execution_count": 81,
   "metadata": {},
   "outputs": [],
   "source": [
    "@check_password # 패스워드를 물어봐서 패스워드가 맞으면 플러스 기능 실행\n",
    "def plus(a, b):\n",
    "    return a + b"
   ]
  },
  {
   "cell_type": "code",
   "execution_count": 84,
   "metadata": {},
   "outputs": [
    {
     "name": "stdout",
     "output_type": "stream",
     "text": [
      "insert pw: dsa1\n"
     ]
    },
    {
     "data": {
      "text/plain": [
       "'not allow!'"
      ]
     },
     "execution_count": 84,
     "metadata": {},
     "output_type": "execute_result"
    }
   ],
   "source": [
    "plus(1, 2)"
   ]
  },
  {
   "cell_type": "code",
   "execution_count": 94,
   "metadata": {},
   "outputs": [],
   "source": [
    "@check_password # 패스워드를 물어봐서 패스워드 맞으면 로도 번호 제공\n",
    "def lotto_func():\n",
    "    lotto = []\n",
    "    while True:\n",
    "        import random\n",
    "        number = random.randint(1, 45)\n",
    "        if number not in lotto:\n",
    "            lotto.append(number)\n",
    "        if len(lotto) >= 6:\n",
    "            lotto.sort()\n",
    "            break\n",
    "    return lotto"
   ]
  },
  {
   "cell_type": "code",
   "execution_count": 96,
   "metadata": {},
   "outputs": [
    {
     "name": "stdout",
     "output_type": "stream",
     "text": [
      "insert pw: dss11\n"
     ]
    },
    {
     "data": {
      "text/plain": [
       "[7, 15, 27, 35, 37, 44]"
      ]
     },
     "execution_count": 96,
     "metadata": {},
     "output_type": "execute_result"
    }
   ],
   "source": [
    "lotto_func()"
   ]
  },
  {
   "cell_type": "code",
   "execution_count": null,
   "metadata": {},
   "outputs": [],
   "source": []
  }
 ],
 "metadata": {
  "kernelspec": {
   "display_name": "Python 3",
   "language": "python",
   "name": "python3"
  },
  "language_info": {
   "codemirror_mode": {
    "name": "ipython",
    "version": 3
   },
   "file_extension": ".py",
   "mimetype": "text/x-python",
   "name": "python",
   "nbconvert_exporter": "python",
   "pygments_lexer": "ipython3",
   "version": "3.7.6"
  }
 },
 "nbformat": 4,
 "nbformat_minor": 4
}
