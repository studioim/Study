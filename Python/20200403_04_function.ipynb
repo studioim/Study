{
 "cells": [
  {
   "cell_type": "markdown",
   "metadata": {},
   "source": [
    "### 함수\n",
    "- 반복되는 코드를 묶음으로 효율적인 코드를 작성하도록 해주는 기능\n",
    "- 기본 함수\n",
    "- 파라미터와 아규먼트\n",
    "- 리턴\n",
    "- `*args`, `**kwargs`\n",
    "- docstring\n",
    "- scope\n",
    "- inner function\n",
    "- lambda function\n",
    "- Map, Filter, Reduce\n",
    "- Decorlator"
   ]
  },
  {
   "cell_type": "markdown",
   "metadata": {},
   "source": [
    "### 1. 기본 함수\n",
    "- 함수의 선언과 호출"
   ]
  },
  {
   "cell_type": "code",
   "execution_count": 4,
   "metadata": {},
   "outputs": [
    {
     "name": "stdout",
     "output_type": "stream",
     "text": [
      "B\n"
     ]
    }
   ],
   "source": [
    "point = 88\n",
    "if point >= 90:\n",
    "    print(\"A\")\n",
    "elif point >= 80:\n",
    "    print(\"B\")\n",
    "else:\n",
    "    print(\"C\")\n",
    "# 이런 반복되는 코드들을 묶어주는 게 함수"
   ]
  },
  {
   "cell_type": "code",
   "execution_count": 8,
   "metadata": {},
   "outputs": [
    {
     "name": "stdout",
     "output_type": "stream",
     "text": [
      "Once deleted, variables cannot be recovered. Proceed (y/[n])? y\n"
     ]
    }
   ],
   "source": [
    "%reset"
   ]
  },
  {
   "cell_type": "code",
   "execution_count": 9,
   "metadata": {},
   "outputs": [
    {
     "name": "stdout",
     "output_type": "stream",
     "text": [
      "Interactive namespace is empty.\n"
     ]
    }
   ],
   "source": [
    "%whos"
   ]
  },
  {
   "cell_type": "code",
   "execution_count": 54,
   "metadata": {},
   "outputs": [],
   "source": [
    "#함수 선언\n",
    "def grade(point):\n",
    "    if point >= 90:\n",
    "        print(\"A\")\n",
    "        return \"A\"\n",
    "    elif point >= 80:\n",
    "        print(\"B\")\n",
    "        return \"B\"\n",
    "    else:\n",
    "        print(\"C\")\n",
    "        return \"C\""
   ]
  },
  {
   "cell_type": "code",
   "execution_count": 55,
   "metadata": {},
   "outputs": [
    {
     "name": "stdout",
     "output_type": "stream",
     "text": [
      "B\n"
     ]
    },
    {
     "data": {
      "text/plain": [
       "'B'"
      ]
     },
     "execution_count": 55,
     "metadata": {},
     "output_type": "execute_result"
    }
   ],
   "source": [
    "# 함수 호출\n",
    "grade(88)"
   ]
  },
  {
   "cell_type": "code",
   "execution_count": 11,
   "metadata": {},
   "outputs": [
    {
     "name": "stdout",
     "output_type": "stream",
     "text": [
      "Variable   Type        Data/Info\n",
      "--------------------------------\n",
      "grade      function    <function grade at 0x0000020483CC4E58>\n"
     ]
    }
   ],
   "source": [
    "%whos #함수도 하나의 데이터타입"
   ]
  },
  {
   "cell_type": "code",
   "execution_count": 57,
   "metadata": {},
   "outputs": [
    {
     "name": "stdout",
     "output_type": "stream",
     "text": [
      "입력:95\n",
      "A\n",
      "성적은? A\n"
     ]
    }
   ],
   "source": [
    "c = int(input(\"입력:\"))\n",
    "print(\"성적은?\", grade(c))"
   ]
  },
  {
   "cell_type": "markdown",
   "metadata": {},
   "source": [
    "### 2. 파라미터와 아규먼트\n",
    "- 파라미터 : 함수를 선언할 떄 호출하는 부분에서 보내주는 데이터를 받는 함수\n",
    "- 아규먼트 : 함수를 호출할 때 함수에 보내주는 데이터"
   ]
  },
  {
   "cell_type": "code",
   "execution_count": 41,
   "metadata": {},
   "outputs": [],
   "source": [
    "def plus(num1, num2=10, num3=20): #num1과 num2라는 파라미터를 가지는 plus 함수, 디폴트 파라미터\n",
    "    print(num1 + num2 - num3)"
   ]
  },
  {
   "cell_type": "code",
   "execution_count": 28,
   "metadata": {},
   "outputs": [
    {
     "name": "stdout",
     "output_type": "stream",
     "text": [
      "3\n"
     ]
    }
   ],
   "source": [
    "plus(1, 2) #아규먼트"
   ]
  },
  {
   "cell_type": "code",
   "execution_count": 42,
   "metadata": {},
   "outputs": [
    {
     "name": "stdout",
     "output_type": "stream",
     "text": [
      "-87\n"
     ]
    }
   ],
   "source": [
    "plus(3, 10, 100) # 갯수 적거나 많으면 에러 발생"
   ]
  },
  {
   "cell_type": "code",
   "execution_count": 43,
   "metadata": {},
   "outputs": [
    {
     "name": "stdout",
     "output_type": "stream",
     "text": [
      "-87\n"
     ]
    }
   ],
   "source": [
    "### 특정 파라미터를 지정해서 바꾸고 싶을 때, 키워드 아규먼트\n",
    "plus(3, num3=100)"
   ]
  },
  {
   "cell_type": "code",
   "execution_count": 45,
   "metadata": {},
   "outputs": [
    {
     "name": "stdout",
     "output_type": "stream",
     "text": [
      "1 2-"
     ]
    }
   ],
   "source": [
    "print(1, 2, end=\"-\")#프린트 함수도 원래 정해진 디폴트 파라미터 대신에 end 값의 키워드 아규먼트 \"-\"를 넣어줘서 바꿀 수 있는 것임"
   ]
  },
  {
   "cell_type": "markdown",
   "metadata": {},
   "source": [
    "### 3. 리턴\n",
    "- 함수를 실행한 결과를 저장하고 싶을 때 사용\n",
    "- return라는 명령어로 사용"
   ]
  },
  {
   "cell_type": "code",
   "execution_count": 49,
   "metadata": {},
   "outputs": [],
   "source": [
    "def plus(num1, num2):\n",
    "    print(num1 + num2)"
   ]
  },
  {
   "cell_type": "code",
   "execution_count": 50,
   "metadata": {},
   "outputs": [
    {
     "name": "stdout",
     "output_type": "stream",
     "text": [
      "3\n",
      "None\n"
     ]
    }
   ],
   "source": [
    "result = plus(1, 2)\n",
    "print(result) #결과로 none이 나온다, result 변수에 아무 값도 들어 있지 않다는 것\n",
    "#이유는 함수를 호출하면 출력해주는 코드는 있는데 함수를 실행한 결과를 보내주는 코드가 없는 것."
   ]
  },
  {
   "cell_type": "code",
   "execution_count": 51,
   "metadata": {},
   "outputs": [],
   "source": [
    "def plus(num1, num2):\n",
    "    print(num1 + num2)\n",
    "    return num1 + num2 "
   ]
  },
  {
   "cell_type": "code",
   "execution_count": 53,
   "metadata": {},
   "outputs": [
    {
     "name": "stdout",
     "output_type": "stream",
     "text": [
      "3\n",
      "3\n"
     ]
    }
   ],
   "source": [
    "result = plus(1, 2)# 함수를 호출해주면 리턴 뒤의 데이터가 함수를 호출한 부분에서 result에 대입을 해주게 된다.\n",
    "print(result)"
   ]
  },
  {
   "cell_type": "code",
   "execution_count": 60,
   "metadata": {},
   "outputs": [
    {
     "name": "stdout",
     "output_type": "stream",
     "text": [
      "PYTHON\n"
     ]
    }
   ],
   "source": [
    "data1 = \"python\"\n",
    "result = data1.upper()\n",
    "print(result) #upper는 리턴이 있는 함수"
   ]
  },
  {
   "cell_type": "code",
   "execution_count": 62,
   "metadata": {},
   "outputs": [
    {
     "name": "stdout",
     "output_type": "stream",
     "text": [
      "None\n"
     ]
    }
   ],
   "source": [
    "data2 = [3, 1, 2]\n",
    "result = data2.sort()\n",
    "print(result) #sort는 리턴이 없는 함수\n",
    "#리턴 있고 없고에 따라서 결과 데이터를 저장할 수 있고 없고가 결정됨."
   ]
  },
  {
   "cell_type": "code",
   "execution_count": 66,
   "metadata": {},
   "outputs": [],
   "source": [
    "def grade2(point):\n",
    "    if point >= 90:\n",
    "        result = \"A\"\n",
    "    elif point >= 80:\n",
    "        result = \"B\"\n",
    "    else:\n",
    "        result = \"C\"\n",
    "    return result"
   ]
  },
  {
   "cell_type": "code",
   "execution_count": 67,
   "metadata": {},
   "outputs": [
    {
     "data": {
      "text/plain": [
       "'C'"
      ]
     },
     "execution_count": 67,
     "metadata": {},
     "output_type": "execute_result"
    }
   ],
   "source": [
    "grade2(10)"
   ]
  },
  {
   "cell_type": "code",
   "execution_count": 68,
   "metadata": {},
   "outputs": [],
   "source": [
    "def grade3(point):\n",
    "    if point >= 90:\n",
    "        return \"A\"\n",
    "    elif point >= 80:\n",
    "        return \"B\"\n",
    "    else:\n",
    "        return \"C\"\n",
    "# 이 함수가 위의 함수보다 좋은 함수"
   ]
  },
  {
   "cell_type": "code",
   "execution_count": 69,
   "metadata": {},
   "outputs": [
    {
     "data": {
      "text/plain": [
       "'A'"
      ]
     },
     "execution_count": 69,
     "metadata": {},
     "output_type": "execute_result"
    }
   ],
   "source": [
    "grade3(100)"
   ]
  },
  {
   "cell_type": "code",
   "execution_count": 70,
   "metadata": {},
   "outputs": [],
   "source": [
    "#리턴의 또 다른 기능\n",
    "#함수에서 리턴 코드가 실행되면 무조건 함수의 코드 실행이 종료, for문의 break같은 거라고 생각하면 됨.\n",
    "#리턴은 결과데이터를 변수에 저장하기 위해서도 사용하지만 중간에 종료하기 위해서도 사용된다.\n",
    "def echo(msg):\n",
    "    if msg == \"quit\":\n",
    "        return\n",
    "    print(msg)\n",
    "#0와 None은 다르다. None은 데이터가 없다는 뜻이고 0은 0이 들어있다는 것."
   ]
  },
  {
   "cell_type": "code",
   "execution_count": 71,
   "metadata": {},
   "outputs": [
    {
     "name": "stdout",
     "output_type": "stream",
     "text": [
      "python\n"
     ]
    }
   ],
   "source": [
    "echo(\"python\")"
   ]
  },
  {
   "cell_type": "markdown",
   "metadata": {},
   "source": [
    "### 4. `*args`, `**kwargs`\n",
    "##### `` 안 써주면  `*`와 `**` 사라진다, 마크다운에서 각각 이탤릭, 강조의  용도로 사용되기 때문\n",
    "- 함수를 호출할 때 아규먼트와 키워드 아규먼트의 갯수를 특정지을 수 없을 때"
   ]
  },
  {
   "cell_type": "code",
   "execution_count": 73,
   "metadata": {},
   "outputs": [],
   "source": [
    "def plus(num1, num2):\n",
    "    return num1 + num2"
   ]
  },
  {
   "cell_type": "code",
   "execution_count": 78,
   "metadata": {},
   "outputs": [],
   "source": [
    "# 이 함수를 갯수 상관없이 더해주는 함수로 바꾸면\n",
    "def plus(*args, **kwargs):\n",
    "    print(type(args), args)\n",
    "    print(type(kwargs), kwargs)\n",
    "    return sum(args) + sum(list(kwargs.values()))\n",
    "\n",
    "#키워드 있는 아규먼트는 kwargs가 받는다"
   ]
  },
  {
   "cell_type": "code",
   "execution_count": 79,
   "metadata": {},
   "outputs": [
    {
     "name": "stdout",
     "output_type": "stream",
     "text": [
      "<class 'tuple'> (1, 2, 3, 4, 5)\n",
      "<class 'dict'> {'num1': 6, 'num2': 7}\n"
     ]
    },
    {
     "data": {
      "text/plain": [
       "28"
      ]
     },
     "execution_count": 79,
     "metadata": {},
     "output_type": "execute_result"
    }
   ],
   "source": [
    "plus(1, 2, 3, 4, 5, num1=6, num2=7)"
   ]
  },
  {
   "cell_type": "code",
   "execution_count": 84,
   "metadata": {},
   "outputs": [
    {
     "data": {
      "text/plain": [
       "6"
      ]
     },
     "execution_count": 84,
     "metadata": {},
     "output_type": "execute_result"
    }
   ],
   "source": [
    "def func(num1, num2=10, num3=20):\n",
    "    return num1 + num2 + num3\n",
    "data = [1, 2, 3]\n",
    "func(*data) #func(1, 2, 3), C의 포인터와 같은 기능?\n",
    "#func(data) #func([1, 2, 3])와 같다. 에러!"
   ]
  },
  {
   "cell_type": "code",
   "execution_count": 87,
   "metadata": {},
   "outputs": [
    {
     "data": {
      "text/plain": [
       "36"
      ]
     },
     "execution_count": 87,
     "metadata": {},
     "output_type": "execute_result"
    }
   ],
   "source": [
    "def func(num1, num2=10, num3=20):\n",
    "    return sum(num1) + num2 + num3\n",
    "data = [1, 2, 3]\n",
    "#func(*data)\n",
    "func(data) #[1,2,3]이 num1에 들어간다. sum 빠지면 에러!"
   ]
  },
  {
   "cell_type": "code",
   "execution_count": 91,
   "metadata": {},
   "outputs": [
    {
     "data": {
      "text/plain": [
       "301"
      ]
     },
     "execution_count": 91,
     "metadata": {},
     "output_type": "execute_result"
    }
   ],
   "source": [
    "def func(num1, num2=10, num3=20):\n",
    "    return num1 + num2 + num3\n",
    "data = {\n",
    "    \"num2\": 100,\n",
    "    \"num3\": 200,\n",
    "}\n",
    "func(1, **data) #func(1, num2=100, num3=200)"
   ]
  },
  {
   "cell_type": "code",
   "execution_count": null,
   "metadata": {},
   "outputs": [],
   "source": [
    "\n"
   ]
  }
 ],
 "metadata": {
  "kernelspec": {
   "display_name": "Python 3",
   "language": "python",
   "name": "python3"
  },
  "language_info": {
   "codemirror_mode": {
    "name": "ipython",
    "version": 3
   },
   "file_extension": ".py",
   "mimetype": "text/x-python",
   "name": "python",
   "nbconvert_exporter": "python",
   "pygments_lexer": "ipython3",
   "version": "3.7.6"
  }
 },
 "nbformat": 4,
 "nbformat_minor": 4
}
