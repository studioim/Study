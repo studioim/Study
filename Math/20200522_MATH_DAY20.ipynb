{
 "cells": [
  {
   "cell_type": "markdown",
   "metadata": {
    "ExecuteTime": {
     "end_time": "2020-05-23T06:26:39.729770Z",
     "start_time": "2020-05-23T06:26:39.674687Z"
    }
   },
   "source": [
    "## 5.3 분류모형"
   ]
  },
  {
   "cell_type": "markdown",
   "metadata": {},
   "source": [
    "- 분류 문제는 독립변수 값이 주어졌을 때 그 값과 가장 연관성이 큰 종속변수값(클래스)을 예측하는 문제\n",
    "- 어떤 표본에 대한 데이터가 주어졌을 때 그 표본이 어떤 카테고리 혹은 클래스에 속하는지를 알아내는 문제\n",
    "- 회귀분석은 숫자를 맞추는 문제, 여기선 카테고리를 맞추는 문제\n",
    "    - O,X 혹은 선다형 문제 맞추는 것과 비슷함"
   ]
  },
  {
   "cell_type": "markdown",
   "metadata": {},
   "source": [
    "### 5.3.1 분류 모형의 종류\n",
    "- 분류 문제를 푸는 방법을 분류모형이라고 한다.\n",
    "    - 확률적 모형: 주어진 데이터에 대해 각 카테고리 혹은 클래스가 정답일 조건부 확률을 계산\n",
    "        - 계산하는 방법에 따라 직접 조건부 확률 함수의 모양을 추정하는 확률적 판별 모형과\n",
    "        - 베이즈 정리를 사용해 간접적으로 조건부 확률을 구하는 확률적 생성 모형으로 나누어진다.\n",
    "    - 판별함수 모형\n",
    "        - 주어진 데이터를 카테고리에 따라 서로 다른 영역으로 나누는 경계면을 찾아낸 뒤 이 경계면으로부터 주어진 데이터가 어느 위치에 있는지를 계산하는 판별함수를 이용\n",
    "    - 판별함수 모형은 확률적 모형과 달리 확률을 사용하지 않는다"
   ]
  },
  {
   "cell_type": "markdown",
   "metadata": {},
   "source": [
    "- 모형 : 방법론\n",
    "- LDA/QDA : 확률적 생성모형\n",
    "- 나이브 베이지안 : 확률적 생성모형\n",
    "- 로지스틱 회귀 : 확률적 판별모형\n",
    "- 의사결정나무 : 확률적 판별모형\n",
    "- 퍼셉트론 : 판별함수 모형\n",
    "- 서포트벡터머신 : 판별함수 모형\n",
    "- 인공신경망 : 판별함수 모형"
   ]
  },
  {
   "cell_type": "markdown",
   "metadata": {},
   "source": [
    "### 5.3.2 확률적 모형\n",
    "- 입력 x가 주어졌을 때 y가 클래스 k가 될 확률을 모두 계산\n",
    "- 이 중에서 가장 확률이 큰 클래스를 선택하는 방법"
   ]
  },
  {
   "cell_type": "markdown",
   "metadata": {},
   "source": [
    "- 사이킷런 패키지에서 조건부 확률을 사용하는 분류모형들은 모두 predict_proba 메서드와 predic_log_proba 메서드를 지원한다\n",
    "    - log 취해주는 이유는 확률 값이 굉장히 작아서 부동소수점 문제가 일어나는 것을 막기 위해"
   ]
  },
  {
   "cell_type": "markdown",
   "metadata": {
    "ExecuteTime": {
     "end_time": "2020-05-23T07:55:46.844968Z",
     "start_time": "2020-05-23T07:55:46.835600Z"
    }
   },
   "source": [
    "### 1) 확률적 생성 모형\n",
    "- 새로운 가상의 특징 데이터를 생성해내거나 특징 데이터만으로도 아웃라이어를 판단할 수 있다\n",
    "- 하지만 많은 데이터나 계사느량을 요구하기도 한다는 단점이 있다"
   ]
  },
  {
   "cell_type": "markdown",
   "metadata": {},
   "source": [
    "##### QDA"
   ]
  },
  {
   "cell_type": "markdown",
   "metadata": {},
   "source": [
    "##### 나이브 베이지안 모형\n",
    "- 조건부 확률 기반 생성 모형의 장점 중 하나는 클래스가 3개 이상인 경우에도 바로 적용할 수 있다는 점\n",
    "- 나이브 베이지안 모형도 조건부 확률 모형의 일종이다"
   ]
  },
  {
   "cell_type": "markdown",
   "metadata": {},
   "source": [
    "##### 1000지선다면 1000개를 다 풀어서(정확하게는 999개) 확률을 구해보고 정하는 게 확률적모형"
   ]
  },
  {
   "cell_type": "markdown",
   "metadata": {
    "ExecuteTime": {
     "end_time": "2020-05-23T08:06:05.156149Z",
     "start_time": "2020-05-23T08:06:05.152197Z"
    }
   },
   "source": [
    "### 2) 확률적 판별 모형\n",
    "- QDA 나 나이브베이지안 방법은 베이즈 정리를 사용하는 조건부확률 기반 생성 모형\n",
    "    - 조건부 확률 기반 생성 모형은 조건부 확률을 구하기 위해 우선 가능도를 구하고 베이즈 정리를 사용해 조건부 확률을 계산한다\n",
    "- 하지만 확률적 판별 모형은 조건부확률이 x에 대한 함수 f(x)로 표시될 수 있다고 가정하고 그 함수를 직접 찾아내는 방법이다"
   ]
  },
  {
   "cell_type": "markdown",
   "metadata": {},
   "source": [
    "- 로지스틱 회귀모형의 경우 함수 f(x)가 로지스틱 함수의 형태를 띄기 때문에 이름이 그렇게 되는 것"
   ]
  },
  {
   "cell_type": "markdown",
   "metadata": {},
   "source": [
    "##### 로지스틱 회귀모형\n",
    "- 확률을 로지스틱 회귀 '함수'로 나타낼 수 있다"
   ]
  },
  {
   "cell_type": "markdown",
   "metadata": {},
   "source": [
    "### 3) 판별함수 모형"
   ]
  },
  {
   "cell_type": "markdown",
   "metadata": {},
   "source": [
    "- 동일한 클래스가 모여 있는 영역과 그 영역을 나누는 경계면을 정의하는 것\n",
    "- 이 경계면(boundary plane, line)은 경계면으로부터의 거리를 계산하는 f(x) 형태의 함수인 판별함수(discriminant function)로 정의된다\n",
    "- 판별함수의 값의 부호에 따라 클래스가 나뉘어 진다\n",
    "    - 판별 경계선 : f(x) = 0\n",
    "    - 클래스1 : f(x) > 0\n",
    "    - 클래스2 : f(x) < 0"
   ]
  },
  {
   "cell_type": "markdown",
   "metadata": {},
   "source": [
    "- deision function 메서드 제공"
   ]
  },
  {
   "cell_type": "markdown",
   "metadata": {},
   "source": [
    "- 확률에도 판별 모형이 있었다. 0.5보다 크냐 작냐를 기준으로 y가 0이냐 1이냐를 판별했다\n",
    "- 판별함수 모형이에서 크기 조건을 만족할 필요가 없다 부호만 본다"
   ]
  },
  {
   "cell_type": "markdown",
   "metadata": {
    "ExecuteTime": {
     "end_time": "2020-05-23T08:27:26.371022Z",
     "start_time": "2020-05-23T08:27:26.364742Z"
    }
   },
   "source": [
    "#### 퍼셉트론"
   ]
  },
  {
   "cell_type": "markdown",
   "metadata": {},
   "source": [
    "- 퍼셉트론(perceptron)은 가장 단순한 판별함수 모형. 직선 경계선(boundary line)으로 데이터 영역을 나눈다"
   ]
  },
  {
   "cell_type": "markdown",
   "metadata": {},
   "source": [
    "- 클래스가 3개인 것은 판별함수 모형에서 못 쓴다\n",
    "- 만약 데이터의 차원이 3차원이라면 다음과 같이 경계면을 가지게 된다. 이러한 경계면이나 경계선을 의사결정 하이퍼 플레인(decision hyperplane)이라고 한다"
   ]
  },
  {
   "cell_type": "markdown",
   "metadata": {
    "ExecuteTime": {
     "end_time": "2020-05-25T12:03:36.268472Z",
     "start_time": "2020-05-25T12:03:36.247758Z"
    }
   },
   "source": [
    "#### 커널 SVM\n",
    "- 커널 SVM(Kernel Supprot Vector Machine)을 사요하면 복잡한 형태의 경계선을 생성할 수도 있다"
   ]
  },
  {
   "cell_type": "markdown",
   "metadata": {},
   "source": [
    "### 다중 클래스 분류\n",
    "- 판별함수 모형은 부호를 가지고 구분하다보니 두 종류의 클래스, 이진 분류문제일 때만 풀 수 있었다\n",
    "- OvO(One-Vs-One) 방법이나 OvR(One-vs-the-Rest) 방법 등을 이요해 여러개의 이진 클래스 분류문제로 변환해 푼다"
   ]
  },
  {
   "cell_type": "markdown",
   "metadata": {},
   "source": [
    "#### (1) OvO 방법\n",
    "    - 한 번 씩 다 싸워보는 방법\n",
    "    - K개의 클래스가 존재하는 경우, 이 중 2개의 클래스 조합을 선택해 K(K - 1)/2개의 이진 클래스 분류문제를 풀고 이진 분류문제를 풀어 가장 많은 결과(승리)가 나온 클래스를 선택하는 방법\n",
    "    - 예) K=4, 4C2\n",
    "    - 선택받은 횟수로 선택하면 횟수가 같은 경우도 나올 수 있기 때문에 각 클래스가 얻은 조건부 확률값을 모두 더한 값을 비교해 가장 큰 조건부 확률 총합을 가진 클래스를 선택한다"
   ]
  },
  {
   "cell_type": "markdown",
   "metadata": {},
   "source": [
    "##### 확률론적 모형만 쓰고 끝내는 게 아니라 퍼셉트론, SVM으로도 문제를 풀어봐야 안다. 뭐가 더 성능이 좋게 나올지 알 수 없기 때문이다\n",
    "##### 확률론적 모형이 아닌 판별함수 모형을 써야 하는 경우도 존재"
   ]
  },
  {
   "cell_type": "markdown",
   "metadata": {
    "ExecuteTime": {
     "end_time": "2020-05-25T14:22:27.344081Z",
     "start_time": "2020-05-25T14:22:27.326864Z"
    }
   },
   "source": [
    "#### (2) OvR 방법\n",
    "- OvO 방법은 클래스의 수가 많아지면 실행해야 할 이진 분류문제의 수가 너무 많아진다\n",
    "- OVR 방법은 K개의 클래스가 존재하는 경우, 각가의 클래스에 대해 표본이 속하는지(y=1) 속하지 않는지(y=0)의 이진 분류문제를 푼다\n",
    "- OvO와 달리 클래스 수만큼의 이진 분류문제를 풀면 된다\n",
    "- OvR에서도 판별 결과의 수가 같은 동점 문제가 발생할 수 있기 때문에 각 클래스가 얻은 조건부 확률값을 더해서 이 값이 가장 큰 클래스를 선택한다"
   ]
  },
  {
   "cell_type": "markdown",
   "metadata": {},
   "source": [
    "##### 멀티레이어 퍼셉트론이 인공신경망이다. 인공신경망은 퍼셉트론을 레고 블럭처럼 더 많이 조합시켜서 만든 것이라고 생각하면 된다\n",
    "##### 그런데 엄청나게 많은 퍼셉트론을 조합했기 때문에 이미 퍼셉트론과는 달라지는 것"
   ]
  },
  {
   "cell_type": "markdown",
   "metadata": {},
   "source": [
    "## 5.4 분류 성능평가"
   ]
  },
  {
   "cell_type": "markdown",
   "metadata": {},
   "source": [
    "### 사이킷런 패키지에서 지원하는 분류 성능평가 명령\n",
    "- 사이킷런 패키지는 metrics 서브패키지에서 다음처럼 다양한 분류용 성능평가 명령을 제공한다.\n",
    "    - confusion_matrix(y_true, y_pred)\n",
    "    - accuracy_score(y_true, y_pred)\n",
    "    - precision_score(y_true, y_pred)\n",
    "    - recall_score(y_true, y_pred)\n",
    "    - fbeta_score(y_true, y_pred, beta)\n",
    "    - f1_score(y_true, y_pred)\n",
    "    - classfication_report(y_true, y_pred)\n",
    "    - roc_curve\n",
    "    - auc"
   ]
  },
  {
   "cell_type": "markdown",
   "metadata": {},
   "source": [
    "### 1) 분류결과표(confusion matrix)\n",
    "- 타겟의 원래 클래스와 모형이 예측한 클래스가 일치하는지는 개수로 센 결과를 표로 나타낸 것이다. 정답 클래스는 행(row)으로 예측한 클래스는 열(column)로 나타낸다\n"
   ]
  },
  {
   "cell_type": "markdown",
   "metadata": {},
   "source": [
    "### 2) 이진 분류결과표"
   ]
  },
  {
   "cell_type": "markdown",
   "metadata": {},
   "source": [
    "클래스가 0과 1 두 종류 밖에 없는 이진 분류의 경우에는 일반적으로 클래스 이름을 양성(Positive)와 음성(Negative)로 표시한다. 이 때의 결과를 나타내는 이진 분류결과표(Binary Confusion Matrix)결과표는 다음과 같다.\n",
    "\n",
    "| <span/> | 양성이라고 예측  | 음성이라고 예측 | \n",
    "|-|-|-|\n",
    "| 실제 양성 | 양성 예측이 맞음 (True Positive)   |  음성 예측이 틀림 (False Negative) |             \n",
    "| 실제 음성 | 양성 예측이 틀림 (False Positive)  |  음성 예측이 맞음 (True Negative)   |   \n",
    "\n",
    "분류 모형의 예측 결과가 맞은 경우, 즉 양성을 양성이라고 예측하거나 음성을 음성이라고 예측한 경우에는 참(True)라고 하고 예측 결과가 틀린 경우, 즉 양성을 음성이라고 예측하거나 음성을 양성이라고 예측한 경우에는 거짓(False)이라고 한다.\n"
   ]
  },
  {
   "cell_type": "markdown",
   "metadata": {},
   "source": [
    "- FN과 FP 가 가지는 무게가 다를 수 있다."
   ]
  },
  {
   "cell_type": "markdown",
   "metadata": {},
   "source": [
    "- FDS(Fraud Detection System)는 금융 거래, 회계 장부 등에서 잘못된 거래, 사기 거래를 찾아내는 시스템을 말한다\n",
    "- FDS의 예측 결과가 양성이면 사기거래라고 예측한 것이고 음성이면 정상거래라고 예측한 것"
   ]
  },
  {
   "cell_type": "markdown",
   "metadata": {},
   "source": [
    "### 3) 평가 점수\n",
    "- 정확도(accuracy)는 전체 샘플 중 맞게 예측한 샘플 수의 비율. 높을수록 좋은 모형.\n",
    "- 정밀도(precision)는 양성 클래스에 속한다고 출력한 샘플 중 실제로 양성 클래스에 속하는 샘플 수의 비율. 높을수록 좋은 모형\n",
    "    - FDS의 경우, 사기 거래라고 판단한 거래 중 실제 사기 거래의 비율\n",
    "- 재현율(recall)은 실제 양성 클래스에 속한 표본 중에 양성 클래스에 속한다고 출력한 표본의 수의 비율. 높을수록 좋은 비율\n",
    "    - FDS의 경우 실제 사기 거래 중에서 실제 사기 거래라고 예측한 거래의 비율이 된다. TPR(True Positive rate) 또는 민감도(sensitivity)라고도 한다\n",
    "- 위양성율(fall-out)은 실제 양성 클래스에 속하지 않는 표본 중에 양성 클래스에 속한다고 출력한 표본의 비율을 말한다.\n",
    "    - 다른 평가점수와 달리 낮을수록 좋은 모형이다.\n",
    "    - FDS의 경우에는 실제로는 정상 거래인데 FDS의 사기거래라고 예측한 거래의 비율이 된다.\n",
    "    - FPR(false positive rate) 또는 1에서 위양성률의 값을 밴 값을 특이도(specificity)라고도 한다\n",
    "- F점수는 정밀도와 재현율의 가중조화평균(weight harmonic average)을 F점수(F-score)라고 한다.\n",
    "    - 정밀도에 주어지는 가중치를 베타라고 한다. 베타가 1인 경우를 특별히 F1점수라고 한다.\n",
    "    - 조화평균: 2ab/(a+b)"
   ]
  },
  {
   "cell_type": "markdown",
   "metadata": {},
   "source": [
    "#### 사이킷런 패키지의 metrics패키지에서는 정밀도, 재현율, F1 점수를 구하는 classification_report 명령을 제공\n",
    "- 이 명령은 각각의 클래스를 양성 클래스로 보았을 때의 정밀도, 재현율 F1점수를 각각 구하고 그 평균값으로 전체 모형의 성능을 평가한다"
   ]
  },
  {
   "cell_type": "markdown",
   "metadata": {},
   "source": [
    "- f1-score: 정확도와 재현율의 평균\n",
    "- support: 실제로 클래스에 속하는 표본의 개수\n",
    "- macro avg: 단순평균\n",
    "- weighted avg: 각 클래스에 속하는 표본의 갯수로 가중평균\n",
    "- accuracy: 정확도. 전체 학습데이터의 개수에서 각 클래스에서 자신의 클래스를 정확하게 맞춘 개수의 비율."
   ]
  },
  {
   "cell_type": "markdown",
   "metadata": {},
   "source": [
    "### ROC(Receiver Operator Characteristic) 커브\n",
    "- 클래스 판별 기준값의 변화에 따른 위양성률과 재현율의 변화를 시각화한 것.\n",
    "- 재현율과 위양성률은 일반적으로 양의 상관관계에 있다\n",
    "- TPR: 재현율(리콜)\n",
    "- FPR: 위양성률(폴아웃)\n",
    "- 폴아웃보다 리콜이 더 큰 게 정상이다. 가장 있을 수 있는 최악은 TPR=FPR=0%와 TPR=FPR=100%를 연결한 선\n",
    "     - 그보다 나빠지면 비정상인 것"
   ]
  },
  {
   "cell_type": "markdown",
   "metadata": {},
   "source": [
    "- 모든 이진 분류 모형은 판별 평면으로부터의 거리에 해당하는 판별함수(discriminant function)를 가지며 판별함수값이 음수이면 0인 클래스, 양수이면 1인 클래스에 해당한다고 판별한다. 즉 0 이 클래스 판별 기준값이 된다. ROC 커브는 이 클래스 판별 기준값이 달라진다면 판별 결과가 어떻게 달라지는지는 표현한 것이다.\n",
    "- 사이킷런 패키지의 분류모형 클래스는 판별함수값을 계산하는 decision_function 메서드를 제공한다. 다음 표는 분류문제를 풀고 decision_function 메서드를 이용하여 모든 표본 데이터에 대해 판별함수값을 계산한 다음 계산된 판별함수값이 가장 큰 데이터부터 가장 작은 데이터 순서로 정렬한 것이다."
   ]
  },
  {
   "cell_type": "markdown",
   "metadata": {},
   "source": [
    "- ROC 커브는 이 표를 이용하여 다음과 같이 작성한다.\n",
    "\n",
    "현재는 0을 기준값(threshold)으로 클래스를 구분하여 판별함수값이 0보다 크면 양성(Positive), 작으면 음성(negative)이 된다.\n",
    "데이터 분류가 다르게 되도록 기준값을 증가 혹은 감소시킨다. 위의 표에서는 기준값을 0.244729보다 크도록 올리면 6번 데이터는 더이상 양성이 아니다.\n",
    "기준값을 여러가지 방법으로 증가 혹은 감소시키면서 이를 반복하면 여러가지 다른 기준값에 대해 분류 결과가 달라지고 재현율, 위양성률 등의 성능평가 점수도 달라진다."
   ]
  },
  {
   "cell_type": "markdown",
   "metadata": {},
   "source": [
    "#### 대부분의 모형에서는 어큐러시, 정확도가 높은 모형이 디폴트로 선택된다. 나중에 정확도가 중요한 게 아니야 할 수도 있다. 재현율이 가장 중요할 수도 있다. 그때 threshold 조정해 그걸 기준으로 할 수도 있다"
   ]
  },
  {
   "cell_type": "markdown",
   "metadata": {},
   "source": [
    "- ROC 커브 사용 이유\n",
    "    - threshold 값 조정\n",
    "    - 다른 기준으로는 살펴볼수 없는 성능의 차이를 ROC 커브를 통해 볼 수 있는 경우가 있다\n",
    "        - 왼쪽 상단으로 갈수록 성능이 좋다"
   ]
  },
  {
   "cell_type": "markdown",
   "metadata": {},
   "source": [
    "### AUC\n",
    "- AUC(Area Under the Curve)는 ROC curve의 면적을 뜻한다.\n",
    "- 위양성률 값이 같을 때 재현율 값이 크거나 재현률이 같을 때 위양성률 값이 작을수록 AUC가 1에 가까운 값이고 좋은 모형이다"
   ]
  },
  {
   "cell_type": "markdown",
   "metadata": {},
   "source": [
    "#### 다중 클래스에 대해서는 정밀도, 재현율을 구하거나 ROC 커브를 그릴 수 없으므로 각각의 클래스에 대해 OvR 문제를 가정하고 각각의 OvR문제에 대해 ROC 커브를 그린다"
   ]
  },
  {
   "cell_type": "markdown",
   "metadata": {},
   "source": [
    "#### 분류 성능 평가에서 중요한 것은 내가 어떤 기준을 가장 중요하게 여기는지이다. 그에 따라서 성능 평가의 결과가 달라질 수 있는 것이지 AUC 크다고 다 좋고 이런 거 아님"
   ]
  },
  {
   "cell_type": "code",
   "execution_count": null,
   "metadata": {},
   "outputs": [],
   "source": []
  }
 ],
 "metadata": {
  "kernelspec": {
   "display_name": "Python 3",
   "language": "python",
   "name": "python3"
  },
  "language_info": {
   "codemirror_mode": {
    "name": "ipython",
    "version": 3
   },
   "file_extension": ".py",
   "mimetype": "text/x-python",
   "name": "python",
   "nbconvert_exporter": "python",
   "pygments_lexer": "ipython3",
   "version": "3.7.6"
  }
 },
 "nbformat": 4,
 "nbformat_minor": 4
}
