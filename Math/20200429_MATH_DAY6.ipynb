{
 "cells": [
  {
   "cell_type": "code",
   "execution_count": 11,
   "metadata": {
    "ExecuteTime": {
     "end_time": "2020-04-29T05:08:27.512191Z",
     "start_time": "2020-04-29T05:08:27.485268Z"
    }
   },
   "outputs": [
    {
     "name": "stdout",
     "output_type": "stream",
     "text": [
      "Optimization terminated successfully.    (Exit mode 0)\n",
      "            Current function value: 4.04176407312663e-07\n",
      "            Iterations: 13\n",
      "            Function evaluations: 69\n",
      "            Gradient evaluations: 13\n"
     ]
    },
    {
     "data": {
      "text/plain": [
       "array([3.99999992, 1.9999996 ])"
      ]
     },
     "execution_count": 11,
     "metadata": {},
     "output_type": "execute_result"
    }
   ],
   "source": [
    "from functools import partial # 기능?\n",
    "import scipy as sp\n",
    "# 부등식 제한조건이 있는 최적화 문제 계산\n",
    "def f2(x):\n",
    "    return np.sqrt((x[0] - 4) ** 2 + (x[1] - 2) ** 2)\n",
    "\n",
    "# 제한 조건 상수\n",
    "\n",
    "k = 10\n",
    "\n",
    "def ieq_constraint2(x, k):\n",
    "    return np.atleast_1d(k - np.sum(np.abs(x)))\n",
    "\n",
    "sp.optimize.fmin_slsqp(f2, np.array([0, 0]), ieqcons=[partial(ieq_constraint2, k=k)])"
   ]
  },
  {
   "cell_type": "code",
   "execution_count": 16,
   "metadata": {
    "ExecuteTime": {
     "end_time": "2020-04-29T05:49:21.729176Z",
     "start_time": "2020-04-29T05:49:21.719404Z"
    }
   },
   "outputs": [
    {
     "data": {
      "text/plain": [
       "{1}"
      ]
     },
     "execution_count": 16,
     "metadata": {},
     "output_type": "execute_result"
    }
   ],
   "source": [
    "# 집합\n",
    "#set([1, [1]]) # 에러! 셋 자료형은 이뮤터블 형태의 원소만 가진다\n",
    "set([1, (1)])"
   ]
  },
  {
   "cell_type": "code",
   "execution_count": 19,
   "metadata": {
    "ExecuteTime": {
     "end_time": "2020-04-29T06:02:34.535783Z",
     "start_time": "2020-04-29T06:02:34.525910Z"
    }
   },
   "outputs": [
    {
     "data": {
      "text/plain": [
       "{1, 2, 3, 4, 5, 6, 7, 8}"
      ]
     },
     "execution_count": 19,
     "metadata": {},
     "output_type": "execute_result"
    }
   ],
   "source": [
    "A1 = {1, 2, 3, 4, 5}\n",
    "A2 = {5, 6, 7, 8}\n",
    "A1.union(A2)"
   ]
  },
  {
   "cell_type": "code",
   "execution_count": 20,
   "metadata": {
    "ExecuteTime": {
     "end_time": "2020-04-29T06:02:34.945588Z",
     "start_time": "2020-04-29T06:02:34.934034Z"
    }
   },
   "outputs": [
    {
     "data": {
      "text/plain": [
       "{1, 2, 3, 4, 5, 6, 7, 8}"
      ]
     },
     "execution_count": 20,
     "metadata": {},
     "output_type": "execute_result"
    }
   ],
   "source": [
    "A1 | A2"
   ]
  },
  {
   "cell_type": "code",
   "execution_count": 22,
   "metadata": {
    "ExecuteTime": {
     "end_time": "2020-04-29T06:02:54.404638Z",
     "start_time": "2020-04-29T06:02:54.396513Z"
    }
   },
   "outputs": [
    {
     "data": {
      "text/plain": [
       "{5}"
      ]
     },
     "execution_count": 22,
     "metadata": {},
     "output_type": "execute_result"
    }
   ],
   "source": [
    "A1.intersection(A2)"
   ]
  },
  {
   "cell_type": "code",
   "execution_count": 23,
   "metadata": {
    "ExecuteTime": {
     "end_time": "2020-04-29T06:03:03.013532Z",
     "start_time": "2020-04-29T06:03:03.004455Z"
    }
   },
   "outputs": [
    {
     "data": {
      "text/plain": [
       "{5}"
      ]
     },
     "execution_count": 23,
     "metadata": {},
     "output_type": "execute_result"
    }
   ],
   "source": [
    "A1 & A2"
   ]
  },
  {
   "cell_type": "code",
   "execution_count": 24,
   "metadata": {
    "ExecuteTime": {
     "end_time": "2020-04-29T06:06:12.185390Z",
     "start_time": "2020-04-29T06:06:12.177757Z"
    }
   },
   "outputs": [
    {
     "data": {
      "text/plain": [
       "False"
      ]
     },
     "execution_count": 24,
     "metadata": {},
     "output_type": "execute_result"
    }
   ],
   "source": [
    "A2.issubset(A1)"
   ]
  },
  {
   "cell_type": "code",
   "execution_count": 25,
   "metadata": {
    "ExecuteTime": {
     "end_time": "2020-04-29T06:06:18.475351Z",
     "start_time": "2020-04-29T06:06:18.467024Z"
    }
   },
   "outputs": [
    {
     "data": {
      "text/plain": [
       "False"
      ]
     },
     "execution_count": 25,
     "metadata": {},
     "output_type": "execute_result"
    }
   ],
   "source": [
    "A2 <= A1"
   ]
  },
  {
   "cell_type": "code",
   "execution_count": 44,
   "metadata": {
    "ExecuteTime": {
     "end_time": "2020-04-29T06:41:16.869574Z",
     "start_time": "2020-04-29T06:41:16.839559Z"
    }
   },
   "outputs": [],
   "source": [
    "A1 = frozenset([])\n",
    "A2 = frozenset([\"HH\"])\n",
    "A3 = frozenset([\"HT\"])\n",
    "A4 = frozenset([\"TH\"])\n",
    "#..."
   ]
  },
  {
   "cell_type": "code",
   "execution_count": 46,
   "metadata": {
    "ExecuteTime": {
     "end_time": "2020-04-29T06:47:41.038696Z",
     "start_time": "2020-04-29T06:47:41.026109Z"
    }
   },
   "outputs": [
    {
     "data": {
      "text/plain": [
       "{frozenset(),\n",
       " frozenset({'HH'}),\n",
       " frozenset({'HH', 'HT'}),\n",
       " frozenset({'TH'}),\n",
       " frozenset({'TH', 'TT'}),\n",
       " frozenset({'HH', 'TT'}),\n",
       " frozenset({'HH', 'TH'}),\n",
       " frozenset({'HT'}),\n",
       " frozenset({'HH', 'HT', 'TH'}),\n",
       " frozenset({'TT'}),\n",
       " frozenset({'HT', 'TT'}),\n",
       " frozenset({'HH', 'TH', 'TT'}),\n",
       " frozenset({'HT', 'TH'}),\n",
       " frozenset({'HT', 'TH', 'TT'}),\n",
       " frozenset({'HH', 'HT', 'TT'}),\n",
       " frozenset({'HH', 'HT', 'TH', 'TT'})}"
      ]
     },
     "execution_count": 46,
     "metadata": {},
     "output_type": "execute_result"
    }
   ],
   "source": [
    "from itertools import chain, combinations\n",
    "omega = {\"HH\", \"HT\", \"TH\", \"TT\"}\n",
    "def get_set_of_subjects(omega):\n",
    "    return set([frozenset(s)\n",
    "                for s in chain.from_iterable(combinations(omega, r)\n",
    "                                           for r in range(len(omega) + 1))])\n",
    "get_set_of_subjects(omega)\n",
    "# omega 집합을 받아서 부분집합을 구하고 이를 받아서 프로즌셋 자료형 객체로 만듦\n",
    "# 이 부분집합들을 원소로 가지는 하나의 set 객체로"
   ]
  },
  {
   "cell_type": "code",
   "execution_count": 55,
   "metadata": {
    "ExecuteTime": {
     "end_time": "2020-04-29T07:51:19.671242Z",
     "start_time": "2020-04-29T07:51:19.649629Z"
    }
   },
   "outputs": [
    {
     "data": {
      "text/plain": [
       "{frozenset(): 0,\n",
       " frozenset({'HH'}): 0.25,\n",
       " frozenset({'HH', 'HT'}): 0.5,\n",
       " frozenset({'TH'}): 0.25,\n",
       " frozenset({'TH', 'TT'}): 0.5,\n",
       " frozenset({'HH', 'TT'}): 0.5,\n",
       " frozenset({'HH', 'TH'}): 0.5,\n",
       " frozenset({'HT'}): 0.25,\n",
       " frozenset({'HH', 'HT', 'TH'}): 0.75,\n",
       " frozenset({'TT'}): 0.25,\n",
       " frozenset({'HT', 'TT'}): 0.5,\n",
       " frozenset({'HH', 'TH', 'TT'}): 0.75,\n",
       " frozenset({'HT', 'TH'}): 0.5,\n",
       " frozenset({'HT', 'TH', 'TT'}): 0.75,\n",
       " frozenset({'HH', 'HT', 'TT'}): 0.75,\n",
       " frozenset({'HH', 'HT', 'TH', 'TT'}): 1}"
      ]
     },
     "execution_count": 55,
     "metadata": {},
     "output_type": "execute_result"
    }
   ],
   "source": [
    "# 이럴 때 확률이라고 말할 수 있다, 확률 분포 \n",
    "{frozenset() : 0,\n",
    " frozenset({'HH'}) : 0.25,\n",
    " frozenset({'HH', 'HT'}) : 0.5,\n",
    " frozenset({'TH'}) : 0.25,\n",
    " frozenset({'TH', 'TT'}) : 0.5,\n",
    " frozenset({'HH', 'TT'}) : 0.5,\n",
    " frozenset({'HH', 'TH'}) : 0.5,\n",
    " frozenset({'HT'}) : 0.25,\n",
    " frozenset({'HH', 'HT', 'TH'}) : 0.75,\n",
    " frozenset({'TT'}) : 0.25,\n",
    " frozenset({'HT', 'TT'}) : 0.5,\n",
    " frozenset({'HH', 'TH', 'TT'}) : 0.75,\n",
    " frozenset({'HT', 'TH'}) : 0.5,\n",
    " frozenset({'HT', 'TH', 'TT'}) : 0.75,\n",
    " frozenset({'HH', 'HT', 'TT'}) : 0.75,\n",
    " frozenset({'HH', 'HT', 'TH', 'TT'}) : 1\n",
    "}"
   ]
  },
  {
   "cell_type": "code",
   "execution_count": 79,
   "metadata": {
    "ExecuteTime": {
     "end_time": "2020-04-29T11:59:27.995749Z",
     "start_time": "2020-04-29T11:59:27.984628Z"
    }
   },
   "outputs": [],
   "source": [
    "# 연습문제 6.4.3\n",
    "# 0도에서 180도 사이에 화살이 2배 더 잘 박히도록 조작된 원반\n",
    "def f(a, b):\n",
    "    if a > b:\n",
    "        raise ValueError('a must be less than b or equal to b')\n",
    "    if (a <= 180) & (b <= 180):\n",
    "        result = ((b - a) / 180) * (2 / 3)\n",
    "    elif (a <= 180) & (b > 180):\n",
    "        result = ((180 - a) / 180) * (2 / 3) + ((b - 180) / 180) * (1 / 3)        \n",
    "    else:\n",
    "        result = ((b - a) / 180) * (1 / 3)\n",
    "    return result\n",
    "\n",
    "# 혹은 람다 함수 이용해\n",
    "# f = lambda  a, b: (2 * (b - a) if b < 180 else b - 2 * a + 180 if a < 180 else b - a) / 540\n",
    "#f(0, 270)"
   ]
  },
  {
   "cell_type": "code",
   "execution_count": 85,
   "metadata": {
    "ExecuteTime": {
     "end_time": "2020-04-29T12:26:58.201388Z",
     "start_time": "2020-04-29T12:26:58.193207Z"
    }
   },
   "outputs": [
    {
     "data": {
      "text/plain": [
       "0.6666666666666666"
      ]
     },
     "execution_count": 85,
     "metadata": {},
     "output_type": "execute_result"
    }
   ],
   "source": [
    "f(90, 360)"
   ]
  },
  {
   "cell_type": "code",
   "execution_count": 108,
   "metadata": {
    "ExecuteTime": {
     "end_time": "2020-04-29T12:50:24.274689Z",
     "start_time": "2020-04-29T12:50:24.263014Z"
    }
   },
   "outputs": [
    {
     "data": {
      "text/plain": [
       "0.6666666666666667"
      ]
     },
     "execution_count": 108,
     "metadata": {},
     "output_type": "execute_result"
    }
   ],
   "source": [
    "# 연습문제 6.4.4\n",
    "def F(x):\n",
    "    if x < 0:\n",
    "        return 0\n",
    "    elif x > 360:\n",
    "        return 1\n",
    "    else:\n",
    "        return (x * 2 if x < 180 else (x - 180) + 360) / 540\n",
    "F(360) - F(90)"
   ]
  },
  {
   "cell_type": "code",
   "execution_count": 110,
   "metadata": {
    "ExecuteTime": {
     "end_time": "2020-04-29T12:57:01.619173Z",
     "start_time": "2020-04-29T12:57:01.225640Z"
    }
   },
   "outputs": [
    {
     "data": {
      "image/png": "[encoded data removed]",
      "text/plain": [
       "<Figure size 432x288 with 1 Axes>"
      ]
     },
     "metadata": {
      "image/png": {
       "height": 284,
       "width": 394
      }
     },
     "output_type": "display_data"
    }
   ],
   "source": [
    "# 그래프 그리기\n",
    "t = np.linspace(-100, 500, 100)\n",
    "Fs = np.array(list(map(F, t))) # t 리스트 데이터를 F함수에 적용한 리스트 행렬\n",
    "plt.plot(t, Fs)\n",
    "plt.ylim(-0.1, 1.1)\n",
    "plt.xticks([0, 180, 360])\n",
    "plt.title('누적분포함수')\n",
    "plt.xlabel('$x$ (도)')\n",
    "plt.ylabel('$F(x)$')\n",
    "plt.show()"
   ]
  },
  {
   "cell_type": "code",
   "execution_count": null,
   "metadata": {},
   "outputs": [],
   "source": []
  }
 ],
 "metadata": {
  "kernelspec": {
   "display_name": "Python 3",
   "language": "python",
   "name": "python3"
  },
  "language_info": {
   "codemirror_mode": {
    "name": "ipython",
    "version": 3
   },
   "file_extension": ".py",
   "mimetype": "text/x-python",
   "name": "python",
   "nbconvert_exporter": "python",
   "pygments_lexer": "ipython3",
   "version": "3.7.6"
  }
 },
 "nbformat": 4,
 "nbformat_minor": 4
}
