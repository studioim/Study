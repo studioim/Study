{
 "cells": [
  {
   "cell_type": "code",
   "execution_count": 7,
   "metadata": {
    "ExecuteTime": {
     "end_time": "2020-05-02T05:53:31.756508Z",
     "start_time": "2020-05-02T05:53:27.695751Z"
    }
   },
   "outputs": [
    {
     "name": "stdout",
     "output_type": "stream",
     "text": [
      "Requirement already satisfied: pgmpy in /Users/Im/opt/anaconda3/lib/python3.7/site-packages (0.1.10)\n",
      "Requirement already satisfied: scipy in /Users/Im/opt/anaconda3/lib/python3.7/site-packages (from pgmpy) (1.4.1)\n",
      "Requirement already satisfied: networkx in /Users/Im/opt/anaconda3/lib/python3.7/site-packages (from pgmpy) (2.4)\n",
      "Requirement already satisfied: pandas in /Users/Im/opt/anaconda3/lib/python3.7/site-packages (from pgmpy) (1.0.1)\n",
      "Requirement already satisfied: pyparsing in /Users/Im/opt/anaconda3/lib/python3.7/site-packages (from pgmpy) (2.4.6)\n",
      "Requirement already satisfied: numpy in /Users/Im/opt/anaconda3/lib/python3.7/site-packages (from pgmpy) (1.18.1)\n",
      "Requirement already satisfied: tqdm in /Users/Im/opt/anaconda3/lib/python3.7/site-packages (from pgmpy) (4.42.1)\n",
      "Requirement already satisfied: torch in /Users/Im/opt/anaconda3/lib/python3.7/site-packages (from pgmpy) (1.5.0)\n",
      "Requirement already satisfied: statsmodels in /Users/Im/opt/anaconda3/lib/python3.7/site-packages (from pgmpy) (0.11.0)\n",
      "Requirement already satisfied: joblib in /Users/Im/opt/anaconda3/lib/python3.7/site-packages (from pgmpy) (0.14.1)\n",
      "Requirement already satisfied: decorator>=4.3.0 in /Users/Im/opt/anaconda3/lib/python3.7/site-packages (from networkx->pgmpy) (4.4.1)\n",
      "Requirement already satisfied: python-dateutil>=2.6.1 in /Users/Im/opt/anaconda3/lib/python3.7/site-packages (from pandas->pgmpy) (2.8.1)\n",
      "Requirement already satisfied: pytz>=2017.2 in /Users/Im/opt/anaconda3/lib/python3.7/site-packages (from pandas->pgmpy) (2019.3)\n",
      "Requirement already satisfied: future in /Users/Im/opt/anaconda3/lib/python3.7/site-packages (from torch->pgmpy) (0.18.2)\n",
      "Requirement already satisfied: patsy>=0.5 in /Users/Im/opt/anaconda3/lib/python3.7/site-packages (from statsmodels->pgmpy) (0.5.1)\n",
      "Requirement already satisfied: six>=1.5 in /Users/Im/opt/anaconda3/lib/python3.7/site-packages (from python-dateutil>=2.6.1->pandas->pgmpy) (1.14.0)\n"
     ]
    }
   ],
   "source": [
    "!pip install pgmpy"
   ]
  },
  {
   "cell_type": "code",
   "execution_count": 16,
   "metadata": {
    "ExecuteTime": {
     "end_time": "2020-05-02T05:55:52.975290Z",
     "start_time": "2020-05-02T05:55:52.970625Z"
    }
   },
   "outputs": [],
   "source": [
    "from pgmpy.factors.discrete import JointProbabilityDistribution as JPD"
   ]
  },
  {
   "cell_type": "code",
   "execution_count": 17,
   "metadata": {
    "ExecuteTime": {
     "end_time": "2020-05-02T05:55:53.249158Z",
     "start_time": "2020-05-02T05:55:53.239364Z"
    }
   },
   "outputs": [
    {
     "data": {
      "text/plain": [
       "array([0.6, 0.4])"
      ]
     },
     "execution_count": 17,
     "metadata": {},
     "output_type": "execute_result"
    }
   ],
   "source": [
    "np.array([12, 8]) / 20"
   ]
  },
  {
   "cell_type": "code",
   "execution_count": 18,
   "metadata": {
    "ExecuteTime": {
     "end_time": "2020-05-02T05:55:53.475686Z",
     "start_time": "2020-05-02T05:55:53.465614Z"
    }
   },
   "outputs": [
    {
     "data": {
      "text/plain": [
       "<Joint Distribution representing P(X:2) at 0x1a1a0a1bd0>"
      ]
     },
     "execution_count": 18,
     "metadata": {},
     "output_type": "execute_result"
    }
   ],
   "source": [
    "px = JPD(['X'], [2], np.array([12, 8]) / 20)\n",
    "px"
   ]
  },
  {
   "cell_type": "code",
   "execution_count": 19,
   "metadata": {
    "ExecuteTime": {
     "end_time": "2020-05-02T05:55:53.747792Z",
     "start_time": "2020-05-02T05:55:53.735374Z"
    }
   },
   "outputs": [
    {
     "data": {
      "text/plain": [
       "<Joint Distribution representing P(Y:2) at 0x1a1a21bc90>"
      ]
     },
     "execution_count": 19,
     "metadata": {},
     "output_type": "execute_result"
    }
   ],
   "source": [
    "py = JPD(['Y'], [2], [0.5, 0.5])\n",
    "py"
   ]
  },
  {
   "cell_type": "code",
   "execution_count": 20,
   "metadata": {
    "ExecuteTime": {
     "end_time": "2020-05-02T05:55:54.016964Z",
     "start_time": "2020-05-02T05:55:54.004509Z"
    }
   },
   "outputs": [
    {
     "data": {
      "text/plain": [
       "<Joint Distribution representing P(X:2, Y:2) at 0x1a1abde150>"
      ]
     },
     "execution_count": 20,
     "metadata": {},
     "output_type": "execute_result"
    }
   ],
   "source": [
    "# 결합확률의 경우\n",
    "pxy = JPD(['X', 'Y'], [2, 2],  np.array([3, 9, 7, 1]) / 20)\n",
    "pxy"
   ]
  },
  {
   "cell_type": "code",
   "execution_count": 23,
   "metadata": {
    "ExecuteTime": {
     "end_time": "2020-05-02T05:56:20.271642Z",
     "start_time": "2020-05-02T05:56:20.262149Z"
    }
   },
   "outputs": [
    {
     "data": {
      "text/plain": [
       "<Joint Distribution representing P(X:2, Y:2) at 0x1a1abdedd0>"
      ]
     },
     "execution_count": 23,
     "metadata": {},
     "output_type": "execute_result"
    }
   ],
   "source": [
    "pxy = JPD(['X', 'Y'], [2, 2], [0.15, 0.45, 0.35, 0.05])\n",
    "pxy"
   ]
  },
  {
   "cell_type": "code",
   "execution_count": null,
   "metadata": {},
   "outputs": [],
   "source": []
  }
 ],
 "metadata": {
  "kernelspec": {
   "display_name": "Python 3",
   "language": "python",
   "name": "python3"
  },
  "language_info": {
   "codemirror_mode": {
    "name": "ipython",
    "version": 3
   },
   "file_extension": ".py",
   "mimetype": "text/x-python",
   "name": "python",
   "nbconvert_exporter": "python",
   "pygments_lexer": "ipython3",
   "version": "3.7.6"
  }
 },
 "nbformat": 4,
 "nbformat_minor": 4
}
