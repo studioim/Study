{
 "cells": [
  {
   "cell_type": "code",
   "execution_count": 8,
   "metadata": {
    "ExecuteTime": {
     "end_time": "2020-05-13T10:40:59.248651Z",
     "start_time": "2020-05-13T10:40:59.233255Z"
    }
   },
   "outputs": [
    {
     "data": {
      "text/plain": [
       "31"
      ]
     },
     "execution_count": 8,
     "metadata": {},
     "output_type": "execute_result"
    }
   ],
   "source": [
    "# 사이파이를 사용한 검정\n",
    "# 이항검정\n",
    "N = 100\n",
    "mu_0 = 0.35 # 귀무가설\n",
    "np.random.seed(0)\n",
    "x = sp.stats.bernoulli(mu_0).rvs(N)\n",
    "n = np.count_nonzero(x)\n",
    "n"
   ]
  },
  {
   "cell_type": "code",
   "execution_count": 9,
   "metadata": {
    "ExecuteTime": {
     "end_time": "2020-05-13T10:40:59.533709Z",
     "start_time": "2020-05-13T10:40:59.487202Z"
    }
   },
   "outputs": [
    {
     "data": {
      "text/plain": [
       "0.00018314322488235352"
      ]
     },
     "execution_count": 9,
     "metadata": {},
     "output_type": "execute_result"
    }
   ],
   "source": [
    "sp.stats.binom_test(n, N) # 유의확률 구하기"
   ]
  },
  {
   "cell_type": "code",
   "execution_count": 10,
   "metadata": {
    "ExecuteTime": {
     "end_time": "2020-05-13T10:41:01.426150Z",
     "start_time": "2020-05-13T10:41:01.421728Z"
    }
   },
   "outputs": [],
   "source": [
    "# 귀무가설 기각, mu는 0.5가 아니다"
   ]
  },
  {
   "cell_type": "code",
   "execution_count": 20,
   "metadata": {
    "ExecuteTime": {
     "end_time": "2020-05-13T10:51:28.664904Z",
     "start_time": "2020-05-13T10:51:28.621860Z"
    }
   },
   "outputs": [
    {
     "name": "stdout",
     "output_type": "stream",
     "text": [
      "0 0.001953125\n",
      "1 0.021484374999999997\n",
      "2 0.10937500000000003\n",
      "3 0.3437499999999999\n",
      "4 0.7539062500000002\n",
      "5 1.0\n",
      "6 0.7539062500000002\n",
      "7 0.3437499999999999\n",
      "8 0.10937500000000003\n",
      "9 0.021484374999999997\n",
      "10 0.001953125\n"
     ]
    }
   ],
   "source": [
    "# 연습문제 9.5.1 \n",
    "N = 10\n",
    "for n in range(N + 1):\n",
    "    x = sp.stats.binom_test(n, N)\n",
    "    print(n, x)"
   ]
  },
  {
   "cell_type": "code",
   "execution_count": 25,
   "metadata": {
    "ExecuteTime": {
     "end_time": "2020-05-13T11:05:53.529755Z",
     "start_time": "2020-05-13T11:05:52.090102Z"
    }
   },
   "outputs": [
    {
     "name": "stdout",
     "output_type": "stream",
     "text": [
      "N = 10일 때 공정한 경우: 앞면이 나온 횟수가 2 ~ 8일 때\n",
      "N = 1000일 때 공정한 경우: 앞면이 나온 횟수가 474 ~ 526일 때\n"
     ]
    }
   ],
   "source": [
    "N1 = 10\n",
    "pvalues1 = np.array([sp.stats.binom_test(n, N1) for n in range(N1 + 1)])\n",
    "fair_range1, = np.where(pvalues1 > 0.1)\n",
    "fair_start1, fair_end1 = fair_range1[0], fair_range1[-1]\n",
    "print(\"N = {}일 때 공정한 경우: 앞면이 나온 횟수가 {} ~ {}일 때\".format(N1, fair_start1, fair_end1))\n",
    "N2 = 1000\n",
    "pvalues2 = np.array([sp.stats.binom_test(n, N2) for n in range(N2 + 1)])\n",
    "fair_range2, = np.where(pvalues2 > 0.1)\n",
    "fair_start2, fair_end2 = fair_range2[0], fair_range2[-1]\n",
    "print(\"N = {}일 때 공정한 경우: 앞면이 나온 횟수가 {} ~ {}일 때\".format(N2, fair_start2, fair_end2))"
   ]
  },
  {
   "cell_type": "code",
   "execution_count": 27,
   "metadata": {
    "ExecuteTime": {
     "end_time": "2020-05-13T11:41:26.415814Z",
     "start_time": "2020-05-13T11:41:26.404962Z"
    }
   },
   "outputs": [
    {
     "data": {
      "text/plain": [
       "Power_divergenceResult(statistic=25.000000000000004, pvalue=0.00013933379118562602)"
      ]
     },
     "execution_count": 27,
     "metadata": {},
     "output_type": "execute_result"
    }
   ],
   "source": [
    "# 9.5.4\n",
    "# 6면체 주사위를 5번 던졌다. 5번 모두 6이 나왔다면 주사위가 공정하다는 귀무가설의 유의확률은 얼마인가?\n",
    "sp.stats.chisquare([0, 0, 0, 0, 0, 5]) # 6만 다섯번 나온 경우 원핫인코딩\u001c"
   ]
  },
  {
   "cell_type": "code",
   "execution_count": 28,
   "metadata": {
    "ExecuteTime": {
     "end_time": "2020-05-13T11:42:44.247589Z",
     "start_time": "2020-05-13T11:42:44.240734Z"
    }
   },
   "outputs": [],
   "source": [
    "# 이런 경우는 페어하지 않다는 뜻"
   ]
  },
  {
   "cell_type": "code",
   "execution_count": 33,
   "metadata": {
    "ExecuteTime": {
     "end_time": "2020-05-13T12:01:23.235365Z",
     "start_time": "2020-05-13T12:01:23.223655Z"
    }
   },
   "outputs": [
    {
     "data": {
      "text/plain": [
       "(9.910060890453046,\n",
       " 0.00704786570249751,\n",
       " 2,\n",
       " array([[10.8, 13.6, 15.6],\n",
       "        [16.2, 20.4, 23.4]]))"
      ]
     },
     "execution_count": 33,
     "metadata": {},
     "output_type": "execute_result"
    }
   ],
   "source": [
    "# 카이제곱 독립검정\n",
    "# 9.5.5\n",
    "obs =np.array([[4, 16, 20], [23, 18, 19]])\n",
    "sp.stats.chi2_contingency(obs)"
   ]
  },
  {
   "cell_type": "code",
   "execution_count": 34,
   "metadata": {
    "ExecuteTime": {
     "end_time": "2020-05-13T12:04:32.201054Z",
     "start_time": "2020-05-13T12:04:32.193846Z"
    }
   },
   "outputs": [],
   "source": [
    "# 유의확률이 1%보다 작으므로 기각, 귀무가설이 상관관계가 없다이므로 상관관계가 있다고 말할 수 있다"
   ]
  },
  {
   "cell_type": "code",
   "execution_count": 35,
   "metadata": {
    "ExecuteTime": {
     "end_time": "2020-05-14T01:47:17.530632Z",
     "start_time": "2020-05-14T01:47:17.487782Z"
    }
   },
   "outputs": [],
   "source": [
    "# 9.5 사이파이를 사용한 검정\n",
    "# 이항 검정\n",
    "# 카이제곱검정\n",
    "# 카이제곱독립검정\n",
    "# 단일표본 z검정\n",
    "# 단일표본 t검정\n",
    "# 독립표본 t검정\n",
    "# 대응표본 t검정\n",
    "# 등분산검정\n",
    "# 정규성검정"
   ]
  },
  {
   "cell_type": "code",
   "execution_count": 42,
   "metadata": {
    "ExecuteTime": {
     "end_time": "2020-05-14T01:54:03.657121Z",
     "start_time": "2020-05-14T01:54:03.641967Z"
    }
   },
   "outputs": [
    {
     "data": {
      "text/plain": [
       "Ttest_indResult(statistic=0.623010926550264, pvalue=0.5415458608473267)"
      ]
     },
     "execution_count": 42,
     "metadata": {},
     "output_type": "execute_result"
    }
   ],
   "source": [
    "# 연습문제 9.5.6\n",
    "# 독립표본 t검정\n",
    "# 두 표본의 분산이 같다고 가정했을 경우\n",
    "x1 = [80, 75, 85, 50, 60, 75, 45, 70, 90, 95, 85, 80]\n",
    "x2 = [80, 85, 70, 80, 35, 55, 80]\n",
    "sp.stats.ttest_ind(x1, x2, equal_var=True)"
   ]
  },
  {
   "cell_type": "code",
   "execution_count": 43,
   "metadata": {
    "ExecuteTime": {
     "end_time": "2020-05-14T01:54:04.033583Z",
     "start_time": "2020-05-14T01:54:04.025173Z"
    }
   },
   "outputs": [
    {
     "data": {
      "text/plain": [
       "Ttest_indResult(statistic=0.596519621317167, pvalue=0.562790180213766)"
      ]
     },
     "execution_count": 43,
     "metadata": {},
     "output_type": "execute_result"
    }
   ],
   "source": [
    "# 두 표본의 분산이 다르다고 가정했을 경우\n",
    "sp.stats.ttest_ind(x1, x2, equal_var=False)"
   ]
  },
  {
   "cell_type": "code",
   "execution_count": 45,
   "metadata": {
    "ExecuteTime": {
     "end_time": "2020-05-14T01:54:31.556793Z",
     "start_time": "2020-05-14T01:54:31.549125Z"
    }
   },
   "outputs": [],
   "source": [
    "# 둘 다 귀무가설을 기각할 수 없다\n",
    "# 1반의 실력이 2반의 실력보다 좋다고 말할 수 없다"
   ]
  },
  {
   "cell_type": "code",
   "execution_count": null,
   "metadata": {},
   "outputs": [],
   "source": []
  }
 ],
 "metadata": {
  "kernelspec": {
   "display_name": "Python 3",
   "language": "python",
   "name": "python3"
  },
  "language_info": {
   "codemirror_mode": {
    "name": "ipython",
    "version": 3
   },
   "file_extension": ".py",
   "mimetype": "text/x-python",
   "name": "python",
   "nbconvert_exporter": "python",
   "pygments_lexer": "ipython3",
   "version": "3.7.6"
  }
 },
 "nbformat": 4,
 "nbformat_minor": 4
}
