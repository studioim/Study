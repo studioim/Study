{
 "cells": [
  {
   "cell_type": "code",
   "execution_count": 2,
   "metadata": {
    "ExecuteTime": {
     "end_time": "2020-05-28T11:36:42.641207Z",
     "start_time": "2020-05-28T11:36:42.636856Z"
    }
   },
   "outputs": [],
   "source": [
    "# 베르누이 나이브베이즈 모형은 둘 중에 조건부확률이 무엇이 더 큰지 알아보는 모델\n",
    "# 스무딩은 한 세트의 가짜 데이터를 생성한다"
   ]
  },
  {
   "cell_type": "markdown",
   "metadata": {
    "school_cell_uuid": "e64973da29eb48dfa2cc8d7e8f1eaccb"
   },
   "source": [
    "### 다항분포 나이브베이즈 모형"
   ]
  },
  {
   "cell_type": "markdown",
   "metadata": {
    "school_cell_uuid": "b01b3906ef6748c2a59f622b99f399db"
   },
   "source": [
    "다항분포 나이브베이즈 모형 클래스 `MultinomialNB`는 가능도 추정과 관련하여 다음 속성을 가진다.\n",
    "\n",
    "* `feature_count_`: 각 클래스 $k$에서 $d$번째 면이 나온 횟수 $N_{d,k}$\n",
    "* `feature_log_prob_`: 다항분포의 모수의 로그\n",
    " \n",
    "$$ \\log \\mu_k = (\\log \\mu_{1,k}, \\ldots, \\log \\mu_{D, k}) = \\left( \\log \\dfrac{N_{1,k}}{N_k}, \\ldots, \\log \\dfrac{N_{D,k}}{N_k} \\right)$$\n",
    " \n",
    "여기에서 $N_k$은 클래스 $k$에 대해 주사위를 던진 총 횟수를 뜻한다.\n",
    "\n",
    "스무딩 공식은\n",
    "\n",
    "$$ \\hat{\\mu}_{d,k} = \\frac{ N_{d,k} + \\alpha}{N_k + D \\alpha} $$ \n",
    "\n",
    "이다."
   ]
  },
  {
   "cell_type": "markdown",
   "metadata": {
    "school_cell_uuid": "878f08f470fe45b5b3159c928634965c"
   },
   "source": [
    "이번에도 스팸 메일 필터링을 예로 들어보다. 다만 BOW 인코딩을 할 때, 각 키워드가 출현한 빈도를 직접 입력 변수로 사용한다."
   ]
  },
  {
   "cell_type": "code",
   "execution_count": 30,
   "metadata": {
    "school_cell_uuid": "d59b398d0a72413f96f1a665b485fbad"
   },
   "outputs": [],
   "source": [
    "X = np.array([\n",
    "    [3, 4, 1, 2],\n",
    "    [3, 5, 1, 1],\n",
    "    [3, 3, 0, 4],\n",
    "    [3, 4, 1, 2],\n",
    "    [1, 2, 1, 4],\n",
    "    [0, 0, 5, 3],\n",
    "    [1, 2, 4, 1],\n",
    "    [1, 1, 4, 2],\n",
    "    [0, 1, 2, 5],\n",
    "    [2, 1, 2, 3]])\n",
    "y = np.array([0, 0, 0, 0, 1, 1, 1, 1, 1, 1])"
   ]
  },
  {
   "cell_type": "code",
   "execution_count": 31,
   "metadata": {
    "school_cell_uuid": "1f25b33f28db47c9b657b39046428cea"
   },
   "outputs": [],
   "source": [
    "from sklearn.naive_bayes import MultinomialNB\n",
    "model_mult = MultinomialNB().fit(X, y)"
   ]
  },
  {
   "cell_type": "markdown",
   "metadata": {
    "school_cell_uuid": "ba6a921fc64d4bfbad9294a405fc4807"
   },
   "source": [
    "사전 확률은 다음과 같이 구한다."
   ]
  },
  {
   "cell_type": "code",
   "execution_count": 32,
   "metadata": {
    "school_cell_uuid": "afca993626b446d282891b309ffbc2a1"
   },
   "outputs": [
    {
     "data": {
      "text/plain": [
       "array([0, 1])"
      ]
     },
     "execution_count": 32,
     "metadata": {},
     "output_type": "execute_result"
    }
   ],
   "source": [
    "model_mult.classes_"
   ]
  },
  {
   "cell_type": "code",
   "execution_count": 33,
   "metadata": {
    "school_cell_uuid": "493061cf270f41ee9af14c6312ec0329"
   },
   "outputs": [
    {
     "data": {
      "text/plain": [
       "array([4., 6.])"
      ]
     },
     "execution_count": 33,
     "metadata": {},
     "output_type": "execute_result"
    }
   ],
   "source": [
    "model_mult.class_count_"
   ]
  },
  {
   "cell_type": "code",
   "execution_count": 34,
   "metadata": {
    "school_cell_uuid": "493061cf270f41ee9af14c6312ec0329"
   },
   "outputs": [
    {
     "data": {
      "text/plain": [
       "array([0.4, 0.6])"
      ]
     },
     "execution_count": 34,
     "metadata": {},
     "output_type": "execute_result"
    }
   ],
   "source": [
    "np.exp(model_mult.class_log_prior_)"
   ]
  },
  {
   "cell_type": "markdown",
   "metadata": {
    "school_cell_uuid": "f8be2b2fcbef4d4da691deefd96fab68"
   },
   "source": [
    "다음으로 각 클래스에 대한 가능도 확률분포를 구한다. 다항분포 모형을 사용하므로 각 클래스틑 4개의 면을 가진 주사위로 생각할 수 있다. 그리고 각 면이 나올 확률은 각 면이 나온 횟수를 주사위를 던진 전체 횟수로 나누면 된다. 우선 각 클래스 별로 각각의 면이 나온 횟수는 다음과 같다. "
   ]
  },
  {
   "cell_type": "code",
   "execution_count": 35,
   "metadata": {
    "school_cell_uuid": "d3f8b803315d4354a843775bcb34785b"
   },
   "outputs": [
    {
     "data": {
      "text/plain": [
       "array([[12., 16.,  3.,  9.],\n",
       "       [ 5.,  7., 18., 18.]])"
      ]
     },
     "execution_count": 35,
     "metadata": {},
     "output_type": "execute_result"
    }
   ],
   "source": [
    "fc = model_mult.feature_count_\n",
    "fc"
   ]
  },
  {
   "cell_type": "markdown",
   "metadata": {
    "school_cell_uuid": "ec2193734b6c4861aa8d3e2a525ba99d"
   },
   "source": [
    "이 데이터에서 클래스 Y=0인 주사위를 던진 횟수는 첫번째 행의 값의 합인 40이므로 클래스 Y=0인 주사위를 던져 1이라는 면이 나올 확률은 다음처럼 계산할 수 있다.\n",
    "\n",
    "$$ \\mu_{1,Y=0} = \\dfrac{12}{40} = 0.3 $$"
   ]
  },
  {
   "cell_type": "code",
   "execution_count": 36,
   "metadata": {
    "school_cell_uuid": "f542e381752d46698433646c8001dae7"
   },
   "outputs": [
    {
     "data": {
      "text/plain": [
       "array([[0.3       , 0.4       , 0.075     , 0.225     ],\n",
       "       [0.10416667, 0.14583333, 0.375     , 0.375     ]])"
      ]
     },
     "execution_count": 36,
     "metadata": {},
     "output_type": "execute_result"
    }
   ],
   "source": [
    "fc / np.repeat(fc.sum(axis=1)[:, np.newaxis], 4, axis=1)"
   ]
  },
  {
   "cell_type": "markdown",
   "metadata": {
    "school_cell_uuid": "252c6b6beeaf42baa41e99104d0e44bb"
   },
   "source": [
    "실제로는 극단적인 추정을 피하기 위해 이 값을 가중치 1인 스무딩을 한 추정값을 사용한다."
   ]
  },
  {
   "cell_type": "code",
   "execution_count": 37,
   "metadata": {
    "school_cell_uuid": "e7d1c6fb3d3340d8ac7a6f58bb29b85c"
   },
   "outputs": [
    {
     "data": {
      "text/plain": [
       "1.0"
      ]
     },
     "execution_count": 37,
     "metadata": {},
     "output_type": "execute_result"
    }
   ],
   "source": [
    "model_mult.alpha"
   ]
  },
  {
   "cell_type": "code",
   "execution_count": 38,
   "metadata": {
    "school_cell_uuid": "6deb103fec814f148de41e180edb5d7e"
   },
   "outputs": [
    {
     "data": {
      "text/plain": [
       "array([[0.29545455, 0.38636364, 0.09090909, 0.22727273],\n",
       "       [0.11538462, 0.15384615, 0.36538462, 0.36538462]])"
      ]
     },
     "execution_count": 38,
     "metadata": {},
     "output_type": "execute_result"
    }
   ],
   "source": [
    "(fc + model_mult.alpha) / \\\n",
    "    (np.repeat(fc.sum(axis=1)[:, np.newaxis],\n",
    "               4, axis=1) + model_mult.alpha * X.shape[1])"
   ]
  },
  {
   "cell_type": "markdown",
   "metadata": {
    "school_cell_uuid": "9f3a0965785a41fbb373e140d75eaa67"
   },
   "source": [
    "이렇게 구한 모수 추정치는 다음과 같다."
   ]
  },
  {
   "cell_type": "code",
   "execution_count": 39,
   "metadata": {
    "school_cell_uuid": "270c34d4368e460abdefee777b1882c9"
   },
   "outputs": [
    {
     "data": {
      "text/plain": [
       "array([[0.29545455, 0.38636364, 0.09090909, 0.22727273],\n",
       "       [0.11538462, 0.15384615, 0.36538462, 0.36538462]])"
      ]
     },
     "execution_count": 39,
     "metadata": {},
     "output_type": "execute_result"
    }
   ],
   "source": [
    "theta = np.exp(model_mult.feature_log_prob_)\n",
    "theta"
   ]
  },
  {
   "cell_type": "markdown",
   "metadata": {
    "school_cell_uuid": "48e0244045224107ab02d6329e4cbb07"
   },
   "source": [
    "이제 이 값을 사용하여 예측을 해 보자. 만약 어떤 메일에 1번부터 4번까지의 키워드가 각각 10번씩 나왔다면 다음처럼 확률을 구할 수 있다. 구해진 확률로부터 이 메일이 스팸임을 알 수 있다. "
   ]
  },
  {
   "cell_type": "code",
   "execution_count": 40,
   "metadata": {
    "school_cell_uuid": "0ce991747125437d94857adc9a589bc6"
   },
   "outputs": [
    {
     "data": {
      "text/plain": [
       "array([[0.38848858, 0.61151142]])"
      ]
     },
     "execution_count": 40,
     "metadata": {},
     "output_type": "execute_result"
    }
   ],
   "source": [
    "x_new = np.array([10, 10, 10, 10])\n",
    "model_mult.predict_proba([x_new])"
   ]
  },
  {
   "cell_type": "markdown",
   "metadata": {
    "school_cell_uuid": "0225920c3d714eb1b492849f1cc84f84"
   },
   "source": [
    "다항분포의 확률질량함수을 사용하면 다음처럼 직접 확률을 구할 수도 있다."
   ]
  },
  {
   "cell_type": "code",
   "execution_count": 41,
   "metadata": {
    "school_cell_uuid": "dc410c542a834ee9ad18ecee995fc26c"
   },
   "outputs": [
    {
     "data": {
      "text/plain": [
       "array([0.38848858, 0.61151142])"
      ]
     },
     "execution_count": 41,
     "metadata": {},
     "output_type": "execute_result"
    }
   ],
   "source": [
    "p = (theta ** x_new).prod(axis=1)*np.exp(model_bern.class_log_prior_)\n",
    "p / p.sum()"
   ]
  },
  {
   "cell_type": "markdown",
   "metadata": {
    "bootstrap": {
     "panel": {
      "class": "panel-default"
     }
    },
    "school_cell_uuid": "b89aa6f59c09440c93eaa8f62cad46d7"
   },
   "source": [
    "#### 연습 문제 3\n",
    "\n",
    "MNIST 숫자 분류문제를 다항분포 나이브베이즈 모형을 사용하여 풀고 이진화(Binarizing)를 하여 베르누이 나이브베이즈 모형을 적용했을 경우와 성능을 비교하라.\n"
   ]
  },
  {
   "cell_type": "markdown",
   "metadata": {
    "bootstrap": {
     "panel": {
      "class": "panel-default"
     }
    },
    "school_cell_uuid": "b89aa6f59c09440c93eaa8f62cad46d7"
   },
   "source": [
    "#### 연습 문제 4\n",
    "\n",
    "텍스트 분석에서 TF-IDF 인코딩을 하면 단어의 빈도수가 정수가 아닌 실수값이 된다. 이런 경우에도  다항분포 모형을 적용할 수 있는가?\n"
   ]
  },
  {
   "cell_type": "code",
   "execution_count": 1,
   "metadata": {
    "ExecuteTime": {
     "end_time": "2020-06-02T07:57:00.708289Z",
     "start_time": "2020-06-02T07:57:00.704066Z"
    }
   },
   "outputs": [],
   "source": [
    "# 현실적으로 텍스트 분석에서 쓸 수 있는 분석 모델은 거의 나이브베이즈밖에 없다. 현실적으로 계산량이 되는 것이.\n",
    "# TF-IDF 인코딩은 이 단어가 들어가 있는 문서의 수 만큼 나눠주는 형태 말한다. 가중치를 주게 되면 정수가 아니게 된다.\n",
    "    # 다항분포 모델 적용할 수 있나? 다항분포는 정수를 가정한 모델인데 그래도 잘 된다\n",
    "    # 독립변수 카운트 할 때의 실제 코드는 sum으로 돼 있고 3번 나왔거나 3.1번 나왔거나 비슷한 값이 되기 떄문\n",
    "    # 실제로 꼭 정수가 아니어도 된다\n",
    "    # 이는 베르누이 나이브베이즈에도 적용된다.\n",
    "    # 이론 상으로는 가우시안은 실수, 베르누이는 0,1, 다항분포는 정수를 받아야 하지만 실제로는 뭐든 간에 어디에 집어넣어도 동작한다\n",
    "    # 물론 가정이랑 잘 맞지 않으면 성능이 좋지 않지만 에러가 나진 않는다\n",
    "    # 그래서 TF_IDF 인코딩 해도 상관 없다"
   ]
  },
  {
   "cell_type": "markdown",
   "metadata": {
    "school_cell_uuid": "65e8aa79d4e04c8b9bf61f54bb3770d4"
   },
   "source": [
    "### 뉴스그룹 분류"
   ]
  },
  {
   "cell_type": "markdown",
   "metadata": {
    "school_cell_uuid": "7df6316aa783456b9531a14713acf626"
   },
   "source": [
    "다음은 뉴스그룹 데이터에 대해 나이브베이즈 분류모형을 적용한 결과이다. "
   ]
  },
  {
   "cell_type": "code",
   "execution_count": 12,
   "metadata": {
    "ExecuteTime": {
     "end_time": "2020-05-28T12:08:16.702604Z",
     "start_time": "2020-05-28T12:08:15.843563Z"
    },
    "school_cell_uuid": "a42d82e873f740a7b54a49c91db02b2c"
   },
   "outputs": [],
   "source": [
    "from sklearn.datasets import fetch_20newsgroups\n",
    "\n",
    "news = fetch_20newsgroups(subset=\"all\")\n",
    "X = news.data\n",
    "y = news.target\n",
    "\n",
    "from sklearn.feature_extraction.text import TfidfVectorizer, HashingVectorizer, CountVectorizer\n",
    "from sklearn.naive_bayes import MultinomialNB\n",
    "from sklearn.pipeline import Pipeline\n",
    "\n",
    "model1 = Pipeline([\n",
    "    ('vect', CountVectorizer()),\n",
    "    ('model', MultinomialNB()),\n",
    "]) # 백터라이즈 + 다항분포 나이브베이즈\n",
    "model2 = Pipeline([\n",
    "    ('vect', TfidfVectorizer()),\n",
    "    ('model', MultinomialNB()),\n",
    "]) # Tfid 벡터라이즈 + 다항분포 나이브베이즈\n",
    "model3 = Pipeline([\n",
    "    ('vect', TfidfVectorizer(stop_words=\"english\")),\n",
    "    ('model', MultinomialNB()),\n",
    "]) # Tfid 벡터라이즈 + 불용어 + 다항분포 나이브베이즈\n",
    "model4 = Pipeline([\n",
    "    ('vect', TfidfVectorizer(stop_words=\"english\",\n",
    "                             token_pattern=r\"\\b[a-z0-9_\\-\\.]+[a-z][a-z0-9_\\-\\.]+\\b\")),\n",
    "    ('model', MultinomialNB()),\n",
    "]) # Tfid 벡터라이즈 + 불용어 + 정규표현식 활용한 불필요한 토큰 제거 + 다항분포 나이브베이즈\n",
    "# 점차적인 성능 개선"
   ]
  },
  {
   "cell_type": "code",
   "execution_count": 10,
   "metadata": {
    "ExecuteTime": {
     "end_time": "2020-05-28T12:02:55.285275Z",
     "start_time": "2020-05-28T12:02:55.281432Z"
    }
   },
   "outputs": [],
   "source": [
    "# 파이프라인: 예측 모델을 만들 때 안에서 이뤄지는 프리프로세싱, fit(), transform() 등을 겉에서 보면 마치 하나의 과정인 것처럼 보이게 해준다\n",
    "# 겉으로는 fit()과 predict() 명령어만 써주면 된다\n",
    "# 'vect', 'model'은 이름 바꿔줘도 됨"
   ]
  },
  {
   "cell_type": "code",
   "execution_count": 43,
   "metadata": {
    "school_cell_uuid": "ba99c79cbebf494791e704c7552f69ee",
    "scrolled": false
   },
   "outputs": [
    {
     "name": "stdout",
     "output_type": "stream",
     "text": [
      "Model1: Mean score: 0.855\n",
      "Model2: Mean score: 0.856\n",
      "Model3: Mean score: 0.883\n",
      "Model4: Mean score: 0.888\n",
      "CPU times: user 2min 15s, sys: 3.48 s, total: 2min 18s\n",
      "Wall time: 1min 56s\n"
     ]
    }
   ],
   "source": [
    "%%time\n",
    "from sklearn.model_selection import cross_val_score, KFold\n",
    "\n",
    "for i, model in enumerate([model1, model2, model3, model4]):\n",
    "    scores = cross_val_score(model, X, y, cv=5)\n",
    "    print((\"Model{0:d}: Mean score: {1:.3f}\").format(i + 1, np.mean(scores)))"
   ]
  },
  {
   "cell_type": "code",
   "execution_count": 15,
   "metadata": {
    "ExecuteTime": {
     "end_time": "2020-05-28T12:09:40.278048Z",
     "start_time": "2020-05-28T12:09:40.274042Z"
    }
   },
   "outputs": [],
   "source": [
    "# Tfid 성능 개선 미미\n",
    "# 불용어, 정규표현식 등 활용하면 성능 크게 개선.\n",
    "# 나이브 베이즈 모델에서는 쓸데없는 것을 빼는 것이 중요\n",
    "# 나이브베이즈모델은 분류 중에서도 특히 텍스트 분류에 많이 쓰게 된다!"
   ]
  },
  {
   "cell_type": "markdown",
   "metadata": {},
   "source": [
    "### 일반적인 실수값은 가우시안(정규분포) 나이브베이즈 모델, 0과 1이 기본이면 베르누이 나이브베이즈 모델, 1, 2,3  등으로 분포 나올 때는 다항분포 나이브베이즈 모델 쓰는 게 정상이다\n",
    "### 세 경우 모두 섞여 있으면 각기 구간 나눠서 구한다"
   ]
  },
  {
   "cell_type": "markdown",
   "metadata": {
    "bootstrap": {
     "panel": {
      "class": "panel-default"
     }
    },
    "school_cell_uuid": "aaa48ad69575445ca1370206c1dca14a"
   },
   "source": [
    "#### 연습 문제 5\n",
    "\n",
    "(1) 만약 독립변수로 실수 변수, 0 또는 1 값을 가지는 변수, 자연수 값을 가지는 변수가 섞여있다면 사이킷런에서 제공하는 나이브베이즈 클래스를 사용하여 풀 수 있는가?\n",
    "\n",
    "(2) 사이킷런에서 제공하는 분류문제 예제 중 숲의 수종을 예측하는 covtype 분류문제는 연속확률분포 특징과 베르누이확률분포 특징이 섞여있다. 이 문제를 사이킷런에서 제공하는 나이브베이즈 클래스를 사용하여 풀어라."
   ]
  },
  {
   "cell_type": "code",
   "execution_count": 16,
   "metadata": {
    "ExecuteTime": {
     "end_time": "2020-05-28T12:13:41.714489Z",
     "start_time": "2020-05-28T12:13:41.709728Z"
    }
   },
   "outputs": [],
   "source": [
    "# covtype 분류 문제의 경우 앞 부분에는 가우시안 분포를 이루고 뒤에는 베르누이 분포를 이루고 있음\n",
    "# 요지는 P(y|x)를 구하면 된다는 것"
   ]
  },
  {
   "cell_type": "code",
   "execution_count": null,
   "metadata": {},
   "outputs": [],
   "source": []
  }
 ],
 "metadata": {
  "celltoolbar": "Edit Metadata",
  "kernelspec": {
   "display_name": "Python 3",
   "language": "python",
   "name": "python3"
  },
  "language_info": {
   "codemirror_mode": {
    "name": "ipython",
    "version": 3
   },
   "file_extension": ".py",
   "mimetype": "text/x-python",
   "name": "python",
   "nbconvert_exporter": "python",
   "pygments_lexer": "ipython3",
   "version": "3.7.6"
  },
  "toc": {
   "base_numbering": 1,
   "nav_menu": {},
   "number_sections": false,
   "sideBar": true,
   "skip_h1_title": false,
   "title_cell": "Table of Contents",
   "title_sidebar": "Contents",
   "toc_cell": false,
   "toc_position": {},
   "toc_section_display": true,
   "toc_window_display": false
  }
 },
 "nbformat": 4,
 "nbformat_minor": 1
}
