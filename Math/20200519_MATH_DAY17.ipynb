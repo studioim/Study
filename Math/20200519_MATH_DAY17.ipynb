{
 "cells": [
  {
   "cell_type": "markdown",
   "metadata": {},
   "source": [
    "# 6.4 다중공선성과 변수 선택\n",
    "- 과최적화가 일어나는 경우 두 가지: 내가 쓰고 있는 모수의 수가 데이터에 비해 너무 많을 경우, 독립변수들 사이에 상관관계가 너무 강해서 x1과 x2가 거의 같은 데이터일 때\n",
    "- 다중공선성(multicolinearity)이란 독립 변수의 일부가 다른 독립변수의 조합으로 표현될 수 있는 경우. 독립변수들이 서로 독립이 아니라 상호상관관계가 강한 경우에 발생\n",
    "    - 이는 독립변수의 공분산 행렬이 풀랭크여야 한다는 조건을 침해한다. 역행렬이 잘 계산이 안 됨. 오차가 발생하는데 이게 과최적화의 원인이 되는 것    "
   ]
  },
  {
   "cell_type": "markdown",
   "metadata": {
    "ExecuteTime": {
     "end_time": "2020-05-19T11:33:03.758461Z",
     "start_time": "2020-05-19T11:33:03.740641Z"
    }
   },
   "source": [
    "#### 상관관계가 큰 변수들이 있으면 조건수가 커진다\n",
    "- 조건수가 커지는 경우는\n",
    "    - 스케일이 안맞는 경우\n",
    "    - 다중공선성이 있는 경우"
   ]
  },
  {
   "cell_type": "markdown",
   "metadata": {},
   "source": [
    "- r-squared 값과 교차 검증 값의 차이(트레인용 퍼포먼스와 테스트용 퍼포먼스)가 크게 나면 과최적화가 발생한 것\n",
    "- 독립변수가 서로 의존하게 되면 이렇게 과최적화 문제가 발생해 회귀 결과의 안정성을 해칠 가능성이 높아진다\n",
    "- 이를 방지하는 방법은 다음과 같다\n",
    "    - 변수선택법으로 의존적인 변수 삭제\n",
    "    - PCA(주성분분석, 차원축소) 방법으로 의존적인 성분 삭제\n",
    "        - 변수 그냥 하나 없애면 아쉬우니 회전시켜서 잘 맞는 변수 남겨 놓고 잘 안맞는 변수 강제로 만들어서 없애는 방식   \n",
    "    - 정규화(regularized) 방법 사용"
   ]
  },
  {
   "cell_type": "markdown",
   "metadata": {},
   "source": [
    "### VIF기준으로 변수 선택\n",
    "- Variance Inflation Factor.가장 의존적인 독립변수를 선택하는 방법\n",
    "- VIF는 독립변수를 다른 독립변수로 선형회귀한 성능을 나타내는 것\n",
    "- 다른 변수에 의존적일수록 VIF가 커진다\n",
    "- StatsModels에서는 variance_inflation_factor 명령으로 VIF 계산"
   ]
  },
  {
   "cell_type": "markdown",
   "metadata": {},
   "source": [
    "#### 데이터를 일부 선택해 과최적화, 데이터공선성을 방지하는 방법이 있다"
   ]
  },
  {
   "cell_type": "markdown",
   "metadata": {},
   "source": [
    "# 6.5 정규화 선형회귀\n",
    "- 정규화 선형회귀 방법은 선형회귀 계수(weight)에 대한 제약 조건을 추가함으로써 모형이 과도하게 최적화되는 현상 즉 과최적화를 막는 방법\n",
    "- Regularized Method, Penalized Method, Contrained Least Squares"
   ]
  },
  {
   "cell_type": "markdown",
   "metadata": {},
   "source": [
    "- 과최적화가 일어나면 w값이 커지는 현상이 발생\n",
    "- 정규화 선형회귀는 w에 제약 조건을 추가해 커지지 않게 하는 것"
   ]
  },
  {
   "cell_type": "markdown",
   "metadata": {},
   "source": [
    "- 정규화 선형회귀에도 3가지 방법이 있다. w값에 제약 조건을 주는 방식이 다르다\n",
    "- Ridge, Lasso, Elastic Net 회귀모형\n",
    "    - Ridge : 가중치들의 제곱합을 최소화하는 것을 추가 제약 조건으로\n",
    "    - Lasso : 가중치의 절대값의 합을 최소화하는 것을 추가적 제약 조건으로\n",
    "    - Elastic Net: 가중치의 절대값의 합과 제곱합을 동시에 제약 조건으로 가지는 모형\n",
    "- Statsmodels 패키지는 OLS 선형 회귀모형 클래스의 fit_regularized 메서드를 사용해 Elastic Net 모형 계수를 구할 수 있다"
   ]
  },
  {
   "cell_type": "markdown",
   "metadata": {},
   "source": [
    "#### 정규화하게 되면 데이터가 어떻게되든 차수가 어떻게되든 나오는 결과가 항상 비슷하게 나온다. 안정적인 결과가 나온다는 것"
   ]
  },
  {
   "cell_type": "markdown",
   "metadata": {},
   "source": [
    "### 사이킷런의 정규화 회귀모형\n",
    "\n",
    "### 정규화 모형의 장점\n",
    "- 회귀분석에 사용된 데이터가 달라져도 계수가 크게 달라지지 않도록 한다\n",
    "\n",
    "### 정규화의 의미\n",
    "- 정규화 제한 조건은 정규화가 없는 최적화 문제에 부등식 제한조건을 추가한 것과 마찬가지다"
   ]
  },
  {
   "cell_type": "markdown",
   "metadata": {
    "ExecuteTime": {
     "end_time": "2020-05-19T12:12:07.178746Z",
     "start_time": "2020-05-19T12:12:07.165004Z"
    }
   },
   "source": [
    "- Ridge 모형은 가중치 계수를 한꺼번에 축소(점차적으로 줄어든다)시키는 데 반해 Lasso 모형은 일부 가중치 계수가 먼저 0으로 수렴하는 특징이 있다\n",
    "- 라쏘를 이용하게 되면 쓸모 없는 w부터 값을 0으로 만든다. 그러면 누가 더 쓸모 있고 쓸모 없는지를 알 수 있다. 이를 라쏘 패스(경로)라고 한다\n",
    "- 라쏘 패스를 이용해 피처들의 중요성을 알 수 있는 방법도 있다"
   ]
  },
  {
   "cell_type": "markdown",
   "metadata": {},
   "source": [
    "### 최적 정규화\n",
    "- 정규화에서 한 가지 해결 안 된 사항: 람다라는 패널티 값을 얼마나 줘야 하나?\n",
    "    - 예측 문제에서 모든 결정 문제는 태스크 퍼포먼스가 좋냐 안 좋냐를 보고 결정\n",
    "    - 쟤도 일일이 다해보는 수밖에 없음. 그리드 서치 방법. 0.2 0.3 등등 주면서 태스크 퍼포먼스를 보는 수밖에 없음\n",
    "- 제약 조건이 크면 클수록 학습성능은 떨어지게 돼 있다\n",
    "- 검증성능은 어느정도까지 좋아지다 어느 수준 지나면 다시 나빠진다\n",
    "    - 제약 조건 너무 없으면 과최적화\n",
    "    - 제약 조건 너무 많이 주게 되면 풀 수 있는데도 못 풀게 만들다보니 성능 나빠짐\n",
    "- 검증성능 곡선(validation curve)\n",
    "    - 특정한 하나의 하이퍼 모수를 변화시켰을 때 학습 성능과 검증성능의 변화를 나타낸 곡선\n",
    "    - 싸이킷런 패키지의 model_selection 서브패키지에서 제공하는 validation_curve 함수를 사용하면 검증성능 곡선을 더욱 쉽게 그릴 수 있다"
   ]
  },
  {
   "cell_type": "markdown",
   "metadata": {},
   "source": [
    "### 다항회귀의 차수 결정\n",
    "- 결국은 제약 조건을 결정하는 것과 마찬가지\n",
    "- 다항회귀에서 차수가 감소하면 모형의 제약조건이 더 강화되므로 정규화 가중치가 커지는 것과 같다\n",
    "- 반대로 차수가 증가하면 모형의 제약조건이 감소하므로 정규화 가중치가 작아지는 것과 같다\n",
    "- 따라서 다항회귀에서 최적의 차수를 결정하는 문제는 최적 정규화에 해당한다"
   ]
  },
  {
   "cell_type": "markdown",
   "metadata": {},
   "source": [
    "#### 회귀분석 프로젝트에서 마지막으로 해야 하는 일은 패널티 웨이트 값이라든가 차수라는 것을 갖다가 미세 조정을 해서 하이퍼 파라미터 튜닝이라는 것을 해줘야 한다."
   ]
  },
  {
   "cell_type": "markdown",
   "metadata": {},
   "source": [
    "# 데이터 과학을 위한 머신러닝"
   ]
  },
  {
   "cell_type": "markdown",
   "metadata": {
    "ExecuteTime": {
     "end_time": "2020-05-20T01:53:41.050264Z",
     "start_time": "2020-05-20T01:53:41.008065Z"
    }
   },
   "source": [
    "## 1부 전처리"
   ]
  },
  {
   "cell_type": "markdown",
   "metadata": {
    "ExecuteTime": {
     "end_time": "2020-05-20T02:08:24.029365Z",
     "start_time": "2020-05-20T02:08:24.024568Z"
    }
   },
   "source": [
    "### 1. 텍스트 데이터 전처리\n",
    "#### 1) NLTK 자연어 처리 패키지"
   ]
  },
  {
   "cell_type": "markdown",
   "metadata": {},
   "source": [
    "- NLTK(Natural Language Toolkit) 패키지는 교육용으로 개발된 자연어 처리 및 문서 분석용 파이썬 패키지다\n",
    "    - 주요 기능은 다음과 같다\n",
    "    - 말뭉치, 토큰 생성, 형태소 분석, 품사 태깅"
   ]
  },
  {
   "cell_type": "markdown",
   "metadata": {},
   "source": [
    "- 필요패키지 : NLTK, KoNLpy, Gensim, Scikit-Learn"
   ]
  },
  {
   "cell_type": "code",
   "execution_count": 6,
   "metadata": {
    "ExecuteTime": {
     "end_time": "2020-05-20T02:12:07.680845Z",
     "start_time": "2020-05-20T02:11:59.907385Z"
    }
   },
   "outputs": [
    {
     "name": "stdout",
     "output_type": "stream",
     "text": [
      "Requirement already satisfied: NLTK in /Users/Im/opt/anaconda3/lib/python3.7/site-packages (3.4.5)\r\n",
      "Requirement already satisfied: six in /Users/Im/opt/anaconda3/lib/python3.7/site-packages (from NLTK) (1.14.0)\r\n"
     ]
    }
   ],
   "source": [
    "!pip install NLTK"
   ]
  },
  {
   "cell_type": "markdown",
   "metadata": {},
   "source": [
    "- 말뭉치(Corpus): 텍스트 분석에 필요한 텍스트 데이터, 샘플 문서 집합\n",
    "    - 웹 크롤링 등으로 수집\n",
    "    - 텍스트 처리 패키지에서 제공하는 샘플 말뭉치 사용\n",
    "- 우리나라 코퍼스 잘 돼 있지 않다. 세종 말뭉치 있지만 다 저작권 해결된 것은 아냐\n",
    "    - 세종 코퍼스 자체는 국립국어원 사이트 가면 받을 수 있다"
   ]
  },
  {
   "cell_type": "code",
   "execution_count": 8,
   "metadata": {
    "ExecuteTime": {
     "end_time": "2020-05-20T02:47:41.756159Z",
     "start_time": "2020-05-20T02:23:50.924921Z"
    }
   },
   "outputs": [
    {
     "name": "stderr",
     "output_type": "stream",
     "text": [
      "[nltk_data] Downloading collection 'book'\n",
      "[nltk_data]    | \n",
      "[nltk_data]    | Downloading package abc to /Users/Im/nltk_data...\n",
      "[nltk_data]    |   Package abc is already up-to-date!\n",
      "[nltk_data]    | Downloading package brown to /Users/Im/nltk_data...\n",
      "[nltk_data]    |   Package brown is already up-to-date!\n",
      "[nltk_data]    | Downloading package chat80 to /Users/Im/nltk_data...\n",
      "[nltk_data]    |   Package chat80 is already up-to-date!\n",
      "[nltk_data]    | Downloading package cmudict to /Users/Im/nltk_data...\n",
      "[nltk_data]    |   Package cmudict is already up-to-date!\n",
      "[nltk_data]    | Downloading package conll2000 to\n",
      "[nltk_data]    |     /Users/Im/nltk_data...\n",
      "[nltk_data]    |   Package conll2000 is already up-to-date!\n",
      "[nltk_data]    | Downloading package conll2002 to\n",
      "[nltk_data]    |     /Users/Im/nltk_data...\n",
      "[nltk_data]    |   Package conll2002 is already up-to-date!\n",
      "[nltk_data]    | Downloading package dependency_treebank to\n",
      "[nltk_data]    |     /Users/Im/nltk_data...\n",
      "[nltk_data]    |   Package dependency_treebank is already up-to-date!\n",
      "[nltk_data]    | Downloading package genesis to /Users/Im/nltk_data...\n",
      "[nltk_data]    |   Package genesis is already up-to-date!\n",
      "[nltk_data]    | Downloading package gutenberg to\n",
      "[nltk_data]    |     /Users/Im/nltk_data...\n",
      "[nltk_data]    |   Package gutenberg is already up-to-date!\n",
      "[nltk_data]    | Downloading package ieer to /Users/Im/nltk_data...\n",
      "[nltk_data]    |   Package ieer is already up-to-date!\n",
      "[nltk_data]    | Downloading package inaugural to\n",
      "[nltk_data]    |     /Users/Im/nltk_data...\n",
      "[nltk_data]    |   Package inaugural is already up-to-date!\n",
      "[nltk_data]    | Downloading package movie_reviews to\n",
      "[nltk_data]    |     /Users/Im/nltk_data...\n",
      "[nltk_data]    |   Package movie_reviews is already up-to-date!\n",
      "[nltk_data]    | Downloading package nps_chat to\n",
      "[nltk_data]    |     /Users/Im/nltk_data...\n",
      "[nltk_data]    |   Package nps_chat is already up-to-date!\n",
      "[nltk_data]    | Downloading package names to /Users/Im/nltk_data...\n",
      "[nltk_data]    |   Package names is already up-to-date!\n",
      "[nltk_data]    | Downloading package ppattach to\n",
      "[nltk_data]    |     /Users/Im/nltk_data...\n",
      "[nltk_data]    |   Package ppattach is already up-to-date!\n",
      "[nltk_data]    | Downloading package reuters to /Users/Im/nltk_data...\n",
      "[nltk_data]    | Downloading package senseval to\n",
      "[nltk_data]    |     /Users/Im/nltk_data...\n",
      "[nltk_data]    |   Unzipping corpora/senseval.zip.\n",
      "[nltk_data]    | Downloading package state_union to\n",
      "[nltk_data]    |     /Users/Im/nltk_data...\n",
      "[nltk_data]    |   Unzipping corpora/state_union.zip.\n",
      "[nltk_data]    | Downloading package stopwords to\n",
      "[nltk_data]    |     /Users/Im/nltk_data...\n",
      "[nltk_data]    |   Unzipping corpora/stopwords.zip.\n",
      "[nltk_data]    | Downloading package swadesh to /Users/Im/nltk_data...\n",
      "[nltk_data]    |   Unzipping corpora/swadesh.zip.\n",
      "[nltk_data]    | Downloading package timit to /Users/Im/nltk_data...\n",
      "[nltk_data]    |   Unzipping corpora/timit.zip.\n",
      "[nltk_data]    | Downloading package treebank to\n",
      "[nltk_data]    |     /Users/Im/nltk_data...\n",
      "[nltk_data]    |   Unzipping corpora/treebank.zip.\n",
      "[nltk_data]    | Downloading package toolbox to /Users/Im/nltk_data...\n",
      "[nltk_data]    |   Unzipping corpora/toolbox.zip.\n",
      "[nltk_data]    | Downloading package udhr to /Users/Im/nltk_data...\n",
      "[nltk_data]    |   Unzipping corpora/udhr.zip.\n",
      "[nltk_data]    | Downloading package udhr2 to /Users/Im/nltk_data...\n",
      "[nltk_data]    |   Unzipping corpora/udhr2.zip.\n",
      "[nltk_data]    | Downloading package unicode_samples to\n",
      "[nltk_data]    |     /Users/Im/nltk_data...\n",
      "[nltk_data]    |   Unzipping corpora/unicode_samples.zip.\n",
      "[nltk_data]    | Downloading package webtext to /Users/Im/nltk_data...\n",
      "[nltk_data]    |   Unzipping corpora/webtext.zip.\n",
      "[nltk_data]    | Downloading package wordnet to /Users/Im/nltk_data...\n",
      "[nltk_data]    |   Unzipping corpora/wordnet.zip.\n",
      "[nltk_data]    | Downloading package wordnet_ic to\n",
      "[nltk_data]    |     /Users/Im/nltk_data...\n",
      "[nltk_data]    |   Unzipping corpora/wordnet_ic.zip.\n",
      "[nltk_data]    | Downloading package words to /Users/Im/nltk_data...\n",
      "[nltk_data]    |   Unzipping corpora/words.zip.\n",
      "[nltk_data]    | Downloading package maxent_treebank_pos_tagger to\n",
      "[nltk_data]    |     /Users/Im/nltk_data...\n",
      "[nltk_data]    |   Unzipping taggers/maxent_treebank_pos_tagger.zip.\n",
      "[nltk_data]    | Downloading package maxent_ne_chunker to\n",
      "[nltk_data]    |     /Users/Im/nltk_data...\n",
      "[nltk_data]    |   Unzipping chunkers/maxent_ne_chunker.zip.\n",
      "[nltk_data]    | Downloading package universal_tagset to\n",
      "[nltk_data]    |     /Users/Im/nltk_data...\n",
      "[nltk_data]    |   Unzipping taggers/universal_tagset.zip.\n",
      "[nltk_data]    | Downloading package punkt to /Users/Im/nltk_data...\n",
      "[nltk_data]    |   Unzipping tokenizers/punkt.zip.\n",
      "[nltk_data]    | Downloading package book_grammars to\n",
      "[nltk_data]    |     /Users/Im/nltk_data...\n",
      "[nltk_data]    |   Unzipping grammars/book_grammars.zip.\n",
      "[nltk_data]    | Downloading package city_database to\n",
      "[nltk_data]    |     /Users/Im/nltk_data...\n",
      "[nltk_data]    |   Unzipping corpora/city_database.zip.\n",
      "[nltk_data]    | Downloading package tagsets to /Users/Im/nltk_data...\n",
      "[nltk_data]    |   Unzipping help/tagsets.zip.\n",
      "[nltk_data]    | Downloading package panlex_swadesh to\n",
      "[nltk_data]    |     /Users/Im/nltk_data...\n",
      "[nltk_data]    | Downloading package averaged_perceptron_tagger to\n",
      "[nltk_data]    |     /Users/Im/nltk_data...\n",
      "[nltk_data]    |   Unzipping taggers/averaged_perceptron_tagger.zip.\n",
      "[nltk_data]    | \n",
      "[nltk_data]  Done downloading collection book\n",
      "[nltk_data] Downloading package movie_reviews to\n",
      "[nltk_data]     /Users/Im/nltk_data...\n",
      "[nltk_data]   Package movie_reviews is already up-to-date!\n",
      "[nltk_data] Downloading package punkt to /Users/Im/nltk_data...\n",
      "[nltk_data]   Package punkt is already up-to-date!\n",
      "[nltk_data] Downloading package stopwords to /Users/Im/nltk_data...\n",
      "[nltk_data]   Package stopwords is already up-to-date!\n"
     ]
    },
    {
     "data": {
      "text/plain": [
       "True"
      ]
     },
     "execution_count": 8,
     "metadata": {},
     "output_type": "execute_result"
    }
   ],
   "source": [
    "import nltk\n",
    "nltk.download(\"book\")\n",
    "nltk.download(\"movie_reviews\")\n",
    "nltk.download(\"punkt\")\n",
    "nltk.download(\"stopwords\")"
   ]
  },
  {
   "cell_type": "markdown",
   "metadata": {},
   "source": [
    "#### step 2: 구텐베르그 말뭉치 목록\n",
    "- 구텐베르그 운동: 저작권 말소된 책을 가지고 말뭉치를 만들어 공유하자\n",
    "- 그 중 극히 일부의 책을 여기에 담아 놓은 것"
   ]
  },
  {
   "cell_type": "code",
   "execution_count": 13,
   "metadata": {
    "ExecuteTime": {
     "end_time": "2020-05-20T02:49:15.052510Z",
     "start_time": "2020-05-20T02:49:15.043830Z"
    }
   },
   "outputs": [
    {
     "data": {
      "text/plain": [
       "['austen-emma.txt',\n",
       " 'austen-persuasion.txt',\n",
       " 'austen-sense.txt',\n",
       " 'bible-kjv.txt',\n",
       " 'blake-poems.txt',\n",
       " 'bryant-stories.txt',\n",
       " 'burgess-busterbrown.txt',\n",
       " 'carroll-alice.txt',\n",
       " 'chesterton-ball.txt',\n",
       " 'chesterton-brown.txt',\n",
       " 'chesterton-thursday.txt',\n",
       " 'edgeworth-parents.txt',\n",
       " 'melville-moby_dick.txt',\n",
       " 'milton-paradise.txt',\n",
       " 'shakespeare-caesar.txt',\n",
       " 'shakespeare-hamlet.txt',\n",
       " 'shakespeare-macbeth.txt',\n",
       " 'whitman-leaves.txt']"
      ]
     },
     "execution_count": 13,
     "metadata": {},
     "output_type": "execute_result"
    }
   ],
   "source": [
    "# 구텐베르그 책 목록\n",
    "nltk.corpus.gutenberg.fileids()"
   ]
  },
  {
   "cell_type": "code",
   "execution_count": 15,
   "metadata": {
    "ExecuteTime": {
     "end_time": "2020-05-20T02:49:31.299445Z",
     "start_time": "2020-05-20T02:49:31.289454Z"
    }
   },
   "outputs": [
    {
     "name": "stdout",
     "output_type": "stream",
     "text": [
      "[Emma by Jane Austen 1816]\n",
      "\n",
      "VOLUME I\n",
      "\n",
      "CHAPTER I\n",
      "\n",
      "\n",
      "Emma Woodhouse, handsome, clever, and rich, with a comfortable home\n",
      "and happy disposition, seemed to unite some of the best blessings\n",
      "of existence; and had lived nearly twenty-one years in the world\n",
      "with very little to distress or vex her.\n",
      "\n",
      "She was the youngest of the two daughters of a most affectionate,\n",
      "indulgent father; and had, in consequence of her sister's marriage,\n",
      "been mistress of his house from a very early period.  Her mother\n",
      "had died too long ago for her to have more than an indistinct\n",
      "remembrance of her caresses; and her place had been supplied\n",
      "by an excellent woman as governess, who had fallen little short\n",
      "of a mother in affection.\n"
     ]
    }
   ],
   "source": [
    "# 풀 텍스트\n",
    "emma_raw = nltk.corpus.gutenberg.raw(\"austen-emma.txt\")\n",
    "print(emma_raw[:702])"
   ]
  },
  {
   "cell_type": "markdown",
   "metadata": {
    "ExecuteTime": {
     "end_time": "2020-05-20T02:47:41.834215Z",
     "start_time": "2020-05-20T02:47:41.812651Z"
    }
   },
   "source": [
    "### 토큰화"
   ]
  },
  {
   "cell_type": "markdown",
   "metadata": {},
   "source": [
    "- 토큰화(Tokenizing)\n",
    "    - 말뭉치(텍스트 데이터)를 \"토큰\"이라고 불리는 작은 단위로 나누는 행위\n",
    "    - 토큰(Token) : 문장, 단어, 형태소 등 분석에 있어서 의미를 가지는 단위\n",
    "            - 토큰이 뭐다하는 것은 필요에 따라서 달라진다\n",
    "            - 대부분의 경우 영어는 의미가 같은 정규화된 단어를 토큰으로 한다\n",
    "            - 한국어는 의미가 같은 정규화된 형태소를 토큰으로 한다\n",
    "    - 토큰의 명칭\n",
    "        - 토큰의 이름은 실제 토큰의 활용과 관계가 없다\n",
    "        - 숫자 혹은 기호로 나타내거나\n",
    "        - 품사 등을 덧붙여서 쓰는 경우도 있음"
   ]
  },
  {
   "cell_type": "markdown",
   "metadata": {},
   "source": [
    "- 형태소\n",
    "    - 형태소(morpheme) : 의미를 가진 가장 작은 말의 단위\n",
    "    - 한국어 형태소\n",
    "        - 자립 형태소: 체언(명사, 대명사, 수사), 수식언(관형사, 부사), 감탄사 등\n",
    "        - 의존 형태소: 접사, 어미, 조사, 어간 등"
   ]
  },
  {
   "cell_type": "markdown",
   "metadata": {},
   "source": [
    "- 정규화\n",
    "    - 정규화(Normalization)\n",
    "        - 의미와 쓰임이 같은 단어를 같은 토큰으로 표시\n",
    "        - fly/v(날다), fly/n(파리) 등으로 나눠서 써줄 수 있다\n",
    "    - 대소문자 통합(case removal)\n",
    "        - \n",
    "    - 어간 추출(stemming)\n",
    "    - 표제어 추출(lemmatization)\n",
    "    - 품사 부착(Part-Of-Speech tagging)\n",
    "    - 불용어(stopwords)"
   ]
  },
  {
   "cell_type": "markdown",
   "metadata": {
    "ExecuteTime": {
     "end_time": "2020-05-20T02:47:41.890812Z",
     "start_time": "2020-05-20T02:47:41.859709Z"
    }
   },
   "source": [
    "- 어간 추출\n",
    "    - 어간 추출: 단어를 어간과 접사로 분리해 단순히 접사를 삭제하거나 교체\n",
    "        - 어간(stem): 단어의 의미를 담고 있는 핵심 부분\n",
    "        - 접사(affix): 단어에 부가적인 의미를 주는 부분\n",
    "        - fly, flies, flew => fl\n",
    "    - 단순 알고리즘 사용\n",
    "        - 포터(Porter) 알고리즘\n",
    "        - 랭케스터(Lancaster) 알고리즘\u001b"
   ]
  },
  {
   "cell_type": "markdown",
   "metadata": {},
   "source": [
    "- 표제어 추출(알고리즘 복잡함)\n",
    "    - 기본 사전형 단어로 변형\n",
    "    - am, is, are, was, were, been => be\n",
    "    - has, had => have\n",
    "    - 사전 정부(WordNet) 사용"
   ]
  },
  {
   "cell_type": "markdown",
   "metadata": {},
   "source": [
    "- 품사 부착\n",
    "    - 품사(POS: Part-Of-Speech)\n",
    "        - 단어의 쓰임에 다른 구분\n",
    "        - 동일한 철자의 단어가 다른 의미나 다른 품사로 쓰이는 경우\n",
    "            - 다른 토큰으로 토큰화해야 한다\n",
    "        - 예:\n",
    "            - permit: 허락하다(동사), 허가증(명사)\n",
    "            - refuse: 거부하다(동사), 쓰레기/배출(명사)"
   ]
  },
  {
   "cell_type": "markdown",
   "metadata": {},
   "source": [
    "- 불용어(Stop-Words)\n",
    "    - 분석의 필요성이 없는 단어\n",
    "    - 모든 문서에서 너무 자주 쓰이는 단어\n",
    "    - 너무 드물게 나타나는 단어\n",
    "    - 예: 관사,(a, an, the), 조사(은,는,이,가,다)"
   ]
  },
  {
   "cell_type": "markdown",
   "metadata": {},
   "source": [
    "### 실습2: 토큰화와 정규화"
   ]
  },
  {
   "cell_type": "markdown",
   "metadata": {
    "ExecuteTime": {
     "end_time": "2020-05-20T02:47:41.905860Z",
     "start_time": "2020-05-20T02:46:54.321Z"
    }
   },
   "source": [
    "#### step1: 토큰화\n",
    "- NLTK의 word_tokenize 함수 사용"
   ]
  },
  {
   "cell_type": "code",
   "execution_count": 16,
   "metadata": {
    "ExecuteTime": {
     "end_time": "2020-05-20T02:49:43.602003Z",
     "start_time": "2020-05-20T02:49:43.595731Z"
    }
   },
   "outputs": [
    {
     "name": "stdout",
     "output_type": "stream",
     "text": [
      "Emma Woodhouse, handsome, clever, and rich, with a comfortable home\n",
      "and happy disposition, seemed to unite some of the best blessings\n",
      "of existence\n"
     ]
    }
   ],
   "source": [
    "sent = emma_raw[50:196]\n",
    "print(sent)"
   ]
  },
  {
   "cell_type": "code",
   "execution_count": 17,
   "metadata": {
    "ExecuteTime": {
     "end_time": "2020-05-20T02:49:44.012112Z",
     "start_time": "2020-05-20T02:49:43.978796Z"
    }
   },
   "outputs": [
    {
     "data": {
      "text/plain": [
       "['Emma',\n",
       " 'Woodhouse',\n",
       " ',',\n",
       " 'handsome',\n",
       " ',',\n",
       " 'clever',\n",
       " ',',\n",
       " 'and',\n",
       " 'rich',\n",
       " ',',\n",
       " 'with',\n",
       " 'a',\n",
       " 'comfortable',\n",
       " 'home',\n",
       " 'and',\n",
       " 'happy',\n",
       " 'disposition',\n",
       " ',',\n",
       " 'seemed',\n",
       " 'to',\n",
       " 'unite',\n",
       " 'some',\n",
       " 'of',\n",
       " 'the',\n",
       " 'best',\n",
       " 'blessings',\n",
       " 'of',\n",
       " 'existence']"
      ]
     },
     "execution_count": 17,
     "metadata": {},
     "output_type": "execute_result"
    }
   ],
   "source": [
    "from nltk.tokenize import word_tokenize\n",
    "word_tokenize(sent)"
   ]
  },
  {
   "cell_type": "markdown",
   "metadata": {},
   "source": [
    "#### step2: 어간 추출\n",
    "- NLTK의 ProterStemmer, LancasterStemmer 사용"
   ]
  },
  {
   "cell_type": "code",
   "execution_count": 20,
   "metadata": {
    "ExecuteTime": {
     "end_time": "2020-05-20T02:53:39.862910Z",
     "start_time": "2020-05-20T02:53:39.842645Z"
    }
   },
   "outputs": [
    {
     "name": "stdout",
     "output_type": "stream",
     "text": [
      "Porter Stemmer :  ['fli', 'fli', 'fli', 'flew', 'flown']\n",
      "Lancaster Stemmer :  ['fly', 'fli', 'fly', 'flew', 'flown']\n"
     ]
    }
   ],
   "source": [
    "from nltk.stem import PorterStemmer, LancasterStemmer\n",
    "st1 = PorterStemmer()\n",
    "st2 = LancasterStemmer()\n",
    "\n",
    "words = [\"fly\", \"flies\", \"flying\", \"flew\", \"flown\"]\n",
    "\n",
    "print(\"Porter Stemmer : \", [st1.stem(w) for w in words])\n",
    "print(\"Lancaster Stemmer : \", [st2.stem(w) for w in words])"
   ]
  },
  {
   "cell_type": "code",
   "execution_count": 21,
   "metadata": {
    "ExecuteTime": {
     "end_time": "2020-05-20T02:55:18.543235Z",
     "start_time": "2020-05-20T02:55:18.504431Z"
    }
   },
   "outputs": [],
   "source": [
    "# 결과에서 flew, flown 은 안 바뀐다. 못 잡아낸 것. 이것은 포터와 랭케스터 알고리즘의 한계.\n",
    "# 둘 다 복잡한 알고리즘이 아냐"
   ]
  },
  {
   "cell_type": "markdown",
   "metadata": {},
   "source": [
    "### step3: 표제어 추출\n",
    "- 진짜로 표제어를 찾고 싶다면 사전을 찾아야 해\n",
    "- NLTK의 WordNetLemmatizer 사용 (WordNet 이라는 사전 사용)"
   ]
  },
  {
   "cell_type": "code",
   "execution_count": 24,
   "metadata": {
    "ExecuteTime": {
     "end_time": "2020-05-20T04:21:22.155877Z",
     "start_time": "2020-05-20T04:21:22.143940Z"
    }
   },
   "outputs": [
    {
     "data": {
      "text/plain": [
       "['fly', 'fly', 'fly', 'fly', 'fly']"
      ]
     },
     "execution_count": 24,
     "metadata": {},
     "output_type": "execute_result"
    }
   ],
   "source": [
    "from nltk.stem import WordNetLemmatizer\n",
    "lm = WordNetLemmatizer()\n",
    "[lm.lemmatize(w, pos = \"v\") for w in words] # fly를 동사로 정해주는 파라미터 pos=\"v\"\n",
    "# 레머타이징 한것과 스테밍한 것 용량이 크면 시간 차가 엄청나게 난다"
   ]
  },
  {
   "cell_type": "markdown",
   "metadata": {
    "ExecuteTime": {
     "end_time": "2020-05-20T04:22:25.372454Z",
     "start_time": "2020-05-20T04:22:25.366769Z"
    }
   },
   "source": [
    "- NLTK의 pos_tag 사용"
   ]
  },
  {
   "cell_type": "code",
   "execution_count": 27,
   "metadata": {
    "ExecuteTime": {
     "end_time": "2020-05-20T04:23:38.858153Z",
     "start_time": "2020-05-20T04:23:38.677823Z"
    }
   },
   "outputs": [
    {
     "data": {
      "text/plain": [
       "[('Emma', 'NNP'),\n",
       " ('refused', 'VBD'),\n",
       " ('to', 'TO'),\n",
       " ('permit', 'VB'),\n",
       " ('us', 'PRP'),\n",
       " ('to', 'TO'),\n",
       " ('obtain', 'VB'),\n",
       " ('the', 'DT'),\n",
       " ('refuse', 'NN'),\n",
       " ('permit', 'NN')]"
      ]
     },
     "execution_count": 27,
     "metadata": {},
     "output_type": "execute_result"
    }
   ],
   "source": [
    "from nltk.tag import pos_tag\n",
    "sentence = \"Emma refused to permit us to obtain the refuse permit\"\n",
    "tagged_list = pos_tag(word_tokenize(sentence))\n",
    "tagged_listb"
   ]
  },
  {
   "cell_type": "markdown",
   "metadata": {},
   "source": [
    "#### 품사 부착(태그)\n",
    "- 문맥을 보고선 품사를 찾아주는 것\n",
    "- NNP : 고유대명사\n",
    "- VBD : 동사의 과거형\n",
    "- VB : 동사\n",
    "- NN : 명사"
   ]
  },
  {
   "cell_type": "code",
   "execution_count": 29,
   "metadata": {
    "ExecuteTime": {
     "end_time": "2020-05-20T04:29:44.152428Z",
     "start_time": "2020-05-20T04:29:44.139941Z"
    }
   },
   "outputs": [
    {
     "data": {
      "text/plain": [
       "['Emma/NNP',\n",
       " 'refused/VBD',\n",
       " 'to/TO',\n",
       " 'permit/VB',\n",
       " 'us/PRP',\n",
       " 'to/TO',\n",
       " 'obtain/VB',\n",
       " 'the/DT',\n",
       " 'refuse/NN',\n",
       " 'permit/NN']"
      ]
     },
     "execution_count": 29,
     "metadata": {},
     "output_type": "execute_result"
    }
   ],
   "source": [
    "# 단어와 품사 태그를 하나의 토큰으로 만들어주는 함수 토크나이저\n",
    "def tokenizer(doc):\n",
    "    return [\"/\".join(p) for p in tagged_list]\n",
    "tokenizer(sentence)"
   ]
  },
  {
   "cell_type": "code",
   "execution_count": 30,
   "metadata": {
    "ExecuteTime": {
     "end_time": "2020-05-20T04:30:29.038663Z",
     "start_time": "2020-05-20T04:30:29.022690Z"
    }
   },
   "outputs": [
    {
     "data": {
      "text/plain": [
       "['i',\n",
       " 'me',\n",
       " 'my',\n",
       " 'myself',\n",
       " 'we',\n",
       " 'our',\n",
       " 'ours',\n",
       " 'ourselves',\n",
       " 'you',\n",
       " \"you're\",\n",
       " \"you've\",\n",
       " \"you'll\",\n",
       " \"you'd\",\n",
       " 'your',\n",
       " 'yours',\n",
       " 'yourself',\n",
       " 'yourselves',\n",
       " 'he',\n",
       " 'him',\n",
       " 'his']"
      ]
     },
     "execution_count": 30,
     "metadata": {},
     "output_type": "execute_result"
    }
   ],
   "source": [
    "from nltk.corpus import stopwords\n",
    "stopwords.words(\"english\")[:20]"
   ]
  },
  {
   "cell_type": "markdown",
   "metadata": {
    "ExecuteTime": {
     "end_time": "2020-05-20T04:33:04.803400Z",
     "start_time": "2020-05-20T04:33:04.789015Z"
    }
   },
   "source": [
    "### NLTK의 빈도 분석\n",
    "- 어떤 토큰이나 단어 있을 때 언제 쓰였고 몇번 쓰였는지 등을 분석 \n",
    "- 두 가지 클래스 사용\n",
    "    - Text 클래스\n",
    "    - FreqDist 클래스(Frequency Distribution)"
   ]
  },
  {
   "cell_type": "markdown",
   "metadata": {
    "ExecuteTime": {
     "end_time": "2020-05-20T04:35:31.349364Z",
     "start_time": "2020-05-20T04:35:31.295198Z"
    }
   },
   "source": [
    "#### Text 클래스\n",
    "- NLTK의 Test 클래스는 문서 분석에 유용한 여러가지 메서드를 제공한다\n",
    "    - plot: 단어 빈도 그래프\n",
    "    - dispersion_plot: 단어 위치 그래프\n",
    "    - concordance: 단어 문맥 인쇄\n",
    "    - similar: 유사 단어 검색"
   ]
  },
  {
   "cell_type": "markdown",
   "metadata": {},
   "source": [
    "### 3. Text 클래스 실습\n",
    "    - step1: 클래스 객체 생성"
   ]
  },
  {
   "cell_type": "code",
   "execution_count": 36,
   "metadata": {
    "ExecuteTime": {
     "end_time": "2020-05-20T04:37:42.998313Z",
     "start_time": "2020-05-20T04:37:41.019419Z"
    }
   },
   "outputs": [],
   "source": [
    "from nltk import Text\n",
    "text = Text(word_tokenize(emma_raw))"
   ]
  },
  {
   "cell_type": "markdown",
   "metadata": {},
   "source": [
    "- step2: 단어 빈도 그래프"
   ]
  },
  {
   "cell_type": "code",
   "execution_count": 39,
   "metadata": {
    "ExecuteTime": {
     "end_time": "2020-05-20T04:39:45.069922Z",
     "start_time": "2020-05-20T04:39:44.033643Z"
    }
   },
   "outputs": [
    {
     "data": {
      "image/png": "[encoded data removed]",
      "text/plain": [
       "<Figure size 432x288 with 1 Axes>"
      ]
     },
     "metadata": {
      "image/png": {
       "height": 277,
       "width": 411
      }
     },
     "output_type": "display_data"
    }
   ],
   "source": [
    "text.plot(20) # 가장 많이 사용되는 20개 단어\n",
    "plt.show()"
   ]
  },
  {
   "cell_type": "markdown",
   "metadata": {},
   "source": [
    "- step3: 단어 위치 그래프\n",
    "    - dispersion_plot 메서드는 단어가 사용된 위치를 시각화한다. 소설 엠마의 각 등장인물들에 대해 적용하면 다음과 같은 결과"
   ]
  },
  {
   "cell_type": "code",
   "execution_count": 40,
   "metadata": {
    "ExecuteTime": {
     "end_time": "2020-05-20T04:43:28.842346Z",
     "start_time": "2020-05-20T04:43:28.006718Z"
    }
   },
   "outputs": [
    {
     "data": {
      "image/png": "[encoded data removed]",
      "text/plain": [
       "<Figure size 432x288 with 1 Axes>"
      ]
     },
     "metadata": {
      "image/png": {
       "height": 282,
       "width": 423
      }
     },
     "output_type": "display_data"
    }
   ],
   "source": [
    "text.dispersion_plot([\"Emma\", \"Knightley\", \"Frank\", \"Jane\", \"Harriet\", \"Robert\"])"
   ]
  },
  {
   "cell_type": "code",
   "execution_count": 41,
   "metadata": {
    "ExecuteTime": {
     "end_time": "2020-05-20T04:44:27.656128Z",
     "start_time": "2020-05-20T04:44:27.652387Z"
    }
   },
   "outputs": [],
   "source": [
    "# 이 소설 전체가 20만 단어로 이뤄져 있다, Punctuation mark(쉼표 마침표) 다 포함한 것"
   ]
  },
  {
   "cell_type": "markdown",
   "metadata": {
    "ExecuteTime": {
     "end_time": "2020-05-20T04:45:25.194482Z",
     "start_time": "2020-05-20T04:45:25.186655Z"
    }
   },
   "source": [
    "- step4 : 단어 문맥 인쇄\n",
    "    - concordance 메서드로 단어가 사용된 위치를 직접 표시하면 문맥(context)이 어떤지 볼 수 있다.\n",
    "    - 여기서 문맥은 해당 단어의 앞과 뒤에 사용된 단어를 뜻한다"
   ]
  },
  {
   "cell_type": "code",
   "execution_count": 44,
   "metadata": {
    "ExecuteTime": {
     "end_time": "2020-05-20T04:46:09.774507Z",
     "start_time": "2020-05-20T04:46:09.747212Z"
    }
   },
   "outputs": [
    {
     "name": "stdout",
     "output_type": "stream",
     "text": [
      "Displaying 25 of 855 matches:\n",
      "[ Emma by Jane Austen 1816 ] VOLUME I CHAPT\n",
      "ane Austen 1816 ] VOLUME I CHAPTER I Emma Woodhouse , handsome , clever , and \n",
      "both daughters , but particularly of Emma . Between _them_ it was more the int\n",
      " friend very mutually attached , and Emma doing just what she liked ; highly e\n",
      "r own . The real evils , indeed , of Emma 's situation were the power of havin\n",
      "ding-day of this beloved friend that Emma first sat in mournful thought of any\n",
      "ing only half a mile from them ; but Emma was aware that great must be the dif\n",
      "y . It was a melancholy change ; and Emma could not but sigh over it , and wis\n",
      " the rest of her life at Hartfield . Emma smiled and chatted as cheerfully as \n",
      "able to tell her how we all are . '' Emma spared no exertions to maintain this\n",
      " ' I have a great regard for you and Emma ; but when it comes to the question \n",
      "ful , troublesome creature ! '' said Emma playfully . `` That is what you have\n",
      "e few people who could see faults in Emma Woodhouse , and the only one who eve\n",
      "is was not particularly agreeable to Emma herself , she knew it would be so mu\n",
      "g thought perfect by every body . `` Emma knows I never flatter her , '' said \n",
      "t be a gainer . '' `` Well , '' said Emma , willing to let it pass -- '' you w\n",
      "re of meeting every day . '' `` Dear Emma bears every thing so well , '' said \n",
      "ss her more than she thinks for . '' Emma turned away her head , divided betwe\n",
      "nd smiles . `` It is impossible that Emma should not miss such a companion , '\n",
      "en one matter of joy to me , '' said Emma , '' and a very considerable one -- \n",
      "od to them , by interference . '' `` Emma never thinks of herself , if she can\n",
      "etter thing . Invite him to dinner , Emma , and help him to the best of the fi\n",
      " could not think , without pain , of Emma 's losing a single pleasure , or suf\n",
      " of her companionableness : but dear Emma was of no feeble character ; she was\n",
      ", was so just and so apparent , that Emma , well as she knew her father , was \n"
     ]
    }
   ],
   "source": [
    "text.concordance(\"Emma\")"
   ]
  },
  {
   "cell_type": "markdown",
   "metadata": {},
   "source": [
    "##### 경우에 따라서는 윈도우라는 말도 쓰는데 문맥의 크기를 말할 때\n",
    "- 윈도우1: 앞에 한 단어 뒤에 한 단어 \n",
    "- 윈도우2: 앞 두 단어, 뒤 두 단어를 문맥이라고 말한다\n",
    "- nltk에서는 보통 윈도우 1을 기준으로 한다\n",
    "- Word2bec에서는 보통 5~6개까지 간다"
   ]
  },
  {
   "cell_type": "markdown",
   "metadata": {},
   "source": [
    "- step5 : 유사 단어 검색\n",
    "    - similar 메서드는 같은 문맥에서 주어진 단어 대신 사용된 횟수가 높은 단어들을 찾는다"
   ]
  },
  {
   "cell_type": "code",
   "execution_count": 56,
   "metadata": {
    "ExecuteTime": {
     "end_time": "2020-05-20T04:54:38.293317Z",
     "start_time": "2020-05-20T04:54:38.229672Z"
    }
   },
   "outputs": [
    {
     "name": "stdout",
     "output_type": "stream",
     "text": [
      "she\n"
     ]
    }
   ],
   "source": [
    "text.similar(\"Emma\", 1) # nltk에서는 윈도우 1 기준으로, 숫자 1은 첫번째로 많이 쓰인 것"
   ]
  },
  {
   "cell_type": "markdown",
   "metadata": {},
   "source": [
    "- step6 : 공통 문맥 인쇄\n",
    "    - 두 단어의 공통 문맥을 보려면 common_contexts 메서드를 사용"
   ]
  },
  {
   "cell_type": "code",
   "execution_count": 59,
   "metadata": {
    "ExecuteTime": {
     "end_time": "2020-05-20T04:54:44.901856Z",
     "start_time": "2020-05-20T04:54:44.892586Z"
    }
   },
   "outputs": [
    {
     "name": "stdout",
     "output_type": "stream",
     "text": [
      "but_was and_could\n"
     ]
    }
   ],
   "source": [
    "text.common_contexts([\"Emma\", \"she\"], 2)"
   ]
  },
  {
   "cell_type": "code",
   "execution_count": 58,
   "metadata": {
    "ExecuteTime": {
     "end_time": "2020-05-20T04:54:39.810155Z",
     "start_time": "2020-05-20T04:54:39.806555Z"
    }
   },
   "outputs": [],
   "source": [
    "# but Emma was, but she was라는 말이 많이 쓰였다는 것"
   ]
  },
  {
   "cell_type": "markdown",
   "metadata": {},
   "source": [
    "### FreqDist 클래스"
   ]
  },
  {
   "cell_type": "markdown",
   "metadata": {},
   "source": [
    "- FreqDist 클래스는 문서에 사용된 단어(토큰)의 사용빈도 정보를 담는 클래스\n",
    "- Text 클래스의 vocab 메서드로 추출할 수 있다\n",
    "- 토큰 리스트를 넣어서 직접 만들 수도 있다\n",
    "- 빈도 분석에 유용한 여러가지 메서드 제공\n",
    "    - N : 빈도(횟수)\n",
    "    - freq : 빈도(퍼센트)\n",
    "    - most_common : 가장 많이 나오는 단어\n",
    "    - plot : 가장 많이 나오는 단어 플롯"
   ]
  },
  {
   "cell_type": "markdown",
   "metadata": {},
   "source": [
    "- step1: Text 클래스에서 생성"
   ]
  },
  {
   "cell_type": "code",
   "execution_count": 60,
   "metadata": {
    "ExecuteTime": {
     "end_time": "2020-05-20T04:58:07.342045Z",
     "start_time": "2020-05-20T04:58:07.334626Z"
    }
   },
   "outputs": [
    {
     "data": {
      "text/plain": [
       "nltk.probability.FreqDist"
      ]
     },
     "execution_count": 60,
     "metadata": {},
     "output_type": "execute_result"
    }
   ],
   "source": [
    "fd = text.vocab()\n",
    "type(fd)"
   ]
  },
  {
   "cell_type": "markdown",
   "metadata": {},
   "source": [
    "- step2: 토큰 리스트에서 생성\n",
    "    - 다음 코드에서는 Emma 말뭉치에서 사람의 이름(NNP)만 모아서 FreqDist 클래스 객체를 만들었다\n",
    "    - 품사 태그에서 NNP(고유대명사)이면서 필요없는 단어(stop words)는 제거했다"
   ]
  },
  {
   "cell_type": "code",
   "execution_count": 69,
   "metadata": {
    "ExecuteTime": {
     "end_time": "2020-05-20T05:12:55.734594Z",
     "start_time": "2020-05-20T05:12:55.652544Z"
    }
   },
   "outputs": [
    {
     "data": {
      "text/plain": [
       "[('[', 'NNS'),\n",
       " ('Emma', 'NNP'),\n",
       " ('by', 'IN'),\n",
       " ('Jane', 'NNP'),\n",
       " ('Austen', 'NNP'),\n",
       " ('1816', 'CD'),\n",
       " (']', 'NNP'),\n",
       " ('VOLUME', 'NNP'),\n",
       " ('I', 'PRP'),\n",
       " ('CHAPTER', 'VBP'),\n",
       " ('I', 'PRP'),\n",
       " ('Emma', 'NNP'),\n",
       " ('Woodhouse', 'NNP'),\n",
       " (',', ','),\n",
       " ('handsome', 'NN'),\n",
       " (',', ','),\n",
       " ('clever', 'NN'),\n",
       " (',', ','),\n",
       " ('and', 'CC'),\n",
       " ('rich', 'JJ'),\n",
       " (',', ','),\n",
       " ('with', 'IN'),\n",
       " ('a', 'DT'),\n",
       " ('comfortable', 'JJ'),\n",
       " ('home', 'NN'),\n",
       " ('and', 'CC'),\n",
       " ('happy', 'JJ'),\n",
       " ('disposition', 'NN'),\n",
       " (',', ','),\n",
       " ('seemed', 'VBD'),\n",
       " ('to', 'TO'),\n",
       " ('unite', 'VB'),\n",
       " ('some', 'DT'),\n",
       " ('of', 'IN'),\n",
       " ('the', 'DT'),\n",
       " ('best', 'JJS'),\n",
       " ('blessings', 'NNS'),\n",
       " ('of', 'IN'),\n",
       " ('existence', 'NN'),\n",
       " (';', ':'),\n",
       " ('and', 'CC'),\n",
       " ('had', 'VBD'),\n",
       " ('lived', 'VBN'),\n",
       " ('nearly', 'RB'),\n",
       " ('twenty-one', 'CD'),\n",
       " ('years', 'NNS'),\n",
       " ('in', 'IN'),\n",
       " ('the', 'DT'),\n",
       " ('world', 'NN'),\n",
       " ('with', 'IN'),\n",
       " ('very', 'RB'),\n",
       " ('little', 'JJ'),\n",
       " ('to', 'TO'),\n",
       " ('distress', 'VB'),\n",
       " ('or', 'CC'),\n",
       " ('vex', 'VB'),\n",
       " ('her', 'PRP'),\n",
       " ('.', '.'),\n",
       " ('She', 'PRP'),\n",
       " ('was', 'VBD'),\n",
       " ('the', 'DT'),\n",
       " ('youngest', 'JJS'),\n",
       " ('of', 'IN'),\n",
       " ('the', 'DT'),\n",
       " ('two', 'CD'),\n",
       " ('daughters', 'NNS'),\n",
       " ('of', 'IN'),\n",
       " ('a', 'DT'),\n",
       " ('most', 'RBS'),\n",
       " ('affectionate', 'JJ'),\n",
       " (',', ','),\n",
       " ('indulgent', 'JJ'),\n",
       " ('father', 'NN'),\n",
       " (';', ':'),\n",
       " ('and', 'CC'),\n",
       " ('had', 'VBD'),\n",
       " (',', ','),\n",
       " ('in', 'IN'),\n",
       " ('consequence', 'NN'),\n",
       " ('of', 'IN'),\n",
       " ('her', 'PRP$'),\n",
       " ('sister', 'NN'),\n",
       " (\"'s\", 'POS'),\n",
       " ('marriage', 'NN'),\n",
       " (',', ','),\n",
       " ('been', 'VBN'),\n",
       " ('mistress', 'NN'),\n",
       " ('of', 'IN'),\n",
       " ('his', 'PRP$'),\n",
       " ('house', 'NN'),\n",
       " ('from', 'IN'),\n",
       " ('a', 'DT'),\n",
       " ('very', 'RB'),\n",
       " ('early', 'JJ'),\n",
       " ('period', 'NN'),\n",
       " ('.', '.'),\n",
       " ('Her', 'PRP$'),\n",
       " ('mother', 'NN'),\n",
       " ('had', 'VBD'),\n",
       " ('died', 'VBN'),\n",
       " ('too', 'RB'),\n",
       " ('long', 'RB'),\n",
       " ('ago', 'RB'),\n",
       " ('for', 'IN'),\n",
       " ('her', 'PRP$'),\n",
       " ('to', 'TO'),\n",
       " ('have', 'VB'),\n",
       " ('more', 'JJR'),\n",
       " ('than', 'IN'),\n",
       " ('an', 'DT'),\n",
       " ('indistinct', 'JJ'),\n",
       " ('remembrance', 'NN'),\n",
       " ('of', 'IN'),\n",
       " ('her', 'PRP$'),\n",
       " ('caresses', 'NNS'),\n",
       " (';', ':'),\n",
       " ('and', 'CC'),\n",
       " ('her', 'PRP$'),\n",
       " ('place', 'NN'),\n",
       " ('had', 'VBD'),\n",
       " ('been', 'VBN'),\n",
       " ('supplied', 'VBN'),\n",
       " ('by', 'IN'),\n",
       " ('an', 'DT'),\n",
       " ('excellent', 'JJ'),\n",
       " ('woman', 'NN'),\n",
       " ('as', 'IN'),\n",
       " ('governess', 'NN'),\n",
       " (',', ','),\n",
       " ('who', 'WP'),\n",
       " ('had', 'VBD'),\n",
       " ('fallen', 'VBN'),\n",
       " ('little', 'JJ'),\n",
       " ('short', 'JJ'),\n",
       " ('of', 'IN'),\n",
       " ('a', 'DT'),\n",
       " ('mother', 'NN'),\n",
       " ('in', 'IN'),\n",
       " ('affection', 'NN'),\n",
       " ('.', '.'),\n",
       " ('Sixteen', 'JJ'),\n",
       " ('years', 'NNS'),\n",
       " ('had', 'VBD'),\n",
       " ('Miss', 'NNP'),\n",
       " ('Taylor', 'NNP'),\n",
       " ('been', 'VBN'),\n",
       " ('in', 'IN'),\n",
       " ('Mr.', 'NNP'),\n",
       " ('Woodhouse', 'NNP'),\n",
       " (\"'s\", 'POS'),\n",
       " ('family', 'NN'),\n",
       " (',', ','),\n",
       " ('less', 'CC'),\n",
       " ('as', 'IN'),\n",
       " ('a', 'DT'),\n",
       " ('governess', 'NN'),\n",
       " ('than', 'IN'),\n",
       " ('a', 'DT'),\n",
       " ('friend', 'NN'),\n",
       " (',', ','),\n",
       " ('very', 'RB'),\n",
       " ('fond', 'NN'),\n",
       " ('of', 'IN'),\n",
       " ('both', 'DT'),\n",
       " ('daughters', 'NNS'),\n",
       " (',', ','),\n",
       " ('but', 'CC'),\n",
       " ('particularly', 'RB'),\n",
       " ('of', 'IN'),\n",
       " ('Emma', 'NNP'),\n",
       " ('.', '.'),\n",
       " ('Between', 'NNP'),\n",
       " ('_them_', 'VBD'),\n",
       " ('it', 'PRP'),\n",
       " ('was', 'VBD'),\n",
       " ('more', 'RBR'),\n",
       " ('the', 'DT'),\n",
       " ('intimacy', 'NN'),\n",
       " ('of', 'IN'),\n",
       " ('sisters', 'NNS'),\n",
       " ('.', '.'),\n",
       " ('Even', 'RB'),\n",
       " ('before', 'IN'),\n",
       " ('Miss', 'NNP'),\n",
       " ('Taylor', 'NNP'),\n",
       " ('had', 'VBD'),\n",
       " ('ceased', 'VBN'),\n",
       " ('to', 'TO'),\n",
       " ('hold', 'VB'),\n",
       " ('the', 'DT'),\n",
       " ('nominal', 'JJ'),\n",
       " ('office', 'NN'),\n",
       " ('of', 'IN'),\n",
       " ('governess', 'NN'),\n",
       " (',', ','),\n",
       " ('the', 'DT'),\n",
       " ('mildness', 'NN'),\n",
       " ('of', 'IN'),\n",
       " ('her', 'PRP$'),\n",
       " ('temper', 'NN'),\n",
       " ('had', 'VBD'),\n",
       " ('hardly', 'RB'),\n",
       " ('allowed', 'VBN'),\n",
       " ('her', 'PRP'),\n",
       " ('to', 'TO'),\n",
       " ('impose', 'VB'),\n",
       " ('any', 'DT'),\n",
       " ('restraint', 'NN'),\n",
       " (';', ':'),\n",
       " ('and', 'CC'),\n",
       " ('the', 'DT'),\n",
       " ('shadow', 'NN'),\n",
       " ('of', 'IN'),\n",
       " ('authority', 'NN'),\n",
       " ('being', 'VBG'),\n",
       " ('now', 'RB'),\n",
       " ('long', 'RB'),\n",
       " ('passed', 'VBN'),\n",
       " ('away', 'RB'),\n",
       " (',', ','),\n",
       " ('they', 'PRP'),\n",
       " ('had', 'VBD'),\n",
       " ('been', 'VBN'),\n",
       " ('living', 'VBG'),\n",
       " ('together', 'RB'),\n",
       " ('as', 'IN'),\n",
       " ('friend', 'NN'),\n",
       " ('and', 'CC'),\n",
       " ('friend', 'VB'),\n",
       " ('very', 'RB'),\n",
       " ('mutually', 'RB'),\n",
       " ('attached', 'VBN'),\n",
       " (',', ','),\n",
       " ('and', 'CC'),\n",
       " ('Emma', 'NNP'),\n",
       " ('doing', 'VBG'),\n",
       " ('just', 'RB'),\n",
       " ('what', 'WP'),\n",
       " ('she', 'PRP'),\n",
       " ('liked', 'VBD'),\n",
       " (';', ':'),\n",
       " ('highly', 'RB'),\n",
       " ('esteeming', 'VBG'),\n",
       " ('Miss', 'NNP'),\n",
       " ('Taylor', 'NNP'),\n",
       " (\"'s\", 'POS'),\n",
       " ('judgment', 'NN'),\n",
       " (',', ','),\n",
       " ('but', 'CC'),\n",
       " ('directed', 'VBD'),\n",
       " ('chiefly', 'NN'),\n",
       " ('by', 'IN'),\n",
       " ('her', 'PRP$'),\n",
       " ('own', 'JJ'),\n",
       " ('.', '.'),\n",
       " ('The', 'DT'),\n",
       " ('real', 'JJ'),\n",
       " ('evils', 'NNS'),\n",
       " (',', ','),\n",
       " ('indeed', 'RB'),\n",
       " (',', ','),\n",
       " ('of', 'IN'),\n",
       " ('Emma', 'NNP'),\n",
       " (\"'s\", 'POS'),\n",
       " ('situation', 'NN'),\n",
       " ('were', 'VBD'),\n",
       " ('the', 'DT'),\n",
       " ('power', 'NN'),\n",
       " ('of', 'IN'),\n",
       " ('having', 'VBG'),\n",
       " ('rather', 'RB'),\n",
       " ('too', 'RB'),\n",
       " ('much', 'JJ'),\n",
       " ('her', 'PRP$'),\n",
       " ('own', 'JJ'),\n",
       " ('way', 'NN'),\n",
       " (',', ','),\n",
       " ('and', 'CC'),\n",
       " ('a', 'DT'),\n",
       " ('disposition', 'NN'),\n",
       " ('to', 'TO'),\n",
       " ('think', 'VB'),\n",
       " ('a', 'DT'),\n",
       " ('little', 'JJ'),\n",
       " ('too', 'RB'),\n",
       " ('well', 'RB'),\n",
       " ('of', 'IN'),\n",
       " ('herself', 'NN'),\n",
       " (';', ':'),\n",
       " ('these', 'DT'),\n",
       " ('were', 'VBD'),\n",
       " ('the', 'DT'),\n",
       " ('disadvantages', 'NNS'),\n",
       " ('which', 'WDT'),\n",
       " ('threatened', 'VBD'),\n",
       " ('alloy', 'NN'),\n",
       " ('to', 'TO'),\n",
       " ('her', 'PRP$'),\n",
       " ('many', 'JJ'),\n",
       " ('enjoyments', 'NNS'),\n",
       " ('.', '.'),\n",
       " ('The', 'DT'),\n",
       " ('danger', 'NN'),\n",
       " (',', ','),\n",
       " ('however', 'RB'),\n",
       " (',', ','),\n",
       " ('was', 'VBD'),\n",
       " ('at', 'IN'),\n",
       " ('present', 'JJ'),\n",
       " ('so', 'RB'),\n",
       " ('unperceived', 'JJ'),\n",
       " (',', ','),\n",
       " ('that', 'IN'),\n",
       " ('they', 'PRP'),\n",
       " ('did', 'VBD'),\n",
       " ('not', 'RB'),\n",
       " ('by', 'IN'),\n",
       " ('any', 'DT'),\n",
       " ('means', 'NNS'),\n",
       " ('rank', 'NN'),\n",
       " ('as', 'IN'),\n",
       " ('misfortunes', 'NNS'),\n",
       " ('with', 'IN'),\n",
       " ('her', 'PRP'),\n",
       " ('.', '.'),\n",
       " ('Sorrow', 'NN'),\n",
       " ('came', 'VBD'),\n",
       " ('--', ':'),\n",
       " ('a', 'DT'),\n",
       " ('gentle', 'JJ'),\n",
       " ('sorrow', 'NN'),\n",
       " ('--', ':'),\n",
       " ('but', 'CC'),\n",
       " ('not', 'RB'),\n",
       " ('at', 'IN'),\n",
       " ('all', 'DT'),\n",
       " ('in', 'IN'),\n",
       " ('the', 'DT'),\n",
       " ('shape', 'NN'),\n",
       " ('of', 'IN'),\n",
       " ('any', 'DT'),\n",
       " ('disagreeable', 'JJ'),\n",
       " ('consciousness.', 'NN'),\n",
       " ('--', ':'),\n",
       " ('Miss', 'NNP'),\n",
       " ('Taylor', 'NNP'),\n",
       " ('married', 'VBD'),\n",
       " ('.', '.'),\n",
       " ('It', 'PRP'),\n",
       " ('was', 'VBD'),\n",
       " ('Miss', 'NNP'),\n",
       " ('Taylor', 'NNP'),\n",
       " (\"'s\", 'POS'),\n",
       " ('loss', 'NN'),\n",
       " ('which', 'WDT'),\n",
       " ('first', 'RB'),\n",
       " ('brought', 'VBD'),\n",
       " ('grief', 'NN'),\n",
       " ('.', '.'),\n",
       " ('It', 'PRP'),\n",
       " ('was', 'VBD'),\n",
       " ('on', 'IN'),\n",
       " ('the', 'DT'),\n",
       " ('wedding-day', 'NN'),\n",
       " ('of', 'IN'),\n",
       " ('this', 'DT'),\n",
       " ('beloved', 'VBN'),\n",
       " ('friend', 'NN'),\n",
       " ('that', 'WDT'),\n",
       " ('Emma', 'NNP'),\n",
       " ('first', 'RB'),\n",
       " ('sat', 'VBD'),\n",
       " ('in', 'IN'),\n",
       " ('mournful', 'JJ'),\n",
       " ('thought', 'NN'),\n",
       " ('of', 'IN'),\n",
       " ('any', 'DT'),\n",
       " ('continuance', 'NN'),\n",
       " ('.', '.'),\n",
       " ('The', 'DT'),\n",
       " ('wedding', 'NN'),\n",
       " ('over', 'IN'),\n",
       " (',', ','),\n",
       " ('and', 'CC'),\n",
       " ('the', 'DT'),\n",
       " ('bride-people', 'JJ'),\n",
       " ('gone', 'VBN'),\n",
       " (',', ','),\n",
       " ('her', 'PRP$'),\n",
       " ('father', 'NN'),\n",
       " ('and', 'CC'),\n",
       " ('herself', 'PRP'),\n",
       " ('were', 'VBD'),\n",
       " ('left', 'VBN'),\n",
       " ('to', 'TO'),\n",
       " ('dine', 'VB'),\n",
       " ('together', 'RB'),\n",
       " (',', ','),\n",
       " ('with', 'IN'),\n",
       " ('no', 'DT'),\n",
       " ('prospect', 'NN'),\n",
       " ('of', 'IN'),\n",
       " ('a', 'DT'),\n",
       " ('third', 'JJ'),\n",
       " ('to', 'TO'),\n",
       " ('cheer', 'VB'),\n",
       " ('a', 'DT'),\n",
       " ('long', 'JJ'),\n",
       " ('evening', 'NN'),\n",
       " ('.', '.'),\n",
       " ('Her', 'PRP$'),\n",
       " ('father', 'NN'),\n",
       " ('composed', 'VBD'),\n",
       " ('himself', 'PRP'),\n",
       " ('to', 'TO'),\n",
       " ('sleep', 'VB'),\n",
       " ('after', 'IN'),\n",
       " ('dinner', 'NN'),\n",
       " (',', ','),\n",
       " ('as', 'IN'),\n",
       " ('usual', 'JJ'),\n",
       " (',', ','),\n",
       " ('and', 'CC'),\n",
       " ('she', 'PRP'),\n",
       " ('had', 'VBD'),\n",
       " ('then', 'RB'),\n",
       " ('only', 'RB'),\n",
       " ('to', 'TO'),\n",
       " ('sit', 'VB'),\n",
       " ('and', 'CC'),\n",
       " ('think', 'VB'),\n",
       " ('of', 'IN'),\n",
       " ('what', 'WP'),\n",
       " ('she', 'PRP'),\n",
       " ('had', 'VBD'),\n",
       " ('lost', 'VBN'),\n",
       " ('.', '.'),\n",
       " ('The', 'DT'),\n",
       " ('event', 'NN'),\n",
       " ('had', 'VBD'),\n",
       " ('every', 'DT'),\n",
       " ('promise', 'NN'),\n",
       " ('of', 'IN'),\n",
       " ('happiness', 'NN'),\n",
       " ('for', 'IN'),\n",
       " ('her', 'PRP$'),\n",
       " ('friend', 'NN'),\n",
       " ('.', '.'),\n",
       " ('Mr.', 'NNP'),\n",
       " ('Weston', 'NNP'),\n",
       " ('was', 'VBD'),\n",
       " ('a', 'DT'),\n",
       " ('man', 'NN'),\n",
       " ('of', 'IN'),\n",
       " ('unexceptionable', 'JJ'),\n",
       " ('character', 'NN'),\n",
       " (',', ','),\n",
       " ('easy', 'JJ'),\n",
       " ('fortune', 'NN'),\n",
       " (',', ','),\n",
       " ('suitable', 'JJ'),\n",
       " ('age', 'NN'),\n",
       " (',', ','),\n",
       " ('and', 'CC'),\n",
       " ('pleasant', 'JJ'),\n",
       " ('manners', 'NNS'),\n",
       " (';', ':'),\n",
       " ('and', 'CC'),\n",
       " ('there', 'EX'),\n",
       " ('was', 'VBD'),\n",
       " ('some', 'DT'),\n",
       " ('satisfaction', 'NN'),\n",
       " ('in', 'IN'),\n",
       " ('considering', 'VBG'),\n",
       " ('with', 'IN'),\n",
       " ('what', 'WP'),\n",
       " ('self-denying', 'NN'),\n",
       " (',', ','),\n",
       " ('generous', 'JJ'),\n",
       " ('friendship', 'NN'),\n",
       " ('she', 'PRP'),\n",
       " ('had', 'VBD'),\n",
       " ('always', 'RB'),\n",
       " ('wished', 'VBN'),\n",
       " ('and', 'CC'),\n",
       " ('promoted', 'VBN'),\n",
       " ('the', 'DT'),\n",
       " ('match', 'NN'),\n",
       " (';', ':'),\n",
       " ('but', 'CC'),\n",
       " ('it', 'PRP'),\n",
       " ('was', 'VBD'),\n",
       " ('a', 'DT'),\n",
       " ('black', 'JJ'),\n",
       " ('morning', 'NN'),\n",
       " (\"'s\", 'POS'),\n",
       " ('work', 'NN'),\n",
       " ('for', 'IN'),\n",
       " ('her', 'PRP'),\n",
       " ('.', '.'),\n",
       " ('The', 'DT'),\n",
       " ('want', 'NN'),\n",
       " ('of', 'IN'),\n",
       " ('Miss', 'NNP'),\n",
       " ('Taylor', 'NNP'),\n",
       " ('would', 'MD'),\n",
       " ('be', 'VB'),\n",
       " ('felt', 'VBN'),\n",
       " ('every', 'DT'),\n",
       " ('hour', 'NN'),\n",
       " ('of', 'IN'),\n",
       " ('every', 'DT'),\n",
       " ('day', 'NN'),\n",
       " ('.', '.'),\n",
       " ('She', 'PRP'),\n",
       " ('recalled', 'VBD'),\n",
       " ('her', 'PRP'),\n",
       " ('past', 'JJ'),\n",
       " ('kindness', 'NN'),\n",
       " ('--', ':'),\n",
       " ('the', 'DT'),\n",
       " ('kindness', 'NN'),\n",
       " (',', ','),\n",
       " ('the', 'DT'),\n",
       " ('affection', 'NN'),\n",
       " ('of', 'IN'),\n",
       " ('sixteen', 'JJ'),\n",
       " ('years', 'NNS'),\n",
       " ('--', ':'),\n",
       " ('how', 'WRB'),\n",
       " ('she', 'PRP'),\n",
       " ('had', 'VBD'),\n",
       " ('taught', 'VBN'),\n",
       " ('and', 'CC'),\n",
       " ('how', 'WRB'),\n",
       " ('she', 'PRP'),\n",
       " ('had', 'VBD'),\n",
       " ('played', 'VBN'),\n",
       " ('with', 'IN'),\n",
       " ('her', 'PRP'),\n",
       " ('from', 'IN'),\n",
       " ('five', 'CD'),\n",
       " ('years', 'NNS'),\n",
       " ('old', 'JJ'),\n",
       " ('--', ':'),\n",
       " ('how', 'WRB'),\n",
       " ('she', 'PRP'),\n",
       " ('had', 'VBD'),\n",
       " ('devoted', 'VBN'),\n",
       " ('all', 'DT'),\n",
       " ('her', 'PRP$'),\n",
       " ('powers', 'NNS'),\n",
       " ('to', 'TO'),\n",
       " ('attach', 'VB'),\n",
       " ('and', 'CC'),\n",
       " ('amuse', 'VB'),\n",
       " ('her', 'PRP$'),\n",
       " ('in', 'IN'),\n",
       " ('health', 'NN'),\n",
       " ('--', ':'),\n",
       " ('and', 'CC'),\n",
       " ('how', 'WRB'),\n",
       " ('nursed', 'JJ'),\n",
       " ('her', 'PRP$'),\n",
       " ('through', 'IN'),\n",
       " ('the', 'DT'),\n",
       " ('various', 'JJ'),\n",
       " ('illnesses', 'NNS'),\n",
       " ('of', 'IN'),\n",
       " ('childhood', 'NN'),\n",
       " ('.', '.'),\n",
       " ('A', 'DT'),\n",
       " ('large', 'JJ'),\n",
       " ('debt', 'NN'),\n",
       " ('of', 'IN'),\n",
       " ('gratitude', 'NN'),\n",
       " ('was', 'VBD'),\n",
       " ('owing', 'VBG'),\n",
       " ('here', 'RB'),\n",
       " (';', ':'),\n",
       " ('but', 'CC'),\n",
       " ('the', 'DT'),\n",
       " ('intercourse', 'NN'),\n",
       " ('of', 'IN'),\n",
       " ('the', 'DT'),\n",
       " ('last', 'JJ'),\n",
       " ('seven', 'CD'),\n",
       " ('years', 'NNS'),\n",
       " (',', ','),\n",
       " ('the', 'DT'),\n",
       " ('equal', 'JJ'),\n",
       " ('footing', 'NN'),\n",
       " ('and', 'CC'),\n",
       " ('perfect', 'NN'),\n",
       " ('unreserve', 'NN'),\n",
       " ('which', 'WDT'),\n",
       " ('had', 'VBD'),\n",
       " ('soon', 'RB'),\n",
       " ('followed', 'VBN'),\n",
       " ('Isabella', 'NNP'),\n",
       " (\"'s\", 'POS'),\n",
       " ('marriage', 'NN'),\n",
       " (',', ','),\n",
       " ('on', 'IN'),\n",
       " ('their', 'PRP$'),\n",
       " ('being', 'VBG'),\n",
       " ('left', 'VBN'),\n",
       " ('to', 'TO'),\n",
       " ('each', 'DT'),\n",
       " ('other', 'JJ'),\n",
       " (',', ','),\n",
       " ('was', 'VBD'),\n",
       " ('yet', 'RB'),\n",
       " ('a', 'DT'),\n",
       " ('dearer', 'NN'),\n",
       " (',', ','),\n",
       " ('tenderer', 'JJR'),\n",
       " ('recollection', 'NN'),\n",
       " ('.', '.'),\n",
       " ('She', 'PRP'),\n",
       " ('had', 'VBD'),\n",
       " ('been', 'VBN'),\n",
       " ('a', 'DT'),\n",
       " ('friend', 'NN'),\n",
       " ('and', 'CC'),\n",
       " ('companion', 'NN'),\n",
       " ('such', 'JJ'),\n",
       " ('as', 'IN'),\n",
       " ('few', 'JJ'),\n",
       " ('possessed', 'VBD'),\n",
       " (':', ':'),\n",
       " ('intelligent', 'NN'),\n",
       " (',', ','),\n",
       " ('well-informed', 'JJ'),\n",
       " (',', ','),\n",
       " ('useful', 'JJ'),\n",
       " (',', ','),\n",
       " ('gentle', 'JJ'),\n",
       " (',', ','),\n",
       " ('knowing', 'VBG'),\n",
       " ('all', 'PDT'),\n",
       " ('the', 'DT'),\n",
       " ('ways', 'NNS'),\n",
       " ('of', 'IN'),\n",
       " ('the', 'DT'),\n",
       " ('family', 'NN'),\n",
       " (',', ','),\n",
       " ('interested', 'JJ'),\n",
       " ('in', 'IN'),\n",
       " ('all', 'DT'),\n",
       " ('its', 'PRP$'),\n",
       " ('concerns', 'NNS'),\n",
       " (',', ','),\n",
       " ('and', 'CC'),\n",
       " ('peculiarly', 'RB'),\n",
       " ('interested', 'JJ'),\n",
       " ('in', 'IN'),\n",
       " ('herself', 'PRP'),\n",
       " (',', ','),\n",
       " ('in', 'IN'),\n",
       " ('every', 'DT'),\n",
       " ('pleasure', 'NN'),\n",
       " (',', ','),\n",
       " ('every', 'DT'),\n",
       " ('scheme', 'NN'),\n",
       " ('of', 'IN'),\n",
       " ('hers', 'NNS'),\n",
       " ('--', ':'),\n",
       " ('one', 'CD'),\n",
       " ('to', 'TO'),\n",
       " ('whom', 'WP'),\n",
       " ('she', 'PRP'),\n",
       " ('could', 'MD'),\n",
       " ('speak', 'VB'),\n",
       " ('every', 'DT'),\n",
       " ('thought', 'NN'),\n",
       " ('as', 'IN'),\n",
       " ('it', 'PRP'),\n",
       " ('arose', 'VBD'),\n",
       " (',', ','),\n",
       " ('and', 'CC'),\n",
       " ('who', 'WP'),\n",
       " ('had', 'VBD'),\n",
       " ('such', 'PDT'),\n",
       " ('an', 'DT'),\n",
       " ('affection', 'NN'),\n",
       " ('for', 'IN'),\n",
       " ('her', 'PRP$'),\n",
       " ('as', 'NNS'),\n",
       " ('could', 'MD'),\n",
       " ('never', 'RB'),\n",
       " ('find', 'VB'),\n",
       " ('fault', 'NN'),\n",
       " ('.', '.'),\n",
       " ('How', 'WRB'),\n",
       " ('was', 'VBD'),\n",
       " ('she', 'PRP'),\n",
       " ('to', 'TO'),\n",
       " ('bear', 'VB'),\n",
       " ('the', 'DT'),\n",
       " ('change', 'NN'),\n",
       " ('?', '.'),\n",
       " ('--', ':'),\n",
       " ('It', 'PRP'),\n",
       " ('was', 'VBD'),\n",
       " ('true', 'JJ'),\n",
       " ('that', 'IN'),\n",
       " ('her', 'PRP$'),\n",
       " ('friend', 'NN'),\n",
       " ('was', 'VBD'),\n",
       " ('going', 'VBG'),\n",
       " ('only', 'RB'),\n",
       " ('half', 'PDT'),\n",
       " ('a', 'DT'),\n",
       " ('mile', 'NN'),\n",
       " ('from', 'IN'),\n",
       " ('them', 'PRP'),\n",
       " (';', ':'),\n",
       " ('but', 'CC'),\n",
       " ('Emma', 'NNP'),\n",
       " ('was', 'VBD'),\n",
       " ('aware', 'JJ'),\n",
       " ('that', 'IN'),\n",
       " ('great', 'JJ'),\n",
       " ('must', 'MD'),\n",
       " ('be', 'VB'),\n",
       " ('the', 'DT'),\n",
       " ('difference', 'NN'),\n",
       " ('between', 'IN'),\n",
       " ('a', 'DT'),\n",
       " ('Mrs.', 'NNP'),\n",
       " ('Weston', 'NNP'),\n",
       " (',', ','),\n",
       " ('only', 'RB'),\n",
       " ('half', 'PDT'),\n",
       " ('a', 'DT'),\n",
       " ('mile', 'NN'),\n",
       " ('from', 'IN'),\n",
       " ('them', 'PRP'),\n",
       " (',', ','),\n",
       " ('and', 'CC'),\n",
       " ('a', 'DT'),\n",
       " ('Miss', 'NNP'),\n",
       " ('Taylor', 'NNP'),\n",
       " ('in', 'IN'),\n",
       " ('the', 'DT'),\n",
       " ('house', 'NN'),\n",
       " (';', ':'),\n",
       " ('and', 'CC'),\n",
       " ('with', 'IN'),\n",
       " ('all', 'DT'),\n",
       " ('her', 'PRP$'),\n",
       " ('advantages', 'NNS'),\n",
       " (',', ','),\n",
       " ('natural', 'JJ'),\n",
       " ('and', 'CC'),\n",
       " ('domestic', 'JJ'),\n",
       " (',', ','),\n",
       " ('she', 'PRP'),\n",
       " ('was', 'VBD'),\n",
       " ('now', 'RB'),\n",
       " ('in', 'IN'),\n",
       " ('great', 'JJ'),\n",
       " ('danger', 'NN'),\n",
       " ('of', 'IN'),\n",
       " ('suffering', 'VBG'),\n",
       " ('from', 'IN'),\n",
       " ('intellectual', 'JJ'),\n",
       " ('solitude', 'NN'),\n",
       " ('.', '.'),\n",
       " ('She', 'PRP'),\n",
       " ('dearly', 'RB'),\n",
       " ('loved', 'VBD'),\n",
       " ('her', 'PRP'),\n",
       " ('father', 'NN'),\n",
       " (',', ','),\n",
       " ('but', 'CC'),\n",
       " ('he', 'PRP'),\n",
       " ('was', 'VBD'),\n",
       " ('no', 'DT'),\n",
       " ('companion', 'NN'),\n",
       " ('for', 'IN'),\n",
       " ('her', 'PRP$'),\n",
       " ('.', '.'),\n",
       " ('He', 'PRP'),\n",
       " ('could', 'MD'),\n",
       " ('not', 'RB'),\n",
       " ('meet', 'VB'),\n",
       " ('her', 'PRP$'),\n",
       " ('in', 'IN'),\n",
       " ('conversation', 'NN'),\n",
       " (',', ','),\n",
       " ('rational', 'JJ'),\n",
       " ('or', 'CC'),\n",
       " ('playful', 'JJ'),\n",
       " ('.', '.'),\n",
       " ('The', 'DT'),\n",
       " ('evil', 'NN'),\n",
       " ('of', 'IN'),\n",
       " ('the', 'DT'),\n",
       " ('actual', 'JJ'),\n",
       " ('disparity', 'NN'),\n",
       " ('in', 'IN'),\n",
       " ('their', 'PRP$'),\n",
       " ('ages', 'NNS'),\n",
       " ('(', '('),\n",
       " ('and', 'CC'),\n",
       " ('Mr.', 'NNP'),\n",
       " ('Woodhouse', 'NNP'),\n",
       " ('had', 'VBD'),\n",
       " ('not', 'RB'),\n",
       " ('married', 'VBN'),\n",
       " ('early', 'RB'),\n",
       " (')', ')'),\n",
       " ('was', 'VBD'),\n",
       " ('much', 'RB'),\n",
       " ('increased', 'VBN'),\n",
       " ('by', 'IN'),\n",
       " ('his', 'PRP$'),\n",
       " ('constitution', 'NN'),\n",
       " ('and', 'CC'),\n",
       " ('habits', 'NNS'),\n",
       " (';', ':'),\n",
       " ('for', 'IN'),\n",
       " ('having', 'VBG'),\n",
       " ('been', 'VBN'),\n",
       " ('a', 'DT'),\n",
       " ('valetudinarian', 'JJ'),\n",
       " ('all', 'PDT'),\n",
       " ('his', 'PRP$'),\n",
       " ('life', 'NN'),\n",
       " (',', ','),\n",
       " ('without', 'IN'),\n",
       " ('activity', 'NN'),\n",
       " ('of', 'IN'),\n",
       " ('mind', 'NN'),\n",
       " ('or', 'CC'),\n",
       " ('body', 'NN'),\n",
       " (',', ','),\n",
       " ('he', 'PRP'),\n",
       " ('was', 'VBD'),\n",
       " ('a', 'DT'),\n",
       " ('much', 'JJ'),\n",
       " ('older', 'JJR'),\n",
       " ('man', 'NN'),\n",
       " ('in', 'IN'),\n",
       " ('ways', 'NNS'),\n",
       " ('than', 'IN'),\n",
       " ('in', 'IN'),\n",
       " ('years', 'NNS'),\n",
       " (';', ':'),\n",
       " ('and', 'CC'),\n",
       " ('though', 'IN'),\n",
       " ('everywhere', 'RB'),\n",
       " ('beloved', 'VBN'),\n",
       " ('for', 'IN'),\n",
       " ('the', 'DT'),\n",
       " ('friendliness', 'NN'),\n",
       " ('of', 'IN'),\n",
       " ('his', 'PRP$'),\n",
       " ('heart', 'NN'),\n",
       " ('and', 'CC'),\n",
       " ('his', 'PRP$'),\n",
       " ('amiable', 'JJ'),\n",
       " ('temper', 'NN'),\n",
       " (',', ','),\n",
       " ('his', 'PRP$'),\n",
       " ('talents', 'NNS'),\n",
       " ('could', 'MD'),\n",
       " ('not', 'RB'),\n",
       " ('have', 'VB'),\n",
       " ('recommended', 'VBN'),\n",
       " ('him', 'PRP'),\n",
       " ('at', 'IN'),\n",
       " ('any', 'DT'),\n",
       " ('time', 'NN'),\n",
       " ('.', '.'),\n",
       " ('Her', 'PRP$'),\n",
       " ('sister', 'NN'),\n",
       " (',', ','),\n",
       " ('though', 'IN'),\n",
       " ('comparatively', 'RB'),\n",
       " ('but', 'CC'),\n",
       " ('little', 'JJ'),\n",
       " ('removed', 'VBN'),\n",
       " ('by', 'IN'),\n",
       " ('matrimony', 'NN'),\n",
       " (',', ','),\n",
       " ('being', 'VBG'),\n",
       " ('settled', 'VBN'),\n",
       " ('in', 'IN'),\n",
       " ('London', 'NNP'),\n",
       " (',', ','),\n",
       " ('only', 'RB'),\n",
       " ('sixteen', 'JJ'),\n",
       " ('miles', 'NNS'),\n",
       " ('off', 'RB'),\n",
       " (',', ','),\n",
       " ('was', 'VBD'),\n",
       " ('much', 'JJ'),\n",
       " ('beyond', 'IN'),\n",
       " ('her', 'PRP$'),\n",
       " ('daily', 'JJ'),\n",
       " ('reach', 'NN'),\n",
       " (';', ':'),\n",
       " ('and', 'CC'),\n",
       " ('many', 'JJ'),\n",
       " ('a', 'DT'),\n",
       " ('long', 'JJ'),\n",
       " ('October', 'NNP'),\n",
       " ('and', 'CC'),\n",
       " ('November', 'NNP'),\n",
       " ('evening', 'NN'),\n",
       " ('must', 'MD'),\n",
       " ('be', 'VB'),\n",
       " ('struggled', 'VBN'),\n",
       " ('through', 'IN'),\n",
       " ('at', 'IN'),\n",
       " ('Hartfield', 'NNP'),\n",
       " (',', ','),\n",
       " ('before', 'IN'),\n",
       " ('Christmas', 'NNP'),\n",
       " ('brought', 'VBD'),\n",
       " ('the', 'DT'),\n",
       " ('next', 'JJ'),\n",
       " ('visit', 'NN'),\n",
       " ('from', 'IN'),\n",
       " ('Isabella', 'NNP'),\n",
       " ('and', 'CC'),\n",
       " ('her', 'PRP$'),\n",
       " ('husband', 'NN'),\n",
       " (',', ','),\n",
       " ('and', 'CC'),\n",
       " ('their', 'PRP$'),\n",
       " ('little', 'JJ'),\n",
       " ('children', 'NNS'),\n",
       " (',', ','),\n",
       " ('to', 'TO'),\n",
       " ('fill', 'VB'),\n",
       " ('the', 'DT'),\n",
       " ('house', 'NN'),\n",
       " (',', ','),\n",
       " ('and', 'CC'),\n",
       " ('give', 'VB'),\n",
       " ('her', 'PRP$'),\n",
       " ('pleasant', 'JJ'),\n",
       " ('society', 'NN'),\n",
       " ('again', 'RB'),\n",
       " ('.', '.'),\n",
       " ('Highbury', 'NNP'),\n",
       " (',', ','),\n",
       " ('the', 'DT'),\n",
       " ('large', 'JJ'),\n",
       " ('and', 'CC'),\n",
       " ('populous', 'JJ'),\n",
       " ('village', 'NN'),\n",
       " (',', ','),\n",
       " ('almost', 'RB'),\n",
       " ('amounting', 'VBG'),\n",
       " ('to', 'TO'),\n",
       " ('a', 'DT'),\n",
       " ('town', 'NN'),\n",
       " (',', ','),\n",
       " ('to', 'TO'),\n",
       " ('which', 'WDT'),\n",
       " ('Hartfield', 'NNP'),\n",
       " (',', ','),\n",
       " ('in', 'IN'),\n",
       " ('spite', 'NN'),\n",
       " ('of', 'IN'),\n",
       " ('its', 'PRP$'),\n",
       " ('separate', 'JJ'),\n",
       " ('lawn', 'NN'),\n",
       " (',', ','),\n",
       " ('and', 'CC'),\n",
       " ('shrubberies', 'NNS'),\n",
       " (',', ','),\n",
       " ('and', 'CC'),\n",
       " ('name', 'NN'),\n",
       " (',', ','),\n",
       " ('did', 'VBD'),\n",
       " ('really', 'RB'),\n",
       " ('belong', 'JJ'),\n",
       " (',', ','),\n",
       " ('afforded', 'VBD'),\n",
       " ('her', 'PRP'),\n",
       " ('no', 'DT'),\n",
       " ('equals', 'NNS'),\n",
       " ('.', '.'),\n",
       " ('The', 'DT'),\n",
       " ('Woodhouses', 'NNPS'),\n",
       " ('were', 'VBD'),\n",
       " ('first', 'RB'),\n",
       " ('in', 'IN'),\n",
       " ('consequence', 'NN'),\n",
       " ('there', 'RB'),\n",
       " ('.', '.'),\n",
       " ('All', 'DT'),\n",
       " ('looked', 'VBD'),\n",
       " ('up', 'RP'),\n",
       " ...]"
      ]
     },
     "execution_count": 69,
     "metadata": {},
     "output_type": "execute_result"
    }
   ],
   "source": [
    "emma_tokens"
   ]
  },
  {
   "cell_type": "code",
   "execution_count": 75,
   "metadata": {
    "ExecuteTime": {
     "end_time": "2020-05-20T05:31:34.737705Z",
     "start_time": "2020-05-20T05:31:17.085867Z"
    }
   },
   "outputs": [
    {
     "data": {
      "text/plain": [
       "FreqDist({'Emma': 829, 'Harriet': 477, 'Weston': 429, 'Elton': 374, 'Knightley': 373, 'Woodhouse': 307, 'Jane': 295, 'Fairfax': 232, 'Churchill': 213, 'Frank': 207, ...})"
      ]
     },
     "execution_count": 75,
     "metadata": {},
     "output_type": "execute_result"
    }
   ],
   "source": [
    "from nltk import FreqDist\n",
    "stopwords = [\"Mr.\", \"Mrs.\", \"Miss\", \"Mr\", \"Mrs\", \"Dear\"]\n",
    "emma_tokens = pos_tag(word_tokenize(emma_raw))\n",
    "names_list = [t[0] for t in emma_tokens if t[1] == \"NNP\" and t[0] not in stopwords]\n",
    "# 리스트 컴프리핸션 : 엠마 토큰스의 데이터를 t로 받아서 뒤의 조건에 적합하면 t[0]의 이름을 리스트로 저장\n",
    "fd_names = FreqDist(names_list)\n",
    "fd_names\n",
    "# t[0]는 고유명사. t[1]은 태그 열을 각각 가리킨다"
   ]
  },
  {
   "cell_type": "markdown",
   "metadata": {},
   "source": [
    "- step3: 단어 빈도 분석\n",
    "    - FreqDist 클래스는 단어를 키(key), 출현빈도를 값(value)으로 가지는 사전 자료형과 유사하다.\n",
    "    - 다음 코드는 전체 단어의 수, \"Emma\"라는 단어의 출현 횟수, 확률을 각각 계산한다"
   ]
  },
  {
   "cell_type": "code",
   "execution_count": 78,
   "metadata": {
    "ExecuteTime": {
     "end_time": "2020-05-20T05:34:43.141649Z",
     "start_time": "2020-05-20T05:34:43.131784Z"
    }
   },
   "outputs": [
    {
     "data": {
      "text/plain": [
       "(6924, 829, 0.11972848064702483)"
      ]
     },
     "execution_count": 78,
     "metadata": {},
     "output_type": "execute_result"
    }
   ],
   "source": [
    "fd_names.N(), fd_names[\"Emma\"], fd_names.freq(\"Emma\")"
   ]
  },
  {
   "cell_type": "code",
   "execution_count": 79,
   "metadata": {
    "ExecuteTime": {
     "end_time": "2020-05-20T05:35:08.069117Z",
     "start_time": "2020-05-20T05:35:08.065071Z"
    }
   },
   "outputs": [],
   "source": [
    "# 이름이 약 7000개 그 중 800개 정도가 엠마, 비율은 12퍼센트 정도가 된다는 뜻"
   ]
  },
  {
   "cell_type": "code",
   "execution_count": 80,
   "metadata": {
    "ExecuteTime": {
     "end_time": "2020-05-20T05:37:44.352796Z",
     "start_time": "2020-05-20T05:37:44.344251Z"
    }
   },
   "outputs": [
    {
     "data": {
      "text/plain": [
       "[('Emma', 829),\n",
       " ('Harriet', 477),\n",
       " ('Weston', 429),\n",
       " ('Elton', 374),\n",
       " ('Knightley', 373)]"
      ]
     },
     "execution_count": 80,
     "metadata": {},
     "output_type": "execute_result"
    }
   ],
   "source": [
    "# most_common 메서드를 사용하면 가장 출현 횟수가 높은 단어를 찾는다\n",
    "fd_names.most_common(5)"
   ]
  },
  {
   "cell_type": "code",
   "execution_count": 81,
   "metadata": {
    "ExecuteTime": {
     "end_time": "2020-05-20T05:38:36.886064Z",
     "start_time": "2020-05-20T05:38:36.880938Z"
    }
   },
   "outputs": [],
   "source": [
    "# 감성분석?을 할 때는 형용사를 뽑아서 활용할 수 있다. 상품평 등..."
   ]
  },
  {
   "cell_type": "code",
   "execution_count": 82,
   "metadata": {
    "ExecuteTime": {
     "end_time": "2020-05-20T05:39:05.654771Z",
     "start_time": "2020-05-20T05:39:05.116526Z"
    }
   },
   "outputs": [
    {
     "data": {
      "image/png": "[encoded data removed]",
      "text/plain": [
       "<Figure size 432x288 with 1 Axes>"
      ]
     },
     "metadata": {
      "image/png": {
       "height": 316,
       "width": 396
      }
     },
     "output_type": "display_data"
    }
   ],
   "source": [
    "fd_names.plot(20)\n",
    "plt.show()"
   ]
  },
  {
   "cell_type": "markdown",
   "metadata": {},
   "source": [
    "### 워드 클라우드\n",
    "- wordcloud 패키지를 사용하면 단어의 사용 빈도수에 따라 워드클라우드 시각화를 할 수 있다"
   ]
  },
  {
   "cell_type": "code",
   "execution_count": 84,
   "metadata": {
    "ExecuteTime": {
     "end_time": "2020-05-20T05:41:23.290329Z",
     "start_time": "2020-05-20T05:41:20.014681Z"
    }
   },
   "outputs": [
    {
     "name": "stdout",
     "output_type": "stream",
     "text": [
      "Requirement already satisfied: wordcloud in /Users/Im/opt/anaconda3/lib/python3.7/site-packages (1.7.0)\n",
      "Requirement already satisfied: numpy>=1.6.1 in /Users/Im/opt/anaconda3/lib/python3.7/site-packages (from wordcloud) (1.18.1)\n",
      "Requirement already satisfied: matplotlib in /Users/Im/opt/anaconda3/lib/python3.7/site-packages (from wordcloud) (3.1.3)\n",
      "Requirement already satisfied: pillow in /Users/Im/opt/anaconda3/lib/python3.7/site-packages (from wordcloud) (7.0.0)\n",
      "Requirement already satisfied: pyparsing!=2.0.4,!=2.1.2,!=2.1.6,>=2.0.1 in /Users/Im/opt/anaconda3/lib/python3.7/site-packages (from matplotlib->wordcloud) (2.4.6)\n",
      "Requirement already satisfied: cycler>=0.10 in /Users/Im/opt/anaconda3/lib/python3.7/site-packages (from matplotlib->wordcloud) (0.10.0)\n",
      "Requirement already satisfied: kiwisolver>=1.0.1 in /Users/Im/opt/anaconda3/lib/python3.7/site-packages (from matplotlib->wordcloud) (1.1.0)\n",
      "Requirement already satisfied: python-dateutil>=2.1 in /Users/Im/opt/anaconda3/lib/python3.7/site-packages (from matplotlib->wordcloud) (2.8.1)\n",
      "Requirement already satisfied: six in /Users/Im/opt/anaconda3/lib/python3.7/site-packages (from cycler>=0.10->matplotlib->wordcloud) (1.14.0)\n",
      "Requirement already satisfied: setuptools in /Users/Im/opt/anaconda3/lib/python3.7/site-packages (from kiwisolver>=1.0.1->matplotlib->wordcloud) (46.0.0.post20200309)\n"
     ]
    }
   ],
   "source": [
    "# 워드클라우드 패키지 설치\n",
    "!pip install wordcloud\n",
    "# 또는 conda install wordcloud -c conda-forge"
   ]
  },
  {
   "cell_type": "code",
   "execution_count": 88,
   "metadata": {
    "ExecuteTime": {
     "end_time": "2020-05-20T05:43:48.871996Z",
     "start_time": "2020-05-20T05:43:44.745701Z"
    }
   },
   "outputs": [
    {
     "data": {
      "image/png": "[encoded data removed]",
      "text/plain": [
       "<Figure size 432x288 with 1 Axes>"
      ]
     },
     "metadata": {
      "image/png": {
       "height": 215,
       "width": 349
      }
     },
     "output_type": "display_data"
    }
   ],
   "source": [
    "from wordcloud import WordCloud\n",
    "\n",
    "wc = WordCloud(width = 1000, height = 600, background_color = \"white\", random_state = 0)\n",
    "plt.imshow(wc.generate_from_frequencies(fd_names))\n",
    "plt.axis(\"off\")\n",
    "plt.show()"
   ]
  },
  {
   "cell_type": "markdown",
   "metadata": {
    "ExecuteTime": {
     "end_time": "2020-05-20T05:44:33.898167Z",
     "start_time": "2020-05-20T05:44:33.883849Z"
    }
   },
   "source": [
    "#### 연습문제: 소설 등장인물 이름 워드클라우드 제작\n",
    "- 구텐베르그 프로젝트의 소설 말뭉치 중 하나를 골라서 등장인물 이름의 빈도 플롯과 워드클라우드를 제작하라"
   ]
  },
  {
   "cell_type": "markdown",
   "metadata": {},
   "source": [
    "## 한글 자연어 처리\n",
    "- KoNLPy 패키지 사용"
   ]
  },
  {
   "cell_type": "code",
   "execution_count": 90,
   "metadata": {
    "ExecuteTime": {
     "end_time": "2020-05-20T06:24:01.580433Z",
     "start_time": "2020-05-20T06:23:13.916744Z"
    }
   },
   "outputs": [
    {
     "name": "stdout",
     "output_type": "stream",
     "text": [
      "Collecting konlpy\n",
      "  Downloading konlpy-0.5.2-py2.py3-none-any.whl (19.4 MB)\n",
      "\u001b[K     |████████████████████████████████| 19.4 MB 464 kB/s eta 0:00:01    |█████████▊                      | 5.9 MB 733 kB/s eta 0:00:19     |████████████████████████████▉   | 17.5 MB 561 kB/s eta 0:00:04\n",
      "\u001b[?25hCollecting tweepy>=3.7.0\n",
      "  Downloading tweepy-3.8.0-py2.py3-none-any.whl (28 kB)\n",
      "Requirement already satisfied: colorama in /Users/Im/opt/anaconda3/lib/python3.7/site-packages (from konlpy) (0.4.3)\n",
      "Requirement already satisfied: numpy>=1.6 in /Users/Im/opt/anaconda3/lib/python3.7/site-packages (from konlpy) (1.18.1)\n",
      "Requirement already satisfied: lxml>=4.1.0 in /Users/Im/opt/anaconda3/lib/python3.7/site-packages (from konlpy) (4.5.0)\n",
      "Collecting beautifulsoup4==4.6.0\n",
      "  Downloading beautifulsoup4-4.6.0-py3-none-any.whl (86 kB)\n",
      "\u001b[K     |████████████████████████████████| 86 kB 837 kB/s eta 0:00:011\n",
      "\u001b[?25hCollecting JPype1>=0.7.0\n",
      "  Downloading JPype1-0.7.5-cp37-cp37m-macosx_10_9_x86_64.whl (299 kB)\n",
      "\u001b[K     |████████████████████████████████| 299 kB 932 kB/s eta 0:00:01\n",
      "\u001b[?25hRequirement already satisfied: PySocks>=1.5.7 in /Users/Im/opt/anaconda3/lib/python3.7/site-packages (from tweepy>=3.7.0->konlpy) (1.7.1)\n",
      "Requirement already satisfied: six>=1.10.0 in /Users/Im/opt/anaconda3/lib/python3.7/site-packages (from tweepy>=3.7.0->konlpy) (1.14.0)\n",
      "Collecting requests-oauthlib>=0.7.0\n",
      "  Downloading requests_oauthlib-1.3.0-py2.py3-none-any.whl (23 kB)\n",
      "Requirement already satisfied: requests>=2.11.1 in /Users/Im/opt/anaconda3/lib/python3.7/site-packages (from tweepy>=3.7.0->konlpy) (2.22.0)\n",
      "Collecting oauthlib>=3.0.0\n",
      "  Downloading oauthlib-3.1.0-py2.py3-none-any.whl (147 kB)\n",
      "\u001b[K     |████████████████████████████████| 147 kB 663 kB/s eta 0:00:01\n",
      "\u001b[?25hRequirement already satisfied: chardet<3.1.0,>=3.0.2 in /Users/Im/opt/anaconda3/lib/python3.7/site-packages (from requests>=2.11.1->tweepy>=3.7.0->konlpy) (3.0.4)\n",
      "Requirement already satisfied: certifi>=2017.4.17 in /Users/Im/opt/anaconda3/lib/python3.7/site-packages (from requests>=2.11.1->tweepy>=3.7.0->konlpy) (2019.11.28)\n",
      "Requirement already satisfied: idna<2.9,>=2.5 in /Users/Im/opt/anaconda3/lib/python3.7/site-packages (from requests>=2.11.1->tweepy>=3.7.0->konlpy) (2.8)\n",
      "Requirement already satisfied: urllib3!=1.25.0,!=1.25.1,<1.26,>=1.21.1 in /Users/Im/opt/anaconda3/lib/python3.7/site-packages (from requests>=2.11.1->tweepy>=3.7.0->konlpy) (1.25.8)\n",
      "Installing collected packages: oauthlib, requests-oauthlib, tweepy, beautifulsoup4, JPype1, konlpy\n",
      "  Attempting uninstall: beautifulsoup4\n",
      "    Found existing installation: beautifulsoup4 4.8.2\n",
      "    Uninstalling beautifulsoup4-4.8.2:\n",
      "      Successfully uninstalled beautifulsoup4-4.8.2\n",
      "Successfully installed JPype1-0.7.5 beautifulsoup4-4.6.0 konlpy-0.5.2 oauthlib-3.1.0 requests-oauthlib-1.3.0 tweepy-3.8.0\n"
     ]
    }
   ],
   "source": [
    "# KoNLPy 패키지 설치\n",
    "!pip install konlpy"
   ]
  },
  {
   "cell_type": "markdown",
   "metadata": {
    "ExecuteTime": {
     "end_time": "2020-05-20T06:52:44.317391Z",
     "start_time": "2020-05-20T06:52:44.309430Z"
    }
   },
   "source": [
    "### KoNLPy 기능\n",
    "- 샘플 말뭉치(corpus)\n",
    "    - kolaw: 헌법 말뭉치\n",
    "    - kobill: 법안 말뭉치\n",
    "- 한글 형태소 분석기\n",
    "    - koNLPy는 다양한 형태소 분석, 태깅 라이브러리를 파이썬에서 쉽게 사용할 수 있도록 모아놓음\n",
    "    - c나 자바 등에서 만든 형태소 분석기를 파이선에서 사용할 수 있도록 모아놓은 것이라 제대로 작동 안 할 수도 있다"
   ]
  },
  {
   "cell_type": "markdown",
   "metadata": {},
   "source": [
    "#### 형태소 분석 기능\n",
    "- Hannanum: 한나눔, KAIST Semantic Web Research Center 개발\n",
    "- Kkma: 꼬꼬마, 서울대 IDS(intelligent Data Systems) 연구실 개발\n",
    "- Komoran: 코모란, Shineware에서 개발\n",
    "- Mecab: 메카브, 일본어용 형태소 분석기를 한국어를 사용할 수 있도록 수정\n",
    "- Open Korean Text: 오픈 소스 한국어 분석기, 과거 트위터 형태소 분석기"
   ]
  },
  {
   "cell_type": "markdown",
   "metadata": {},
   "source": [
    "### 형태소 분석기 기능\n",
    "- 각 형태소 분석기는 다음과 같은 공통 메서드를 제공\n",
    "    - nouns: 명사 추출\n",
    "    - morphs: 형태소 추출\n",
    "    - pos: 품사 부착"
   ]
  },
  {
   "cell_type": "markdown",
   "metadata": {},
   "source": [
    "### 실습5: KoNLPy 사용\n",
    "- step1: 헌법 말뭉치"
   ]
  },
  {
   "cell_type": "code",
   "execution_count": 92,
   "metadata": {
    "ExecuteTime": {
     "end_time": "2020-05-20T07:00:25.631170Z",
     "start_time": "2020-05-20T07:00:24.832999Z"
    }
   },
   "outputs": [
    {
     "data": {
      "text/plain": [
       "['constitution.txt']"
      ]
     },
     "execution_count": 92,
     "metadata": {},
     "output_type": "execute_result"
    }
   ],
   "source": [
    "from konlpy.corpus import kolaw\n",
    "kolaw.fileids()"
   ]
  },
  {
   "cell_type": "code",
   "execution_count": 93,
   "metadata": {
    "ExecuteTime": {
     "end_time": "2020-05-20T07:01:06.669337Z",
     "start_time": "2020-05-20T07:01:06.654665Z"
    }
   },
   "outputs": [
    {
     "name": "stdout",
     "output_type": "stream",
     "text": [
      "대한민국헌법\n",
      "\n",
      "유구한 역사와 전통에 빛나는 우리 대한국민은 3·1운동으로 건립된 대한민국임시정부의 법통과 불의에 항거한 4·19민주이념을 계승하고, 조국의 민주개혁과 평화적 통일의 사명에 입각하여 정의·인도와 동포애로써 민족의 단결을 공고히 하고, 모든 사회적 폐습과 불의를 타파하며, 자율과 조화를 바탕으로 자유민주적 기본질서를 더욱 확고히 하여 정치·경제·사회·문화의 모든 영역에 있어서 각인의 기회를 균등히 하고, 능력을 최고도로 발휘하게 하며, 자유와 권리에 따르는 책임과 의무를 완수하게 하여, 안으로는 국민생활의 균등한 향상을 기하고 밖으로는 항구적인 세계평화와 인류공영에 이바지함으로써 우리들과 우리들의 자손의 안전과 자유와 행복을 영원히 확보할 것을 다짐하면서 1948년 7월 12일에 제정되고 8차에 걸쳐 개정된 헌법을 이제 국회의 의결을 거쳐 국민투표에 의하여 개정한다.\n",
      "\n",
      "       \n"
     ]
    }
   ],
   "source": [
    "c = kolaw.open(\"constitution.txt\").read()\n",
    "print(c[:450])"
   ]
  },
  {
   "cell_type": "markdown",
   "metadata": {},
   "source": [
    "- step2: 법안 말뭉치"
   ]
  },
  {
   "cell_type": "code",
   "execution_count": 94,
   "metadata": {
    "ExecuteTime": {
     "end_time": "2020-05-20T07:01:54.610604Z",
     "start_time": "2020-05-20T07:01:54.603110Z"
    }
   },
   "outputs": [
    {
     "data": {
      "text/plain": [
       "['1809896.txt',\n",
       " '1809897.txt',\n",
       " '1809895.txt',\n",
       " '1809894.txt',\n",
       " '1809890.txt',\n",
       " '1809891.txt',\n",
       " '1809893.txt',\n",
       " '1809892.txt',\n",
       " '1809899.txt',\n",
       " '1809898.txt']"
      ]
     },
     "execution_count": 94,
     "metadata": {},
     "output_type": "execute_result"
    }
   ],
   "source": [
    "from konlpy.corpus import kobill\n",
    "kobill.fileids()"
   ]
  },
  {
   "cell_type": "code",
   "execution_count": 97,
   "metadata": {
    "ExecuteTime": {
     "end_time": "2020-05-20T07:03:32.032149Z",
     "start_time": "2020-05-20T07:03:31.927722Z"
    }
   },
   "outputs": [
    {
     "name": "stdout",
     "output_type": "stream",
     "text": [
      "지방공무원법 일부개정법률안\n",
      "\n",
      "(정의화의원 대표발의 )\n",
      "\n",
      " 의 안\n",
      " 번 호\n",
      "\n",
      "9890\n",
      "\n",
      "발의연월일 : 2010.  11.  12.  \n",
      "\n",
      "발  의  자 : 정의화․이명수․김을동 \n",
      "\n",
      "이사철․여상규․안규백\n",
      "\n",
      "황영철․박영아․김정훈\n",
      "\n",
      "김학송 의원(10인)\n",
      "\n",
      "제안이유 및 주요내용\n",
      "\n",
      "  초등학교 저학년의 경우에도 부모의 따뜻한 사랑과 보살핌이 필요\n",
      "\n",
      "한 나이이나, 현재 공무원이 자녀를 양육하기 위하여 육아휴직을 할 \n",
      "\n",
      "수 있는 자녀의 나이는 만 6세 이하로 되어 있어 초등학교 저학년인 \n",
      "\n",
      "자녀를 돌보기 위해서는 해당 부모님은 일자리를 그만 두어야 하고 \n",
      "\n",
      "이는 곧 출산의욕을 저하시키는 문제로 이어질 수 있을 것임.\n",
      "\n",
      "  따라서 육아휴직이 가능한 자녀의 연령을 만 8세 이하로 개정하려\n",
      "\n",
      "는 것임(안 제63조제2항제4호).\n",
      "\n"
     ]
    }
   ],
   "source": [
    "d = kobill.open(\"1809890.txt\").read()\n",
    "print(d[:400])"
   ]
  },
  {
   "cell_type": "markdown",
   "metadata": {},
   "source": [
    "- step3: 형태소 분석기 생성"
   ]
  },
  {
   "cell_type": "code",
   "execution_count": 101,
   "metadata": {
    "ExecuteTime": {
     "end_time": "2020-05-20T07:23:47.402360Z",
     "start_time": "2020-05-20T07:23:34.904586Z"
    }
   },
   "outputs": [],
   "source": [
    "from konlpy.tag import *\n",
    "\n",
    "hannanum = Hannanum()\n",
    "kkma = Kkma()\n",
    "okt = Okt()\n",
    "\n",
    "# 다음 형태소 분석기는 자바 등의 연결에 따라 안 될 수도 있다\n",
    "komoran = Komoran()\n",
    "#mecab = Mecab()"
   ]
  },
  {
   "cell_type": "code",
   "execution_count": 103,
   "metadata": {
    "ExecuteTime": {
     "end_time": "2020-05-20T07:24:28.487179Z",
     "start_time": "2020-05-20T07:24:28.432537Z"
    }
   },
   "outputs": [
    {
     "data": {
      "text/plain": [
       "['대한민국헌법', '유구', '역사', '전통', '빛', '우리', '대한국민', '3·1운동']"
      ]
     },
     "execution_count": 103,
     "metadata": {},
     "output_type": "execute_result"
    }
   ],
   "source": [
    "# 명사 추출\n",
    "hannanum.nouns(c[:40])"
   ]
  },
  {
   "cell_type": "code",
   "execution_count": 104,
   "metadata": {
    "ExecuteTime": {
     "end_time": "2020-05-20T07:25:33.558764Z",
     "start_time": "2020-05-20T07:24:51.041619Z"
    }
   },
   "outputs": [
    {
     "data": {
      "text/plain": [
       "['대한',\n",
       " '대한민국',\n",
       " '대한민국헌법',\n",
       " '민국',\n",
       " '헌법',\n",
       " '유구',\n",
       " '역사',\n",
       " '전통',\n",
       " '우리',\n",
       " '국민',\n",
       " '3',\n",
       " '1',\n",
       " '1운동',\n",
       " '운동']"
      ]
     },
     "execution_count": 104,
     "metadata": {},
     "output_type": "execute_result"
    }
   ],
   "source": [
    "kkma.nouns(c[:40])"
   ]
  },
  {
   "cell_type": "code",
   "execution_count": 106,
   "metadata": {
    "ExecuteTime": {
     "end_time": "2020-05-20T07:26:10.398992Z",
     "start_time": "2020-05-20T07:26:10.395222Z"
    }
   },
   "outputs": [],
   "source": [
    "# 분석기마다 결과가 다르게 나온다\n",
    "# 대한민국을 하나로 뽑지 않고, 대한, 민국 등으로 따로 뽑는 것을 앤그램이라고 한다"
   ]
  },
  {
   "cell_type": "code",
   "execution_count": 107,
   "metadata": {
    "ExecuteTime": {
     "end_time": "2020-05-20T07:26:48.506629Z",
     "start_time": "2020-05-20T07:26:33.888021Z"
    }
   },
   "outputs": [
    {
     "data": {
      "text/plain": [
       "['대한민국', '헌법', '유구', '역사', '전통', '우리', '국민', '운동']"
      ]
     },
     "execution_count": 107,
     "metadata": {},
     "output_type": "execute_result"
    }
   ],
   "source": [
    "okt.nouns(c[:40])"
   ]
  },
  {
   "cell_type": "markdown",
   "metadata": {},
   "source": [
    "- step5: 형태소 추출\n",
    "    - 명사 뿐 아니라 모든 품사의 형태소를 알아내려면 morphs 메서드 사용"
   ]
  },
  {
   "cell_type": "code",
   "execution_count": 108,
   "metadata": {
    "ExecuteTime": {
     "end_time": "2020-05-20T07:28:21.268505Z",
     "start_time": "2020-05-20T07:28:21.232760Z"
    }
   },
   "outputs": [
    {
     "data": {
      "text/plain": [
       "['대한민국헌법',\n",
       " '유구',\n",
       " '하',\n",
       " 'ㄴ',\n",
       " '역사',\n",
       " '와',\n",
       " '전통',\n",
       " '에',\n",
       " '빛',\n",
       " '나는',\n",
       " '우리',\n",
       " '대한국민',\n",
       " '은',\n",
       " '3·1운동',\n",
       " '으로']"
      ]
     },
     "execution_count": 108,
     "metadata": {},
     "output_type": "execute_result"
    }
   ],
   "source": [
    "hannanum.morphs(c[:40])"
   ]
  },
  {
   "cell_type": "code",
   "execution_count": 109,
   "metadata": {
    "ExecuteTime": {
     "end_time": "2020-05-20T07:28:54.362798Z",
     "start_time": "2020-05-20T07:28:42.025556Z"
    }
   },
   "outputs": [
    {
     "data": {
      "text/plain": [
       "['대한민국',\n",
       " '헌법',\n",
       " '유구',\n",
       " '하',\n",
       " 'ㄴ',\n",
       " '역사',\n",
       " '와',\n",
       " '전통',\n",
       " '에',\n",
       " '빛나',\n",
       " '는',\n",
       " '우리',\n",
       " '대하',\n",
       " 'ㄴ',\n",
       " '국민',\n",
       " '은',\n",
       " '3',\n",
       " '·',\n",
       " '1',\n",
       " '운동',\n",
       " '으로']"
      ]
     },
     "execution_count": 109,
     "metadata": {},
     "output_type": "execute_result"
    }
   ],
   "source": [
    "kkma.morphs(c[:40])"
   ]
  },
  {
   "cell_type": "code",
   "execution_count": 110,
   "metadata": {
    "ExecuteTime": {
     "end_time": "2020-05-20T07:28:56.827669Z",
     "start_time": "2020-05-20T07:28:56.639481Z"
    }
   },
   "outputs": [
    {
     "data": {
      "text/plain": [
       "['대한민국',\n",
       " '헌법',\n",
       " '\\n\\n',\n",
       " '유구',\n",
       " '한',\n",
       " '역사',\n",
       " '와',\n",
       " '전통',\n",
       " '에',\n",
       " '빛나는',\n",
       " '우리',\n",
       " '대',\n",
       " '한',\n",
       " '국민',\n",
       " '은',\n",
       " '3',\n",
       " '·',\n",
       " '1',\n",
       " '운동',\n",
       " '으로']"
      ]
     },
     "execution_count": 110,
     "metadata": {},
     "output_type": "execute_result"
    }
   ],
   "source": [
    "okt.morphs(c[:40])"
   ]
  },
  {
   "cell_type": "markdown",
   "metadata": {},
   "source": [
    "#### 성능과 속도 서로 트레이드 오프가 있는데 속도면에서는 okt, 성능은 한나눔, 꼬꼬마가 낫다"
   ]
  },
  {
   "cell_type": "markdown",
   "metadata": {},
   "source": [
    "- step6: 품사 부착\n",
    "    - pos 명령을 사용하면 품사 부착한다\n",
    "    - 한국어 품사 태그 세트로는 형태소 분석기마다 사용하는 품사 태그가 다르므로 각 형태소 분석기에 대한 문서를 참조한다\n",
    "    - 부착되는 품사 태그의 기호와 의미는 tagset 속성으로 확인할 수 있다"
   ]
  },
  {
   "cell_type": "code",
   "execution_count": 111,
   "metadata": {
    "ExecuteTime": {
     "end_time": "2020-05-20T07:31:50.349810Z",
     "start_time": "2020-05-20T07:31:50.321242Z"
    }
   },
   "outputs": [
    {
     "data": {
      "text/plain": [
       "[('대한민국헌법', 'N'),\n",
       " ('유구', 'N'),\n",
       " ('하', 'X'),\n",
       " ('ㄴ', 'E'),\n",
       " ('역사', 'N'),\n",
       " ('와', 'J'),\n",
       " ('전통', 'N'),\n",
       " ('에', 'J'),\n",
       " ('빛', 'N'),\n",
       " ('나는', 'J'),\n",
       " ('우리', 'N'),\n",
       " ('대한국민', 'N'),\n",
       " ('은', 'J'),\n",
       " ('3·1운동', 'N'),\n",
       " ('으로', 'J')]"
      ]
     },
     "execution_count": 111,
     "metadata": {},
     "output_type": "execute_result"
    }
   ],
   "source": [
    "hannanum.pos(c[:40])"
   ]
  },
  {
   "cell_type": "code",
   "execution_count": 112,
   "metadata": {
    "ExecuteTime": {
     "end_time": "2020-05-20T07:32:13.496551Z",
     "start_time": "2020-05-20T07:32:13.487914Z"
    }
   },
   "outputs": [
    {
     "data": {
      "text/plain": [
       "{'E': '어미',\n",
       " 'EC': '연결 어미',\n",
       " 'EF': '종결 어미',\n",
       " 'EP': '선어말어미',\n",
       " 'ET': '전성 어미',\n",
       " 'F': '외국어',\n",
       " 'I': '독립언',\n",
       " 'II': '감탄사',\n",
       " 'J': '관계언',\n",
       " 'JC': '격조사',\n",
       " 'JP': '서술격 조사',\n",
       " 'JX': '보조사',\n",
       " 'M': '수식언',\n",
       " 'MA': '부사',\n",
       " 'MM': '관형사',\n",
       " 'N': '체언',\n",
       " 'NB': '의존명사',\n",
       " 'NC': '보통명사',\n",
       " 'NN': '수사',\n",
       " 'NP': '대명사',\n",
       " 'NQ': '고유명사',\n",
       " 'P': '용언',\n",
       " 'PA': '형용사',\n",
       " 'PV': '동사',\n",
       " 'PX': '보조 용언',\n",
       " 'S': '기호',\n",
       " 'X': '접사',\n",
       " 'XP': '접두사',\n",
       " 'XS': '접미사'}"
      ]
     },
     "execution_count": 112,
     "metadata": {},
     "output_type": "execute_result"
    }
   ],
   "source": [
    "hannanum.tagset"
   ]
  },
  {
   "cell_type": "code",
   "execution_count": 113,
   "metadata": {
    "ExecuteTime": {
     "end_time": "2020-05-20T07:32:45.709024Z",
     "start_time": "2020-05-20T07:32:45.554214Z"
    }
   },
   "outputs": [
    {
     "data": {
      "text/plain": [
       "[('대한민국', 'NNG'),\n",
       " ('헌법', 'NNG'),\n",
       " ('유구', 'NNG'),\n",
       " ('하', 'XSV'),\n",
       " ('ㄴ', 'ETD'),\n",
       " ('역사', 'NNG'),\n",
       " ('와', 'JC'),\n",
       " ('전통', 'NNG'),\n",
       " ('에', 'JKM'),\n",
       " ('빛나', 'VV'),\n",
       " ('는', 'ETD'),\n",
       " ('우리', 'NNM'),\n",
       " ('대하', 'VV'),\n",
       " ('ㄴ', 'ETD'),\n",
       " ('국민', 'NNG'),\n",
       " ('은', 'JX'),\n",
       " ('3', 'NR'),\n",
       " ('·', 'SP'),\n",
       " ('1', 'NR'),\n",
       " ('운동', 'NNG'),\n",
       " ('으로', 'JKM')]"
      ]
     },
     "execution_count": 113,
     "metadata": {},
     "output_type": "execute_result"
    }
   ],
   "source": [
    "kkma.pos(c[:40])"
   ]
  },
  {
   "cell_type": "code",
   "execution_count": 122,
   "metadata": {
    "ExecuteTime": {
     "end_time": "2020-05-20T07:34:04.985890Z",
     "start_time": "2020-05-20T07:34:04.976133Z"
    }
   },
   "outputs": [
    {
     "data": {
      "text/plain": [
       "{'EC': '연결 어미',\n",
       " 'ECD': '의존적 연결 어미',\n",
       " 'ECE': '대등 연결 어미',\n",
       " 'ECS': '보조적 연결 어미',\n",
       " 'EF': '종결 어미',\n",
       " 'EFA': '청유형 종결 어미',\n",
       " 'EFI': '감탄형 종결 어미',\n",
       " 'EFN': '평서형 종결 어미',\n",
       " 'EFO': '명령형 종결 어미',\n",
       " 'EFQ': '의문형 종결 어미',\n",
       " 'EFR': '존칭형 종결 어미',\n",
       " 'EP': '선어말 어미',\n",
       " 'EPH': '존칭 선어말 어미',\n",
       " 'EPP': '공손 선어말 어미',\n",
       " 'EPT': '시제 선어말 어미',\n",
       " 'ET': '전성 어미',\n",
       " 'ETD': '관형형 전성 어미',\n",
       " 'ETN': '명사형 전성 어미',\n",
       " 'IC': '감탄사',\n",
       " 'JC': '접속 조사',\n",
       " 'JK': '조사',\n",
       " 'JKC': '보격 조사',\n",
       " 'JKG': '관형격 조사',\n",
       " 'JKI': '호격 조사',\n",
       " 'JKM': '부사격 조사',\n",
       " 'JKO': '목적격 조사',\n",
       " 'JKQ': '인용격 조사',\n",
       " 'JKS': '주격 조사',\n",
       " 'JX': '보조사',\n",
       " 'MA': '부사',\n",
       " 'MAC': '접속 부사',\n",
       " 'MAG': '일반 부사',\n",
       " 'MD': '관형사',\n",
       " 'MDN': '수 관형사',\n",
       " 'MDT': '일반 관형사',\n",
       " 'NN': '명사',\n",
       " 'NNB': '일반 의존 명사',\n",
       " 'NNG': '보통명사',\n",
       " 'NNM': '단위 의존 명사',\n",
       " 'NNP': '고유명사',\n",
       " 'NP': '대명사',\n",
       " 'NR': '수사',\n",
       " 'OH': '한자',\n",
       " 'OL': '외국어',\n",
       " 'ON': '숫자',\n",
       " 'SE': '줄임표',\n",
       " 'SF': '마침표, 물음표, 느낌표',\n",
       " 'SO': '붙임표(물결,숨김,빠짐)',\n",
       " 'SP': '쉼표,가운뎃점,콜론,빗금',\n",
       " 'SS': '따옴표,괄호표,줄표',\n",
       " 'SW': '기타기호 (논리수학기호,화폐기호)',\n",
       " 'UN': '명사추정범주',\n",
       " 'VA': '형용사',\n",
       " 'VC': '지정사',\n",
       " 'VCN': \"부정 지정사, 형용사 '아니다'\",\n",
       " 'VCP': \"긍정 지정사, 서술격 조사 '이다'\",\n",
       " 'VV': '동사',\n",
       " 'VX': '보조 용언',\n",
       " 'VXA': '보조 형용사',\n",
       " 'VXV': '보조 동사',\n",
       " 'XP': '접두사',\n",
       " 'XPN': '체언 접두사',\n",
       " 'XPV': '용언 접두사',\n",
       " 'XR': '어근',\n",
       " 'XSA': '형용사 파생 접미사',\n",
       " 'XSN': '명사파생 접미사',\n",
       " 'XSV': '동사 파생 접미사'}"
      ]
     },
     "execution_count": 122,
     "metadata": {},
     "output_type": "execute_result"
    }
   ],
   "source": [
    "kkma.tagset"
   ]
  },
  {
   "cell_type": "markdown",
   "metadata": {},
   "source": [
    "- step7: 빈도 분석\n",
    "    - NLTK 기능 사용해 한글 빈도 분석 가능"
   ]
  },
  {
   "cell_type": "code",
   "execution_count": 123,
   "metadata": {
    "ExecuteTime": {
     "end_time": "2020-05-20T07:36:14.054234Z",
     "start_time": "2020-05-20T07:36:05.534972Z"
    }
   },
   "outputs": [
    {
     "data": {
      "image/png": "[encoded data removed]",
      "text/plain": [
       "<Figure size 432x288 with 1 Axes>"
      ]
     },
     "metadata": {
      "image/png": {
       "height": 301,
       "width": 396
      }
     },
     "output_type": "display_data"
    }
   ],
   "source": [
    "from nltk import Text\n",
    "kolaw = Text(okt.nouns(c))\n",
    "kolaw.plot(30)\n",
    "plt.show()"
   ]
  },
  {
   "cell_type": "markdown",
   "metadata": {},
   "source": [
    "- step8: 한글 워드클라우드"
   ]
  },
  {
   "cell_type": "code",
   "execution_count": 128,
   "metadata": {
    "ExecuteTime": {
     "end_time": "2020-05-20T07:55:00.682058Z",
     "start_time": "2020-05-20T07:54:57.596374Z"
    }
   },
   "outputs": [
    {
     "data": {
      "image/png": "[encoded data removed]",
      "text/plain": [
       "<Figure size 432x288 with 1 Axes>"
      ]
     },
     "metadata": {
      "image/png": {
       "height": 215,
       "width": 349
      }
     },
     "output_type": "display_data"
    }
   ],
   "source": [
    "from wordcloud import WordCloud\n",
    "font_path = \"/usr/share/fonts/truetype/nanum/NanumGothic.ttf\"\n",
    "wc = WordCloud(width = 1000, height = 600, background_color = \"white\", font_path = font_path, random_state = 0)\n",
    "plt.imshow(wc.generate_from_frequencies(kolaw.vocab()))\n",
    "plt.axis(\"off\")\n",
    "plt.show()"
   ]
  },
  {
   "cell_type": "markdown",
   "metadata": {},
   "source": [
    "### komoran 사용자 사전 추가\n",
    "- koNLPy 가지고 형태소 분석하다보면 제대로 안 되는 경우 생긴다.\n",
    "- 특히 고유명사가 들어가면. 사람 이름, 노래 제목, 신조어\n",
    "- 이럴 때 사용자 사전을 추가해 형태소 분석을 할 수 있다\n",
    "    - 그런데 형태소 분석기마다 방법이 다르다\n",
    "- 강의자료 참고해서 해볼 것"
   ]
  },
  {
   "cell_type": "markdown",
   "metadata": {
    "ExecuteTime": {
     "end_time": "2020-05-20T08:18:36.740496Z",
     "start_time": "2020-05-20T08:18:36.720679Z"
    }
   },
   "source": [
    "# 사이킷런의 문서 전처리 기능\n",
    "### BOW(Bag of Words)\n",
    "- 문서를 숫자 벡터로 변한하는 가장 기본적인 방법.\n",
    "- 전체 문서(말뭉치) {d1, d2, d3,...,dn}를 구성하는 고정된 단어장(vocabulary) {t1, t2,...,tm}을 만들고 di 라는 개별 문서에 단어장에 해당하는 단어들이 포함돼 있는지 표시하는 방법\n",
    "- 사이킷런에의 feautre_extraction 서브패키지와 feature_extraction.text 서브 패키지는 다음과 같은 문서 전처리용 클래스를 제공\n",
    "    - DictVectorizer: 각 단어의 수를 세어놓은 사전에서 BOW 벡터를 만든다\n",
    "    - CountVectorizer: 문서 집합에서 단어 토큰을 생성하고 각 단어의 수를 세어 BOW 인코딩한 벡터를 만든다. 몇번 나왔냐(빈도수)로 인코딩\n",
    "    - TfidfVectorizer: CountVectorizer와 비슷하지만 TF-IDF 방식으로 단어의 가중치를 조정한 BOW 벡터를 만든다. 빈도수에서 중요도에 따라 그 숫자를 늘리고 줄이는 역할.\n",
    "    - HashingVectorizer: 해시 함수(hash function)을 사용해 적은 메모리와 빠른 속도로 BOW 벡터를 만든다. 실무에서 우리가 쓰는 vocabulary dictionary가 너무 클 때 메모리, 속도 문제 등으로 빠르게 처리할 수 없거나 아예 처리할 수 없을 때 쓴다.  "
   ]
  },
  {
   "cell_type": "markdown",
   "metadata": {},
   "source": [
    "#### DictVectorizer"
   ]
  },
  {
   "cell_type": "markdown",
   "metadata": {
    "ExecuteTime": {
     "end_time": "2020-05-20T08:54:40.986960Z",
     "start_time": "2020-05-20T08:54:40.972791Z"
    }
   },
   "source": [
    "- 각 단어가 몇번 나왔는지 우리가 수동으로 다 세서 넣어줘야 한다\n",
    "- 처음에 피팅했을 때 코퍼스에서 없었던 단어는 나중에 아예 없는 단어로 처리\n",
    "- 그래서 처음에 웬만하면 단어가 다 들어가 있는 것으로 코퍼스를 만들어야 한다\n",
    "- 사실상 쓰이지 않는 벡터라이저"
   ]
  },
  {
   "cell_type": "markdown",
   "metadata": {
    "ExecuteTime": {
     "end_time": "2020-05-20T08:56:29.930394Z",
     "start_time": "2020-05-20T08:56:29.922733Z"
    }
   },
   "source": [
    "#### CountVectorizer\n",
    "- 1. 문서를 토큰 리스트로 변환한다\n",
    "- 2. 각 문서에서 토큰의 출현 빈도를 센다\n",
    "- 3. 각 문서를 BOW 인코딩 벡터로 변환한다\n",
    "\n",
    "- 문서만 넣어주면 끝\n",
    "- 가장 많이 쓰이는 벡터라이저"
   ]
  },
  {
   "cell_type": "markdown",
   "metadata": {
    "ExecuteTime": {
     "end_time": "2020-05-20T08:59:30.432527Z",
     "start_time": "2020-05-20T08:59:30.422473Z"
    }
   },
   "source": [
    "- 각 단어마다 번호가 매겨져 있다.\n",
    "- 아예 없던 단어가 나오면 무시된다\n",
    "    - 다 포함하고 있는 코퍼스를 써야 이런 현상 안 생김"
   ]
  },
  {
   "cell_type": "markdown",
   "metadata": {},
   "source": [
    "### Vectorize 클래스 사용법\n",
    "- 1. 클래스객체 생성\n",
    "- 2. 말뭉치를 넣고 fit 메서드 실행\n",
    "- 3. vocabulary_ 속성에 단어장이 자동 생성됨\n",
    "- 4. transform 메서드로 다른 문서를 BOW 인코딩\n",
    "- 5. BOW인코딩 결과는 Sparse 행렬로 만들어지므로 toarray 메서드로 보통 행렬로 변환\n",
    "    - 스파스 메이트릭스는 0이 아닌 부분에 대해서만 메모리에 저장하는 행렬. 보통 행렬에는 0이 많아 저장공간 아까워서"
   ]
  },
  {
   "cell_type": "markdown",
   "metadata": {
    "ExecuteTime": {
     "end_time": "2020-05-20T09:01:06.240501Z",
     "start_time": "2020-05-20T09:01:06.234489Z"
    }
   },
   "source": [
    "### Stop words\n",
    "- 문서에서 단어장을 생성할 떄 무시할 수 있는 단어"
   ]
  },
  {
   "cell_type": "markdown",
   "metadata": {},
   "source": [
    "### 토큰\n",
    "- analyzer, tokenizer, token_pattern 등의 인수로 사용할 토큰 생성기를 선택할 수 있다\n",
    "    - analyzer는 캐릭터 단위로 토크나이저 할 수 있는 기능 추가\n",
    "    - token_pattern은 정규표현식 이용해 토큰 찾는 기능이 있음\n",
    "    - 외부에 있는 패키지에 있는 함수를 토크나이저 인수로 집어 넣을 수도 있음"
   ]
  },
  {
   "cell_type": "markdown",
   "metadata": {
    "ExecuteTime": {
     "end_time": "2020-05-20T09:12:08.091724Z",
     "start_time": "2020-05-20T09:12:08.082902Z"
    }
   },
   "source": [
    "### n-그램\n",
    "- 단어장 생성에 사용할 토큰의 크기를 결정.\n",
    "- 모노그램(1-그램)은 토큰 하나만 단어로 사용하며 바이그램(2-그램)은 두 개의 연결된 토큰을 하나의 단어로 사용한다. 3개의 단어로 하나의 토큰을 만들면 트라이그램(3-gram)\n",
    "- 예) 참 좋아, 참 나빠 등 단어 하나만 가지고는 그 뜻을 알 수 없는 경우\n",
    "- 단어가 아니라 구를 갖다가 토큰으로 사용하겠다는 것과 같음\n",
    "- CountVectorizer(ngram_range=(1, 2)) # 모노그램과 바이그램 모두 토큰으로 사용하겠다. 그 만큼 개수 많아짐"
   ]
  },
  {
   "cell_type": "markdown",
   "metadata": {},
   "source": [
    "### 빈도수\n",
    "- 불용어는 이 문서 저 문서에 다 있어서 단어로서 그 문서를 구분하는 능력이 떨어지는 단어들\n",
    "- 미리 불용어로 정해진 단어들을 쓸수도 있지만 내가 직접 문서를 살펴 빈도수를 알아보고 불용어를 정할 수도 있다.\n",
    "- max_df, min_df 인수를 사용해 문서에서 토큰이 나타낫 횟수를 기준으로 단어장을 구성할 수도 있다\n",
    "- 토큰의 빈도가 max_df로 지정한 값을 초과하거나 min_df로 지정한 값보다 작은 경우에는 무시한다.\n",
    "- 인수 값은 정수인 경우 횟수 부동소수점인 경우 비중을 뜻한다."
   ]
  },
  {
   "cell_type": "markdown",
   "metadata": {},
   "source": [
    "### 실습 7 : 사이킷런의 CountVectorizer 사용\n",
    "- step1 : 말뭉치 만들기\n",
    "- step2 : 인코더 객체 생성\n",
    "- step3 : 말뭉치 학습 및 단어장 생성\n",
    "    - 개수가 많으면 이렇게 단어마다 번호 마라 매겨서 딕셔너리를 만드는 방법 잘 사용 안 하게 된다\n",
    "    - 그래서 해시벡터라이저를 쓰게 됨\n",
    "- step4 : 문장을 BOW 인코딩\n",
    "    - 말뭉치에서 학습하지 못한 단어는 무시된다\n",
    "- step5 : 불용어 사용\n",
    "    - stop_words=로 단어 직접 적어넣거나 \"english\"\n",
    "- step6: 빈도수 적용\n",
    "    - max_df, min_df\n",
    "- step7: N-그램 적용"
   ]
  },
  {
   "cell_type": "markdown",
   "metadata": {},
   "source": [
    "### TF-IDF 인코딩\n",
    "- TF-IDF(Term Frequency - Inverse Document Frequency) 인코딩\n",
    "- 우리가 지금까지 써왔던 방법이 TF\n",
    "- 이와 달리 단어를 개수 그대로 카운트하지 않고 모든 문서에 공통적으로 들어있는 단어의 경우 문서 구별 능력이 떨어진다고 보아 가중치를 축소하는 방법\n",
    "    - Term Frequency : 특정한 단어의 빈도수\n",
    "    - Inverse Document Frequency: 특정한 단어가 들어가 있는 문서의 수에 반비례하는 수\n",
    "        - idf(d, t) = log(n / (1 + df(t))"
   ]
  },
  {
   "cell_type": "markdown",
   "metadata": {
    "ExecuteTime": {
     "end_time": "2020-05-20T10:57:40.041928Z",
     "start_time": "2020-05-20T10:57:39.935271Z"
    }
   },
   "source": [
    "### 해시 트릭(Hash Trick)\n",
    "- CountVectorizer는 모든 작업을 메모리 상에서 수행\n",
    "- 처리할 문서의 크기가 커지면 단어장(vocabulary_) 딕셔너리가 커진다.\n",
    "- 실행 속도가 느려지거나 실행이 불가능해진다. 사실상 단어장의 개수가 만개가 넘거나하면 못 씀\n",
    "- HashingVectorizer를 사용하면 해시 함수(Hash function)를 사용\n",
    "    - 해시함수에 문자가 들어가면 무슨 숫자가 나올지 예측하기 어려움. 보통 암호화에도 많이 쓰인다\n",
    "    - 이 연산 속도가 빠름\n",
    "- 단어에 대한 인덱스 번호를 수식으로 생성\n",
    "- 사전 메모리가 없고 실행 시간을 줄일 수 있다\n",
    "- 단어의 충돌이 있을 수 있다. 보이를 넣었는데 3, 걸을 넣었는데 3이 나올 수도 있다. 가끔\n",
    "    - 발생하는 일이 적어지도록 파라미터 조정할 수 있음"
   ]
  },
  {
   "cell_type": "code",
   "execution_count": 136,
   "metadata": {
    "ExecuteTime": {
     "end_time": "2020-05-20T10:57:59.320566Z",
     "start_time": "2020-05-20T10:57:59.314432Z"
    }
   },
   "outputs": [],
   "source": [
    "#### 현실에서는 해시 벡터라이저를 쓰는 게 일반적"
   ]
  },
  {
   "cell_type": "markdown",
   "metadata": {
    "ExecuteTime": {
     "end_time": "2020-05-20T10:59:28.512573Z",
     "start_time": "2020-05-20T10:59:28.477116Z"
    }
   },
   "source": [
    "### Gensim 패키지\n",
    "- Bag Of Words인코딩\n",
    "- Tf-IDF 인코딩\n",
    "- 토픽 모델링"
   ]
  },
  {
   "cell_type": "code",
   "execution_count": 139,
   "metadata": {
    "ExecuteTime": {
     "end_time": "2020-05-20T11:08:44.090622Z",
     "start_time": "2020-05-20T10:59:44.847915Z"
    }
   },
   "outputs": [
    {
     "name": "stdout",
     "output_type": "stream",
     "text": [
      "Collecting gensim\n",
      "  Downloading gensim-3.8.3-cp37-cp37m-macosx_10_9_x86_64.whl (24.2 MB)\n",
      "\u001b[K     |████████████████████████████████| 24.2 MB 33 kB/s eta 0:00:015    |██████▏                         | 4.6 MB 121 kB/s eta 0:02:42     |██████████████████▉             | 14.2 MB 128 kB/s eta 0:01:18\n",
      "\u001b[?25hRequirement already satisfied: scipy>=0.18.1 in /Users/Im/opt/anaconda3/lib/python3.7/site-packages (from gensim) (1.4.1)\n",
      "Collecting smart-open>=1.8.1\n",
      "  Downloading smart_open-2.0.0.tar.gz (103 kB)\n",
      "\u001b[K     |████████████████████████████████| 103 kB 39 kB/s eta 0:00:01\n",
      "\u001b[?25hRequirement already satisfied: six>=1.5.0 in /Users/Im/opt/anaconda3/lib/python3.7/site-packages (from gensim) (1.14.0)\n",
      "Requirement already satisfied: numpy>=1.11.3 in /Users/Im/opt/anaconda3/lib/python3.7/site-packages (from gensim) (1.18.1)\n",
      "Requirement already satisfied: requests in /Users/Im/opt/anaconda3/lib/python3.7/site-packages (from smart-open>=1.8.1->gensim) (2.22.0)\n",
      "Requirement already satisfied: boto in /Users/Im/opt/anaconda3/lib/python3.7/site-packages (from smart-open>=1.8.1->gensim) (2.49.0)\n",
      "Collecting boto3\n",
      "  Downloading boto3-1.13.13-py2.py3-none-any.whl (128 kB)\n",
      "\u001b[K     |████████████████████████████████| 128 kB 27 kB/s eta 0:00:01\n",
      "\u001b[?25hRequirement already satisfied: urllib3!=1.25.0,!=1.25.1,<1.26,>=1.21.1 in /Users/Im/opt/anaconda3/lib/python3.7/site-packages (from requests->smart-open>=1.8.1->gensim) (1.25.8)\n",
      "Requirement already satisfied: certifi>=2017.4.17 in /Users/Im/opt/anaconda3/lib/python3.7/site-packages (from requests->smart-open>=1.8.1->gensim) (2019.11.28)\n",
      "Requirement already satisfied: idna<2.9,>=2.5 in /Users/Im/opt/anaconda3/lib/python3.7/site-packages (from requests->smart-open>=1.8.1->gensim) (2.8)\n",
      "Requirement already satisfied: chardet<3.1.0,>=3.0.2 in /Users/Im/opt/anaconda3/lib/python3.7/site-packages (from requests->smart-open>=1.8.1->gensim) (3.0.4)\n",
      "Collecting s3transfer<0.4.0,>=0.3.0\n",
      "  Downloading s3transfer-0.3.3-py2.py3-none-any.whl (69 kB)\n",
      "\u001b[K     |████████████████████████████████| 69 kB 32 kB/s eta 0:00:01\n",
      "\u001b[?25hCollecting botocore<1.17.0,>=1.16.13\n",
      "  Downloading botocore-1.16.13-py2.py3-none-any.whl (6.2 MB)\n",
      "\u001b[K     |████████████████████████████████| 6.2 MB 79 kB/s eta 0:00:01\n",
      "\u001b[?25hCollecting jmespath<1.0.0,>=0.7.1\n",
      "  Downloading jmespath-0.10.0-py2.py3-none-any.whl (24 kB)\n",
      "Collecting docutils<0.16,>=0.10\n",
      "  Downloading docutils-0.15.2-py3-none-any.whl (547 kB)\n",
      "\u001b[K     |████████████████████████████████| 547 kB 72 kB/s eta 0:00:01\n",
      "\u001b[?25hRequirement already satisfied: python-dateutil<3.0.0,>=2.1 in /Users/Im/opt/anaconda3/lib/python3.7/site-packages (from botocore<1.17.0,>=1.16.13->boto3->smart-open>=1.8.1->gensim) (2.8.1)\n",
      "Building wheels for collected packages: smart-open\n",
      "  Building wheel for smart-open (setup.py) ... \u001b[?25ldone\n",
      "\u001b[?25h  Created wheel for smart-open: filename=smart_open-2.0.0-py3-none-any.whl size=101341 sha256=b288f7e3381552cd63f6247d9eaf90b0e1d0137d132909e6e030c847140ee809\n",
      "  Stored in directory: /Users/Im/Library/Caches/pip/wheels/bb/1c/9c/412ec03f6d5ac7d41f4b965bde3fc0d1bd201da5ba3e2636de\n",
      "Successfully built smart-open\n",
      "Installing collected packages: docutils, jmespath, botocore, s3transfer, boto3, smart-open, gensim\n",
      "  Attempting uninstall: docutils\n",
      "    Found existing installation: docutils 0.16\n",
      "    Uninstalling docutils-0.16:\n",
      "      Successfully uninstalled docutils-0.16\n",
      "Successfully installed boto3-1.13.13 botocore-1.16.13 docutils-0.15.2 gensim-3.8.3 jmespath-0.10.0 s3transfer-0.3.3 smart-open-2.0.0\n"
     ]
    }
   ],
   "source": [
    "!pip install gensim"
   ]
  },
  {
   "cell_type": "markdown",
   "metadata": {},
   "source": [
    "### Gensim의 BOW 인코딩 기능\n",
    "- Dictionary 클래스 이용\n",
    "    - token2id 속성으로 사전 저장\n",
    "    - doc2bow 메서드로 BOW 인코딩\n",
    "- TfidModel 클래스를 이용하면 TF-IDF 인코딩도 가능"
   ]
  },
  {
   "cell_type": "markdown",
   "metadata": {},
   "source": [
    "### 실습8: Gensim의 BOW 인코딩\n",
    "- step1: 말뭉치 만들기"
   ]
  },
  {
   "cell_type": "code",
   "execution_count": 144,
   "metadata": {
    "ExecuteTime": {
     "end_time": "2020-05-20T11:08:56.276834Z",
     "start_time": "2020-05-20T11:08:56.271983Z"
    }
   },
   "outputs": [],
   "source": [
    "corpus = [\n",
    "    \"This is the first document.\",\n",
    "    \"This is the second document.\",\n",
    "    \"And the third one.\",\n",
    "    \"Is this the first document?\",\n",
    "    \"The last document?\",\n",
    "]"
   ]
  },
  {
   "cell_type": "markdown",
   "metadata": {},
   "source": [
    "- step2: 토큰 리스트 생성"
   ]
  },
  {
   "cell_type": "code",
   "execution_count": 145,
   "metadata": {
    "ExecuteTime": {
     "end_time": "2020-05-20T11:08:57.551523Z",
     "start_time": "2020-05-20T11:08:57.542285Z"
    }
   },
   "outputs": [
    {
     "data": {
      "text/plain": [
       "[['This', 'is', 'the', 'first', 'document.'],\n",
       " ['This', 'is', 'the', 'second', 'document.'],\n",
       " ['And', 'the', 'third', 'one.'],\n",
       " ['Is', 'this', 'the', 'first', 'document?'],\n",
       " ['The', 'last', 'document?']]"
      ]
     },
     "execution_count": 145,
     "metadata": {},
     "output_type": "execute_result"
    }
   ],
   "source": [
    "token_list = [[text for text in doc.split()] for doc in corpus] # 워드토크나이저 대신 split을 써볼 수도 있다\n",
    "token_list"
   ]
  },
  {
   "cell_type": "markdown",
   "metadata": {},
   "source": [
    "- step3: Dictionary 객체 생성"
   ]
  },
  {
   "cell_type": "code",
   "execution_count": 146,
   "metadata": {
    "ExecuteTime": {
     "end_time": "2020-05-20T11:08:58.946259Z",
     "start_time": "2020-05-20T11:08:58.937945Z"
    }
   },
   "outputs": [
    {
     "data": {
      "text/plain": [
       "{'This': 0,\n",
       " 'document.': 1,\n",
       " 'first': 2,\n",
       " 'is': 3,\n",
       " 'the': 4,\n",
       " 'second': 5,\n",
       " 'And': 6,\n",
       " 'one.': 7,\n",
       " 'third': 8,\n",
       " 'Is': 9,\n",
       " 'document?': 10,\n",
       " 'this': 11,\n",
       " 'The': 12,\n",
       " 'last': 13}"
      ]
     },
     "execution_count": 146,
     "metadata": {},
     "output_type": "execute_result"
    }
   ],
   "source": [
    "from gensim.corpora import Dictionary\n",
    "\n",
    "dictionary = Dictionary(token_list)\n",
    "dictionary.token2id"
   ]
  },
  {
   "cell_type": "markdown",
   "metadata": {},
   "source": [
    "- step4: BOW 인코딩"
   ]
  },
  {
   "cell_type": "code",
   "execution_count": 147,
   "metadata": {
    "ExecuteTime": {
     "end_time": "2020-05-20T11:10:10.932787Z",
     "start_time": "2020-05-20T11:10:10.914937Z"
    }
   },
   "outputs": [
    {
     "data": {
      "text/plain": [
       "[[(0, 1), (1, 1), (2, 1), (3, 1), (4, 1)],\n",
       " [(0, 1), (1, 1), (3, 1), (4, 1), (5, 1)],\n",
       " [(4, 1), (6, 1), (7, 1), (8, 1)],\n",
       " [(2, 1), (4, 1), (9, 1), (10, 1), (11, 1)],\n",
       " [(10, 1), (12, 1), (13, 1)]]"
      ]
     },
     "execution_count": 147,
     "metadata": {},
     "output_type": "execute_result"
    }
   ],
   "source": [
    "term_matrix = [dictionary.doc2bow(token) for token in token_list]\n",
    "term_matrix"
   ]
  },
  {
   "cell_type": "code",
   "execution_count": 148,
   "metadata": {
    "ExecuteTime": {
     "end_time": "2020-05-20T11:12:43.758560Z",
     "start_time": "2020-05-20T11:12:43.754500Z"
    }
   },
   "outputs": [],
   "source": [
    "# 위와 같은 행렬을 Sparse matrix라고 말함\n",
    "# 스파스 메이트릭스는 0이 아닌 부분에 대해서만 메모리에 저장하는 행렬. 보통 행렬에는 0이 많아 저장공간 아까워서"
   ]
  },
  {
   "cell_type": "markdown",
   "metadata": {},
   "source": [
    "- step5: TF_IDF 인코딩"
   ]
  },
  {
   "cell_type": "code",
   "execution_count": 150,
   "metadata": {
    "ExecuteTime": {
     "end_time": "2020-05-20T11:16:37.403299Z",
     "start_time": "2020-05-20T11:16:37.376656Z"
    }
   },
   "outputs": [
    {
     "name": "stdout",
     "output_type": "stream",
     "text": [
      "doc:\n",
      "0 0.49633406058198626\n",
      "1 0.49633406058198626\n",
      "2 0.49633406058198626\n",
      "3 0.49633406058198626\n",
      "4 0.12087183801361165\n",
      "doc:\n",
      "0 0.4034194772828018\n",
      "1 0.4034194772828018\n",
      "3 0.4034194772828018\n",
      "4 0.09824442362969368\n",
      "5 0.7085945309359098\n",
      "doc:\n",
      "4 0.07979258234193365\n",
      "6 0.5755093812740171\n",
      "7 0.5755093812740171\n",
      "8 0.5755093812740171\n",
      "doc:\n",
      "2 0.3485847413542797\n",
      "4 0.08489056411237639\n",
      "9 0.6122789185961829\n",
      "10 0.3485847413542797\n",
      "11 0.6122789185961829\n",
      "doc:\n",
      "10 0.37344696513776354\n",
      "12 0.6559486886294514\n",
      "13 0.6559486886294514\n"
     ]
    }
   ],
   "source": [
    "from gensim.models import TfidfModel\n",
    "tfidf = TfidfModel(term_matrix)\n",
    "\n",
    "for doc in tfidf[term_matrix]:\n",
    "    print(\"doc:\")\n",
    "    for k, v in doc:\n",
    "        print(k, v)"
   ]
  },
  {
   "cell_type": "markdown",
   "metadata": {
    "ExecuteTime": {
     "end_time": "2020-05-20T11:24:11.523074Z",
     "start_time": "2020-05-20T11:24:11.515136Z"
    }
   },
   "source": [
    "- 머신러닝 뒷부분 토픽 모델링에서 겐심을 이용해 TF_IDF한 BOW 인코딩하는 과정이 필요함\n",
    "\n",
    "## 토픽 모델링\n",
    "    - 토픽은 어떤 단어들이 나왔을 때 단어가 나오는 비중(Frequency Distribution)\n",
    "        - 문서를 구성하는 단어의 비율\n",
    "        - 문서 집합의 추상적인 주제\n",
    "        - 어떤 같은 주제에 대해 단어들이 몰려 있는 것"
   ]
  },
  {
   "cell_type": "markdown",
   "metadata": {},
   "source": [
    "- step1: 텍스트 데이터 다운로드"
   ]
  },
  {
   "cell_type": "code",
   "execution_count": 163,
   "metadata": {
    "ExecuteTime": {
     "end_time": "2020-05-20T11:44:17.694686Z",
     "start_time": "2020-05-20T11:44:17.301566Z"
    }
   },
   "outputs": [],
   "source": [
    "from sklearn.datasets import fetch_20newsgroups\n",
    "newsgroups = fetch_20newsgroups(\n",
    "    categories = [\"comp.graphics\", \"rec.sport.baseball\", \"sci.med\"])"
   ]
  },
  {
   "cell_type": "markdown",
   "metadata": {},
   "source": [
    "- step2: 명사 추출"
   ]
  },
  {
   "cell_type": "code",
   "execution_count": 158,
   "metadata": {
    "ExecuteTime": {
     "end_time": "2020-05-20T11:38:43.236860Z",
     "start_time": "2020-05-20T11:37:58.789903Z"
    }
   },
   "outputs": [],
   "source": [
    "from nltk.tag import pos_tag\n",
    "from nltk.tokenize import word_tokenize\n",
    "\n",
    "tagged_list = [pos_tag(word_tokenize(doc)) for doc in newsgroups.data]\n",
    "nouns_list = [[t[0] for t in doc if t[1].startswith(\"N\")] for doc in tagged_list]"
   ]
  },
  {
   "cell_type": "markdown",
   "metadata": {},
   "source": [
    "- step3: 표제어 추출"
   ]
  },
  {
   "cell_type": "code",
   "execution_count": 156,
   "metadata": {
    "ExecuteTime": {
     "end_time": "2020-05-20T11:33:52.578535Z",
     "start_time": "2020-05-20T11:33:51.476584Z"
    }
   },
   "outputs": [],
   "source": [
    "# 단어 중 복수로 돼 있는 애들을 단수로 만드는 표제어 추출, 표준화\n",
    "from nltk.stem import WordNetLemmatizer\n",
    "lm = WordNetLemmatizer()\n",
    "nouns_list = [[lm.lemmatize(w, pos = \"n\") for w in doc] for doc in nouns_list]"
   ]
  },
  {
   "cell_type": "markdown",
   "metadata": {},
   "source": [
    "- step4: 불용어 제거"
   ]
  },
  {
   "cell_type": "code",
   "execution_count": 159,
   "metadata": {
    "ExecuteTime": {
     "end_time": "2020-05-20T11:39:40.589581Z",
     "start_time": "2020-05-20T11:39:40.216088Z"
    }
   },
   "outputs": [],
   "source": [
    "import re\n",
    "token_list = [[text.lower() for text in doc] for doc in nouns_list]\n",
    "token_list = [[re.sub(r\"[^A-Za-z] + \", '', word) for word in doc] for doc in token_list]"
   ]
  },
  {
   "cell_type": "code",
   "execution_count": null,
   "metadata": {
    "ExecuteTime": {
     "end_time": "2020-05-20T11:43:17.565502Z",
     "start_time": "2020-05-20T11:43:16.528911Z"
    }
   },
   "outputs": [],
   "source": [
    "from nltk.corpus import stopwords\n",
    "\n",
    "stop_words = stopwords.words(\"english\")\n",
    "stop_words += [\"\", \"subject\", \"article\", \"line\", \"year\", \"month\", \"address\", \"keyword\", \"msg\"]\n",
    "\n",
    "token_list = [[word for word in doc if (word not in stop_words) and (2 < len(word) < 10)] for doc in token_list]"
   ]
  },
  {
   "cell_type": "markdown",
   "metadata": {},
   "source": [
    "- step5 : 토픽 모델링"
   ]
  },
  {
   "cell_type": "code",
   "execution_count": 164,
   "metadata": {
    "ExecuteTime": {
     "end_time": "2020-05-20T11:51:35.689602Z",
     "start_time": "2020-05-20T11:51:31.051736Z"
    }
   },
   "outputs": [],
   "source": [
    "from gensim import corpora\n",
    "\n",
    "dictionary = corpora.Dictionary(token_list)\n",
    "doc_term_matrix = [dictionary.doc2bow(tokens) for tokens in token_list]"
   ]
  },
  {
   "cell_type": "code",
   "execution_count": 169,
   "metadata": {
    "ExecuteTime": {
     "end_time": "2020-05-20T12:03:14.451709Z",
     "start_time": "2020-05-20T12:02:20.845203Z"
    }
   },
   "outputs": [],
   "source": [
    "from gensim.models.ldamodel import LdaModel\n",
    "\n",
    "model = LdaModel(corpus = doc_term_matrix, id2word = dictionary, num_topics = 3, passes = 10)"
   ]
  },
  {
   "cell_type": "code",
   "execution_count": 170,
   "metadata": {
    "ExecuteTime": {
     "end_time": "2020-05-20T12:03:14.474011Z",
     "start_time": "2020-05-20T12:03:14.456649Z"
    }
   },
   "outputs": [
    {
     "data": {
      "text/plain": [
       "[(0,\n",
       "  '0.013*\"lines\" + 0.006*\"image\" + 0.006*\"graphics\" + 0.005*\"computer\" + 0.005*\"data\" + 0.004*\"program\" + 0.004*\"software\" + 0.004*\"thanks\" + 0.003*\"time\" + 0.003*\"anyone\"'),\n",
       " (1,\n",
       "  '0.015*\"lines\" + 0.005*\"jpeg\" + 0.005*\"image\" + 0.005*\"team\" + 0.004*\"anyone\" + 0.004*\"game\" + 0.003*\"time\" + 0.003*\"baseball\" + 0.003*\"runs\" + 0.003*\"thanks\"'),\n",
       " (2,\n",
       "  '0.009*\"lines\" + 0.005*\"people\" + 0.005*\"time\" + 0.005*\"years\" + 0.004*\"food\" + 0.004*\"science\" + 0.003*\"david\" + 0.003*\"players\" + 0.003*\"dyer\" + 0.003*\"way\"')]"
      ]
     },
     "execution_count": 170,
     "metadata": {},
     "output_type": "execute_result"
    }
   ],
   "source": [
    "model.print_topics()"
   ]
  },
  {
   "cell_type": "markdown",
   "metadata": {},
   "source": [
    "- step6: 토픽 시각화"
   ]
  },
  {
   "cell_type": "code",
   "execution_count": 174,
   "metadata": {
    "ExecuteTime": {
     "end_time": "2020-05-20T12:12:09.610510Z",
     "start_time": "2020-05-20T12:12:03.187438Z"
    }
   },
   "outputs": [
    {
     "name": "stdout",
     "output_type": "stream",
     "text": [
      "Processing /Users/Im/Library/Caches/pip/wheels/98/71/24/513a99e58bb6b8465bae4d2d5e9dba8f0bef8179e3051ac414/pyLDAvis-2.1.2-py2.py3-none-any.whl\n",
      "Requirement already satisfied: jinja2>=2.7.2 in /Users/Im/opt/anaconda3/lib/python3.7/site-packages (from pyLDAvis) (2.11.1)\n",
      "Requirement already satisfied: scipy>=0.18.0 in /Users/Im/opt/anaconda3/lib/python3.7/site-packages (from pyLDAvis) (1.4.1)\n",
      "Requirement already satisfied: future in /Users/Im/opt/anaconda3/lib/python3.7/site-packages (from pyLDAvis) (0.18.2)\n",
      "Requirement already satisfied: pandas>=0.17.0 in /Users/Im/opt/anaconda3/lib/python3.7/site-packages (from pyLDAvis) (1.0.1)\n",
      "Requirement already satisfied: wheel>=0.23.0 in /Users/Im/opt/anaconda3/lib/python3.7/site-packages (from pyLDAvis) (0.34.2)\n",
      "Requirement already satisfied: numpy>=1.9.2 in /Users/Im/opt/anaconda3/lib/python3.7/site-packages (from pyLDAvis) (1.18.1)\n",
      "Requirement already satisfied: numexpr in /Users/Im/opt/anaconda3/lib/python3.7/site-packages (from pyLDAvis) (2.7.1)\n",
      "Requirement already satisfied: pytest in /Users/Im/opt/anaconda3/lib/python3.7/site-packages (from pyLDAvis) (5.3.5)\n",
      "Processing /Users/Im/Library/Caches/pip/wheels/20/5a/d8/1d875df03deae6f178dfdf70238cca33f948ef8a6f5209f2eb/funcy-1.14-py2.py3-none-any.whl\n",
      "Requirement already satisfied: joblib>=0.8.4 in /Users/Im/opt/anaconda3/lib/python3.7/site-packages (from pyLDAvis) (0.14.1)\n",
      "Requirement already satisfied: MarkupSafe>=0.23 in /Users/Im/opt/anaconda3/lib/python3.7/site-packages (from jinja2>=2.7.2->pyLDAvis) (1.1.1)\n",
      "Requirement already satisfied: python-dateutil>=2.6.1 in /Users/Im/opt/anaconda3/lib/python3.7/site-packages (from pandas>=0.17.0->pyLDAvis) (2.8.1)\n",
      "Requirement already satisfied: pytz>=2017.2 in /Users/Im/opt/anaconda3/lib/python3.7/site-packages (from pandas>=0.17.0->pyLDAvis) (2019.3)\n",
      "Requirement already satisfied: py>=1.5.0 in /Users/Im/opt/anaconda3/lib/python3.7/site-packages (from pytest->pyLDAvis) (1.8.1)\n",
      "Requirement already satisfied: packaging in /Users/Im/opt/anaconda3/lib/python3.7/site-packages (from pytest->pyLDAvis) (20.1)\n",
      "Requirement already satisfied: attrs>=17.4.0 in /Users/Im/opt/anaconda3/lib/python3.7/site-packages (from pytest->pyLDAvis) (19.3.0)\n",
      "Requirement already satisfied: more-itertools>=4.0.0 in /Users/Im/opt/anaconda3/lib/python3.7/site-packages (from pytest->pyLDAvis) (8.2.0)\n",
      "Requirement already satisfied: pluggy<1.0,>=0.12 in /Users/Im/opt/anaconda3/lib/python3.7/site-packages (from pytest->pyLDAvis) (0.13.1)\n",
      "Requirement already satisfied: wcwidth in /Users/Im/opt/anaconda3/lib/python3.7/site-packages (from pytest->pyLDAvis) (0.1.8)\n",
      "Requirement already satisfied: importlib-metadata>=0.12 in /Users/Im/opt/anaconda3/lib/python3.7/site-packages (from pytest->pyLDAvis) (1.5.0)\n",
      "Requirement already satisfied: six>=1.5 in /Users/Im/opt/anaconda3/lib/python3.7/site-packages (from python-dateutil>=2.6.1->pandas>=0.17.0->pyLDAvis) (1.14.0)\n",
      "Requirement already satisfied: pyparsing>=2.0.2 in /Users/Im/opt/anaconda3/lib/python3.7/site-packages (from packaging->pytest->pyLDAvis) (2.4.6)\n",
      "Requirement already satisfied: zipp>=0.5 in /Users/Im/opt/anaconda3/lib/python3.7/site-packages (from importlib-metadata>=0.12->pytest->pyLDAvis) (2.2.0)\n",
      "Installing collected packages: funcy, pyLDAvis\n",
      "Successfully installed funcy-1.14 pyLDAvis-2.1.2\n"
     ]
    }
   ],
   "source": [
    "!pip install pyLDAvis"
   ]
  },
  {
   "cell_type": "code",
   "execution_count": 175,
   "metadata": {
    "ExecuteTime": {
     "end_time": "2020-05-20T12:12:52.215512Z",
     "start_time": "2020-05-20T12:12:15.055466Z"
    }
   },
   "outputs": [
    {
     "data": {
      "text/html": [
       "\n",
       "<link rel=\"stylesheet\" type=\"text/css\" href=\"https://cdn.rawgit.com/bmabey/pyLDAvis/files/ldavis.v1.0.0.css\">\n",
       "\n",
       "\n",
       "<div id=\"ldavis_el66061125945052965947491751\"></div>\n",
       "<script type=\"text/javascript\">\n",
       "\n",
       "var ldavis_el66061125945052965947491751_data = {\"mdsDat\": {\"x\": [0.09469498702981799, -0.11223031974112764, 0.017535332711309713], \"y\": [-0.06203612947808251, -0.03688715939328792, 0.09892328887137042], \"topics\": [1, 2, 3], \"cluster\": [1, 1, 1], \"Freq\": [35.193450927734375, 34.78133010864258, 30.025222778320312]}, \"tinfo\": {\"Term\": [\"jpeg\", \"image\", \"team\", \"dyer\", \"graphics\", \"food\", \"alomar\", \"geb\", \"candida\", \"data\", \"runs\", \"cancer\", \"package\", \"images\", \"braves\", \"lines\", \"software\", \"water\", \"format\", \"banks\", \"game\", \"points\", \"polygon\", \"gif\", \"thanks\", \"quality\", \"studies\", \"code\", \"lost\", \"objects\", \"olney\", \"sasghm\", \"spdcc.com\", \"acid\", \"fulk\", \"sas\", \"merrill\", \"dyer\", \"canseco\", \"wcsbeau\", \"ozzie\", \"stance\", \"yount\", \"spdcc\", \"ima\", \"rayssd\", \"m2c\", \"otis\", \"epa\", \"memes\", \"aspartame\", \"slaught\", \"recipient\", \"ati\", \"glutamate\", \"rot.qc.ca\", \"thorson\", \"lefebvre\", \"s.p\", \"bath\", \"genes\", \"taste\", \"simmons\", \"dwarner\", \"walter\", \"fame\", \"cancer\", \"food\", \"studies\", \"water\", \"keyboard\", \"theory\", \"kingman\", \"protein\", \"smith\", \"evidence\", \"safety\", \"syndrome\", \"years\", \"humans\", \"foods\", \"people\", \"lee\", \"turpin\", \"players\", \"pain\", \"cview\", \"season\", \"time\", \"study\", \"hall\", \"cubs\", \"age\", \"results\", \"science\", \"david\", \"steve\", \"lines\", \"game\", \"something\", \"games\", \"way\", \"home\", \"case\", \"mark\", \"team\", \"lot\", \"day\", \"use\", \"research\", \"anyone\", \"baseball\", \"world\", \"center\", \"lost\", \"radiosity\", \"sphere\", \"bolson\", \"krillean\", \"vb30\", \"nfotis\", \"raster\", \"bezier\", \"idle\", \"curve\", \"xxxx\", \"curves\", \"removal\", \"fonts\", \"radius\", \"cboesel\", \"acm\", \"x11\", \"markus\", \"plot\", \"rebound\", \"column\", \"fotis\", \"update\", \"dizziness\", \"toolkit\", \"o157\", \"convex\", \"nff\", \"objects\", \"plane\", \"smokeless\", \"suite\", \"polygon\", \"imagine\", \"wip\", \"tobacco\", \"object\", \"listing\", \"language\", \"package\", \"tools\", \"siggraph\", \"sports\", \"data\", \"points\", \"tool\", \"sun\", \"graphics\", \"hiv\", \"ray\", \"ftp\", \"code\", \"email\", \"image\", \"help\", \"software\", \"program\", \"computer\", \"fax\", \"mail\", \"lines\", \"thanks\", \"files\", \"geb\", \"images\", \"please\", \"banks\", \"new\", \"systems\", \"gordon\", \"file\", \"research\", \"anyone\", \"science\", \"time\", \"number\", \"system\", \"world\", \"problem\", \"split\", \"pittsburg\", \"ricardo\", \"seizure\", \"jfif\", \"gilkey\", \"sphinx\", \"cereals\", \"paulson\", \"almanac\", \"mule\", \"hernia\", \"gt0523e\", \"quicktime\", \"lankford\", \"membrane\", \"dame\", \"lipman\", \"graeme\", \"mjones\", \"kellog\", \"mcmains\", \"roster\", \"cd-i\", \"dozonoff\", \"militello\", \"wate\", \"georgia\", \"landmann\", \"candida\", \"vesa\", \"whiten\", \"alomar\", \"jpeg\", \"torre\", \"baerga\", \"corn\", \"crohn\", \"bloom\", \"quality\", \"yankees\", \"sox\", \"obp\", \"braves\", \"team\", \"red\", \"viola\", \"gif\", \"runs\", \"colors\", \"lines\", \"michael\", \"color\", \"game\", \"image\", \"baseball\", \"base\", \"anyone\", \"file\", \"format\", \"hitter\", \"banks\", \"games\", \"thanks\", \"geb\", \"doctor\", \"images\", \"lot\", \"time\", \"problem\", \"david\", \"john\", \"graphics\", \"people\", \"computer\", \"software\", \"way\", \"world\"], \"Freq\": [211.0, 462.0, 289.0, 134.0, 389.0, 193.0, 100.0, 217.0, 82.0, 258.0, 189.0, 133.0, 149.0, 207.0, 135.0, 1505.0, 276.0, 123.0, 169.0, 244.0, 282.0, 157.0, 92.0, 139.0, 303.0, 100.0, 93.0, 135.0, 55.0, 64.0, 26.1304931640625, 25.25141143798828, 34.753963470458984, 36.43138122558594, 42.485389709472656, 26.001541137695312, 20.771230697631836, 130.56300354003906, 23.337539672851562, 17.238975524902344, 26.70102310180664, 17.199081420898438, 18.915836334228516, 17.189266204833984, 16.319053649902344, 16.310392379760742, 16.30568504333496, 22.302165985107422, 15.438127517700195, 14.548848152160645, 16.230628967285156, 17.907676696777344, 13.6351318359375, 13.623210906982422, 39.18631362915039, 11.908454895019531, 12.754265785217285, 14.454570770263672, 12.752017974853516, 16.962512969970703, 29.502199172973633, 28.61747169494629, 24.418718338012695, 17.76331901550293, 21.03617286682129, 45.85186004638672, 116.95178985595703, 165.44593811035156, 82.5315170288086, 104.7979965209961, 80.55641174316406, 55.15586471557617, 35.032859802246094, 23.964048385620117, 85.1349105834961, 84.25080871582031, 35.01833724975586, 62.25341796875, 196.7711181640625, 32.452980041503906, 62.54356002807617, 236.1674041748047, 49.84050750732422, 35.58103942871094, 132.40611267089844, 83.92001342773438, 46.5980110168457, 105.72643280029297, 218.35606384277344, 67.65876770019531, 62.5549430847168, 74.33731842041016, 60.699092864990234, 63.14476776123047, 156.8115234375, 136.8712615966797, 115.8503189086914, 370.32415771484375, 123.6948013305664, 111.6316909790039, 106.46561431884766, 127.69306945800781, 89.15098571777344, 90.53653717041016, 88.80862426757812, 108.9420394897461, 99.69841003417969, 92.97769165039062, 90.23501586914062, 98.24789428710938, 105.6197509765625, 96.88151550292969, 86.36681365966797, 84.91104125976562, 54.94441604614258, 28.41997528076172, 25.825395584106445, 23.15542984008789, 23.152114868164062, 24.854145050048828, 23.134931564331055, 22.264732360839844, 19.652088165283203, 18.785863876342773, 18.764467239379883, 16.17974090576172, 21.27104377746582, 19.564088821411133, 19.520462036132812, 25.445539474487305, 15.2639799118042, 16.104360580444336, 17.77037811279297, 14.385322570800781, 17.7657470703125, 14.377103805541992, 14.376910209655762, 15.20684814453125, 15.191280364990234, 13.502679824829102, 16.870777130126953, 23.589357376098633, 17.675662994384766, 14.289761543273926, 61.199737548828125, 31.012439727783203, 22.671266555786133, 22.548402786254883, 82.95693969726562, 31.99494171142578, 30.434619903564453, 44.15188217163086, 46.14543533325195, 27.078231811523438, 47.50887680053711, 123.90575408935547, 49.75536346435547, 33.68682861328125, 46.68027877807617, 193.4966278076172, 122.94538116455078, 44.04873275756836, 64.65929412841797, 263.8511962890625, 53.9565544128418, 54.84532928466797, 100.92398834228516, 99.59414672851562, 81.28134155273438, 273.0762023925781, 122.08316802978516, 169.61013793945312, 173.27960205078125, 198.1269073486328, 90.06507110595703, 74.81111145019531, 569.3123779296875, 164.0462646484375, 131.82383728027344, 124.70454406738281, 119.11469268798828, 97.68819427490234, 129.04226684570312, 119.0099868774414, 99.35393524169922, 97.91136169433594, 111.5925521850586, 114.87254333496094, 136.76609802246094, 125.28638458251953, 147.89208984375, 101.96806335449219, 103.8862533569336, 106.36945343017578, 100.99478912353516, 35.83577346801758, 23.72187614440918, 24.52595329284668, 22.785306930541992, 21.84557342529297, 18.482608795166016, 18.445152282714844, 18.426103591918945, 16.64885711669922, 13.306365013122559, 14.121469497680664, 14.117463111877441, 13.251588821411133, 48.86183547973633, 21.521827697753906, 14.898058891296387, 12.411727905273438, 13.232205390930176, 12.381638526916504, 13.204465866088867, 12.372411727905273, 13.181200981140137, 14.820106506347656, 13.169107437133789, 10.699625015258789, 12.336893081665039, 10.683500289916992, 42.738040924072266, 10.682060241699219, 78.08828735351562, 48.31774139404297, 18.060956954956055, 93.5762939453125, 194.32855224609375, 26.08462905883789, 53.784793853759766, 33.236000061035156, 32.283287048339844, 27.829111099243164, 79.34270477294922, 46.9036865234375, 68.30215454101562, 32.83654022216797, 92.82327270507812, 173.98570251464844, 48.14543914794922, 26.763269424438477, 90.92243194580078, 116.34235382080078, 49.47554397583008, 566.1863403320312, 88.14332580566406, 95.83126068115234, 134.87368774414062, 184.4528045654297, 122.01631164550781, 52.835182189941406, 142.58551025390625, 104.01641082763672, 82.06013488769531, 53.8988037109375, 101.27206420898438, 95.78022003173828, 110.96981811523438, 90.72935485839844, 72.57872009277344, 83.91968536376953, 91.58721923828125, 124.58247375488281, 88.66327667236328, 88.7978286743164, 76.29510498046875, 97.10078430175781, 95.08373260498047, 89.9598159790039, 84.64946746826172, 84.72721862792969, 82.55480194091797], \"Total\": [211.0, 462.0, 289.0, 134.0, 389.0, 193.0, 100.0, 217.0, 82.0, 258.0, 189.0, 133.0, 149.0, 207.0, 135.0, 1505.0, 276.0, 123.0, 169.0, 244.0, 282.0, 157.0, 92.0, 139.0, 303.0, 100.0, 93.0, 135.0, 55.0, 64.0, 26.798572540283203, 25.9050235748291, 35.72922134399414, 37.51588821411133, 43.76630401611328, 26.79250144958496, 21.43516731262207, 134.8621063232422, 24.113557815551758, 17.86035919189453, 27.68517303466797, 17.859272003173828, 19.64519691467285, 17.858802795410156, 16.965492248535156, 16.965417861938477, 16.96527099609375, 23.211912155151367, 16.07217025756836, 15.178016662597656, 16.9621524810791, 18.750795364379883, 14.284032821655273, 14.282028198242188, 41.083980560302734, 12.49748420715332, 13.390071868896484, 15.176633834838867, 13.38994026184082, 17.85478973388672, 31.24896240234375, 30.357101440429688, 25.88029670715332, 18.7436580657959, 22.318761825561523, 49.939884185791016, 133.71005249023438, 193.35792541503906, 93.61107635498047, 123.90753936767578, 93.65508270263672, 64.15564727783203, 39.210330963134766, 25.871341705322266, 106.72447204589844, 107.5867919921875, 40.109039306640625, 79.30162048339844, 322.7378845214844, 37.42646789550781, 82.60469055175781, 423.4911804199219, 63.24021911621094, 41.888633728027344, 224.03900146484375, 127.89928436279297, 59.71772384643555, 178.71815490722656, 490.83062744140625, 98.72721099853516, 88.7328872680664, 112.57270812988281, 86.19608306884766, 91.47662353515625, 330.56036376953125, 281.9639587402344, 228.14950561523438, 1505.8228759765625, 282.8261413574219, 239.49069213867188, 224.9530029296875, 309.30999755859375, 166.4477996826172, 182.24484252929688, 179.5364532470703, 289.0882568359375, 250.56356811523438, 213.12625122070312, 201.00381469726562, 257.50018310546875, 384.97137451171875, 282.7236328125, 275.29107666015625, 212.07302856445312, 55.65285873413086, 29.1473388671875, 26.49768829345703, 23.84804916381836, 23.846172332763672, 25.613523483276367, 23.846845626831055, 22.96327781677246, 20.31317901611328, 19.429964065551758, 19.429264068603516, 16.77951431274414, 22.078168869018555, 20.31365203857422, 20.310165405273438, 26.48955726623535, 15.895952224731445, 16.77944564819336, 18.544193267822266, 15.01262092590332, 18.54314422607422, 15.011863708496094, 15.011815071105957, 15.895437240600586, 15.893387794494629, 14.128551483154297, 17.661712646484375, 24.72196388244629, 18.544937133789062, 15.012147903442383, 64.50743103027344, 32.687957763671875, 23.83783531188965, 23.836517333984375, 92.69628143310547, 34.42021942138672, 32.697818756103516, 48.59605407714844, 51.164154052734375, 29.145694732666016, 53.039093017578125, 149.0616455078125, 56.492645263671875, 37.07698440551758, 52.99855422973633, 258.7877197265625, 157.10098266601562, 50.30237579345703, 77.7845458984375, 389.231201171875, 64.5838851928711, 66.22769927978516, 135.03866577148438, 135.5623779296875, 106.61270141601562, 462.6331787109375, 181.37864685058594, 276.2750549316406, 284.1102600097656, 345.5106201171875, 129.6661376953125, 104.07498931884766, 1505.8228759765625, 303.3076171875, 229.70913696289062, 217.6377410888672, 207.16989135742188, 156.83206176757812, 244.99668884277344, 230.4617919921875, 178.87489318847656, 187.96974182128906, 243.33908081054688, 257.50018310546875, 384.97137451171875, 330.56036376953125, 490.83062744140625, 234.28306579589844, 248.55426025390625, 275.29107666015625, 235.85140991210938, 36.52193069458008, 24.35040855407715, 25.220626831054688, 23.481855392456055, 22.615034103393555, 19.13446044921875, 19.131507873535156, 19.134746551513672, 17.39701271057129, 13.917956352233887, 14.787683486938477, 14.788081169128418, 13.918352127075195, 51.331695556640625, 22.62040138244629, 15.658853530883789, 13.048063278198242, 13.91899585723877, 13.04938793182373, 13.919212341308594, 13.049088478088379, 13.919114112854004, 15.659444808959961, 13.920038223266602, 11.309920310974121, 13.049335479736328, 11.310124397277832, 45.24515151977539, 11.31020736694336, 82.69792175292969, 51.33425521850586, 19.140167236328125, 100.98741912841797, 211.53448486328125, 27.850202560424805, 58.32362747192383, 35.696380615234375, 34.8290901184082, 30.4814395904541, 100.44601440429688, 58.50370407104492, 89.95108032226562, 39.26522445678711, 135.8941192626953, 289.0882568359375, 62.88506317138672, 31.4112548828125, 139.04434204101562, 189.72891235351562, 67.23342895507812, 1505.8228759765625, 144.68104553222656, 168.21475219726562, 282.8261413574219, 462.6331787109375, 282.7236328125, 81.47953033447266, 384.97137451171875, 243.33908081054688, 169.19802856445312, 86.94062042236328, 244.99668884277344, 224.9530029296875, 303.3076171875, 217.6377410888672, 151.18838500976562, 207.16989135742188, 250.56356811523438, 490.83062744140625, 235.85140991210938, 281.9639587402344, 183.890380859375, 389.231201171875, 423.4911804199219, 345.5106201171875, 276.2750549316406, 309.30999755859375, 275.29107666015625], \"Category\": [\"Default\", \"Default\", \"Default\", \"Default\", \"Default\", \"Default\", \"Default\", \"Default\", \"Default\", \"Default\", \"Default\", \"Default\", \"Default\", \"Default\", \"Default\", \"Default\", \"Default\", \"Default\", \"Default\", \"Default\", \"Default\", \"Default\", \"Default\", \"Default\", \"Default\", \"Default\", \"Default\", \"Default\", \"Default\", \"Default\", \"Topic1\", \"Topic1\", \"Topic1\", \"Topic1\", \"Topic1\", \"Topic1\", \"Topic1\", \"Topic1\", \"Topic1\", \"Topic1\", \"Topic1\", \"Topic1\", \"Topic1\", \"Topic1\", \"Topic1\", \"Topic1\", \"Topic1\", \"Topic1\", \"Topic1\", \"Topic1\", \"Topic1\", \"Topic1\", \"Topic1\", \"Topic1\", \"Topic1\", \"Topic1\", \"Topic1\", \"Topic1\", \"Topic1\", \"Topic1\", \"Topic1\", \"Topic1\", \"Topic1\", \"Topic1\", \"Topic1\", \"Topic1\", \"Topic1\", \"Topic1\", \"Topic1\", \"Topic1\", \"Topic1\", \"Topic1\", \"Topic1\", \"Topic1\", \"Topic1\", \"Topic1\", \"Topic1\", \"Topic1\", \"Topic1\", \"Topic1\", \"Topic1\", \"Topic1\", \"Topic1\", \"Topic1\", \"Topic1\", \"Topic1\", \"Topic1\", \"Topic1\", \"Topic1\", \"Topic1\", \"Topic1\", \"Topic1\", \"Topic1\", \"Topic1\", \"Topic1\", \"Topic1\", \"Topic1\", \"Topic1\", \"Topic1\", \"Topic1\", \"Topic1\", \"Topic1\", \"Topic1\", \"Topic1\", \"Topic1\", \"Topic1\", \"Topic1\", \"Topic1\", \"Topic1\", \"Topic1\", \"Topic1\", \"Topic1\", \"Topic1\", \"Topic1\", \"Topic2\", \"Topic2\", \"Topic2\", \"Topic2\", \"Topic2\", \"Topic2\", \"Topic2\", \"Topic2\", \"Topic2\", \"Topic2\", \"Topic2\", \"Topic2\", \"Topic2\", \"Topic2\", \"Topic2\", \"Topic2\", \"Topic2\", \"Topic2\", \"Topic2\", \"Topic2\", \"Topic2\", \"Topic2\", \"Topic2\", \"Topic2\", \"Topic2\", \"Topic2\", \"Topic2\", \"Topic2\", \"Topic2\", \"Topic2\", \"Topic2\", \"Topic2\", \"Topic2\", \"Topic2\", \"Topic2\", \"Topic2\", \"Topic2\", \"Topic2\", \"Topic2\", \"Topic2\", \"Topic2\", \"Topic2\", \"Topic2\", \"Topic2\", \"Topic2\", \"Topic2\", \"Topic2\", \"Topic2\", \"Topic2\", \"Topic2\", \"Topic2\", \"Topic2\", \"Topic2\", \"Topic2\", \"Topic2\", \"Topic2\", \"Topic2\", \"Topic2\", \"Topic2\", \"Topic2\", \"Topic2\", \"Topic2\", \"Topic2\", \"Topic2\", \"Topic2\", \"Topic2\", \"Topic2\", \"Topic2\", \"Topic2\", \"Topic2\", \"Topic2\", \"Topic2\", \"Topic2\", \"Topic2\", \"Topic2\", \"Topic2\", \"Topic2\", \"Topic2\", \"Topic2\", \"Topic2\", \"Topic2\", \"Topic3\", \"Topic3\", \"Topic3\", \"Topic3\", \"Topic3\", \"Topic3\", \"Topic3\", \"Topic3\", \"Topic3\", \"Topic3\", \"Topic3\", \"Topic3\", \"Topic3\", \"Topic3\", \"Topic3\", \"Topic3\", \"Topic3\", \"Topic3\", \"Topic3\", \"Topic3\", \"Topic3\", \"Topic3\", \"Topic3\", \"Topic3\", \"Topic3\", \"Topic3\", \"Topic3\", \"Topic3\", \"Topic3\", \"Topic3\", \"Topic3\", \"Topic3\", \"Topic3\", \"Topic3\", \"Topic3\", \"Topic3\", \"Topic3\", \"Topic3\", \"Topic3\", \"Topic3\", \"Topic3\", \"Topic3\", \"Topic3\", \"Topic3\", \"Topic3\", \"Topic3\", \"Topic3\", \"Topic3\", \"Topic3\", \"Topic3\", \"Topic3\", \"Topic3\", \"Topic3\", \"Topic3\", \"Topic3\", \"Topic3\", \"Topic3\", \"Topic3\", \"Topic3\", \"Topic3\", \"Topic3\", \"Topic3\", \"Topic3\", \"Topic3\", \"Topic3\", \"Topic3\", \"Topic3\", \"Topic3\", \"Topic3\", \"Topic3\", \"Topic3\", \"Topic3\", \"Topic3\", \"Topic3\", \"Topic3\", \"Topic3\", \"Topic3\", \"Topic3\"], \"logprob\": [30.0, 29.0, 28.0, 27.0, 26.0, 25.0, 24.0, 23.0, 22.0, 21.0, 20.0, 19.0, 18.0, 17.0, 16.0, 15.0, 14.0, 13.0, 12.0, 11.0, 10.0, 9.0, 8.0, 7.0, 6.0, 5.0, 4.0, 3.0, 2.0, 1.0, -7.416900157928467, -7.451200008392334, -7.131700038909912, -7.08459997177124, -6.9309000968933105, -7.421899795532227, -7.646500110626221, -5.808199882507324, -7.53000020980835, -7.832900047302246, -7.395299911499023, -7.83519983291626, -7.739999771118164, -7.8358001708984375, -7.887700080871582, -7.888199806213379, -7.888500213623047, -7.575399875640869, -7.94320011138916, -8.0024995803833, -7.893099784851074, -7.7947998046875, -8.067399978637695, -8.068300247192383, -7.01170015335083, -8.202799797058105, -8.134200096130371, -8.008999824523926, -8.134400367736816, -7.848999977111816, -7.295599937438965, -7.326000213623047, -7.4847002029418945, -7.8028998374938965, -7.633800029754639, -6.854599952697754, -5.918300151824951, -5.571400165557861, -6.266900062561035, -6.0279998779296875, -6.291100025177002, -6.669899940490723, -7.123799800872803, -7.503499984741211, -6.235799789428711, -6.246200084686279, -7.124199867248535, -6.548799991607666, -5.3979997634887695, -7.200300216674805, -6.5441999435424805, -5.2154998779296875, -6.771200180053711, -7.1082000732421875, -5.7941999435424805, -6.250199794769287, -6.838500022888184, -6.019199848175049, -5.293900012969971, -6.46560001373291, -6.544000148773193, -6.371399879455566, -6.574100017547607, -6.534599781036377, -5.625, -5.761000156402588, -5.927700042724609, -4.765699863433838, -5.862199783325195, -5.964799880981445, -6.012199878692627, -5.830399990081787, -6.189700126647949, -6.174300193786621, -6.193600177764893, -5.989200115203857, -6.077899932861328, -6.14769983291626, -6.177599906921387, -6.09250020980835, -6.020199775695801, -6.106599807739258, -6.221399784088135, -6.238399982452393, -6.661900043487549, -7.321199893951416, -7.416900157928467, -7.526000022888184, -7.526199817657471, -7.4552001953125, -7.526899814605713, -7.565299987792969, -7.690100193023682, -7.735199928283691, -7.736299991607666, -7.884500026702881, -7.610899925231934, -7.6946001052856445, -7.696800231933594, -7.431700229644775, -7.942800045013428, -7.889200210571289, -7.7906999588012695, -8.002099990844727, -7.790999889373779, -8.002599716186523, -8.002599716186523, -7.946499824523926, -7.947500228881836, -8.065400123596191, -7.842700004577637, -7.507500171661377, -7.79610013961792, -8.008700370788574, -6.554100036621094, -7.23390007019043, -7.5472002029418945, -7.552599906921387, -6.249899864196777, -7.202700138092041, -7.252699851989746, -6.8805999755859375, -6.83650016784668, -7.369500160217285, -6.807300090789795, -5.848700046539307, -6.761099815368652, -7.151199817657471, -6.824900150299072, -5.4029998779296875, -5.856500148773193, -6.882999897003174, -6.499100208282471, -5.092899799346924, -6.680099964141846, -6.663700103759766, -6.053899765014648, -6.067200183868408, -6.270299911499023, -5.058499813079834, -5.86359977722168, -5.534800052642822, -5.513400077819824, -5.37939977645874, -6.167699813842773, -6.353300094604492, -4.323800086975098, -5.5680999755859375, -5.786799907684326, -5.842299938201904, -5.888199806213379, -6.08650016784668, -5.80810022354126, -5.889100074768066, -6.0696001052856445, -6.084199905395508, -5.953400135040283, -5.9243998527526855, -5.75, -5.837699890136719, -5.671800136566162, -6.043600082397461, -6.025000095367432, -6.001299858093262, -6.053199768066406, -6.942299842834473, -7.354800224304199, -7.321499824523926, -7.395100116729736, -7.43720006942749, -7.604400157928467, -7.606400012969971, -7.607500076293945, -7.708899974822998, -7.933000087738037, -7.873499870300293, -7.873799800872803, -7.937099933624268, -6.632199764251709, -7.452199935913086, -7.820000171661377, -8.002599716186523, -7.938600063323975, -8.005000114440918, -7.940700054168701, -8.005800247192383, -7.942399978637695, -7.825200080871582, -7.943299770355225, -8.151000022888184, -8.008600234985352, -8.15250015258789, -6.76609992980957, -8.152700424194336, -6.163400173187256, -6.643400192260742, -7.627500057220459, -5.982399940490723, -5.251699924468994, -7.259900093078613, -6.536200046539307, -7.017600059509277, -7.0467000007629395, -7.195099830627441, -6.14739990234375, -6.673099994659424, -6.297299861907959, -7.029699802398682, -5.990499973297119, -5.362199783325195, -6.646999835968018, -7.2342000007629395, -6.011199951171875, -5.764699935913086, -6.619699954986572, -4.182300090789795, -6.042300224304199, -5.958600044250488, -5.6168999671936035, -5.303800106048584, -5.717100143432617, -6.553999900817871, -5.561299800872803, -5.876699924468994, -6.113800048828125, -6.53410005569458, -5.90339994430542, -5.959199905395508, -5.811999797821045, -6.013299942016602, -6.236499786376953, -6.091400146484375, -6.003900051116943, -5.696300029754639, -6.036399841308594, -6.034900188446045, -6.186600208282471, -5.945499897003174, -5.9664998054504395, -6.021900177001953, -6.082699775695801, -6.0817999839782715, -6.107800006866455], \"loglift\": [30.0, 29.0, 28.0, 27.0, 26.0, 25.0, 24.0, 23.0, 22.0, 21.0, 20.0, 19.0, 18.0, 17.0, 16.0, 15.0, 14.0, 13.0, 12.0, 11.0, 10.0, 9.0, 8.0, 7.0, 6.0, 5.0, 4.0, 3.0, 2.0, 1.0, 1.0190999507904053, 1.0188000202178955, 1.0166000127792358, 1.0149999856948853, 1.0146000385284424, 1.014299988746643, 1.0127999782562256, 1.0118999481201172, 1.0116000175476074, 1.0089000463485718, 1.0081000328063965, 1.006600022315979, 1.006500005722046, 1.006100058555603, 1.0054999589920044, 1.0048999786376953, 1.004699945449829, 1.0042999982833862, 1.00409996509552, 1.0019999742507935, 1.0002000331878662, 0.9983000159263611, 0.9977999925613403, 0.9970999956130981, 0.996999979019165, 0.9959999918937683, 0.9957000017166138, 0.9955999851226807, 0.9955000281333923, 0.9929999709129333, 0.9868000149726868, 0.9853000044822693, 0.9861999750137329, 0.9905999898910522, 0.9850999712944031, 0.958899974822998, 0.9103999733924866, 0.8884000182151794, 0.9182999730110168, 0.876800000667572, 0.8935999870300293, 0.8931999802589417, 0.9316999912261963, 0.9677000045776367, 0.8183000087738037, 0.7997999787330627, 0.9085999727249146, 0.802299976348877, 0.5494999885559082, 0.9017000198364258, 0.7660999894142151, 0.4602999985218048, 0.8062000274658203, 0.8810999989509583, 0.5184000134468079, 0.6229000091552734, 0.7961999773979187, 0.5194000005722046, 0.23430000245571136, 0.6664000153541565, 0.6947000026702881, 0.6292999982833862, 0.6935999989509583, 0.6736999750137329, 0.2985999882221222, 0.3215999901294708, 0.36660000681877136, -0.35839998722076416, 0.21729999780654907, 0.2809999883174896, 0.2962000072002411, 0.15960000455379486, 0.41999998688697815, 0.34470000863075256, 0.34040001034736633, 0.06840000301599503, 0.12269999831914902, 0.21480000019073486, 0.2433999925851822, 0.08079999685287476, -0.24899999797344208, -0.02669999934732914, -0.11490000039339066, 0.1289999932050705, 1.0433000326156616, 1.0307999849319458, 1.030400037765503, 1.0266000032424927, 1.0266000032424927, 1.0260000228881836, 1.0257999897003174, 1.0252000093460083, 1.0230000019073486, 1.0224000215530396, 1.021299958229065, 1.019700050354004, 1.0188000202178955, 1.0184999704360962, 1.0163999795913696, 1.0159000158309937, 1.0154999494552612, 1.0149999856948853, 1.0134999752044678, 1.0133999586105347, 1.0132999420166016, 1.0128999948501587, 1.0128999948501587, 1.0118000507354736, 1.0109000205993652, 1.0108000040054321, 1.0103000402450562, 1.0091999769210815, 1.0081000328063965, 1.0068000555038452, 1.003499984741211, 1.003499984741211, 1.0059000253677368, 1.000499963760376, 0.9451000094413757, 0.9829999804496765, 0.9843999743461609, 0.9602000117301941, 0.9527999758720398, 0.9825000166893005, 0.9459999799728394, 0.8712999820709229, 0.929099977016449, 0.9602000117301941, 0.929099977016449, 0.7652999758720398, 0.8108999729156494, 0.92330002784729, 0.8712999820709229, 0.6672999858856201, 0.8762999773025513, 0.8675000071525574, 0.7649000287055969, 0.7477999925613403, 0.7847999930381775, 0.5289000272750854, 0.6601999998092651, 0.5681999921798706, 0.5616000294685364, 0.5, 0.6916999816894531, 0.7258999943733215, 0.08340000361204147, 0.4415000081062317, 0.5006999969482422, 0.4991999864578247, 0.5026000142097473, 0.5827000141143799, 0.41499999165534973, 0.3952000141143799, 0.46810001134872437, 0.40389999747276306, 0.27649998664855957, 0.24889999628067017, 0.021199999377131462, 0.08590000122785568, -0.14350000023841858, 0.22419999539852142, 0.18369999527931213, 0.10520000010728836, 0.20800000429153442, 1.1842000484466553, 1.1770000457763672, 1.1751999855041504, 1.1729999780654907, 1.1684999465942383, 1.1684999465942383, 1.166599988937378, 1.1654000282287598, 1.1591999530792236, 1.1582000255584717, 1.156999945640564, 1.1567000150680542, 1.1540000438690186, 1.1538000106811523, 1.1533000469207764, 1.1533000469207764, 1.1531000137329102, 1.152500033378601, 1.1505999565124512, 1.1504000425338745, 1.149899959564209, 1.1486999988555908, 1.1480000019073486, 1.1476999521255493, 1.1476999521255493, 1.1469999551773071, 1.1461000442504883, 1.1461000442504883, 1.1460000276565552, 1.145799994468689, 1.1426000595092773, 1.1450999975204468, 1.1268999576568604, 1.118299961090088, 1.1375999450683594, 1.1220999956130981, 1.131700038909912, 1.1272000074386597, 1.1121000051498413, 0.9672999978065491, 0.9821000099182129, 0.9277999997138977, 1.0242999792099, 0.8220000267028809, 0.6953999996185303, 0.9361000061035156, 1.0429999828338623, 0.7782999873161316, 0.7141000032424927, 0.896399974822998, 0.22499999403953552, 0.7075999975204468, 0.640500009059906, 0.4625999927520752, 0.28360000252723694, 0.3628000020980835, 0.7699999809265137, 0.20990000665187836, 0.3531999886035919, 0.4794999957084656, 0.7250000238418579, 0.3197000026702881, 0.34929999709129333, 0.19760000705718994, 0.32820001244544983, 0.4693000018596649, 0.2994999885559082, 0.19670000672340393, -0.1679999977350235, 0.2248000055551529, 0.04769999906420708, 0.32339999079704285, -0.18529999256134033, -0.2906000018119812, -0.14249999821186066, 0.0203000009059906, -0.09179999679327011, -0.0012000000569969416]}, \"token.table\": {\"Topic\": [1, 2, 2, 1, 2, 3, 3, 1, 2, 3, 1, 2, 3, 1, 1, 1, 2, 3, 1, 2, 3, 1, 2, 3, 1, 2, 3, 1, 2, 2, 1, 2, 3, 2, 1, 2, 3, 1, 2, 3, 1, 3, 1, 1, 2, 3, 2, 3, 1, 2, 3, 3, 1, 2, 3, 1, 2, 3, 1, 2, 3, 2, 1, 2, 3, 2, 1, 3, 1, 3, 1, 2, 3, 2, 2, 1, 2, 3, 1, 2, 3, 1, 2, 3, 1, 2, 3, 2, 1, 2, 3, 3, 1, 1, 2, 3, 1, 2, 3, 1, 1, 2, 3, 1, 3, 1, 2, 3, 1, 2, 3, 1, 2, 3, 2, 1, 2, 3, 1, 2, 3, 1, 2, 3, 2, 1, 2, 3, 1, 2, 3, 1, 2, 3, 1, 2, 3, 1, 2, 3, 1, 2, 1, 2, 3, 1, 2, 3, 3, 1, 2, 1, 2, 3, 3, 1, 2, 3, 3, 1, 2, 3, 1, 2, 3, 3, 1, 2, 3, 1, 2, 3, 1, 2, 3, 1, 2, 3, 2, 1, 1, 2, 3, 1, 2, 3, 2, 3, 3, 1, 2, 3, 1, 2, 3, 3, 1, 2, 3, 1, 3, 2, 3, 1, 2, 3, 1, 3, 1, 2, 3, 1, 1, 2, 3, 3, 1, 2, 3, 2, 1, 2, 3, 1, 1, 2, 3, 1, 2, 3, 2, 3, 3, 1, 1, 1, 2, 3, 3, 3, 3, 1, 2, 3, 2, 2, 1, 2, 3, 2, 3, 1, 2, 3, 1, 2, 3, 1, 2, 3, 1, 1, 1, 2, 1, 2, 3, 1, 2, 3, 3, 1, 2, 3, 3, 1, 2, 1, 2, 3, 1, 2, 3, 2, 1, 2, 3, 1, 2, 3, 1, 2, 3, 1, 2, 3, 1, 2, 3, 1, 2, 3, 1, 2, 3, 2, 2, 3, 2, 1, 2, 3, 1, 2, 1, 1, 2, 3, 2, 1, 2, 3, 1, 2, 3, 3, 3, 1, 1, 2, 3, 1, 1, 2, 3, 1, 1, 1, 2, 3, 1, 2, 3, 3, 1, 2, 3, 1, 3, 1, 2, 1, 2, 3, 2, 3, 1, 2, 3, 1, 2, 3, 1, 2, 3, 1, 1, 3, 2, 3, 3, 1, 2, 3, 1, 1, 2, 3, 1, 2, 3, 1, 2, 3, 2, 3, 1, 2, 3, 1, 2, 3, 1, 2, 3, 1, 2, 3, 1, 2, 1, 2, 3, 1, 2, 3, 1, 2, 3, 1, 1, 2, 3, 1, 2, 3, 1, 2, 3, 2, 1, 2, 3, 1, 2, 3, 1, 2, 3, 2, 1, 2, 3, 2, 1, 2, 3, 1, 3, 1, 2, 3, 1, 2, 3, 1, 2, 3, 1, 1, 2, 3, 1, 2, 1, 2, 3, 2, 2, 1, 2, 3, 1, 2, 3, 1], \"Freq\": [0.9595934152603149, 0.026655374094843864, 0.9535475969314575, 0.7076887488365173, 0.1624203771352768, 0.13921746611595154, 0.9340451955795288, 0.029706669971346855, 0.039608895778656006, 0.9308090209960938, 0.2753451466560364, 0.3558706045150757, 0.37145617604255676, 0.9432765245437622, 0.9802529215812683, 0.017145710065960884, 0.0514371283352375, 0.9258683323860168, 0.06122531741857529, 0.5265377163887024, 0.41225045919418335, 0.19636833667755127, 0.14727625250816345, 0.6504701375961304, 0.34309121966362, 0.2263694703578949, 0.4315167963504791, 0.9521254897117615, 0.05600738152861595, 0.9845824837684631, 0.06561370193958282, 0.03280685096979141, 0.9185917973518372, 0.9644394516944885, 0.3017054796218872, 0.014717340469360352, 0.6843563318252563, 0.8750277161598206, 0.05235208570957184, 0.07478868961334229, 0.04836880788207054, 0.9431917667388916, 0.9538202881813049, 0.49932825565338135, 0.23594632744789124, 0.2688690721988678, 0.9436364769935608, 0.9339054822921753, 0.4008053243160248, 0.3300749659538269, 0.27349069714546204, 0.9406970739364624, 0.029506711289286613, 0.7376677989959717, 0.2360536903142929, 0.08322694897651672, 0.3447973430156708, 0.5706990361213684, 0.02974710613489151, 0.23797684907913208, 0.7288041114807129, 0.9325987696647644, 0.1649732142686844, 0.5730648636817932, 0.2604840397834778, 0.9706153273582458, 0.0560280904173851, 0.9244634509086609, 0.05742326378822327, 0.9187722206115723, 0.6573529243469238, 0.07994832843542099, 0.26649442315101624, 0.9779062867164612, 0.9511658549308777, 0.7870360016822815, 0.21769081056118011, 0.9196767210960388, 0.13911016285419464, 0.7457849979400635, 0.11206095665693283, 0.4858776926994324, 0.198606938123703, 0.31564319133758545, 0.43636107444763184, 0.3143676519393921, 0.24867889285087585, 0.9909012913703918, 0.24472779035568237, 0.277799129486084, 0.4828413128852844, 0.9725974798202515, 0.9603248238563538, 0.9713625311851501, 0.007414981257170439, 0.029659925028681755, 0.046898726373910904, 0.7597593665122986, 0.18759490549564362, 0.9332902431488037, 0.7807649970054626, 0.055768925696611404, 0.15801195800304413, 0.9211074709892273, 0.0800963044166565, 0.12339381873607635, 0.6940902471542358, 0.1773786097764969, 0.11506577581167221, 0.46026310324668884, 0.42738717794418335, 0.11318662017583847, 0.5746397376060486, 0.31343987584114075, 0.9847285747528076, 0.8533397316932678, 0.05688931420445442, 0.08791985362768173, 0.7626685500144958, 0.036317549645900726, 0.20579944550991058, 0.017730703577399254, 0.4964596927165985, 0.4846392273902893, 0.9436670541763306, 0.11848458647727966, 0.7479339241981506, 0.14070044457912445, 0.9596423506736755, 0.02284862846136093, 0.02284862846136093, 0.43843188881874084, 0.08485778421163559, 0.47732505202293396, 0.4712095260620117, 0.1022435799241066, 0.4267558157444, 0.00918958242982626, 0.5743489265441895, 0.41812601685523987, 0.9600318670272827, 0.0320010632276535, 0.022101815789937973, 0.022101815789937973, 0.9503780603408813, 0.04315170273184776, 0.30925387144088745, 0.6544674634933472, 0.9407111406326294, 0.9492750763893127, 0.04868077486753464, 0.0744800716638565, 0.5213605165481567, 0.4043203890323639, 0.9195833802223206, 0.07193668186664581, 0.678260087966919, 0.2492092102766037, 0.934018611907959, 0.7099960446357727, 0.06761867552995682, 0.2253955751657486, 0.07167326658964157, 0.6726260185241699, 0.25361308455467224, 0.9467083811759949, 0.3565652072429657, 0.023004205897450447, 0.6211135983467102, 0.15483738481998444, 0.8361219167709351, 0.015483738854527473, 0.5347021818161011, 0.21628402173519135, 0.24632346630096436, 0.855009913444519, 0.05343811959028244, 0.08015717566013336, 0.9778710603713989, 0.9430907964706421, 0.010807698592543602, 0.5901003479957581, 0.39772331714630127, 0.019307825714349747, 0.5744078159332275, 0.4054643213748932, 0.9296861290931702, 0.058105383068323135, 0.9728041887283325, 0.23383496701717377, 0.35347145795822144, 0.4132896959781647, 0.009454723447561264, 0.07091042399406433, 0.9171081781387329, 0.919604480266571, 0.8648756146430969, 0.11745224893093109, 0.021354954689741135, 0.8926218748092651, 0.10201393067836761, 0.9645153880119324, 0.9725728034973145, 0.09427008777856827, 0.9049928784370422, 0.018854018300771713, 0.04420788213610649, 0.9725733995437622, 0.7906361222267151, 0.15812721848487854, 0.04743816703557968, 0.9224706888198853, 0.24571283161640167, 0.3778664767742157, 0.37587422132492065, 0.9339753985404968, 0.03431038558483124, 0.9263803958892822, 0.03431038558483124, 0.9882690906524658, 0.39910033345222473, 0.23546919226646423, 0.3671723008155823, 0.9431031346321106, 0.105693019926548, 0.7206342220306396, 0.17295221984386444, 0.4957210421562195, 0.2227959781885147, 0.2840648889541626, 0.9325487017631531, 0.9339674711227417, 0.9579245448112488, 0.9882714152336121, 0.9796984195709229, 0.2142644226551056, 0.1797056347131729, 0.6082344651222229, 0.9195870757102966, 0.9339609146118164, 0.946733832359314, 0.2646859586238861, 0.5163545608520508, 0.21695570647716522, 0.9325780868530273, 0.96448814868927, 0.3542723059654236, 0.4353707730770111, 0.20914870500564575, 0.9707966446876526, 0.04044986143708229, 0.01954493299126625, 0.8990669250488281, 0.09772466868162155, 0.04650627076625824, 0.9456275105476379, 0.015502089634537697, 0.12733913958072662, 0.05093565583229065, 0.8404383659362793, 0.9702009558677673, 0.947789192199707, 0.9752512574195862, 0.03612041845917702, 0.040251802653074265, 0.8318706154823303, 0.12746404111385345, 0.6567667722702026, 0.20328494906425476, 0.13291709125041962, 0.9771792888641357, 0.5572725534439087, 0.21724183857440948, 0.22432580590248108, 0.985609769821167, 0.030592305585741997, 0.9483614563941956, 0.5891831517219543, 0.13390526175498962, 0.2767375409603119, 0.1275249421596527, 0.6248722076416016, 0.24867364764213562, 0.9707091450691223, 0.09547998756170273, 0.7829359173774719, 0.12094131857156754, 0.043151676654815674, 0.8953973054885864, 0.06472751498222351, 0.1950380504131317, 0.4282357394695282, 0.37735623121261597, 0.18302753567695618, 0.6089185476303101, 0.20766586065292358, 0.9276673793792725, 0.03865280747413635, 0.03865280747413635, 0.12942275404930115, 0.07964476943016052, 0.786492109298706, 0.01948114112019539, 0.03896228224039078, 0.9545758962631226, 0.960636556148529, 0.9437681436538696, 0.0377507247030735, 0.9580513834953308, 0.09059653431177139, 0.8304682374000549, 0.0754971131682396, 0.9430949687957764, 0.9325957298278809, 0.9801153540611267, 0.09541216492652893, 0.1431182473897934, 0.7632973194122314, 0.9845595359802246, 0.3805822432041168, 0.44660162925720215, 0.17087367177009583, 0.6887005567550659, 0.14211280643939972, 0.16397631168365479, 0.9912521243095398, 0.9578883647918701, 0.9601932764053345, 0.3636767864227295, 0.021082712337374687, 0.6113986372947693, 0.9708781242370605, 0.8726212382316589, 0.04986407235264778, 0.07479611039161682, 0.970420777797699, 0.9650638103485107, 0.4749510884284973, 0.3781457543373108, 0.1452079713344574, 0.5931126475334167, 0.07833563536405563, 0.3301287293434143, 0.9794796705245972, 0.026970909908413887, 0.9170109033584595, 0.053941819816827774, 0.927346408367157, 0.038639433681964874, 0.9599592685699463, 0.05333106964826584, 0.7964434027671814, 0.04684961214661598, 0.1592886745929718, 0.9648526906967163, 0.04195011779665947, 0.0796307846903801, 0.6153287887573242, 0.3076643943786621, 0.4676590859889984, 0.22130297124385834, 0.3131645619869232, 0.0778200775384903, 0.16675730049610138, 0.7559664845466614, 0.9519115090370178, 0.9795903563499451, 0.027988296002149582, 0.9812176823616028, 0.9408563375473022, 0.9857091307640076, 0.07547375559806824, 0.8868166208267212, 0.03773687779903412, 0.9518864750862122, 0.5084385275840759, 0.1884729117155075, 0.3024332523345947, 0.8866472244262695, 0.053412482142448425, 0.06409497559070587, 0.6887665390968323, 0.2430940717458725, 0.07090243697166443, 0.9649060368537903, 0.04195243865251541, 0.11570421606302261, 0.8356415629386902, 0.05142409726977348, 0.7818251252174377, 0.18915124237537384, 0.03783024847507477, 0.25748905539512634, 0.4184197187423706, 0.3258845806121826, 0.346610963344574, 0.5534594655036926, 0.10062899440526962, 0.9552954435348511, 0.032941222190856934, 0.37704747915267944, 0.02075490728020668, 0.6018922924995422, 0.09231551736593246, 0.5407052040100098, 0.3659650981426239, 0.8572900891304016, 0.062348369508981705, 0.07793546468019485, 0.9708685874938965, 0.4441450536251068, 0.3015296757221222, 0.25467032194137573, 0.06173340603709221, 0.9054232835769653, 0.020577803254127502, 0.0397595539689064, 0.874710202217102, 0.0795191079378128, 0.9625340700149536, 0.05310425907373428, 0.8850709795951843, 0.07080567628145218, 0.03590638190507889, 0.03590638190507889, 0.9335659146308899, 0.8594216704368591, 0.09549129754304886, 0.04774564877152443, 0.9437887072563171, 0.4477526843547821, 0.3731272518634796, 0.17910107970237732, 0.9760469198226929, 0.01948016881942749, 0.03896033763885498, 0.9350481629371643, 0.12734289467334747, 0.859564483165741, 0.9409124255180359, 0.04480535164475441, 0.9725799560546875, 0.8474060893058777, 0.10491693764925003, 0.04842320457100868, 0.41382431983947754, 0.3136012554168701, 0.2748052179813385, 0.9518285393714905, 0.05224614590406418, 0.05224614590406418, 0.9404306411743164, 0.06116615980863571, 0.9174923896789551, 0.3123966157436371, 0.38504698872566223, 0.30149906873703003, 0.9706542491912842, 0.9535436630249023, 0.1367434859275818, 0.0683717429637909, 0.8033679127693176, 0.6104024648666382, 0.176613911986351, 0.21379578113555908, 0.9671575427055359], \"Term\": [\"acid\", \"acid\", \"acm\", \"age\", \"age\", \"age\", \"almanac\", \"alomar\", \"alomar\", \"alomar\", \"anyone\", \"anyone\", \"anyone\", \"aspartame\", \"ati\", \"baerga\", \"baerga\", \"baerga\", \"banks\", \"banks\", \"banks\", \"base\", \"base\", \"base\", \"baseball\", \"baseball\", \"baseball\", \"bath\", \"bath\", \"bezier\", \"bloom\", \"bloom\", \"bloom\", \"bolson\", \"braves\", \"braves\", \"braves\", \"cancer\", \"cancer\", \"cancer\", \"candida\", \"candida\", \"canseco\", \"case\", \"case\", \"case\", \"cboesel\", \"cd-i\", \"center\", \"center\", \"center\", \"cereals\", \"code\", \"code\", \"code\", \"color\", \"color\", \"color\", \"colors\", \"colors\", \"colors\", \"column\", \"computer\", \"computer\", \"computer\", \"convex\", \"corn\", \"corn\", \"crohn\", \"crohn\", \"cubs\", \"cubs\", \"cubs\", \"curve\", \"curves\", \"cview\", \"cview\", \"dame\", \"data\", \"data\", \"data\", \"david\", \"david\", \"david\", \"day\", \"day\", \"day\", \"dizziness\", \"doctor\", \"doctor\", \"doctor\", \"dozonoff\", \"dwarner\", \"dyer\", \"dyer\", \"dyer\", \"email\", \"email\", \"email\", \"epa\", \"evidence\", \"evidence\", \"evidence\", \"fame\", \"fame\", \"fax\", \"fax\", \"fax\", \"file\", \"file\", \"file\", \"files\", \"files\", \"files\", \"fonts\", \"food\", \"food\", \"food\", \"foods\", \"foods\", \"foods\", \"format\", \"format\", \"format\", \"fotis\", \"ftp\", \"ftp\", \"ftp\", \"fulk\", \"fulk\", \"fulk\", \"game\", \"game\", \"game\", \"games\", \"games\", \"games\", \"geb\", \"geb\", \"geb\", \"genes\", \"genes\", \"georgia\", \"georgia\", \"georgia\", \"gif\", \"gif\", \"gif\", \"gilkey\", \"glutamate\", \"glutamate\", \"gordon\", \"gordon\", \"gordon\", \"graeme\", \"graphics\", \"graphics\", \"graphics\", \"gt0523e\", \"hall\", \"hall\", \"hall\", \"help\", \"help\", \"help\", \"hernia\", \"hitter\", \"hitter\", \"hitter\", \"hiv\", \"hiv\", \"hiv\", \"home\", \"home\", \"home\", \"humans\", \"humans\", \"humans\", \"idle\", \"ima\", \"image\", \"image\", \"image\", \"images\", \"images\", \"images\", \"imagine\", \"imagine\", \"jfif\", \"john\", \"john\", \"john\", \"jpeg\", \"jpeg\", \"jpeg\", \"kellog\", \"keyboard\", \"keyboard\", \"keyboard\", \"kingman\", \"kingman\", \"krillean\", \"landmann\", \"language\", \"language\", \"language\", \"lankford\", \"lankford\", \"lee\", \"lee\", \"lee\", \"lefebvre\", \"lines\", \"lines\", \"lines\", \"lipman\", \"listing\", \"listing\", \"listing\", \"lost\", \"lot\", \"lot\", \"lot\", \"m2c\", \"mail\", \"mail\", \"mail\", \"mark\", \"mark\", \"mark\", \"markus\", \"mcmains\", \"membrane\", \"memes\", \"merrill\", \"michael\", \"michael\", \"michael\", \"militello\", \"mjones\", \"mule\", \"new\", \"new\", \"new\", \"nff\", \"nfotis\", \"number\", \"number\", \"number\", \"o157\", \"o157\", \"object\", \"object\", \"object\", \"objects\", \"objects\", \"objects\", \"obp\", \"obp\", \"obp\", \"olney\", \"otis\", \"ozzie\", \"ozzie\", \"package\", \"package\", \"package\", \"pain\", \"pain\", \"pain\", \"paulson\", \"people\", \"people\", \"people\", \"pittsburg\", \"plane\", \"plane\", \"players\", \"players\", \"players\", \"please\", \"please\", \"please\", \"plot\", \"points\", \"points\", \"points\", \"polygon\", \"polygon\", \"polygon\", \"problem\", \"problem\", \"problem\", \"program\", \"program\", \"program\", \"protein\", \"protein\", \"protein\", \"quality\", \"quality\", \"quality\", \"quicktime\", \"quicktime\", \"quicktime\", \"radiosity\", \"radius\", \"radius\", \"raster\", \"ray\", \"ray\", \"ray\", \"rayssd\", \"rebound\", \"recipient\", \"red\", \"red\", \"red\", \"removal\", \"research\", \"research\", \"research\", \"results\", \"results\", \"results\", \"ricardo\", \"roster\", \"rot.qc.ca\", \"runs\", \"runs\", \"runs\", \"s.p\", \"safety\", \"safety\", \"safety\", \"sas\", \"sasghm\", \"science\", \"science\", \"science\", \"season\", \"season\", \"season\", \"seizure\", \"siggraph\", \"siggraph\", \"siggraph\", \"simmons\", \"simmons\", \"slaught\", \"slaught\", \"smith\", \"smith\", \"smith\", \"smokeless\", \"smokeless\", \"software\", \"software\", \"software\", \"something\", \"something\", \"something\", \"sox\", \"sox\", \"sox\", \"spdcc\", \"spdcc.com\", \"spdcc.com\", \"sphere\", \"sphinx\", \"split\", \"sports\", \"sports\", \"sports\", \"stance\", \"steve\", \"steve\", \"steve\", \"studies\", \"studies\", \"studies\", \"study\", \"study\", \"study\", \"suite\", \"suite\", \"sun\", \"sun\", \"sun\", \"syndrome\", \"syndrome\", \"syndrome\", \"system\", \"system\", \"system\", \"systems\", \"systems\", \"systems\", \"taste\", \"taste\", \"team\", \"team\", \"team\", \"thanks\", \"thanks\", \"thanks\", \"theory\", \"theory\", \"theory\", \"thorson\", \"time\", \"time\", \"time\", \"tobacco\", \"tobacco\", \"tobacco\", \"tool\", \"tool\", \"tool\", \"toolkit\", \"tools\", \"tools\", \"tools\", \"torre\", \"torre\", \"torre\", \"turpin\", \"turpin\", \"turpin\", \"update\", \"use\", \"use\", \"use\", \"vb30\", \"vesa\", \"vesa\", \"vesa\", \"viola\", \"viola\", \"walter\", \"walter\", \"wate\", \"water\", \"water\", \"water\", \"way\", \"way\", \"way\", \"wcsbeau\", \"whiten\", \"whiten\", \"whiten\", \"wip\", \"wip\", \"world\", \"world\", \"world\", \"x11\", \"xxxx\", \"yankees\", \"yankees\", \"yankees\", \"years\", \"years\", \"years\", \"yount\"]}, \"R\": 30, \"lambda.step\": 0.01, \"plot.opts\": {\"xlab\": \"PC1\", \"ylab\": \"PC2\"}, \"topic.order\": [3, 1, 2]};\n",
       "\n",
       "function LDAvis_load_lib(url, callback){\n",
       "  var s = document.createElement('script');\n",
       "  s.src = url;\n",
       "  s.async = true;\n",
       "  s.onreadystatechange = s.onload = callback;\n",
       "  s.onerror = function(){console.warn(\"failed to load library \" + url);};\n",
       "  document.getElementsByTagName(\"head\")[0].appendChild(s);\n",
       "}\n",
       "\n",
       "if(typeof(LDAvis) !== \"undefined\"){\n",
       "   // already loaded: just create the visualization\n",
       "   !function(LDAvis){\n",
       "       new LDAvis(\"#\" + \"ldavis_el66061125945052965947491751\", ldavis_el66061125945052965947491751_data);\n",
       "   }(LDAvis);\n",
       "}else if(typeof define === \"function\" && define.amd){\n",
       "   // require.js is available: use it to load d3/LDAvis\n",
       "   require.config({paths: {d3: \"https://cdnjs.cloudflare.com/ajax/libs/d3/3.5.5/d3.min\"}});\n",
       "   require([\"d3\"], function(d3){\n",
       "      window.d3 = d3;\n",
       "      LDAvis_load_lib(\"https://cdn.rawgit.com/bmabey/pyLDAvis/files/ldavis.v1.0.0.js\", function(){\n",
       "        new LDAvis(\"#\" + \"ldavis_el66061125945052965947491751\", ldavis_el66061125945052965947491751_data);\n",
       "      });\n",
       "    });\n",
       "}else{\n",
       "    // require.js not available: dynamically load d3 & LDAvis\n",
       "    LDAvis_load_lib(\"https://cdnjs.cloudflare.com/ajax/libs/d3/3.5.5/d3.min.js\", function(){\n",
       "         LDAvis_load_lib(\"https://cdn.rawgit.com/bmabey/pyLDAvis/files/ldavis.v1.0.0.js\", function(){\n",
       "                 new LDAvis(\"#\" + \"ldavis_el66061125945052965947491751\", ldavis_el66061125945052965947491751_data);\n",
       "            })\n",
       "         });\n",
       "}\n",
       "</script>"
      ],
      "text/plain": [
       "PreparedData(topic_coordinates=              x         y  topics  cluster       Freq\n",
       "topic                                                \n",
       "2      0.094695 -0.062036       1        1  35.193451\n",
       "0     -0.112230 -0.036887       2        1  34.781330\n",
       "1      0.017535  0.098923       3        1  30.025223, topic_info=          Term        Freq       Total Category  logprob  loglift\n",
       "1578      jpeg  211.000000  211.000000  Default  30.0000  30.0000\n",
       "856      image  462.000000  462.000000  Default  29.0000  29.0000\n",
       "403       team  289.000000  289.000000  Default  28.0000  28.0000\n",
       "2829      dyer  134.000000  134.000000  Default  27.0000  27.0000\n",
       "114   graphics  389.000000  389.000000  Default  26.0000  26.0000\n",
       "...        ...         ...         ...      ...      ...      ...\n",
       "260     people   95.083733  423.491180   Topic3  -5.9665  -0.2906\n",
       "7     computer   89.959816  345.510620   Topic3  -6.0219  -0.1425\n",
       "703   software   84.649467  276.275055   Topic3  -6.0827   0.0203\n",
       "238        way   84.727219  309.309998   Topic3  -6.0818  -0.0918\n",
       "86       world   82.554802  275.291077   Topic3  -6.1078  -0.0012\n",
       "\n",
       "[273 rows x 6 columns], token_table=      Topic      Freq     Term\n",
       "term                          \n",
       "909       1  0.959593     acid\n",
       "909       2  0.026655     acid\n",
       "4858      2  0.953548      acm\n",
       "185       1  0.707689      age\n",
       "185       2  0.162420      age\n",
       "...     ...       ...      ...\n",
       "565       3  0.803368  yankees\n",
       "37        1  0.610402    years\n",
       "37        2  0.176614    years\n",
       "37        3  0.213796    years\n",
       "7170      1  0.967158    yount\n",
       "\n",
       "[466 rows x 3 columns], R=30, lambda_step=0.01, plot_opts={'xlab': 'PC1', 'ylab': 'PC2'}, topic_order=[3, 1, 2])"
      ]
     },
     "execution_count": 175,
     "metadata": {},
     "output_type": "execute_result"
    }
   ],
   "source": [
    "import pyLDAvis\n",
    "import pyLDAvis.gensim\n",
    "\n",
    "pyLDAvis.enable_notebook()\n",
    "vis = pyLDAvis.gensim.prepare(model, doc_term_matrix, dictionary)\n",
    "vis"
   ]
  }
 ],
 "metadata": {
  "kernelspec": {
   "display_name": "Python 3",
   "language": "python",
   "name": "python3"
  },
  "language_info": {
   "codemirror_mode": {
    "name": "ipython",
    "version": 3
   },
   "file_extension": ".py",
   "mimetype": "text/x-python",
   "name": "python",
   "nbconvert_exporter": "python",
   "pygments_lexer": "ipython3",
   "version": "3.7.6"
  }
 },
 "nbformat": 4,
 "nbformat_minor": 4
}
